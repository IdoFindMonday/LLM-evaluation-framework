{
 "cells": [
  {
   "cell_type": "code",
   "execution_count": 1,
   "id": "initial_id",
   "metadata": {
    "collapsed": true,
    "ExecuteTime": {
     "end_time": "2023-11-25T12:57:12.940647Z",
     "start_time": "2023-11-25T12:57:12.597010Z"
    }
   },
   "outputs": [],
   "source": [
    "import pandas as pd\n",
    "import json"
   ]
  },
  {
   "cell_type": "markdown",
   "source": [
    "## init data from parquet source"
   ],
   "metadata": {
    "collapsed": false
   },
   "id": "8a21ab1fe9873303"
  },
  {
   "cell_type": "code",
   "execution_count": null,
   "outputs": [],
   "source": [
    "source_data_path = 'data/summarization/cnn_dailymail/cnn_dailymail_test.parquet'"
   ],
   "metadata": {
    "collapsed": false
   },
   "id": "fc44b92cd73dcbbc"
  },
  {
   "cell_type": "code",
   "execution_count": 43,
   "outputs": [
    {
     "data": {
      "text/plain": "                                                text  word_count  \\\n0  (CNN)The Palestinian Authority officially beca...         567   \n1  (CNN)Never mind cats having nine lives. A stra...         411   \n2  (CNN)If you've been following the news lately,...         704   \n\n                                              golden  \n0  Membership gives the ICC jurisdiction over all...  \n1  Theia, a bully breed mix, was apparently hit b...  \n2  Mohammad Javad Zarif has spent more time with ...  ",
      "text/html": "<div>\n<style scoped>\n    .dataframe tbody tr th:only-of-type {\n        vertical-align: middle;\n    }\n\n    .dataframe tbody tr th {\n        vertical-align: top;\n    }\n\n    .dataframe thead th {\n        text-align: right;\n    }\n</style>\n<table border=\"1\" class=\"dataframe\">\n  <thead>\n    <tr style=\"text-align: right;\">\n      <th></th>\n      <th>text</th>\n      <th>word_count</th>\n      <th>golden</th>\n    </tr>\n  </thead>\n  <tbody>\n    <tr>\n      <th>0</th>\n      <td>(CNN)The Palestinian Authority officially beca...</td>\n      <td>567</td>\n      <td>Membership gives the ICC jurisdiction over all...</td>\n    </tr>\n    <tr>\n      <th>1</th>\n      <td>(CNN)Never mind cats having nine lives. A stra...</td>\n      <td>411</td>\n      <td>Theia, a bully breed mix, was apparently hit b...</td>\n    </tr>\n    <tr>\n      <th>2</th>\n      <td>(CNN)If you've been following the news lately,...</td>\n      <td>704</td>\n      <td>Mohammad Javad Zarif has spent more time with ...</td>\n    </tr>\n  </tbody>\n</table>\n</div>"
     },
     "execution_count": 43,
     "metadata": {},
     "output_type": "execute_result"
    }
   ],
   "source": [
    "cnn_data = pd.read_parquet(source_data_path)\n",
    "cnn_data['word_count'] = cnn_data['article'].str.split().apply(len).values\n",
    "cnn_data = cnn_data.rename({'article': 'text', 'highlights': 'golden'}, axis=1)\n",
    "cnn_data = cnn_data.drop('id', axis=1)\n",
    "cnn_data = cnn_data[['text', 'word_count', 'golden']]\n",
    "cnn_data.head(3)"
   ],
   "metadata": {
    "collapsed": false,
    "ExecuteTime": {
     "end_time": "2023-10-29T09:05:59.655297Z",
     "start_time": "2023-10-29T09:05:59.300122Z"
    }
   },
   "id": "6614a4667d665fbc"
  },
  {
   "cell_type": "code",
   "execution_count": 133,
   "outputs": [],
   "source": [
    "# cnn_data.word_count.hist()"
   ],
   "metadata": {
    "collapsed": false,
    "ExecuteTime": {
     "end_time": "2023-10-29T15:27:34.509948Z",
     "start_time": "2023-10-29T15:27:34.505714Z"
    }
   },
   "id": "94f167bd0c20a59b"
  },
  {
   "cell_type": "code",
   "execution_count": 45,
   "outputs": [],
   "source": [
    "cnn_data_sampled_short_input = cnn_data[cnn_data.word_count < 200].sample(3, random_state=42)\n",
    "cnn_data_sampled_medium_input = cnn_data[(cnn_data.word_count > 200) &\n",
    "                                         (cnn_data.word_count < 500)].sample(3, random_state=42)\n",
    "cnn_data_sampled_long_input = cnn_data[(cnn_data.word_count > 750)].sample(3, random_state=42)"
   ],
   "metadata": {
    "collapsed": false,
    "ExecuteTime": {
     "end_time": "2023-10-29T09:06:03.845273Z",
     "start_time": "2023-10-29T09:06:03.838312Z"
    }
   },
   "id": "e8edbc9bd6291de5"
  },
  {
   "cell_type": "code",
   "execution_count": 46,
   "outputs": [],
   "source": [
    "cnn_data_sampled = pd.concat([cnn_data_sampled_short_input,\n",
    "                              cnn_data_sampled_medium_input,\n",
    "                              cnn_data_sampled_long_input]).reset_index(drop=True)"
   ],
   "metadata": {
    "collapsed": false,
    "ExecuteTime": {
     "end_time": "2023-10-29T09:06:04.613773Z",
     "start_time": "2023-10-29T09:06:04.607603Z"
    }
   },
   "id": "a1c22e34ab57c581"
  },
  {
   "cell_type": "code",
   "execution_count": 47,
   "outputs": [
    {
     "data": {
      "text/plain": "                                                text  word_count  \\\n0  (CNN)A mammoth fire broke out Friday morning i...         143   \n1  Hull, Leicester and Swansea City are following...         147   \n2  Sportsmail have teamed up with Golfbidder to o...         123   \n3  The time is right for Manchester United target...         260   \n4  A road rage incident caught on camera shows a ...         422   \n5  Usually parents get to work teaching children ...         213   \n6  Jose Mourinho insists Manchester United's inju...        1093   \n7  Real Madrid closed the gap on Barcelona to jus...        1226   \n8  A new model for HIV progression shows that it ...         820   \n\n                                              golden  \n0  Fire breaks out at the General Electric Applia...  \n1  Hull's chief scout Stan Ternent has watched  M...  \n2  Sportsmail have teamed up with Golfbidder for ...  \n3  Mats Hummels admits he is considering his Boru...  \n4  A man was caught on video savagely beating an ...  \n5  American YouTube user KentuckyFriedIdiot filme...  \n6  United are without Marcos Rojo, Phil Jones, Mi...  \n7  Sergio Ramos opened the scoring for Real Madri...  \n8  New model accurately predicted patients' progr...  ",
      "text/html": "<div>\n<style scoped>\n    .dataframe tbody tr th:only-of-type {\n        vertical-align: middle;\n    }\n\n    .dataframe tbody tr th {\n        vertical-align: top;\n    }\n\n    .dataframe thead th {\n        text-align: right;\n    }\n</style>\n<table border=\"1\" class=\"dataframe\">\n  <thead>\n    <tr style=\"text-align: right;\">\n      <th></th>\n      <th>text</th>\n      <th>word_count</th>\n      <th>golden</th>\n    </tr>\n  </thead>\n  <tbody>\n    <tr>\n      <th>0</th>\n      <td>(CNN)A mammoth fire broke out Friday morning i...</td>\n      <td>143</td>\n      <td>Fire breaks out at the General Electric Applia...</td>\n    </tr>\n    <tr>\n      <th>1</th>\n      <td>Hull, Leicester and Swansea City are following...</td>\n      <td>147</td>\n      <td>Hull's chief scout Stan Ternent has watched  M...</td>\n    </tr>\n    <tr>\n      <th>2</th>\n      <td>Sportsmail have teamed up with Golfbidder to o...</td>\n      <td>123</td>\n      <td>Sportsmail have teamed up with Golfbidder for ...</td>\n    </tr>\n    <tr>\n      <th>3</th>\n      <td>The time is right for Manchester United target...</td>\n      <td>260</td>\n      <td>Mats Hummels admits he is considering his Boru...</td>\n    </tr>\n    <tr>\n      <th>4</th>\n      <td>A road rage incident caught on camera shows a ...</td>\n      <td>422</td>\n      <td>A man was caught on video savagely beating an ...</td>\n    </tr>\n    <tr>\n      <th>5</th>\n      <td>Usually parents get to work teaching children ...</td>\n      <td>213</td>\n      <td>American YouTube user KentuckyFriedIdiot filme...</td>\n    </tr>\n    <tr>\n      <th>6</th>\n      <td>Jose Mourinho insists Manchester United's inju...</td>\n      <td>1093</td>\n      <td>United are without Marcos Rojo, Phil Jones, Mi...</td>\n    </tr>\n    <tr>\n      <th>7</th>\n      <td>Real Madrid closed the gap on Barcelona to jus...</td>\n      <td>1226</td>\n      <td>Sergio Ramos opened the scoring for Real Madri...</td>\n    </tr>\n    <tr>\n      <th>8</th>\n      <td>A new model for HIV progression shows that it ...</td>\n      <td>820</td>\n      <td>New model accurately predicted patients' progr...</td>\n    </tr>\n  </tbody>\n</table>\n</div>"
     },
     "execution_count": 47,
     "metadata": {},
     "output_type": "execute_result"
    }
   ],
   "source": [
    "cnn_data_sampled"
   ],
   "metadata": {
    "collapsed": false,
    "ExecuteTime": {
     "end_time": "2023-10-29T09:06:05.294783Z",
     "start_time": "2023-10-29T09:06:05.290264Z"
    }
   },
   "id": "8fdef1e55558cce4"
  },
  {
   "cell_type": "code",
   "execution_count": 48,
   "outputs": [
    {
     "data": {
      "text/plain": "                                                text  word_count  \\\n0  (CNN)A mammoth fire broke out Friday morning i...         143   \n1  Hull, Leicester and Swansea City are following...         147   \n2  Sportsmail have teamed up with Golfbidder to o...         123   \n3  The time is right for Manchester United target...         260   \n4  A road rage incident caught on camera shows a ...         422   \n5  Usually parents get to work teaching children ...         213   \n6  Jose Mourinho insists Manchester United's inju...        1093   \n7  Real Madrid closed the gap on Barcelona to jus...        1226   \n8  A new model for HIV progression shows that it ...         820   \n\n                                              golden notion grammarly  \n0  Fire breaks out at the General Electric Applia...                   \n1  Hull's chief scout Stan Ternent has watched  M...                   \n2  Sportsmail have teamed up with Golfbidder for ...                   \n3  Mats Hummels admits he is considering his Boru...                   \n4  A man was caught on video savagely beating an ...                   \n5  American YouTube user KentuckyFriedIdiot filme...                   \n6  United are without Marcos Rojo, Phil Jones, Mi...                   \n7  Sergio Ramos opened the scoring for Real Madri...                   \n8  New model accurately predicted patients' progr...                   ",
      "text/html": "<div>\n<style scoped>\n    .dataframe tbody tr th:only-of-type {\n        vertical-align: middle;\n    }\n\n    .dataframe tbody tr th {\n        vertical-align: top;\n    }\n\n    .dataframe thead th {\n        text-align: right;\n    }\n</style>\n<table border=\"1\" class=\"dataframe\">\n  <thead>\n    <tr style=\"text-align: right;\">\n      <th></th>\n      <th>text</th>\n      <th>word_count</th>\n      <th>golden</th>\n      <th>notion</th>\n      <th>grammarly</th>\n    </tr>\n  </thead>\n  <tbody>\n    <tr>\n      <th>0</th>\n      <td>(CNN)A mammoth fire broke out Friday morning i...</td>\n      <td>143</td>\n      <td>Fire breaks out at the General Electric Applia...</td>\n      <td></td>\n      <td></td>\n    </tr>\n    <tr>\n      <th>1</th>\n      <td>Hull, Leicester and Swansea City are following...</td>\n      <td>147</td>\n      <td>Hull's chief scout Stan Ternent has watched  M...</td>\n      <td></td>\n      <td></td>\n    </tr>\n    <tr>\n      <th>2</th>\n      <td>Sportsmail have teamed up with Golfbidder to o...</td>\n      <td>123</td>\n      <td>Sportsmail have teamed up with Golfbidder for ...</td>\n      <td></td>\n      <td></td>\n    </tr>\n    <tr>\n      <th>3</th>\n      <td>The time is right for Manchester United target...</td>\n      <td>260</td>\n      <td>Mats Hummels admits he is considering his Boru...</td>\n      <td></td>\n      <td></td>\n    </tr>\n    <tr>\n      <th>4</th>\n      <td>A road rage incident caught on camera shows a ...</td>\n      <td>422</td>\n      <td>A man was caught on video savagely beating an ...</td>\n      <td></td>\n      <td></td>\n    </tr>\n    <tr>\n      <th>5</th>\n      <td>Usually parents get to work teaching children ...</td>\n      <td>213</td>\n      <td>American YouTube user KentuckyFriedIdiot filme...</td>\n      <td></td>\n      <td></td>\n    </tr>\n    <tr>\n      <th>6</th>\n      <td>Jose Mourinho insists Manchester United's inju...</td>\n      <td>1093</td>\n      <td>United are without Marcos Rojo, Phil Jones, Mi...</td>\n      <td></td>\n      <td></td>\n    </tr>\n    <tr>\n      <th>7</th>\n      <td>Real Madrid closed the gap on Barcelona to jus...</td>\n      <td>1226</td>\n      <td>Sergio Ramos opened the scoring for Real Madri...</td>\n      <td></td>\n      <td></td>\n    </tr>\n    <tr>\n      <th>8</th>\n      <td>A new model for HIV progression shows that it ...</td>\n      <td>820</td>\n      <td>New model accurately predicted patients' progr...</td>\n      <td></td>\n      <td></td>\n    </tr>\n  </tbody>\n</table>\n</div>"
     },
     "execution_count": 48,
     "metadata": {},
     "output_type": "execute_result"
    }
   ],
   "source": [
    "# add reference columns\n",
    "cols_to_add = ['notion', 'grammarly']\n",
    "cnn_data_sampled[cols_to_add] = \"\"\n",
    "# cnn_data_sampled = cnn_data_sampled.reindex(columns = cnn_data_sampled.columns.tolist() + cols_to_add)\n",
    "cnn_data_sampled"
   ],
   "metadata": {
    "collapsed": false,
    "ExecuteTime": {
     "end_time": "2023-10-29T09:06:31.196687Z",
     "start_time": "2023-10-29T09:06:31.193472Z"
    }
   },
   "id": "45dc9a34f23e197"
  },
  {
   "cell_type": "code",
   "execution_count": 68,
   "outputs": [],
   "source": [
    "json_path = 'data/summarization/text_files'\n",
    "data_file_name = 'txt_dataset_summarizer.json'\n",
    "cnn_data_sampled.to_json(f'{json_path}/{data_file_name}', orient='index', indent=4, force_ascii=True)"
   ],
   "metadata": {
    "collapsed": false,
    "ExecuteTime": {
     "end_time": "2023-10-29T09:27:01.920858Z",
     "start_time": "2023-10-29T09:27:01.909751Z"
    }
   },
   "id": "a47d7a39b95b4fa1"
  },
  {
   "cell_type": "markdown",
   "source": [
    "## Generate config json"
   ],
   "metadata": {
    "collapsed": false
   },
   "id": "ef046520154f2af7"
  },
  {
   "cell_type": "code",
   "execution_count": 27,
   "outputs": [],
   "source": [
    "conf_file_name = 'txt_dataset_summarizer_config.json'"
   ],
   "metadata": {
    "collapsed": false,
    "ExecuteTime": {
     "end_time": "2023-10-30T09:34:47.126724Z",
     "start_time": "2023-10-30T09:34:47.118622Z"
    }
   },
   "id": "495d9ba0a8c8ef72"
  },
  {
   "cell_type": "code",
   "execution_count": 31,
   "outputs": [],
   "source": [
    "config_dict = {\n",
    "    \"current_doc_summarizer\": {\n",
    "        'model_name': 'text-davinci-003',\n",
    "        'api_version': '2023-05-15',\n",
    "        'temperature': 0.0,\n",
    "        'max_tokens': 200,\n",
    "        'prompt_template': 'summarize the following text: {input_text}'\n",
    "    },\n",
    "    \"current_update_summarizer\": {\n",
    "        'model_name': 'text-davinci-003',\n",
    "        'api_version': '2023-05-15',\n",
    "        'temperature': 0.0,\n",
    "        'max_tokens': 200,\n",
    "        'prompt_template': 'summarize the following text: {input_text}'\n",
    "    }\n",
    "}"
   ],
   "metadata": {
    "collapsed": false,
    "ExecuteTime": {
     "end_time": "2023-10-30T09:35:30.018965Z",
     "start_time": "2023-10-30T09:35:30.014213Z"
    }
   },
   "id": "d193f17690dfe8f3"
  },
  {
   "cell_type": "code",
   "execution_count": 32,
   "outputs": [],
   "source": [
    "with open(f'{json_path}/{conf_file_name}', 'w', encoding='utf-8') as f:\n",
    "    json.dump(config_dict, f, ensure_ascii=False, indent=4)"
   ],
   "metadata": {
    "collapsed": false,
    "ExecuteTime": {
     "end_time": "2023-10-30T09:35:31.853117Z",
     "start_time": "2023-10-30T09:35:31.845805Z"
    }
   },
   "id": "1dba748a234abd3"
  },
  {
   "cell_type": "markdown",
   "source": [
    "# Work with json files"
   ],
   "metadata": {
    "collapsed": false
   },
   "id": "ff77d4cf39d2224a"
  },
  {
   "cell_type": "code",
   "execution_count": 2,
   "outputs": [],
   "source": [
    "import pandas as pd\n",
    "import json"
   ],
   "metadata": {
    "collapsed": false,
    "ExecuteTime": {
     "end_time": "2023-11-25T12:57:15.143027Z",
     "start_time": "2023-11-25T12:57:15.137988Z"
    }
   },
   "id": "7919ef62e44c08dd"
  },
  {
   "cell_type": "code",
   "execution_count": 3,
   "outputs": [],
   "source": [
    "raw_json_file_path = '../data/automation_classifier/text_files'\n",
    "raw_json_file_name = 'dataset_1.json'\n",
    "with open(f'{raw_json_file_path}/{raw_json_file_name}') as f:\n",
    "    raw_json_file = json.load(f)"
   ],
   "metadata": {
    "collapsed": false,
    "ExecuteTime": {
     "end_time": "2023-11-25T12:57:15.715955Z",
     "start_time": "2023-11-25T12:57:15.712560Z"
    }
   },
   "id": "97d768fef10f3131"
  },
  {
   "cell_type": "code",
   "execution_count": 4,
   "outputs": [
    {
     "name": "stdout",
     "output_type": "stream",
     "text": [
      "['missing information', 'overdue task', 'stuck task', 'other']\n",
      "5\n",
      "['missing information', 'overdue task', 'stuck task', 'other']\n",
      "5\n",
      "['missing information', 'overdue task', 'stuck task', 'other']\n",
      "5\n",
      "['missing information', 'overdue task', 'stuck task', 'other']\n",
      "5\n",
      "['missing information', 'overdue task', 'stuck task', 'other']\n",
      "5\n",
      "['missing information', 'overdue task', 'stuck task', 'other']\n",
      "5\n"
     ]
    }
   ],
   "source": [
    "for idx in range(0, len(raw_json_file)):\n",
    "    print(raw_json_file[idx]['inp']['types_list'])\n",
    "    print(len(raw_json_file[idx]['inp']['issues_list']))"
   ],
   "metadata": {
    "collapsed": false,
    "ExecuteTime": {
     "end_time": "2023-11-25T12:57:16.343063Z",
     "start_time": "2023-11-25T12:57:16.339508Z"
    }
   },
   "id": "7d44683f9d19a19c"
  },
  {
   "cell_type": "markdown",
   "source": [
    "```\n",
    "{\n",
    "\"source_column_text\" : \"The homepage screen doesn't work on my mobile device.\",\n",
    "\"target_column_name\": \"Request type\",\n",
    "\"target_column_categories\": [\"feature request\", \"bug\"],\n",
    "\"target_column_description\": \" feature request - refers to any request for non-existing capability. bug - refers to comments about stuff that doesn't work.\"\n",
    "\"actual_label\": \"bug\",\n",
    "}\n",
    "```"
   ],
   "metadata": {
    "collapsed": false
   },
   "id": "709bca4a2ed1639d"
  },
  {
   "cell_type": "code",
   "execution_count": 5,
   "outputs": [
    {
     "data": {
      "text/plain": "dict_keys(['issues_type'])"
     },
     "execution_count": 5,
     "metadata": {},
     "output_type": "execute_result"
    }
   ],
   "source": [
    "raw_json_file[0]['expected_output'].keys()"
   ],
   "metadata": {
    "collapsed": false,
    "ExecuteTime": {
     "end_time": "2023-11-25T12:57:18.544374Z",
     "start_time": "2023-11-25T12:57:18.531699Z"
    }
   },
   "id": "1f5df8b0a7795e68"
  },
  {
   "cell_type": "code",
   "execution_count": 6,
   "outputs": [
    {
     "data": {
      "text/plain": "['missing information', 'overdue task', 'stuck task', 'other']"
     },
     "execution_count": 6,
     "metadata": {},
     "output_type": "execute_result"
    }
   ],
   "source": [
    "categories = raw_json_file[0]['inp']['types_list']\n",
    "categories"
   ],
   "metadata": {
    "collapsed": false,
    "ExecuteTime": {
     "end_time": "2023-11-25T12:57:19.720929Z",
     "start_time": "2023-11-25T12:57:19.717354Z"
    }
   },
   "id": "db90cf0a72af9a05"
  },
  {
   "cell_type": "code",
   "execution_count": 7,
   "outputs": [
    {
     "data": {
      "text/plain": "{'inp': {'issues_list': [{'item_id': '4870755910',\n    'issue_description': \"The task is overdue. It was supposed to be completed within 1 day after it started but it's now 14 days overdue.\"},\n   {'item_id': '4804392862',\n    'issue_description': \"This task is behind schedule. It was supposed to be completed in the current sprint but has been moved to the next sprint and not started yet, which may affect the upcoming sprint's planned tasks and overall project timeline.\"},\n   {'item_id': '4883806482',\n    'issue_description': \"The task has been moved to the next sprint when the current sprint isn't completed, indicating that the task is behind schedule.\"},\n   {'item_id': '4883813317',\n    'issue_description': 'The task has not yet started even though the deadline is approaching.'},\n   {'item_id': '4835244929',\n    'issue_description': 'the task has no priority and is not assigned to anyone.'}],\n  'types_list': ['missing information',\n   'overdue task',\n   'stuck task',\n   'other']},\n 'expected_output': {'issues_type': [{'item_id': '4870755910',\n    'issue_type': 'overdue task'},\n   {'item_id': '4804392862', 'issue_type': 'overdue task'},\n   {'item_id': '4883806482', 'issue_type': 'overdue task'},\n   {'item_id': '4883813317', 'issue_type': ['overdue task', 'other']},\n   {'item_id': '4835244929', 'issue_type': 'missing information'}]}}"
     },
     "execution_count": 7,
     "metadata": {},
     "output_type": "execute_result"
    }
   ],
   "source": [
    "raw_json_file[2]"
   ],
   "metadata": {
    "collapsed": false,
    "ExecuteTime": {
     "end_time": "2023-11-25T12:57:20.935625Z",
     "start_time": "2023-11-25T12:57:20.931646Z"
    }
   },
   "id": "3a8d3e312860158"
  },
  {
   "cell_type": "code",
   "execution_count": 15,
   "outputs": [
    {
     "data": {
      "text/plain": "[{'inp': {'categories_list': ['missing information',\n    'overdue task',\n    'stuck task',\n    'other'],\n   'input_text': 'The actual SP value is not updated after the task is marked as done.'},\n  'expected_output': {'possible_categories': 'missing information'}},\n {'inp': {'categories_list': ['missing information',\n    'overdue task',\n    'stuck task',\n    'other'],\n   'input_text': \"The 'Estimated SP' for this task is missing, causing ambiguity in task completion assessment.\"},\n  'expected_output': {'possible_categories': 'missing information'}},\n {'inp': {'categories_list': ['missing information',\n    'overdue task',\n    'stuck task',\n    'other'],\n   'input_text': 'The task was unplanned and completed without recording an estimated or actual Story Points value. This could make it more difficult to plan and manage future tasks.'},\n  'expected_output': {'possible_categories': 'missing information'}},\n {'inp': {'categories_list': ['missing information',\n    'overdue task',\n    'stuck task',\n    'other'],\n   'input_text': \"The task 'CI Flaky Tests - always randomize account slug' is waiting for review but lacks an estimation. Plus, the task is 'Unplanned', which could imply it might not be completed within this sprint reaching 2023-08-12.\"},\n  'expected_output': {'possible_categories': ['stuck task',\n    'missing information']}},\n {'inp': {'categories_list': ['missing information',\n    'overdue task',\n    'stuck task',\n    'other'],\n   'input_text': \"The task is in 'Pending Deploy' status but lacks the designated owner. This can lead to responsibility disputes or delays, especially as the task is unplanned and can disrupt the closing timeline for the sprint.\"},\n  'expected_output': {'possible_categories': ['stuck task',\n    'missing information']}},\n {'inp': {'categories_list': ['missing information',\n    'overdue task',\n    'stuck task',\n    'other'],\n   'input_text': 'The type of the task is non-informative and may lead to misunderstandings of its nature.'},\n  'expected_output': {'possible_categories': 'other'}},\n {'inp': {'categories_list': ['missing information',\n    'overdue task',\n    'stuck task',\n    'other'],\n   'input_text': 'Multiple owners assigned to a single item, it could lead to confusion and lackadaisical attitude towards the task.'},\n  'expected_output': {'possible_categories': 'other'}},\n {'inp': {'categories_list': ['missing information',\n    'overdue task',\n    'stuck task',\n    'other'],\n   'input_text': \"The task might not be completed by the end of the project's sprint.\"},\n  'expected_output': {'possible_categories': 'overdue task'}},\n {'inp': {'categories_list': ['missing information',\n    'overdue task',\n    'stuck task',\n    'other'],\n   'input_text': \"The issue is there is no assigned owner to the 'Replica lag' task.\"},\n  'expected_output': {'possible_categories': 'missing information'}},\n {'inp': {'categories_list': ['missing information',\n    'overdue task',\n    'stuck task',\n    'other'],\n   'input_text': \"The owner of this item is not specified. It's important to know who worked on a task in case any revisions or clarifications are needed in the future.\"},\n  'expected_output': {'possible_categories': 'missing information'}},\n {'inp': {'categories_list': ['missing information',\n    'overdue task',\n    'stuck task',\n    'other'],\n   'input_text': \"The task is overdue. It was supposed to be completed within 1 day after it started but it's now 14 days overdue.\"},\n  'expected_output': {'possible_categories': 'overdue task'}},\n {'inp': {'categories_list': ['missing information',\n    'overdue task',\n    'stuck task',\n    'other'],\n   'input_text': \"This task is behind schedule. It was supposed to be completed in the current sprint but has been moved to the next sprint and not started yet, which may affect the upcoming sprint's planned tasks and overall project timeline.\"},\n  'expected_output': {'possible_categories': 'overdue task'}},\n {'inp': {'categories_list': ['missing information',\n    'overdue task',\n    'stuck task',\n    'other'],\n   'input_text': \"The task has been moved to the next sprint when the current sprint isn't completed, indicating that the task is behind schedule.\"},\n  'expected_output': {'possible_categories': 'overdue task'}},\n {'inp': {'categories_list': ['missing information',\n    'overdue task',\n    'stuck task',\n    'other'],\n   'input_text': 'The task has not yet started even though the deadline is approaching.'},\n  'expected_output': {'possible_categories': ['overdue task', 'other']}},\n {'inp': {'categories_list': ['missing information',\n    'overdue task',\n    'stuck task',\n    'other'],\n   'input_text': 'the task has no priority and is not assigned to anyone.'},\n  'expected_output': {'possible_categories': 'missing information'}},\n {'inp': {'categories_list': ['missing information',\n    'overdue task',\n    'stuck task',\n    'other'],\n   'input_text': \"The task has not been started and the status is not updated while the project's sprint is about to end in 2 days.\"},\n  'expected_output': {'possible_categories': ['overdue task',\n    'missing information']}},\n {'inp': {'categories_list': ['missing information',\n    'overdue task',\n    'stuck task',\n    'other'],\n   'input_text': \"The 'Actual SP' field is missing for the completed task.\"},\n  'expected_output': {'possible_categories': 'missing information'}},\n {'inp': {'categories_list': ['missing information',\n    'overdue task',\n    'stuck task',\n    'other'],\n   'input_text': 'The status of a high priority task (item_page invalid compare_attributes - debug & talk to Anya/Shlomi) is not updated and we are close to the sprint deadline.'},\n  'expected_output': {'possible_categories': 'missing information'}},\n {'inp': {'categories_list': ['missing information',\n    'overdue task',\n    'stuck task',\n    'other'],\n   'input_text': \"The task's status is not updated and considering its high priority with only two days left in the sprint, it is concerning if the task will be completed on time.\"},\n  'expected_output': {'possible_categories': ['missing information',\n    'overdue task',\n    'stuck task']}},\n {'inp': {'categories_list': ['missing information',\n    'overdue task',\n    'stuck task',\n    'other'],\n   'input_text': 'The task is pending deployment with less than 48 hours remaining in the sprint, which might not leave enough time to address any immediate post-deployment issues.'},\n  'expected_output': {'possible_categories': 'stuck task'}},\n {'inp': {'categories_list': ['missing information',\n    'overdue task',\n    'stuck task',\n    'other'],\n   'input_text': \"The task was marked as completed, but the Actual SP (Story Point) is not provided. Therefore, it's unclear how much time it took to complete this task.\"},\n  'expected_output': {'possible_categories': 'missing information'}},\n {'inp': {'categories_list': ['missing information',\n    'overdue task',\n    'stuck task',\n    'other'],\n   'input_text': 'This task is possibly delayed as it has taken 7 days whereas the estimated time was only 2 days.'},\n  'expected_output': {'possible_categories': 'overdue task'}},\n {'inp': {'categories_list': ['missing information',\n    'overdue task',\n    'stuck task',\n    'other'],\n   'input_text': \"The issue is that the 'Actual SP' is null for a task marked as 'Done' which indicates that we don't have a record of how many days it took to complete this task.\"},\n  'expected_output': {'possible_categories': 'missing information'}},\n {'inp': {'categories_list': ['missing information',\n    'overdue task',\n    'stuck task',\n    'other'],\n   'input_text': 'The task is a high priority task, yet it has not started and the sprint is due to finish in just 2 days.'},\n  'expected_output': {'possible_categories': 'overdue task'}},\n {'inp': {'categories_list': ['missing information',\n    'overdue task',\n    'stuck task',\n    'other'],\n   'input_text': \"The task 'pagination for linked items - will create breaking change later' is set as a high priority task but it was moved to the next sprint. Considering today's date and the end date of the sprint, this task won't be delivered in the current sprint.\"},\n  'expected_output': {'possible_categories': ['other', 'overdue task']}},\n {'inp': {'categories_list': ['missing information',\n    'overdue task',\n    'stuck task',\n    'other'],\n   'input_text': 'The Actual SP value for this completed task is null, marking the task as done without reflecting the number of days it took could cause inaccurate future planning.'},\n  'expected_output': {'possible_categories': 'missing information'}},\n {'inp': {'categories_list': ['missing information',\n    'overdue task',\n    'stuck task',\n    'other'],\n   'input_text': \"The 'Actual SP' for the task is missing. This information is crucial to evaluate the actual effort spent on the task and to improve the accuracy of estimating future tasks.\"},\n  'expected_output': {'possible_categories': 'missing information'}},\n {'inp': {'categories_list': ['missing information',\n    'overdue task',\n    'stuck task',\n    'other'],\n   'input_text': \"The 'critical' priority task is without a designated owner.\"},\n  'expected_output': {'possible_categories': 'missing information'}},\n {'inp': {'categories_list': ['missing information',\n    'overdue task',\n    'stuck task',\n    'other'],\n   'input_text': \"The critical task hasn't been started and is at risk of not being completed by the end of the current sprint.\"},\n  'expected_output': {'possible_categories': 'overdue task'}},\n {'inp': {'categories_list': ['missing information',\n    'overdue task',\n    'stuck task',\n    'other'],\n   'input_text': 'A critical priority task has been moved to the next sprint. This could affect the successful delivery of the project within the desired timeline.'},\n  'expected_output': {'possible_categories': ['overdue task', 'other']}}]"
     },
     "execution_count": 15,
     "metadata": {},
     "output_type": "execute_result"
    }
   ],
   "source": [
    "final_testset = []\n",
    "\n",
    "for inp in raw_json_file:\n",
    "    for idx in range(len(inp['inp']['issues_list'])):\n",
    "        text = inp['inp']['issues_list'][idx]['issue_description']\n",
    "        expected_output = inp['expected_output']['issues_type'][idx]['issue_type']\n",
    "\n",
    "        new_element = {\"inp\": {\"categories_list\": categories, \"input_text\": text},\n",
    "                       \"expected_output\": {\"possible_categories\": expected_output}}\n",
    "        final_testset.append(new_element)\n",
    "\n",
    "final_testset"
   ],
   "metadata": {
    "collapsed": false,
    "ExecuteTime": {
     "end_time": "2023-11-25T13:37:11.505389Z",
     "start_time": "2023-11-25T13:37:11.501505Z"
    }
   },
   "id": "abf62a37ef2b7948"
  },
  {
   "cell_type": "code",
   "execution_count": 13,
   "outputs": [
    {
     "data": {
      "text/plain": "[{'inp': {'input_text': 'The actual SP value is not updated after the task is marked as done.'},\n  'expected_output': {'possible_categories': 'missing information'}},\n {'inp': {'input_text': \"The 'Estimated SP' for this task is missing, causing ambiguity in task completion assessment.\"},\n  'expected_output': {'possible_categories': 'missing information'}},\n {'inp': {'input_text': 'The task was unplanned and completed without recording an estimated or actual Story Points value. This could make it more difficult to plan and manage future tasks.'},\n  'expected_output': {'possible_categories': 'missing information'}},\n {'inp': {'input_text': \"The task 'CI Flaky Tests - always randomize account slug' is waiting for review but lacks an estimation. Plus, the task is 'Unplanned', which could imply it might not be completed within this sprint reaching 2023-08-12.\"},\n  'expected_output': {'possible_categories': ['stuck task',\n    'missing information']}},\n {'inp': {'input_text': \"The task is in 'Pending Deploy' status but lacks the designated owner. This can lead to responsibility disputes or delays, especially as the task is unplanned and can disrupt the closing timeline for the sprint.\"},\n  'expected_output': {'possible_categories': ['stuck task',\n    'missing information']}},\n {'inp': {'input_text': 'The type of the task is non-informative and may lead to misunderstandings of its nature.'},\n  'expected_output': {'possible_categories': 'other'}},\n {'inp': {'input_text': 'Multiple owners assigned to a single item, it could lead to confusion and lackadaisical attitude towards the task.'},\n  'expected_output': {'possible_categories': 'other'}},\n {'inp': {'input_text': \"The task might not be completed by the end of the project's sprint.\"},\n  'expected_output': {'possible_categories': 'overdue task'}},\n {'inp': {'input_text': \"The issue is there is no assigned owner to the 'Replica lag' task.\"},\n  'expected_output': {'possible_categories': 'missing information'}},\n {'inp': {'input_text': \"The owner of this item is not specified. It's important to know who worked on a task in case any revisions or clarifications are needed in the future.\"},\n  'expected_output': {'possible_categories': 'missing information'}},\n {'inp': {'input_text': \"The task is overdue. It was supposed to be completed within 1 day after it started but it's now 14 days overdue.\"},\n  'expected_output': {'possible_categories': 'overdue task'}},\n {'inp': {'input_text': \"This task is behind schedule. It was supposed to be completed in the current sprint but has been moved to the next sprint and not started yet, which may affect the upcoming sprint's planned tasks and overall project timeline.\"},\n  'expected_output': {'possible_categories': 'overdue task'}},\n {'inp': {'input_text': \"The task has been moved to the next sprint when the current sprint isn't completed, indicating that the task is behind schedule.\"},\n  'expected_output': {'possible_categories': 'overdue task'}},\n {'inp': {'input_text': 'The task has not yet started even though the deadline is approaching.'},\n  'expected_output': {'possible_categories': ['overdue task', 'other']}},\n {'inp': {'input_text': 'the task has no priority and is not assigned to anyone.'},\n  'expected_output': {'possible_categories': 'missing information'}},\n {'inp': {'input_text': \"The task has not been started and the status is not updated while the project's sprint is about to end in 2 days.\"},\n  'expected_output': {'possible_categories': ['overdue task',\n    'missing information']}},\n {'inp': {'input_text': \"The 'Actual SP' field is missing for the completed task.\"},\n  'expected_output': {'possible_categories': 'missing information'}},\n {'inp': {'input_text': 'The status of a high priority task (item_page invalid compare_attributes - debug & talk to Anya/Shlomi) is not updated and we are close to the sprint deadline.'},\n  'expected_output': {'possible_categories': 'missing information'}},\n {'inp': {'input_text': \"The task's status is not updated and considering its high priority with only two days left in the sprint, it is concerning if the task will be completed on time.\"},\n  'expected_output': {'possible_categories': ['missing information',\n    'overdue task',\n    'stuck task']}},\n {'inp': {'input_text': 'The task is pending deployment with less than 48 hours remaining in the sprint, which might not leave enough time to address any immediate post-deployment issues.'},\n  'expected_output': {'possible_categories': 'stuck task'}},\n {'inp': {'input_text': \"The task was marked as completed, but the Actual SP (Story Point) is not provided. Therefore, it's unclear how much time it took to complete this task.\"},\n  'expected_output': {'possible_categories': 'missing information'}},\n {'inp': {'input_text': 'This task is possibly delayed as it has taken 7 days whereas the estimated time was only 2 days.'},\n  'expected_output': {'possible_categories': 'overdue task'}},\n {'inp': {'input_text': \"The issue is that the 'Actual SP' is null for a task marked as 'Done' which indicates that we don't have a record of how many days it took to complete this task.\"},\n  'expected_output': {'possible_categories': 'missing information'}},\n {'inp': {'input_text': 'The task is a high priority task, yet it has not started and the sprint is due to finish in just 2 days.'},\n  'expected_output': {'possible_categories': 'overdue task'}},\n {'inp': {'input_text': \"The task 'pagination for linked items - will create breaking change later' is set as a high priority task but it was moved to the next sprint. Considering today's date and the end date of the sprint, this task won't be delivered in the current sprint.\"},\n  'expected_output': {'possible_categories': ['other', 'overdue task']}},\n {'inp': {'input_text': 'The Actual SP value for this completed task is null, marking the task as done without reflecting the number of days it took could cause inaccurate future planning.'},\n  'expected_output': {'possible_categories': 'missing information'}},\n {'inp': {'input_text': \"The 'Actual SP' for the task is missing. This information is crucial to evaluate the actual effort spent on the task and to improve the accuracy of estimating future tasks.\"},\n  'expected_output': {'possible_categories': 'missing information'}},\n {'inp': {'input_text': \"The 'critical' priority task is without a designated owner.\"},\n  'expected_output': {'possible_categories': 'missing information'}},\n {'inp': {'input_text': \"The critical task hasn't been started and is at risk of not being completed by the end of the current sprint.\"},\n  'expected_output': {'possible_categories': 'overdue task'}},\n {'inp': {'input_text': 'A critical priority task has been moved to the next sprint. This could affect the successful delivery of the project within the desired timeline.'},\n  'expected_output': {'possible_categories': ['overdue task', 'other']}}]"
     },
     "execution_count": 13,
     "metadata": {},
     "output_type": "execute_result"
    }
   ],
   "source": [
    "final_testset"
   ],
   "metadata": {
    "collapsed": false,
    "ExecuteTime": {
     "end_time": "2023-11-25T13:11:09.328023Z",
     "start_time": "2023-11-25T13:11:09.323424Z"
    }
   },
   "id": "f95e8b829560c88b"
  },
  {
   "cell_type": "code",
   "execution_count": 10,
   "outputs": [
    {
     "data": {
      "text/plain": "'../data/automation_classifier/text_files'"
     },
     "execution_count": 10,
     "metadata": {},
     "output_type": "execute_result"
    }
   ],
   "source": [
    "raw_json_file_path"
   ],
   "metadata": {
    "collapsed": false,
    "ExecuteTime": {
     "end_time": "2023-11-25T12:57:41.793336Z",
     "start_time": "2023-11-25T12:57:41.789042Z"
    }
   },
   "id": "91802f9bb12f6fa0"
  },
  {
   "cell_type": "code",
   "execution_count": 16,
   "outputs": [],
   "source": [
    "with open(f'{raw_json_file_path}/issues_classification_1.json', 'w', encoding='utf-8') as f:\n",
    "    json.dump(final_testset, f, ensure_ascii=False, indent=4)"
   ],
   "metadata": {
    "collapsed": false,
    "ExecuteTime": {
     "end_time": "2023-11-25T13:37:23.333549Z",
     "start_time": "2023-11-25T13:37:23.325521Z"
    }
   },
   "id": "7f6af7001220d8d2"
  },
  {
   "cell_type": "markdown",
   "source": [
    "# downloaded board + chatgpt output"
   ],
   "metadata": {
    "collapsed": false
   },
   "id": "6b57981842578a5c"
  },
  {
   "cell_type": "code",
   "execution_count": 25,
   "outputs": [],
   "source": [
    "import json\n",
    "\n",
    "raw_json_file_path = '../data/automation_classifier/text_files/raw_files'\n",
    "raw_json_file_name = 'feature_or_bug_gpt_examples.json'\n",
    "with open(f'{raw_json_file_path}/{raw_json_file_name}') as f:\n",
    "    raw_json_file = json.load(f)"
   ],
   "metadata": {
    "collapsed": false,
    "ExecuteTime": {
     "end_time": "2023-11-26T06:25:36.581973Z",
     "start_time": "2023-11-26T06:25:36.579837Z"
    }
   },
   "id": "3184563611c265d9"
  },
  {
   "cell_type": "code",
   "execution_count": 26,
   "outputs": [
    {
     "data": {
      "text/plain": "100"
     },
     "execution_count": 26,
     "metadata": {},
     "output_type": "execute_result"
    }
   ],
   "source": [
    "len(raw_json_file)"
   ],
   "metadata": {
    "collapsed": false,
    "ExecuteTime": {
     "end_time": "2023-11-26T06:25:37.263170Z",
     "start_time": "2023-11-26T06:25:37.258865Z"
    }
   },
   "id": "529daf590cc75439"
  },
  {
   "cell_type": "code",
   "execution_count": 27,
   "outputs": [
    {
     "data": {
      "text/plain": "[{'input': \"I'd love to have an option to save multiple drafts in the app!\",\n  'label': 'Feature request'},\n {'input': \"Hey, there's this weird glitch where the colors of my tasks keep changing randomly.\",\n  'label': 'Bug'},\n {'input': \"Can we please add a 'Mark as Unread' option for notifications?\",\n  'label': 'Feature request'},\n {'input': \"The search function isn't working right, it keeps showing irrelevant results.\",\n  'label': 'Bug'},\n {'input': 'It would be awesome if we could have a dark mode for the mobile app!',\n  'label': 'Feature request'},\n {'input': 'Urgent! The sidebar navigation disappeared after the last update.',\n  'label': 'Bug'},\n {'input': 'I kindly request the addition of a feature that enables users to save multiple drafts within the application.',\n  'label': 'Feature request'},\n {'input': \"I'd like to report a technical issue where task colors seem to change randomly, without any user input.\",\n  'label': 'Bug'},\n {'input': 'We humbly suggest the implementation of a dark mode feature in the mobile app, enhancing user experience and reducing eye strain.',\n  'label': 'Feature request'},\n {'input': \"Regrettably, the search function's performance has been unsatisfactory, as it produces irrelevant and unrelated results.\",\n  'label': 'Bug'},\n {'input': 'Can we get a calendar integration to sync deadlines and events?',\n  'label': 'Feature request'},\n {'input': 'With great urgency, I bring to your attention the disappearance of the sidebar navigation subsequent to the recent software update.',\n  'label': 'Bug'},\n {'input': 'We kindly request the addition of a calendar integration system that synchronizes deadlines and events across platforms, ensuring better organization.',\n  'label': 'Feature request'},\n {'input': \"I hereby report a significant flaw in the 'Copy Item' feature, which fails to duplicate content correctly and only generates empty items.\",\n  'label': 'Bug'},\n {'input': 'Please add more customizable notification sounds for desktop.',\n  'label': 'Feature request'},\n {'input': 'It would be greatly appreciated if you could incorporate additional customization options for notification sounds on the desktop version.',\n  'label': 'Feature request'},\n {'input': \"Help! I can't upload any attachments to my items anymore.\",\n  'label': 'Bug'},\n {'input': \"I'm in desperate need of technical assistance, as a recurring issue prevents me from uploading any attachments to my items.\",\n  'label': 'Bug'},\n {'input': 'It would be great to have a dark theme option for the interface.',\n  'label': 'Feature request'},\n {'input': 'I encountered a problem where the app crashes whenever I try to open a large file.',\n  'label': 'Bug'},\n {'input': 'Could you please add an option to sort tasks by priority?',\n  'label': 'Feature request'},\n {'input': \"There seems to be an issue with the notification system, as I'm not receiving important updates.\",\n  'label': 'Bug'},\n {'input': 'It would be helpful to have a quick shortcut for adding tags to tasks.',\n  'label': 'Feature request'},\n {'input': \"I've noticed a bug where completed tasks sometimes reappear in the task list.\",\n  'label': 'Bug'},\n {'input': 'Please add the option to set recurring reminders for tasks.',\n  'label': 'Feature request'},\n {'input': \"I'm experiencing slow loading times when accessing boards with a large number of items.\",\n  'label': 'Bug'},\n {'input': 'Can you enable the integration with Google Drive for file attachments?',\n  'label': 'Feature request'},\n {'input': \"There's a bug that prevents me from saving changes to the description of certain items.\",\n  'label': 'Bug'},\n {'input': 'It would be great to have the ability to assign tasks to multiple team members.',\n  'label': 'Feature request'},\n {'input': \"I've encountered a bug where subtasks disappear after a task is moved to another board.\",\n  'label': 'Bug'},\n {'input': 'Please add a feature that allows users to create custom board templates.',\n  'label': 'Feature request'},\n {'input': 'There seems to be a bug causing occasional data synchronization issues across devices.',\n  'label': 'Bug'},\n {'input': 'Could you please add the option to set start dates for tasks?',\n  'label': 'Feature request'},\n {'input': 'Whenever I try to export a board, the downloaded file is empty.',\n  'label': 'Bug'},\n {'input': 'Can we have a feature that lets us clone entire boards?',\n  'label': 'Feature request'},\n {'input': 'The app crashes when I try to search for specific keywords within items.',\n  'label': 'Bug'},\n {'input': 'It would be helpful to have the ability to customize field labels in the board view.',\n  'label': 'Feature request'},\n {'input': \"I've encountered a bug where the due dates of tasks sometimes get reset randomly.\",\n  'label': 'Bug'},\n {'input': 'It would be really useful to have a built-in chat feature for easy communication within the app.',\n  'label': 'Feature request'},\n {'input': \"There's a bug where the app freezes when I try to edit the description of a task.\",\n  'label': 'Bug'},\n {'input': 'Could we please have an option to set reminders for tasks?',\n  'label': 'Feature request'},\n {'input': \"I noticed a bug where the progress bar doesn't display the correct completion percentage.\",\n  'label': 'Bug'},\n {'input': \"It would be great if we could customize the colors of labels to match our team's branding.\",\n  'label': 'Feature request'},\n {'input': \"There's a bug that causes duplicated tasks to appear randomly in the task list.\",\n  'label': 'Bug'},\n {'input': 'Can you please add the ability to create sub-items within tasks?',\n  'label': 'Feature request'},\n {'input': \"I'm experiencing a bug where attachments sometimes become corrupted and cannot be opened.\",\n  'label': 'Bug'},\n {'input': 'It would be really helpful to have a timeline view for tracking project progress.',\n  'label': 'Feature request'},\n {'input': \"There's a bug that prevents me from deleting some old archived items.\",\n  'label': 'Bug'},\n {'input': 'Could you please add a search feature within the app to quickly find specific items?',\n  'label': 'Feature request'},\n {'input': \"There's a bug where the time tracking feature doesn't accurately record the time spent on tasks.\",\n  'label': 'Bug'},\n {'input': 'Please add an option to export board data in a CSV format.',\n  'label': 'Feature request'},\n {'input': 'I noticed a bug where the mobile app crashes when I try to switch between boards.',\n  'label': 'Bug'},\n {'input': 'Can we have a feature that allows us to duplicate entire groups of tasks?',\n  'label': 'Feature request'},\n {'input': \"There's a bug that causes inconsistent behavior when sorting tasks by due date.\",\n  'label': 'Bug'},\n {'input': 'It would be great to have a Kanban view for visualizing workflow and task progression.',\n  'label': 'Feature request'},\n {'input': 'I encountered a bug where task assignments occasionally get reset unexpectedly.',\n  'label': 'Bug'},\n {'input': 'Could you please add a feature that allows us to set dependencies between tasks?',\n  'label': 'Feature request'},\n {'input': \"There's a bug where duplicate notifications are sent for the same task update.\",\n  'label': 'Bug'},\n {'input': 'I would love to have a  Favorites feature to quickly access frequently used boards.',\n  'label': 'Feature request'},\n {'input': \"There's a bug where the app crashes when I try to open a board with a large number of items.\",\n  'label': 'Bug'},\n {'input': 'It would be great if we could have tags for individual checklist items within a task.',\n  'label': 'Feature request'},\n {'input': 'I noticed a bug where the due dates of tasks sometimes change unexpectedly after editing them.',\n  'label': 'Bug'},\n {'input': 'Can we have the ability to create public boards that can be shared with external stakeholders?',\n  'label': 'Feature request'},\n {'input': \"There's a bug that prevents uploading attachments larger than 100MB.\",\n  'label': 'Bug'},\n {'input': 'Could we please have an option to filter tasks by multiple labels at the same time?',\n  'label': 'Feature request'},\n {'input': \"I'm experiencing a bug where the sorting order of tasks is not preserved after refreshing the page.\",\n  'label': 'Bug'},\n {'input': 'It would be helpful if we could have recurring subtasks within recurring tasks.',\n  'label': 'Feature request'},\n {'input': \"There's a bug that causes the comments section to disappear for some items.\",\n  'label': 'Bug'},\n {'input': 'Please add the option to group tasks by assignee for better team collaboration.',\n  'label': 'Feature request'},\n {'input': 'I noticed a bug where the app lags when moving tasks between columns in the board view.',\n  'label': 'Bug'},\n {'input': 'Can we have an integration with Dropbox for seamless file attachments?',\n  'label': 'Feature request'},\n {'input': \"There's a bug that prevents me from dragging and dropping items in the calendar view.\",\n  'label': 'Bug'},\n {'input': 'Could you please add an activity log to track changes made by collaborators within a board?',\n  'label': 'Feature request'},\n {'input': \"I'm experiencing a bug where completed subtasks are not marked as completed in the parent task.\",\n  'label': 'Bug'},\n {'input': 'It would be great if we could have a progress indicator for checklist items within a task.',\n  'label': 'Feature request'},\n {'input': \"There's a bug where the time tracking feature records time in an incorrect timezone.\",\n  'label': 'Bug'},\n {'input': 'We should totally have the option to connect with other messaging tools for instant notifications. It would make communication so much smoother!',\n  'label': 'Feature request'},\n {'input': \"Ugh, the calendar widget is acting up again! It's not syncing properly with my external calendars. Can we please fix it?\",\n  'label': 'Bug'},\n {'input': \"Hey, it would be awesome if we could customize the email notifications with our own company's branding. It'll give it a nice personal touch.\",\n  'label': 'Feature request'},\n {'input': \"Argh, why can't we delete files from the file storage widget? It's causing unnecessary clutter. Let's make it happen!\",\n  'label': 'Bug'},\n {'input': \"Dude, a dark mode option would be amazing! It'll save our eyes from the blinding brightness when working at night. Can we get it, please?\",\n  'label': 'Feature request'},\n {'input': \"Seriously, we need to sort out these data duplication issues when we import stuff from external sources. It's messing up our entire workflow!\",\n  'label': 'Bug'},\n {'input': 'How about giving us the power to create recurring tasks? We all have those repetitive tasks that we can automate, right?',\n  'label': 'Feature request'},\n {'input': \"OMG, the app keeps crashing whenever I try to edit certain text fields. It's driving me insane! Let's fix it ASAP, yeah?\",\n  'label': 'Bug'},\n {'input': 'I think it would be cool if we had more flexibility in task dependencies and sequencing. Sometimes things can get a bit complicated, and we need that extra control.',\n  'label': 'Feature request'},\n {'input': \"Oh man, the file uploads are being a pain! They occasionally fail and we end up losing important attachments. Not good. Let's find a solution, okay?\",\n  'label': 'Bug'},\n {'input': 'Users are consistently reporting troubles when attempting to log in using their Google accounts - this is a frequent occurrence.',\n  'label': 'Bug'},\n {'input': 'Please implement functionality that allows users to color-code their individual tasks by degree of priority, which will enhance visual organization.',\n  'label': 'Feature request'},\n {'input': 'There appears to be a typo on the terms and conditions page, in the third paragraph, which should be corrected for professionalism.',\n  'label': 'Bug'},\n {'input': 'Users are frequently requesting a feature that enables them to export a complete report of tasks that are already finished or completed.',\n  'label': 'Feature request'},\n {'input': 'Website stability issue to report - the site crashes whenever a user tries to upload a file larger than 2GB, please check it.',\n  'label': 'Bug'},\n {'input': 'Users are expressing a desire to have full customization permissions on their dashboard for better user experience.',\n  'label': 'Feature request'},\n {'input': 'Certain buttons scattered across the interface are becoming unresponsive at times. This is affecting usability.',\n  'label': 'Bug'},\n {'input': 'Please consider implementing a feature that allows for automatic updates to be made to the progress status on tasks based on certain triggers.',\n  'label': 'Feature request'},\n {'input': 'The mobile application freezes when multiple users try to edit the same task simultaneously. Users are losing their inputs.',\n  'label': 'Bug'},\n {'input': 'Users have expressed a request for a timeline view being made available for long-term projects tracking.',\n  'label': 'Feature request'},\n {'input': 'Reported issue where files uploaded by one user are not visible to some other members of their team.',\n  'label': 'Bug'},\n {'input': 'There is a strong demand by users for the ability to assign tasks to multiple people at once.',\n  'label': 'Feature request'},\n {'input': \"The current search functionality appears to have issues, it's not returning the expected results.\",\n  'label': 'Bug'},\n {'input': 'Please add the ability for users to toggle a dark mode on the user interface for using the tool in low-light conditions.',\n  'label': 'Feature request'}]"
     },
     "execution_count": 27,
     "metadata": {},
     "output_type": "execute_result"
    }
   ],
   "source": [
    "raw_json_file"
   ],
   "metadata": {
    "collapsed": false,
    "ExecuteTime": {
     "end_time": "2023-11-26T06:25:38.462517Z",
     "start_time": "2023-11-26T06:25:38.458474Z"
    }
   },
   "id": "a6fd8206adf8074d"
  },
  {
   "cell_type": "code",
   "execution_count": 28,
   "outputs": [
    {
     "data": {
      "text/plain": "[{'inp': {'categories_list': ['Feature request', 'Bug'],\n   'input_text': \"I'd love to have an option to save multiple drafts in the app!\"},\n  'expected_output': {'possible_categories': 'Feature request'}},\n {'inp': {'categories_list': ['Feature request', 'Bug'],\n   'input_text': \"Hey, there's this weird glitch where the colors of my tasks keep changing randomly.\"},\n  'expected_output': {'possible_categories': 'Bug'}},\n {'inp': {'categories_list': ['Feature request', 'Bug'],\n   'input_text': \"Can we please add a 'Mark as Unread' option for notifications?\"},\n  'expected_output': {'possible_categories': 'Feature request'}},\n {'inp': {'categories_list': ['Feature request', 'Bug'],\n   'input_text': \"The search function isn't working right, it keeps showing irrelevant results.\"},\n  'expected_output': {'possible_categories': 'Bug'}},\n {'inp': {'categories_list': ['Feature request', 'Bug'],\n   'input_text': 'It would be awesome if we could have a dark mode for the mobile app!'},\n  'expected_output': {'possible_categories': 'Feature request'}},\n {'inp': {'categories_list': ['Feature request', 'Bug'],\n   'input_text': 'Urgent! The sidebar navigation disappeared after the last update.'},\n  'expected_output': {'possible_categories': 'Bug'}},\n {'inp': {'categories_list': ['Feature request', 'Bug'],\n   'input_text': 'I kindly request the addition of a feature that enables users to save multiple drafts within the application.'},\n  'expected_output': {'possible_categories': 'Feature request'}},\n {'inp': {'categories_list': ['Feature request', 'Bug'],\n   'input_text': \"I'd like to report a technical issue where task colors seem to change randomly, without any user input.\"},\n  'expected_output': {'possible_categories': 'Bug'}},\n {'inp': {'categories_list': ['Feature request', 'Bug'],\n   'input_text': 'We humbly suggest the implementation of a dark mode feature in the mobile app, enhancing user experience and reducing eye strain.'},\n  'expected_output': {'possible_categories': 'Feature request'}},\n {'inp': {'categories_list': ['Feature request', 'Bug'],\n   'input_text': \"Regrettably, the search function's performance has been unsatisfactory, as it produces irrelevant and unrelated results.\"},\n  'expected_output': {'possible_categories': 'Bug'}},\n {'inp': {'categories_list': ['Feature request', 'Bug'],\n   'input_text': 'Can we get a calendar integration to sync deadlines and events?'},\n  'expected_output': {'possible_categories': 'Feature request'}},\n {'inp': {'categories_list': ['Feature request', 'Bug'],\n   'input_text': 'With great urgency, I bring to your attention the disappearance of the sidebar navigation subsequent to the recent software update.'},\n  'expected_output': {'possible_categories': 'Bug'}},\n {'inp': {'categories_list': ['Feature request', 'Bug'],\n   'input_text': 'We kindly request the addition of a calendar integration system that synchronizes deadlines and events across platforms, ensuring better organization.'},\n  'expected_output': {'possible_categories': 'Feature request'}},\n {'inp': {'categories_list': ['Feature request', 'Bug'],\n   'input_text': \"I hereby report a significant flaw in the 'Copy Item' feature, which fails to duplicate content correctly and only generates empty items.\"},\n  'expected_output': {'possible_categories': 'Bug'}},\n {'inp': {'categories_list': ['Feature request', 'Bug'],\n   'input_text': 'Please add more customizable notification sounds for desktop.'},\n  'expected_output': {'possible_categories': 'Feature request'}},\n {'inp': {'categories_list': ['Feature request', 'Bug'],\n   'input_text': 'It would be greatly appreciated if you could incorporate additional customization options for notification sounds on the desktop version.'},\n  'expected_output': {'possible_categories': 'Feature request'}},\n {'inp': {'categories_list': ['Feature request', 'Bug'],\n   'input_text': \"Help! I can't upload any attachments to my items anymore.\"},\n  'expected_output': {'possible_categories': 'Bug'}},\n {'inp': {'categories_list': ['Feature request', 'Bug'],\n   'input_text': \"I'm in desperate need of technical assistance, as a recurring issue prevents me from uploading any attachments to my items.\"},\n  'expected_output': {'possible_categories': 'Bug'}},\n {'inp': {'categories_list': ['Feature request', 'Bug'],\n   'input_text': 'It would be great to have a dark theme option for the interface.'},\n  'expected_output': {'possible_categories': 'Feature request'}},\n {'inp': {'categories_list': ['Feature request', 'Bug'],\n   'input_text': 'I encountered a problem where the app crashes whenever I try to open a large file.'},\n  'expected_output': {'possible_categories': 'Bug'}},\n {'inp': {'categories_list': ['Feature request', 'Bug'],\n   'input_text': 'Could you please add an option to sort tasks by priority?'},\n  'expected_output': {'possible_categories': 'Feature request'}},\n {'inp': {'categories_list': ['Feature request', 'Bug'],\n   'input_text': \"There seems to be an issue with the notification system, as I'm not receiving important updates.\"},\n  'expected_output': {'possible_categories': 'Bug'}},\n {'inp': {'categories_list': ['Feature request', 'Bug'],\n   'input_text': 'It would be helpful to have a quick shortcut for adding tags to tasks.'},\n  'expected_output': {'possible_categories': 'Feature request'}},\n {'inp': {'categories_list': ['Feature request', 'Bug'],\n   'input_text': \"I've noticed a bug where completed tasks sometimes reappear in the task list.\"},\n  'expected_output': {'possible_categories': 'Bug'}},\n {'inp': {'categories_list': ['Feature request', 'Bug'],\n   'input_text': 'Please add the option to set recurring reminders for tasks.'},\n  'expected_output': {'possible_categories': 'Feature request'}},\n {'inp': {'categories_list': ['Feature request', 'Bug'],\n   'input_text': \"I'm experiencing slow loading times when accessing boards with a large number of items.\"},\n  'expected_output': {'possible_categories': 'Bug'}},\n {'inp': {'categories_list': ['Feature request', 'Bug'],\n   'input_text': 'Can you enable the integration with Google Drive for file attachments?'},\n  'expected_output': {'possible_categories': 'Feature request'}},\n {'inp': {'categories_list': ['Feature request', 'Bug'],\n   'input_text': \"There's a bug that prevents me from saving changes to the description of certain items.\"},\n  'expected_output': {'possible_categories': 'Bug'}},\n {'inp': {'categories_list': ['Feature request', 'Bug'],\n   'input_text': 'It would be great to have the ability to assign tasks to multiple team members.'},\n  'expected_output': {'possible_categories': 'Feature request'}},\n {'inp': {'categories_list': ['Feature request', 'Bug'],\n   'input_text': \"I've encountered a bug where subtasks disappear after a task is moved to another board.\"},\n  'expected_output': {'possible_categories': 'Bug'}},\n {'inp': {'categories_list': ['Feature request', 'Bug'],\n   'input_text': 'Please add a feature that allows users to create custom board templates.'},\n  'expected_output': {'possible_categories': 'Feature request'}},\n {'inp': {'categories_list': ['Feature request', 'Bug'],\n   'input_text': 'There seems to be a bug causing occasional data synchronization issues across devices.'},\n  'expected_output': {'possible_categories': 'Bug'}},\n {'inp': {'categories_list': ['Feature request', 'Bug'],\n   'input_text': 'Could you please add the option to set start dates for tasks?'},\n  'expected_output': {'possible_categories': 'Feature request'}},\n {'inp': {'categories_list': ['Feature request', 'Bug'],\n   'input_text': 'Whenever I try to export a board, the downloaded file is empty.'},\n  'expected_output': {'possible_categories': 'Bug'}},\n {'inp': {'categories_list': ['Feature request', 'Bug'],\n   'input_text': 'Can we have a feature that lets us clone entire boards?'},\n  'expected_output': {'possible_categories': 'Feature request'}},\n {'inp': {'categories_list': ['Feature request', 'Bug'],\n   'input_text': 'The app crashes when I try to search for specific keywords within items.'},\n  'expected_output': {'possible_categories': 'Bug'}},\n {'inp': {'categories_list': ['Feature request', 'Bug'],\n   'input_text': 'It would be helpful to have the ability to customize field labels in the board view.'},\n  'expected_output': {'possible_categories': 'Feature request'}},\n {'inp': {'categories_list': ['Feature request', 'Bug'],\n   'input_text': \"I've encountered a bug where the due dates of tasks sometimes get reset randomly.\"},\n  'expected_output': {'possible_categories': 'Bug'}},\n {'inp': {'categories_list': ['Feature request', 'Bug'],\n   'input_text': 'It would be really useful to have a built-in chat feature for easy communication within the app.'},\n  'expected_output': {'possible_categories': 'Feature request'}},\n {'inp': {'categories_list': ['Feature request', 'Bug'],\n   'input_text': \"There's a bug where the app freezes when I try to edit the description of a task.\"},\n  'expected_output': {'possible_categories': 'Bug'}},\n {'inp': {'categories_list': ['Feature request', 'Bug'],\n   'input_text': 'Could we please have an option to set reminders for tasks?'},\n  'expected_output': {'possible_categories': 'Feature request'}},\n {'inp': {'categories_list': ['Feature request', 'Bug'],\n   'input_text': \"I noticed a bug where the progress bar doesn't display the correct completion percentage.\"},\n  'expected_output': {'possible_categories': 'Bug'}},\n {'inp': {'categories_list': ['Feature request', 'Bug'],\n   'input_text': \"It would be great if we could customize the colors of labels to match our team's branding.\"},\n  'expected_output': {'possible_categories': 'Feature request'}},\n {'inp': {'categories_list': ['Feature request', 'Bug'],\n   'input_text': \"There's a bug that causes duplicated tasks to appear randomly in the task list.\"},\n  'expected_output': {'possible_categories': 'Bug'}},\n {'inp': {'categories_list': ['Feature request', 'Bug'],\n   'input_text': 'Can you please add the ability to create sub-items within tasks?'},\n  'expected_output': {'possible_categories': 'Feature request'}},\n {'inp': {'categories_list': ['Feature request', 'Bug'],\n   'input_text': \"I'm experiencing a bug where attachments sometimes become corrupted and cannot be opened.\"},\n  'expected_output': {'possible_categories': 'Bug'}},\n {'inp': {'categories_list': ['Feature request', 'Bug'],\n   'input_text': 'It would be really helpful to have a timeline view for tracking project progress.'},\n  'expected_output': {'possible_categories': 'Feature request'}},\n {'inp': {'categories_list': ['Feature request', 'Bug'],\n   'input_text': \"There's a bug that prevents me from deleting some old archived items.\"},\n  'expected_output': {'possible_categories': 'Bug'}},\n {'inp': {'categories_list': ['Feature request', 'Bug'],\n   'input_text': 'Could you please add a search feature within the app to quickly find specific items?'},\n  'expected_output': {'possible_categories': 'Feature request'}},\n {'inp': {'categories_list': ['Feature request', 'Bug'],\n   'input_text': \"There's a bug where the time tracking feature doesn't accurately record the time spent on tasks.\"},\n  'expected_output': {'possible_categories': 'Bug'}},\n {'inp': {'categories_list': ['Feature request', 'Bug'],\n   'input_text': 'Please add an option to export board data in a CSV format.'},\n  'expected_output': {'possible_categories': 'Feature request'}},\n {'inp': {'categories_list': ['Feature request', 'Bug'],\n   'input_text': 'I noticed a bug where the mobile app crashes when I try to switch between boards.'},\n  'expected_output': {'possible_categories': 'Bug'}},\n {'inp': {'categories_list': ['Feature request', 'Bug'],\n   'input_text': 'Can we have a feature that allows us to duplicate entire groups of tasks?'},\n  'expected_output': {'possible_categories': 'Feature request'}},\n {'inp': {'categories_list': ['Feature request', 'Bug'],\n   'input_text': \"There's a bug that causes inconsistent behavior when sorting tasks by due date.\"},\n  'expected_output': {'possible_categories': 'Bug'}},\n {'inp': {'categories_list': ['Feature request', 'Bug'],\n   'input_text': 'It would be great to have a Kanban view for visualizing workflow and task progression.'},\n  'expected_output': {'possible_categories': 'Feature request'}},\n {'inp': {'categories_list': ['Feature request', 'Bug'],\n   'input_text': 'I encountered a bug where task assignments occasionally get reset unexpectedly.'},\n  'expected_output': {'possible_categories': 'Bug'}},\n {'inp': {'categories_list': ['Feature request', 'Bug'],\n   'input_text': 'Could you please add a feature that allows us to set dependencies between tasks?'},\n  'expected_output': {'possible_categories': 'Feature request'}},\n {'inp': {'categories_list': ['Feature request', 'Bug'],\n   'input_text': \"There's a bug where duplicate notifications are sent for the same task update.\"},\n  'expected_output': {'possible_categories': 'Bug'}},\n {'inp': {'categories_list': ['Feature request', 'Bug'],\n   'input_text': 'I would love to have a  Favorites feature to quickly access frequently used boards.'},\n  'expected_output': {'possible_categories': 'Feature request'}},\n {'inp': {'categories_list': ['Feature request', 'Bug'],\n   'input_text': \"There's a bug where the app crashes when I try to open a board with a large number of items.\"},\n  'expected_output': {'possible_categories': 'Bug'}},\n {'inp': {'categories_list': ['Feature request', 'Bug'],\n   'input_text': 'It would be great if we could have tags for individual checklist items within a task.'},\n  'expected_output': {'possible_categories': 'Feature request'}},\n {'inp': {'categories_list': ['Feature request', 'Bug'],\n   'input_text': 'I noticed a bug where the due dates of tasks sometimes change unexpectedly after editing them.'},\n  'expected_output': {'possible_categories': 'Bug'}},\n {'inp': {'categories_list': ['Feature request', 'Bug'],\n   'input_text': 'Can we have the ability to create public boards that can be shared with external stakeholders?'},\n  'expected_output': {'possible_categories': 'Feature request'}},\n {'inp': {'categories_list': ['Feature request', 'Bug'],\n   'input_text': \"There's a bug that prevents uploading attachments larger than 100MB.\"},\n  'expected_output': {'possible_categories': 'Bug'}},\n {'inp': {'categories_list': ['Feature request', 'Bug'],\n   'input_text': 'Could we please have an option to filter tasks by multiple labels at the same time?'},\n  'expected_output': {'possible_categories': 'Feature request'}},\n {'inp': {'categories_list': ['Feature request', 'Bug'],\n   'input_text': \"I'm experiencing a bug where the sorting order of tasks is not preserved after refreshing the page.\"},\n  'expected_output': {'possible_categories': 'Bug'}},\n {'inp': {'categories_list': ['Feature request', 'Bug'],\n   'input_text': 'It would be helpful if we could have recurring subtasks within recurring tasks.'},\n  'expected_output': {'possible_categories': 'Feature request'}},\n {'inp': {'categories_list': ['Feature request', 'Bug'],\n   'input_text': \"There's a bug that causes the comments section to disappear for some items.\"},\n  'expected_output': {'possible_categories': 'Bug'}},\n {'inp': {'categories_list': ['Feature request', 'Bug'],\n   'input_text': 'Please add the option to group tasks by assignee for better team collaboration.'},\n  'expected_output': {'possible_categories': 'Feature request'}},\n {'inp': {'categories_list': ['Feature request', 'Bug'],\n   'input_text': 'I noticed a bug where the app lags when moving tasks between columns in the board view.'},\n  'expected_output': {'possible_categories': 'Bug'}},\n {'inp': {'categories_list': ['Feature request', 'Bug'],\n   'input_text': 'Can we have an integration with Dropbox for seamless file attachments?'},\n  'expected_output': {'possible_categories': 'Feature request'}},\n {'inp': {'categories_list': ['Feature request', 'Bug'],\n   'input_text': \"There's a bug that prevents me from dragging and dropping items in the calendar view.\"},\n  'expected_output': {'possible_categories': 'Bug'}},\n {'inp': {'categories_list': ['Feature request', 'Bug'],\n   'input_text': 'Could you please add an activity log to track changes made by collaborators within a board?'},\n  'expected_output': {'possible_categories': 'Feature request'}},\n {'inp': {'categories_list': ['Feature request', 'Bug'],\n   'input_text': \"I'm experiencing a bug where completed subtasks are not marked as completed in the parent task.\"},\n  'expected_output': {'possible_categories': 'Bug'}},\n {'inp': {'categories_list': ['Feature request', 'Bug'],\n   'input_text': 'It would be great if we could have a progress indicator for checklist items within a task.'},\n  'expected_output': {'possible_categories': 'Feature request'}},\n {'inp': {'categories_list': ['Feature request', 'Bug'],\n   'input_text': \"There's a bug where the time tracking feature records time in an incorrect timezone.\"},\n  'expected_output': {'possible_categories': 'Bug'}},\n {'inp': {'categories_list': ['Feature request', 'Bug'],\n   'input_text': 'We should totally have the option to connect with other messaging tools for instant notifications. It would make communication so much smoother!'},\n  'expected_output': {'possible_categories': 'Feature request'}},\n {'inp': {'categories_list': ['Feature request', 'Bug'],\n   'input_text': \"Ugh, the calendar widget is acting up again! It's not syncing properly with my external calendars. Can we please fix it?\"},\n  'expected_output': {'possible_categories': 'Bug'}},\n {'inp': {'categories_list': ['Feature request', 'Bug'],\n   'input_text': \"Hey, it would be awesome if we could customize the email notifications with our own company's branding. It'll give it a nice personal touch.\"},\n  'expected_output': {'possible_categories': 'Feature request'}},\n {'inp': {'categories_list': ['Feature request', 'Bug'],\n   'input_text': \"Argh, why can't we delete files from the file storage widget? It's causing unnecessary clutter. Let's make it happen!\"},\n  'expected_output': {'possible_categories': 'Bug'}},\n {'inp': {'categories_list': ['Feature request', 'Bug'],\n   'input_text': \"Dude, a dark mode option would be amazing! It'll save our eyes from the blinding brightness when working at night. Can we get it, please?\"},\n  'expected_output': {'possible_categories': 'Feature request'}},\n {'inp': {'categories_list': ['Feature request', 'Bug'],\n   'input_text': \"Seriously, we need to sort out these data duplication issues when we import stuff from external sources. It's messing up our entire workflow!\"},\n  'expected_output': {'possible_categories': 'Bug'}},\n {'inp': {'categories_list': ['Feature request', 'Bug'],\n   'input_text': 'How about giving us the power to create recurring tasks? We all have those repetitive tasks that we can automate, right?'},\n  'expected_output': {'possible_categories': 'Feature request'}},\n {'inp': {'categories_list': ['Feature request', 'Bug'],\n   'input_text': \"OMG, the app keeps crashing whenever I try to edit certain text fields. It's driving me insane! Let's fix it ASAP, yeah?\"},\n  'expected_output': {'possible_categories': 'Bug'}},\n {'inp': {'categories_list': ['Feature request', 'Bug'],\n   'input_text': 'I think it would be cool if we had more flexibility in task dependencies and sequencing. Sometimes things can get a bit complicated, and we need that extra control.'},\n  'expected_output': {'possible_categories': 'Feature request'}},\n {'inp': {'categories_list': ['Feature request', 'Bug'],\n   'input_text': \"Oh man, the file uploads are being a pain! They occasionally fail and we end up losing important attachments. Not good. Let's find a solution, okay?\"},\n  'expected_output': {'possible_categories': 'Bug'}},\n {'inp': {'categories_list': ['Feature request', 'Bug'],\n   'input_text': 'Users are consistently reporting troubles when attempting to log in using their Google accounts - this is a frequent occurrence.'},\n  'expected_output': {'possible_categories': 'Bug'}},\n {'inp': {'categories_list': ['Feature request', 'Bug'],\n   'input_text': 'Please implement functionality that allows users to color-code their individual tasks by degree of priority, which will enhance visual organization.'},\n  'expected_output': {'possible_categories': 'Feature request'}},\n {'inp': {'categories_list': ['Feature request', 'Bug'],\n   'input_text': 'There appears to be a typo on the terms and conditions page, in the third paragraph, which should be corrected for professionalism.'},\n  'expected_output': {'possible_categories': 'Bug'}},\n {'inp': {'categories_list': ['Feature request', 'Bug'],\n   'input_text': 'Users are frequently requesting a feature that enables them to export a complete report of tasks that are already finished or completed.'},\n  'expected_output': {'possible_categories': 'Feature request'}},\n {'inp': {'categories_list': ['Feature request', 'Bug'],\n   'input_text': 'Website stability issue to report - the site crashes whenever a user tries to upload a file larger than 2GB, please check it.'},\n  'expected_output': {'possible_categories': 'Bug'}},\n {'inp': {'categories_list': ['Feature request', 'Bug'],\n   'input_text': 'Users are expressing a desire to have full customization permissions on their dashboard for better user experience.'},\n  'expected_output': {'possible_categories': 'Feature request'}},\n {'inp': {'categories_list': ['Feature request', 'Bug'],\n   'input_text': 'Certain buttons scattered across the interface are becoming unresponsive at times. This is affecting usability.'},\n  'expected_output': {'possible_categories': 'Bug'}},\n {'inp': {'categories_list': ['Feature request', 'Bug'],\n   'input_text': 'Please consider implementing a feature that allows for automatic updates to be made to the progress status on tasks based on certain triggers.'},\n  'expected_output': {'possible_categories': 'Feature request'}},\n {'inp': {'categories_list': ['Feature request', 'Bug'],\n   'input_text': 'The mobile application freezes when multiple users try to edit the same task simultaneously. Users are losing their inputs.'},\n  'expected_output': {'possible_categories': 'Bug'}},\n {'inp': {'categories_list': ['Feature request', 'Bug'],\n   'input_text': 'Users have expressed a request for a timeline view being made available for long-term projects tracking.'},\n  'expected_output': {'possible_categories': 'Feature request'}},\n {'inp': {'categories_list': ['Feature request', 'Bug'],\n   'input_text': 'Reported issue where files uploaded by one user are not visible to some other members of their team.'},\n  'expected_output': {'possible_categories': 'Bug'}},\n {'inp': {'categories_list': ['Feature request', 'Bug'],\n   'input_text': 'There is a strong demand by users for the ability to assign tasks to multiple people at once.'},\n  'expected_output': {'possible_categories': 'Feature request'}},\n {'inp': {'categories_list': ['Feature request', 'Bug'],\n   'input_text': \"The current search functionality appears to have issues, it's not returning the expected results.\"},\n  'expected_output': {'possible_categories': 'Bug'}},\n {'inp': {'categories_list': ['Feature request', 'Bug'],\n   'input_text': 'Please add the ability for users to toggle a dark mode on the user interface for using the tool in low-light conditions.'},\n  'expected_output': {'possible_categories': 'Feature request'}}]"
     },
     "execution_count": 28,
     "metadata": {},
     "output_type": "execute_result"
    }
   ],
   "source": [
    "categories = [\"Feature request\", \"Bug\"]\n",
    "\n",
    "final_testset = []\n",
    "\n",
    "for element in raw_json_file:\n",
    "    text = element['input']\n",
    "    expected_output = element['label']\n",
    "\n",
    "    new_element = {\"inp\": {\"categories_list\": categories, \"input_text\": text},\n",
    "                   \"expected_output\": {\"possible_categories\": expected_output}}\n",
    "    final_testset.append(new_element)\n",
    "\n",
    "final_testset"
   ],
   "metadata": {
    "collapsed": false,
    "ExecuteTime": {
     "end_time": "2023-11-26T06:31:04.707105Z",
     "start_time": "2023-11-26T06:31:04.701063Z"
    }
   },
   "id": "f35ced0596c4e6c4"
  },
  {
   "cell_type": "code",
   "execution_count": 30,
   "outputs": [],
   "source": [
    "with open(f'{raw_json_file_path}/feature_or_bug_1.json', 'w', encoding='utf-8') as f:\n",
    "    json.dump(final_testset, f, ensure_ascii=False, indent=4)"
   ],
   "metadata": {
    "collapsed": false,
    "ExecuteTime": {
     "end_time": "2023-11-26T06:32:06.137466Z",
     "start_time": "2023-11-26T06:32:06.127164Z"
    }
   },
   "id": "7a0bb2026f171a04"
  },
  {
   "cell_type": "markdown",
   "source": [
    "# csv"
   ],
   "metadata": {
    "collapsed": false
   },
   "id": "34d41e1e693bb24"
  },
  {
   "cell_type": "code",
   "execution_count": 1,
   "outputs": [
    {
     "data": {
      "text/plain": "  VIA_CHANNEL       LANGUAGE  \\\n0         api  Not Specified   \n1         api  Not Specified   \n2         api  Not Specified   \n3         web  Not Specified   \n4         api             es   \n\n                                             SUBJECT  \\\n0  I'm building a report on Monday.com. I need to...   \n1                                 issue with formula   \n2                                            Formula   \n3  Re: Re: How do i calculate Due date given a co...   \n4                 Como puedo multiplicar 3 columnas?   \n\n                                                BODY TICKET_TYPE  \n0  Phone: 84355093116 \\nCompany Size: 100-250\\nMe...    feedback  \n1  We have been using Monday for some time now ho...      how_to  \n2  I am trying to build an automated URL Link bas...      how_to  \n3  This is a follow-up to your previous request #...      how_to  \n4  Phone: 525611092601 \\nCompany Size: 1-19\\nMess...      how_to  ",
      "text/html": "<div>\n<style scoped>\n    .dataframe tbody tr th:only-of-type {\n        vertical-align: middle;\n    }\n\n    .dataframe tbody tr th {\n        vertical-align: top;\n    }\n\n    .dataframe thead th {\n        text-align: right;\n    }\n</style>\n<table border=\"1\" class=\"dataframe\">\n  <thead>\n    <tr style=\"text-align: right;\">\n      <th></th>\n      <th>VIA_CHANNEL</th>\n      <th>LANGUAGE</th>\n      <th>SUBJECT</th>\n      <th>BODY</th>\n      <th>TICKET_TYPE</th>\n    </tr>\n  </thead>\n  <tbody>\n    <tr>\n      <th>0</th>\n      <td>api</td>\n      <td>Not Specified</td>\n      <td>I'm building a report on Monday.com. I need to...</td>\n      <td>Phone: 84355093116 \\nCompany Size: 100-250\\nMe...</td>\n      <td>feedback</td>\n    </tr>\n    <tr>\n      <th>1</th>\n      <td>api</td>\n      <td>Not Specified</td>\n      <td>issue with formula</td>\n      <td>We have been using Monday for some time now ho...</td>\n      <td>how_to</td>\n    </tr>\n    <tr>\n      <th>2</th>\n      <td>api</td>\n      <td>Not Specified</td>\n      <td>Formula</td>\n      <td>I am trying to build an automated URL Link bas...</td>\n      <td>how_to</td>\n    </tr>\n    <tr>\n      <th>3</th>\n      <td>web</td>\n      <td>Not Specified</td>\n      <td>Re: Re: How do i calculate Due date given a co...</td>\n      <td>This is a follow-up to your previous request #...</td>\n      <td>how_to</td>\n    </tr>\n    <tr>\n      <th>4</th>\n      <td>api</td>\n      <td>es</td>\n      <td>Como puedo multiplicar 3 columnas?</td>\n      <td>Phone: 525611092601 \\nCompany Size: 1-19\\nMess...</td>\n      <td>how_to</td>\n    </tr>\n  </tbody>\n</table>\n</div>"
     },
     "execution_count": 1,
     "metadata": {},
     "output_type": "execute_result"
    }
   ],
   "source": [
    "import pandas as pd\n",
    "\n",
    "raw_data = pd.read_csv('../data/automation_classifier/text_files/raw_files/Formula_research_data_csv.csv')\n",
    "raw_data.head()"
   ],
   "metadata": {
    "collapsed": false,
    "ExecuteTime": {
     "end_time": "2023-11-26T09:42:56.239547Z",
     "start_time": "2023-11-26T09:42:55.790297Z"
    }
   },
   "id": "634e10a8ee9de906"
  },
  {
   "cell_type": "code",
   "execution_count": 2,
   "outputs": [
    {
     "data": {
      "text/plain": "TICKET_TYPE\nhow_to              875\nfeedback             64\nbugs                 35\ncluster_workflow      3\nother                 2\nbilling               1\nNot Chosen            1\nName: count, dtype: int64"
     },
     "execution_count": 2,
     "metadata": {},
     "output_type": "execute_result"
    }
   ],
   "source": [
    "raw_data.TICKET_TYPE.value_counts()"
   ],
   "metadata": {
    "collapsed": false,
    "ExecuteTime": {
     "end_time": "2023-11-26T09:42:57.557715Z",
     "start_time": "2023-11-26T09:42:57.553953Z"
    }
   },
   "id": "e1f75915404adf88"
  },
  {
   "cell_type": "code",
   "execution_count": 3,
   "outputs": [
    {
     "data": {
      "text/plain": "LANGUAGE\nNot Specified    913\nes                16\npt                12\nfr                12\nde                 6\nHe                 5\nit                 1\nName: count, dtype: int64"
     },
     "execution_count": 3,
     "metadata": {},
     "output_type": "execute_result"
    }
   ],
   "source": [
    "raw_data.LANGUAGE.value_counts()"
   ],
   "metadata": {
    "collapsed": false,
    "ExecuteTime": {
     "end_time": "2023-11-26T09:43:01.097536Z",
     "start_time": "2023-11-26T09:43:01.091900Z"
    }
   },
   "id": "4b250887b748a6e5"
  },
  {
   "cell_type": "code",
   "execution_count": 4,
   "outputs": [],
   "source": [
    "raw_data['body_word_count'] = raw_data.apply(lambda x: len(x['BODY'].split(' ')), axis=1)"
   ],
   "metadata": {
    "collapsed": false,
    "ExecuteTime": {
     "end_time": "2023-11-26T09:44:12.176513Z",
     "start_time": "2023-11-26T09:44:12.173076Z"
    }
   },
   "id": "4fc31c68f882ad77"
  },
  {
   "cell_type": "code",
   "execution_count": 19,
   "outputs": [],
   "source": [
    "raw_data_filtered = raw_data[(raw_data['body_word_count'] >= 10) & (raw_data['body_word_count'] <= 150)]"
   ],
   "metadata": {
    "collapsed": false,
    "ExecuteTime": {
     "end_time": "2023-11-26T09:48:32.247246Z",
     "start_time": "2023-11-26T09:48:32.237266Z"
    }
   },
   "id": "a6d61abbad88db6a"
  },
  {
   "cell_type": "code",
   "execution_count": 20,
   "outputs": [
    {
     "data": {
      "text/plain": "<Axes: >"
     },
     "execution_count": 20,
     "metadata": {},
     "output_type": "execute_result"
    },
    {
     "data": {
      "text/plain": "<Figure size 640x480 with 1 Axes>",
      "image/png": "[encoded data removed]"
     },
     "metadata": {},
     "output_type": "display_data"
    }
   ],
   "source": [
    "raw_data_filtered.body_word_count.hist(bins=75)"
   ],
   "metadata": {
    "collapsed": false,
    "ExecuteTime": {
     "end_time": "2023-11-26T09:48:36.824077Z",
     "start_time": "2023-11-26T09:48:36.714302Z"
    }
   },
   "id": "21d92317af1e061b"
  },
  {
   "cell_type": "code",
   "execution_count": 22,
   "outputs": [
    {
     "data": {
      "text/plain": "TICKET_TYPE\nhow_to              764\nfeedback             53\nbugs                 31\ncluster_workflow      2\nother                 2\nbilling               1\nNot Chosen            1\nName: count, dtype: int64"
     },
     "execution_count": 22,
     "metadata": {},
     "output_type": "execute_result"
    }
   ],
   "source": [
    "raw_data_filtered.TICKET_TYPE.value_counts()"
   ],
   "metadata": {
    "collapsed": false,
    "ExecuteTime": {
     "end_time": "2023-11-26T09:49:21.777725Z",
     "start_time": "2023-11-26T09:49:21.768257Z"
    }
   },
   "id": "5b288fee1a00f9b3"
  },
  {
   "cell_type": "code",
   "execution_count": 32,
   "outputs": [],
   "source": [
    "how_to_num = 35\n",
    "feedback_num = 35\n",
    "bugs_num = 30\n",
    "seed = 42\n",
    "\n",
    "how_to_data = raw_data_filtered[raw_data_filtered.TICKET_TYPE == 'how_to'].sample(how_to_num, random_state=seed)\n",
    "feedback_data = raw_data_filtered[raw_data_filtered.TICKET_TYPE == 'feedback'].sample(feedback_num, random_state=seed)\n",
    "bugs_data = raw_data_filtered[raw_data_filtered.TICKET_TYPE == 'bugs'].sample(bugs_num, random_state=seed)\n",
    "\n",
    "\n",
    "final_data = pd.concat([how_to_data, feedback_data, bugs_data])"
   ],
   "metadata": {
    "collapsed": false,
    "ExecuteTime": {
     "end_time": "2023-11-26T10:16:45.473852Z",
     "start_time": "2023-11-26T10:16:45.468148Z"
    }
   },
   "id": "5fd2afbc7de6ea7a"
  },
  {
   "cell_type": "code",
   "execution_count": 33,
   "outputs": [
    {
     "data": {
      "text/plain": "['how_to', 'feedback', 'bugs']"
     },
     "execution_count": 33,
     "metadata": {},
     "output_type": "execute_result"
    }
   ],
   "source": [
    "categories = list(final_data.TICKET_TYPE.unique())\n",
    "categories"
   ],
   "metadata": {
    "collapsed": false,
    "ExecuteTime": {
     "end_time": "2023-11-26T10:16:48.509583Z",
     "start_time": "2023-11-26T10:16:48.504490Z"
    }
   },
   "id": "afb20889347ab9ca"
  },
  {
   "cell_type": "code",
   "execution_count": null,
   "outputs": [],
   "source": [],
   "metadata": {
    "collapsed": false
   },
   "id": "3687a9dcd6cef0f4"
  },
  {
   "cell_type": "code",
   "execution_count": 34,
   "outputs": [
    {
     "data": {
      "text/plain": "[{'inp': {'categories_list': ['how_to', 'feedback', 'bugs'],\n   'input_text': 'Hello\\n I am having some issues with my board. When i import from Excel into Monday, the date column is not working 100% correctly. \\n Also, I have issues with the formulas, I need help with that. \\n\\nThank you \\n\\n--\\nJohnny Matatov =)'},\n  'expected_output': {'possible_categories': 'how_to'}},\n {'inp': {'categories_list': ['how_to', 'feedback', 'bugs'],\n   'input_text': \"I need help with a formula. I'm trying to subtract a GST column & PST column from a total column and rounding the answer to two decimal places. I'm not sure how to write this:\\n\\nROUND(MINUS({Total Claim Amount})(SUM({Total Claim Recoverable GST},{Total Claim Recoverable PST}),2)\"},\n  'expected_output': {'possible_categories': 'how_to'}},\n {'inp': {'categories_list': ['how_to', 'feedback', 'bugs'],\n   'input_text': 'Is there a way to show a timeline by hours instead of days? I am tracking when employees are out of the office, which is easy if they are gone the whole day, but if they are only gone from 9 am until 1 pm I need to show it. I have this connected to my google calendar so anyone from our team can see when people are out of the office'},\n  'expected_output': {'possible_categories': 'how_to'}},\n {'inp': {'categories_list': ['how_to', 'feedback', 'bugs'],\n   'input_text': 'This is a follow-up to your previous request #2425844 \"Issue with formula when col...\"\\n\\nHello Leora,\\n\\nSorry it took me so long to get back to you. I had other priorities I had to work on.\\n\\nHere is the formula that is currently in the Column P3 -Days for KPI. Here is the formula in the KPI Met Here is the current SLA Status Label\\n\\nRegards,\\n\\nDebbie\\n\\nCAUTION: External Email.'},\n  'expected_output': {'possible_categories': 'how_to'}},\n {'inp': {'categories_list': ['how_to', 'feedback', 'bugs'],\n   'input_text': 'Hi \\n\\nCan you help me understand step-by-step how I can use the VLOOKUP feature?\\n\\nI have two tables\\n\\nTable 1 has \\nCustomer name, Column A\\n\\nTable 2 has \\nCustomer name, Column B\\n\\nI just want to add a VLOOKUP so that \\n\\nTable 1\\nCustomer name, Column A, Column B_VLOOKUP'},\n  'expected_output': {'possible_categories': 'how_to'}},\n {'inp': {'categories_list': ['how_to', 'feedback', 'bugs'],\n   'input_text': 'This is a follow-up to your previous request #2513566 \"I need a formula that will ...\"\\n\\nHi maya,\\n\\nInstead of this formula: IF(FORMAT_DATE(SUBTRACT_DAYS({Deadline},\\n\\n{Alert Time Frame (Days)}),\"MMM DD YY\")\\n\\n= FORMAT_DATE(TODAY(),\"MMM DD YY\"),\" 📌 TODAY\",\"\")\\n\\nIt is possible to change the “=” to “= or <”?\\n\\nI want the formula to sign something when the alert time is starting and until the deadline. For example, if alert time is 30, 30 days before deadline the formula will sign “today” until the deadline – for 30 days.\\n\\nEden Kaufman\\nHead of Implementation Department\\n\\n+972-3-5320175\\n\\n972-523496383+\\n\\nEDEN.KAUFMAN@TARA-IL.COM\\n\\n+972-3-5444407'},\n  'expected_output': {'possible_categories': 'how_to'}},\n {'inp': {'categories_list': ['how_to', 'feedback', 'bugs'],\n   'input_text': 'I would like help in building a formula in my \\'ASES Main Compliance Board DRAFT - Australian Service Excellence Standards\\' board.\\n\\nI have a number column titled \"Unsuccessful Contact Attempt\". If this column has the number 4 or greater, I would like a message displayed in the formular column e.g. \"Missed call log = grounds for client removal\" with some sort of emoji e.g. red X?'},\n  'expected_output': {'possible_categories': 'how_to'}},\n {'inp': {'categories_list': ['how_to', 'feedback', 'bugs'],\n   'input_text': 'This is a follow-up to your previous request #2414351 \"Meeting\"\\n\\nHi Tal,\\n\\n \\n\\nCould I book another session please?\\n\\n \\n\\nThanks'},\n  'expected_output': {'possible_categories': 'how_to'}},\n {'inp': {'categories_list': ['how_to', 'feedback', 'bugs'],\n   'input_text': 'how do i make a formula that adds multiple column numbers in the same row? example, 1 item is called Keynotes Piano, i want to add the number fields in that item to sum total'},\n  'expected_output': {'possible_categories': 'how_to'}},\n {'inp': {'categories_list': ['how_to', 'feedback', 'bugs'],\n   'input_text': 'Hi there, I just need to ask for help please. I have this formula for DIVIDE..\\n\\nDIVIDE(SWITCH({AD BUDGET},\"$250\",250,\"$300\",300,\"$500\",500,\"$550\",550,\"$750\",750,\"$800\",800,\"$850\",850,\"$1000\",1000,\"$1250\",1250,\"$1500\",1500,\"$1750\",1750,\"$2000\",2000,{Other Ad Budget},11)\\n\\nIts coming out as an illegal formula.. So basically the numnbers (ad Budget and other ad budget) will be divided by 11 then the result will then be deducted from the ad budget or the other ad budget and this number will then be the one resulting in the field. \\n\\nCan you please help? Thank you.'},\n  'expected_output': {'possible_categories': 'how_to'}},\n {'inp': {'categories_list': ['how_to', 'feedback', 'bugs'],\n   'input_text': 'Phone: 13015262614 \\nCompany Size: 20-49\\nMessage: Hopefully this is an easy issue, however I am not seeing anything about this specifically on your website or in the support guidance.'},\n  'expected_output': {'possible_categories': 'how_to'}},\n {'inp': {'categories_list': ['how_to', 'feedback', 'bugs'],\n   'input_text': 'This is a follow-up to your previous request #2463927 \"Hi Monday Team, We\\'d like t...\"\\n\\nHi Thess,\\nThanks for your feedback and suggestions.\\nAttached is a screen capture image with a note of the number of columns according to the formula we need to adjust as follows:\\n(2) = (1) * VAT (%)\\n(4) = (1) * (3)\\n(6) = (1) * (5)\\n(8) = (A) - (4) - (6)\\n\\nHope the information is easy to understand and can be handled by Monday team.\\nThanks,'},\n  'expected_output': {'possible_categories': 'how_to'}},\n {'inp': {'categories_list': ['how_to', 'feedback', 'bugs'],\n   'input_text': \"Hello! I'm trying to build a dashboard with stats from this board. One of the statistics I want to include is the sum of one column as a percentage of another. What widget will let me make this type of calculations using column totals in the Dashboard? Thank you!\"},\n  'expected_output': {'possible_categories': 'how_to'}},\n {'inp': {'categories_list': ['how_to', 'feedback', 'bugs'],\n   'input_text': 'Hello!\\n\\n \\n\\nI am trying to troubleshoot a Formula column that does not seem to be totaling the numbers calculated in the bottom summary row (screenshot attached). Can you please advise?\\n\\nSincerely,\\n\\nAndrew\\n\\n \\n\\nANDREW WORDEN, Entrepreneurship Program Manager\\nThe University of Texas at Austin | Discovery to Impact\\n\\nhttps://discoveries.utexas.edu'},\n  'expected_output': {'possible_categories': 'how_to'}},\n {'inp': {'categories_list': ['how_to', 'feedback', 'bugs'],\n   'input_text': 'Hi, I want to calculate the tenure of clients with a start date and end date. I am able to create a formula while the client is active however I cannot find a way to calculate with an end date. Can you help?'},\n  'expected_output': {'possible_categories': 'how_to'}},\n {'inp': {'categories_list': ['how_to', 'feedback', 'bugs'],\n   'input_text': 'Hi there! I am having a super tough time with getting a formula to work. On the insurance summary board > subitems column \"% Change\" I am trying to calculate the percentage change in \"Prior Year Premium\" to \"Premium Amount\" I am able to get the formula converted into what the percentage would be but cannot figure out how to get the % symbol added to the end of the figure. I\\'ve read through every online forum I can find and used the same formulas others have but it\\'s still not working :( Any help would be great!'},\n  'expected_output': {'possible_categories': 'how_to'}},\n {'inp': {'categories_list': ['how_to', 'feedback', 'bugs'],\n   'input_text': 'I am trying to build a formula to calculate a sales credit based on a person column on my board. \\n\\nI would like the formula to be If Sales Credit is Contract Value, Multiple Contract Amount by 80%. Here is what I have so far - IF({Sales Credit},\"Contract Value\", MULTIPLY({Contract Amount},80%) but it is not working. \\n\\nThe end goal to allocate 80% of the contract value to our \"Pursuit Champion\" a person column and 20% of the contract value to a \"Reviewer\" or \"Technical Lead\" also both people columns. \\n\\nHere is a link to a loom video describing the question and showing the board and columns - https://www.loom.com/share/4a2209aa1ea84ce1b5d45cf4e45b8048'},\n  'expected_output': {'possible_categories': 'how_to'}},\n {'inp': {'categories_list': ['how_to', 'feedback', 'bugs'],\n   'input_text': \"Hello,\\nI can't figure out how to calculate an average with the dashboard or with the formula.\\nI have a board that shows all the files one engine is processing everyday. I would like to calculate the average processing velocity. In my board, each line is a file processed and I have 2 columns with the information we need to calculate the processing velocity: the number of records in the file and the processing time in minutes. \\nIs there a way that we can calculate the average processing time in a dashboard?\"},\n  'expected_output': {'possible_categories': 'how_to'}},\n {'inp': {'categories_list': ['how_to', 'feedback', 'bugs'],\n   'input_text': 'Hey Monday.com team, \\n\\nI\\'ve created subtasks on this pulse - https://enhancemedia.monday.com/boards/3619926768/pulses/4073770369 - to show a breakdown of tasks/costs that are included however I don\\'t have the option to format the \"cost\" column with a currency symbol like I can in the main pulse. \\n\\nIs there a way to do this at all? \\n\\nMany thanks, \\nCaley'},\n  'expected_output': {'possible_categories': 'how_to'}},\n {'inp': {'categories_list': ['how_to', 'feedback', 'bugs'],\n   'input_text': 'Este é um seguimento do seu pedido anterior n° #2516346 \"Conversation about Formula\"\\n\\nDeu certo, obrigado\\n\\nEm ter., 21 de fev. de 2023 às 06:03, monday.com  escreveu:'},\n  'expected_output': {'possible_categories': 'how_to'}},\n {'inp': {'categories_list': ['how_to', 'feedback', 'bugs'],\n   'input_text': 'Hi Support,\\n\\nI am currently playing around in the Demo environment of Monday.com.\\n\\nOne important function that we would like to have is when we add a start and end date for a project the dates will pre populate for the task in between these dates. \\n\\nIs this possible?\\n\\nLooking forward to hearing back from you. \\n\\n--\\nMarelia Meyer\\nGlobal Payroll Implementation Specialist\\nRemote'},\n  'expected_output': {'possible_categories': 'how_to'}},\n {'inp': {'categories_list': ['how_to', 'feedback', 'bugs'],\n   'input_text': \"Hello\\nI'm having issues with the formula column, its becoming quite frustrating, Especially when I write a formula and its working then I make an addition to it I get an error so I delete what I've added then the previous formula that was working fine comes back with an error can you please advise what I'm doing wrong?\"},\n  'expected_output': {'possible_categories': 'how_to'}},\n {'inp': {'categories_list': ['how_to', 'feedback', 'bugs'],\n   'input_text': \"In our DEALS board, we have a column that is Project Code, which is a formula that takes the first two letters of our projects. These 2 letter prefixes relate to different departments, so I have another board that is a table of project codes and departments (both as text and status columns).\\n\\nI have tried to use the Vlookup function but this doesn't work on formulas. So:\\n\\n1. Is there any way I can autopopulate a Dept. column based on a project code (which is all listed in another board)?\\n2. Or, is there any way of populating a text column with the first two letters of a field when it's updated (so I can then use vlookup)?\"},\n  'expected_output': {'possible_categories': 'how_to'}},\n {'inp': {'categories_list': ['how_to', 'feedback', 'bugs'],\n   'input_text': 'I am trying to count natural days between 2 days inside and IF statement:\\n\\nIF({Handover Date}=\"\", ROUND(DAYS({Actual Go-live#Start}, TODAY()), 0), ROUND(DAYS({Actual Go-live#Start}, {Handover Date}), 0))\\n\\nBefore I had this formula counting WORKDAYS that work but I now want to count natural days:\\nIF({Handover Date}=\"\", WORKDAYS(TODAY(),{Actual Go-live#Start}), WORKDAYS({Handover Date},{Actual Go-live#Start}))\\n\\nThanks'},\n  'expected_output': {'possible_categories': 'how_to'}},\n {'inp': {'categories_list': ['how_to', 'feedback', 'bugs'],\n   'input_text': 'I am using the DAY() function in a formula with reference to the {Date} column in my table. For some reason, the DAY() function is returning the day of the month minus 1 for every column.'},\n  'expected_output': {'possible_categories': 'how_to'}},\n {'inp': {'categories_list': ['how_to', 'feedback', 'bugs'],\n   'input_text': 'Phone: 4915254095863 \\nCompany Size: undefined\\nMessage: Hello! I have a project duration which is the result of a calculation of three different numbers. I now managed to connect that to a start date and calculated the end date with it. Now I would like to connect that to the timeline column. However, I can just set a number column and not a formular column as duration. Is there any work-around? Thank you very much, \\nVery best regards, \\nElisabeth'},\n  'expected_output': {'possible_categories': 'how_to'}},\n {'inp': {'categories_list': ['how_to', 'feedback', 'bugs'],\n   'input_text': 'This is a follow-up to your previous request #2429054 \"Conversation with Christina...\"\\n\\nGood morning Diego, \\n\\nThank you for your email. I apologise for the delay in replying but your email didn\\'t arrive in my inbox until after I\\'d finished work for the Christmas holidays, so I didn\\'t see it until the new year. \\n\\nI have rebooked a support session with you using the link above as suggested, but once more I have not received a link to join the session. It is scheduled for today at 2:30pm, so if I haven\\'t heard from you or received a link by 2 pm I will reschedule the meeting again and let you know. \\n\\nBest wishes,'},\n  'expected_output': {'possible_categories': 'how_to'}},\n {'inp': {'categories_list': ['how_to', 'feedback', 'bugs'],\n   'input_text': \"I need help updating a Formula in Monday.  I'm unsure how to proceed.  I've created a Loom Video to explain my need.  Here is the link to my video.\\nhttps://www.loom.com/share/9ed9ff529ba54676bebd388f252a7795\\n\\nThanks for your help.\\nCarola\"},\n  'expected_output': {'possible_categories': 'how_to'}},\n {'inp': {'categories_list': ['how_to', 'feedback', 'bugs'],\n   'input_text': 'Hello!\\n\\nI am trying to display a count of only the subitems that contain specific text on the parent item using a formula column. I have tried several formulas but nothing seems to work. Is this possible? If so, can you please provide an example formula that I can work off of? I have created an example below. With Parent Item A, there are 5 Subitems. I am looking to count the subitems that only contain “AB”. The count on the parent item would equal 2. Any help appreciated!\\n\\nExample\\n\\nParent Item A\\t\\t\\tOwner\\t\\t\\tSubitem AB Count\\n\\t\\t\\t\\t\\tMe\\t\\t\\t\\t2\\n\\n\\tSubitem A\\n\\tSubitem AB\\n\\tSubitem ABC\\n\\tSubitem X\\n\\tSubitem XY\\n\\n\\nSincerely,\\n\\nLindsey Roberts\\nHub Realty Solutions\\n829 Penniman Ave.\\nPlymouth, MI 48170\\nlindsey@hubrealtysolutions.com'},\n  'expected_output': {'possible_categories': 'how_to'}},\n {'inp': {'categories_list': ['how_to', 'feedback', 'bugs'],\n   'input_text': 'https://www.loom.com/share/01404e2620934596a25ab7d82d5634c0\\n\\nHey Monday team, I have some more questions w/ Formulas.'},\n  'expected_output': {'possible_categories': 'how_to'}},\n {'inp': {'categories_list': ['how_to', 'feedback', 'bugs'],\n   'input_text': 'This is a follow-up to your previous request #2422427 \"Hidden Columns Keep Appearing\"\\n\\nHi Oscar,\\n\\nWanted to let you know that the issue is no longer happening. Thank you so much!\\n\\nRhiannon Risidore\\nLevel Best Concrete Lifting Ltd.\\nRichmond, BC\\n\\nOffice: 604-757-3666 | Mobile (Call/Text): 604-445-6273\\nrhiannon@levelbestconcretelifting.com\\nwww.levelbestconcretelifting.com (http://www.levelbestconcretelifting.com/)'},\n  'expected_output': {'possible_categories': 'how_to'}},\n {'inp': {'categories_list': ['how_to', 'feedback', 'bugs'],\n   'input_text': 'This is a follow-up to your previous request #2417355 \"Error- formula with multipl...\"\\n\\nHi Leora,\\n\\n \\n\\nThanks for your response. I’ve been out of the office for the last month and am just getting back to this. The Connect Boards column on the PTO Request board is only connected to one board (Employee Directory). Screenshot is below.'},\n  'expected_output': {'possible_categories': 'how_to'}},\n {'inp': {'categories_list': ['how_to', 'feedback', 'bugs'],\n   'input_text': 'This is a follow-up to your previous request #2537987 \"Review Formula about overal...\"\\n\\nGood evening Noya,\\n\\nI hope you are doing well! First thank you for your video super useful but unfortunately it still does not work from my side..\\n\\nhttps://www.loom.com/share/02e89eed654841ad8d6211a7ccd3952f\\n\\nLooking forward for your answer!\\n\\nBest regards\\n\\nLaura Blanc\\n\\nJunior PMO\\n\\nAddress: Schiekade 10A, 3032AJ,\\n\\nRotterdam, The Netherlands\\n\\nT +31 85 06 56 938\\n\\nE lblanc@nexioprojects.com\\n\\nW www.nexioprojects.com\\n\\nFrom: Noya (monday.com) \\nDate: Wednesday, 1 March 2023 at 15:48\\nTo:\\nCc: Felix Keser | Nexio Projects , Cilia Keser | Nexio Projects , Laura Blanc | Nexio Projects , Natalia Giannakouri | Nexio Projects \\nSubject: Review Formula about overall duration of employment\\n\\nCaution: This is an external email. No one inside Nexio Projects sent this email. Please take care when clicking links or opening attachments. When in doubt, contact itsupport@nexioprojects.com.'},\n  'expected_output': {'possible_categories': 'how_to'}},\n {'inp': {'categories_list': ['how_to', 'feedback', 'bugs'],\n   'input_text': 'When I click on Customize Formula Column the UI scrolls back to the left edge of the board and the ability to edit the formula is no available.  \\n\\nI have to move the column so that it is on the left edge in order to edit the formula.'},\n  'expected_output': {'possible_categories': 'how_to'}},\n {'inp': {'categories_list': ['how_to', 'feedback', 'bugs'],\n   'input_text': 'Hi one of our boards (Time off request, is not calculating the days off properly.\\n\\nThanks,'},\n  'expected_output': {'possible_categories': 'how_to'}},\n {'inp': {'categories_list': ['how_to', 'feedback', 'bugs'],\n   'input_text': 'Phone: 18186536731 \\nCompany Size: 20-49\\nMessage: I am creating formula columns on the board, however I do not want them to be visible to my employees. Is it possible to lock them as in Excel?'},\n  'expected_output': {'possible_categories': 'feedback'}},\n {'inp': {'categories_list': ['how_to', 'feedback', 'bugs'],\n   'input_text': 'This is a follow-up to your previous request #2269795 \"Re: Support\"\\n\\nHey Prosper,\\n\\nI have another formula request please.\\n\\nThis time I need to get a formula to output the End of the Month.\\n\\nExample Excel:\\n\\nThis is the formal I have in Monday.com to get to the Start of the month\\n\\nFORMAT_DATE(EOMONTH({Estimated 1st Production},-2)+1)\\n\\nHowever when I place ‘0’ in the formula it fails.\\n\\nPlease help.\\n\\nKind Regards,\\nDan\\n\\nDANIEL TAVENER-SMITH\\n\\nPROJECT MANAGER\\n\\nM: +44 (0) 7502 015 184\\n\\nFever-Tree, 186-188 Shepherds Bush Road, London W6 7NL'},\n  'expected_output': {'possible_categories': 'feedback'}},\n {'inp': {'categories_list': ['how_to', 'feedback', 'bugs'],\n   'input_text': 'Buenas noches, he estado explorando la opción de poder ingresar una información en una columna tipo texto a partir de otra información de otras columnas y mediante formula o algún medio ingresar el valor de manera automática, que no sea copiando y pegando sino que la extraiga a partir de unas condiciones y la ponga en la columna tipo texto. No he podido no se si es por el plan que estoy usando que es pro. Dentro de lo que he investigado debería aparecerme en el engranaje de la configuración de la columna la opción fórmula, pero no ha sido posible. Quedo atento, gracias!'},\n  'expected_output': {'possible_categories': 'feedback'}},\n {'inp': {'categories_list': ['how_to', 'feedback', 'bugs'],\n   'input_text': 'Phone: 972542140988 \\nCompany Size: 1-19\\nMessage: I have a budget board built as presented in your article with groups for different types of expenses and the Board Summary for Total expenses. But I also have income in my business and I need to calculate Income minus Expenses. Since formulas work with columns and not with rows I cant use formula. What is your suggestion on how to do it? Thaks.'},\n  'expected_output': {'possible_categories': 'feedback'}},\n {'inp': {'categories_list': ['how_to', 'feedback', 'bugs'],\n   'input_text': 'Ciao,\\nfino a poco tempo fa se dovevo inserire dei numeri (utilizzando la colonna numeri) dovevo usare il . (punto) come separatore decimale. Ora invece mi accetta la virgola, il che andrebbe anche bene per la visualizzazione Europea. Purtroppo però poi la colonna formula non mi accetta i numeri con la virgola.\\n\\nDunque ora preferirei tornare alla divisione decimale con il punto.\\nCome posso fare?\\n\\nGrazie'},\n  'expected_output': {'possible_categories': 'feedback'}},\n {'inp': {'categories_list': ['how_to', 'feedback', 'bugs'],\n   'input_text': 'Hello,\\nI\\'m trying to use a formula column to combine a link column and Item ID column. My formula looks like this: \\nCONCATENATE=(\"{Revision Link}\"), (\"{Item ID}\")\\n\\nThis results in an error. Any idea how I can get this to work?'},\n  'expected_output': {'possible_categories': 'feedback'}},\n {'inp': {'categories_list': ['how_to', 'feedback', 'bugs'],\n   'input_text': 'Phone: 16175481333 \\nCompany Size: 20-49\\nMessage: I can calculate drive time with a formula in google sheets, so I’m curious if you might have the ability to do this as well? I would need distance between two locations  in separate rows.'},\n  'expected_output': {'possible_categories': 'feedback'}},\n {'inp': {'categories_list': ['how_to', 'feedback', 'bugs'],\n   'input_text': 'Hi, I have 2 date columns in one board. I would like to write a workflow that says \"When a DATE is input, update DATE 2 to 30 days from the DATE column.\"'},\n  'expected_output': {'possible_categories': 'feedback'}},\n {'inp': {'categories_list': ['how_to', 'feedback', 'bugs'],\n   'input_text': 'This is a follow-up to your previous request #2420228 \"Conversation with Madison K...\"\\n\\nThank you! This was very helpful. We’re giving this option a go.\\n\\nHave a good day!'},\n  'expected_output': {'possible_categories': 'feedback'}},\n {'inp': {'categories_list': ['how_to', 'feedback', 'bugs'],\n   'input_text': 'Hi there, \\n\\n\\nWe notice that in the formula column of subitems we cannot use formula/number column of the main item they belong to. Unless we’re mistaken, please bring it as a complaint to the developers on behalf of our clients team and ours. \\n\\nBest, \\nIlaria \\n\\nOmnidea S.r.l.\\nwww.omnidea.it\\n+39 049 8626415\\n\\nTrasformazione digitale, collaborazione, comunicazione in cloud'},\n  'expected_output': {'possible_categories': 'feedback'}},\n {'inp': {'categories_list': ['how_to', 'feedback', 'bugs'],\n   'input_text': 'Deberían de hacer mas fórmulas que sume los totales y que la interfaz pueda ser cómo excel, eigual no tiene fórmulas los formularios y se puede hacer mucho Zum amplificion o reducción en la imagen de la pantalla\\n\\nApp: monday.com - 4.100.1 (2012316775)\\nOS: Android\\nDevice: motorola moto g51 5G\\nUserId: 37558283\\nReported by: sixcontroltotal1@gmail.com\\nDate: 2023-01-17 13:32:41 (GMT-4)'},\n  'expected_output': {'possible_categories': 'feedback'}},\n {'inp': {'categories_list': ['how_to', 'feedback', 'bugs'],\n   'input_text': 'Is there a formula to put the sum from a group into another column?'},\n  'expected_output': {'possible_categories': 'feedback'}},\n {'inp': {'categories_list': ['how_to', 'feedback', 'bugs'],\n   'input_text': 'I would like to set upa formaula for averages - see this:\\nhttps://www.loom.com/share/3978766e4f4f40ef8af008c7a93a1435'},\n  'expected_output': {'possible_categories': 'feedback'}},\n {'inp': {'categories_list': ['how_to', 'feedback', 'bugs'],\n   'input_text': 'This is a follow-up to your previous request #2288835 \"Monday is calculating the w...\"\\n\\nHi!\\n\\nJust checking in IF Monday have added the option to do formulas from the SUMMARY of a column yet?\\n\\nThis is still something im trying to do on a platform to make a proper sales dashboard. I´ve transitioned to ClickUp but it´s the same issue there.\\n\\nPlease make this feature as soon as possible and you guys will havve a huge advantage.'},\n  'expected_output': {'possible_categories': 'feedback'}},\n {'inp': {'categories_list': ['how_to', 'feedback', 'bugs'],\n   'input_text': 'Good day,\\n\\nI am currently using the Demo version to play around and get familiar with Monday.com\\n\\nOne of the main functions that we need to have is to pre-populate days according to a start date, days allocated for each task and to skip public holidays. \\n\\nThis requires an area where we can define the public holidays for each country as well as the amount of days for a task. We will then need to use this in our formula. Is there a place where we can define information in order to pick in a formula that will pull thru to a task?\\n\\nRegards, \\nMarelia'},\n  'expected_output': {'possible_categories': 'feedback'}},\n {'inp': {'categories_list': ['how_to', 'feedback', 'bugs'],\n   'input_text': 'Hi Monday Team!\\n\\n \\n\\nThe very popular assistant ChatGPT has told me you have a QUARTER function for Monday.com board formulas. (Please see attached screenshot.)\\n\\nIs this true?  Why would it say this?\\n\\n \\n\\n \\n\\nBrock Price\\n\\nSoftware Analyst\\nPCI Energy Solutions\\na.k.a. Power Costs, Inc.\\n\\n \\n\\nEmail bprice@pcienergysolutions.com\\n\\n\\nPCIENERGYSOLUTIONS.COM\\n\\n \\n\\nThe preceding e-mail message (including any files attached to it) contains information that may be privileged, proprietary, private or confidential. If you are not an intended recipient of this message, please notify me by replying to this message and then delete it from your system. Use, distribution or reproduction of this e-mail message (including attachments) by unintended recipients is prohibited.'},\n  'expected_output': {'possible_categories': 'feedback'}},\n {'inp': {'categories_list': ['how_to', 'feedback', 'bugs'],\n   'input_text': 'This is a follow-up to your previous request #2498660 \"AW: Request #(2422226) | Co...\"\\n\\nHi Noya\\n\\nThank you very much for your suggested solution.\\n\\nI have watched the video and as I understood, this solution will not work if we would select more than 2 articles per column. If this is the case, then the solution won\\'t work for us, because most of the time we need to select more than two articles.\\n\\nIn that case we will probably have to use an external program for article management.\\n\\nCan you please tell me, how can I duplicate the column \"Produktion/Dreh\" in the same board, so that also the duplicated column is updated as soon as it is changed. So said they should be twice in one board and show the same thing. I tried it with the mirror formula but somehow it didn\\'t work.\\n\\nBest,\\n\\nMarko'},\n  'expected_output': {'possible_categories': 'feedback'}},\n {'inp': {'categories_list': ['how_to', 'feedback', 'bugs'],\n   'input_text': \"Hello,  i want to add a number on a date with a formula , but the form of formula continues to be a date form, so i can see it in calendar view. Is there any solution, because i tried form-date function but i didn't get the desired resalt. Thank you in advance\"},\n  'expected_output': {'possible_categories': 'feedback'}},\n {'inp': {'categories_list': ['how_to', 'feedback', 'bugs'],\n   'input_text': 'Hi,\\n\\n \\n\\nI am trying to output the item id to a text column contained within curly brackets.. i.e.  becomes {3106017159}.\\n\\n \\n\\n \\n\\nMy formula is:\\n\\n \\n\\nCONCATENATE(\"{\",{Item ID},\"}\")\\n\\n \\n\\nWhich I cannot figure out why it is not working. It works if I replace the squiggly brackets with round or square brackets.\\n\\n \\n\\nShaun'},\n  'expected_output': {'possible_categories': 'feedback'}},\n {'inp': {'categories_list': ['how_to', 'feedback', 'bugs'],\n   'input_text': 'This is a follow-up to your previous request #2500907 \"Hi, I already have numbers ...\"\\n\\nHi,\\n\\nThanks for reaching out.\\n\\nBut the issue is not resolved as you can see in email, Jackeline told she has forwarded this issue to the team.\\n\\nRegards,\\n\\nPrem\\n\\nCAUTION: This email originated from outside of the organisation. Do not click links or open attachments unless you recognise the sender and know the content is safe.'},\n  'expected_output': {'possible_categories': 'feedback'}},\n {'inp': {'categories_list': ['how_to', 'feedback', 'bugs'],\n   'input_text': 'Hello Support Team,\\n\\nI am trying to set up shared holiday calendars where Employees & Line Managers can request & approve holidays and see what holiday entitlement they have remaining.\\n\\nPlease see example below:\\n\\n\\n\\nObviously the first number column showing the number of days adds up the number of days as they are inputted. However for the second number column I want the no of leave days to automatically deduct from the overall leave total. I have been manually inputting the data so they number if days is deducted in the Entitlement remaining column. Is there a formula or a way to automate this with the 2 number columns as it will just mean that you can see at a glance the number of days remaining without having to manually calculate. \\n\\nHope that makes sense but if not let me know.\\n\\nRegards,\\nLaura Templeman\\n\\nlaura@key.digital \\n01305 542000\\nScreenshot 2023-03-17 at 12.56.56.png'},\n  'expected_output': {'possible_categories': 'feedback'}},\n {'inp': {'categories_list': ['how_to', 'feedback', 'bugs'],\n   'input_text': 'This is a follow-up to your previous request #2423419 \"timer\"\\n\\nHello, \\n\\nthank you for your response. it has been very helpful\\n\\nI am having trouble with the formula doing what it should do - even though i have copied your same formula\\nSee below the same formula as you, however the time tracking that is over 60 minutes is not OVERDUE when it should be.\\n\\n\\n\\nAlso when i try to add conditional coloring i only get the option on time or blank - not OVER DUE\\n\\n\\nAppreciate your help.\\n\\nSamia'},\n  'expected_output': {'possible_categories': 'feedback'}},\n {'inp': {'categories_list': ['how_to', 'feedback', 'bugs'],\n   'input_text': 'Hello,\\n\\n \\n\\nIs there a way we can split the resources on a project with different capacity and not equally.\\n\\n \\n\\nPlease check the recording attached for more information.\\n\\n \\n\\nThanks,\\n\\n \\n\\n \\n\\nMamta Madhusudan\\nSenior Business Analyst, IT PMO\\n\\n \\n\\n \\n\\nMobile:770.361.3772\\nMamta.madhusudan-cw@otsuka-us.com\\nwww.otsuka-us.com (https://www.otsuka-us.com/)'},\n  'expected_output': {'possible_categories': 'feedback'}},\n {'inp': {'categories_list': ['how_to', 'feedback', 'bugs'],\n   'input_text': 'Hi Support,\\n\\nI would like to check if there is any workaround regarding the below requirements.\\n\\nWe have a board to monitor the request for extension.\\nI would like to know if there is formula to monitor, for example if the owner changes the Request due date we would like to count it and how many times.\\n\\n\\n[cid:bfe6401b-65ae-4155-9422-387d4f12b551]\\nRegards,'},\n  'expected_output': {'possible_categories': 'feedback'}},\n {'inp': {'categories_list': ['how_to', 'feedback', 'bugs'],\n   'input_text': 'This is a follow-up to your previous request #2444716 \"Re: Request #(2435555) | Re...\"\\n\\nHi Prosper,\\n\\nI\\'m in need of your help again. Are you able to meet sometime tomorrow?\\n\\nBest,\\nRyan\\n________________________________\\nFrom: Prosper Chimombe (Support) \\nSent: Tuesday, January 10, 2023 11:01 AM\\nTo: Ryan Casberg \\nSubject: Re: Re: Request #(2435555) | Re: Request #(2426490) | Fw: Quick question for Metrics dashboard'},\n  'expected_output': {'possible_categories': 'feedback'}},\n {'inp': {'categories_list': ['how_to', 'feedback', 'bugs'],\n   'input_text': 'Phone: 12568744627 \\nCompany Size: 1-19\\nMessage: How to calculate running totals in groups. like we do in excel\\nadd the previous value row column to the current row column value.\\n example found https://www.youtube.com/watch?v=wtYdGzJDjjY'},\n  'expected_output': {'possible_categories': 'feedback'}},\n {'inp': {'categories_list': ['how_to', 'feedback', 'bugs'],\n   'input_text': 'How can I have a subitme with a formula column that would report an amount from a column in an Item.'},\n  'expected_output': {'possible_categories': 'feedback'}},\n {'inp': {'categories_list': ['how_to', 'feedback', 'bugs'],\n   'input_text': 'Hi there,\\n\\n \\n\\nPlease could you let me know how to build a formula to calculate one column as a % of the other column?\\n\\n \\n\\nAlso, I tried downloading the ‘Microsoft Forms Embedder’ from Monday.com appmarketplace but it says it will be able to read all of my boards data. Will these apps maintain data privacy?\\n\\n \\n\\n \\n\\n \\n\\nThanks,\\n\\nDania\\n\\n \\n\\nThis e-mail message is intended to be received only by persons entitled to receive the confidential information it may contain. E-mail messages to clients of Advantage Group International, may contain information that is confidential and legally privileged. Please do not read, copy, forward, or store this message unless you are an intended recipient of it. If you have received this message in error, please forward it to the sender and delete it completely from your computer system.'},\n  'expected_output': {'possible_categories': 'feedback'}},\n {'inp': {'categories_list': ['how_to', 'feedback', 'bugs'],\n   'input_text': 'Phone: 84355093116 \\nCompany Size: 100-250\\nMessage: I\\'m building a report on Monday.com. I need to sum by condition like  \"SUMIFS\" function on Excel. Do you have a function like \"SUMIFS\" on Monday? Let me know the answer via my email: chungbtm@vng.com.vn. Thankyou very much!'},\n  'expected_output': {'possible_categories': 'feedback'}},\n {'inp': {'categories_list': ['how_to', 'feedback', 'bugs'],\n   'input_text': \"I have a formula column that calculates a deadline date but when I want to summarise info the column isn't recognised as a date column so my summaries don't work - is there a way around this?\"},\n  'expected_output': {'possible_categories': 'feedback'}},\n {'inp': {'categories_list': ['how_to', 'feedback', 'bugs'],\n   'input_text': 'I have created a formula column that I would like to include in an automated email. However, in the automation settings for the email, the formula column is not included in the \"Auto populate items from this board\". Am I doing something wrong?'},\n  'expected_output': {'possible_categories': 'feedback'}},\n {'inp': {'categories_list': ['how_to', 'feedback', 'bugs'],\n   'input_text': 'Hi, I\\'m trying to set up this excel formula (=D6-(D6*F6) in Monday with the use of a formula. \"D6\" and \"F6\" are both numbers colums. D6 is a regular numbercolum, and F6 is a %-colum. \\n\\nCan you please help me with the correct setup for the formula to work here? Thanks'},\n  'expected_output': {'possible_categories': 'feedback'}},\n {'inp': {'categories_list': ['how_to', 'feedback', 'bugs'],\n   'input_text': 'Board summarisation function error.\\nas attachment shown, total average percentage should be [Billed Number Sum] 836 divided by [Billable Lot Sum] 862. otherwise it can be easily impacted by single value but with small portion.'},\n  'expected_output': {'possible_categories': 'feedback'}},\n {'inp': {'categories_list': ['how_to', 'feedback', 'bugs'],\n   'input_text': 'This is a follow-up to your previous request #2449013 \"sali\"\\n\\nHi Tal, how are you? I need your help with the formula\\n\\nI saw that you have the option of coloring rows or the cube itself, but I need a row to be automatically colored as soon as I write an actual creation time, let\\'s say 11:30 p.m. and it is later than the planned creation time, I want it to be done in a certain color and this does not happen to me, there is a way to build Is it in the formula?\\n\\nסאלי חליף | מנהל צוות תפעול מחלקת לוגיסטיקה\\n\\nקוקה קולה בני ברק 03-6712274, 054-9002860'},\n  'expected_output': {'possible_categories': 'feedback'}},\n {'inp': {'categories_list': ['how_to', 'feedback', 'bugs'],\n   'input_text': 'Quisiera saber si hay alguna manera que en el final de una columna de tipo fórmula, donde puedo seleccionar una función de Promedio, Total, etc. se pudiera configurar una fórmula también.'},\n  'expected_output': {'possible_categories': 'feedback'}},\n {'inp': {'categories_list': ['how_to', 'feedback', 'bugs'],\n   'input_text': 'This is a follow-up to your previous request #2481472 \"Problem sharing formular co...\"\\n\\nHi, has there been any progress on this?\\n\\nBest\\n\\nAndre\\n\\nMSXI Scanned E-mail – CAUTION: This e-mail originated outside our organization. Do not click links or open attachments unless you recognize the sender and have verified the content is safe.'},\n  'expected_output': {'possible_categories': 'bugs'}},\n {'inp': {'categories_list': ['how_to', 'feedback', 'bugs'],\n   'input_text': \"Forecast value formula isn't working with multiple subitems and their Average of 'percentage chance of win'.\"},\n  'expected_output': {'possible_categories': 'bugs'}},\n {'inp': {'categories_list': ['how_to', 'feedback', 'bugs'],\n   'input_text': 'I am not able to use the formula columns with multiple mirrored columns. Please try to update the formula column so it can support mirrored columns.'},\n  'expected_output': {'possible_categories': 'bugs'}},\n {'inp': {'categories_list': ['how_to', 'feedback', 'bugs'],\n   'input_text': 'Hello,\\n\\nWe need a Formula to convert data in BeginHour to automatically create Begin Hour 15:42 the same applies for EndHour to be End Hour 20:14\\n\\nPlease can we have help with either a formula or automation that would automatically correct the time format.\\n\\nWe also would then need to hide the original BeginHour EndHour columns.\\n\\nThank you in advance.\\n\\nKind regards \\n\\nJonathan Kingscott'},\n  'expected_output': {'possible_categories': 'bugs'}},\n {'inp': {'categories_list': ['how_to', 'feedback', 'bugs'],\n   'input_text': \"Hi support,\\n\\nI'm currently playing around with formulas and I noticed that it doesn't seem possible to end a text string with a backslash and use the column in a formula that uses more than only the column itself. I'm not sure why that is and wanted to check with you if there's a particular reason the formula column behaves like this.\\n\\nSee the attached video for examples of the issue I'm explaining.\\n\\nIs this a bug?\\n\\nThank you for your help!\"},\n  'expected_output': {'possible_categories': 'bugs'}},\n {'inp': {'categories_list': ['how_to', 'feedback', 'bugs'],\n   'input_text': \"Hey, some formula columns don't show anything on iOS mobile app.\\nThey do show the data on the web, and it's the same user on both the web and on mobile.\\nWhat's the reason for it?\\nI tried creating a new board to test but the same issue persists.\\nSee attached screenshots from mobile & web browser.\"},\n  'expected_output': {'possible_categories': 'bugs'}},\n {'inp': {'categories_list': ['how_to', 'feedback', 'bugs'],\n   'input_text': 'Set formula button not shown. It looks like its being obstructed by how big the formula box is. Unable to scroll down or the formula box will vanish. Tried moving task bar but does not work. Using google chrome and changed to edge but button is still obstructed.'},\n  'expected_output': {'possible_categories': 'bugs'}},\n {'inp': {'categories_list': ['how_to', 'feedback', 'bugs'],\n   'input_text': 'The formula function ISOWEEKNUM is incorrect.\\n\\nISO weeks are always Monday to Sunday. ISO week 1 is the week with the first thursday.\\n\\nAs such,  January 2, 2023 is the start of ISO week 1. However the formula column calculates it as ISO week 52, and only switches to ISO week 1 on Tuesday January 3, 2023.'},\n  'expected_output': {'possible_categories': 'bugs'}},\n {'inp': {'categories_list': ['how_to', 'feedback', 'bugs'],\n   'input_text': 'I set up the Formula column to display the data. On the same system from my login (tooltreck), the data in this column is reflected correctly, the client is not displayed. Screenshots in attachment'},\n  'expected_output': {'possible_categories': 'bugs'}},\n {'inp': {'categories_list': ['how_to', 'feedback', 'bugs'],\n   'input_text': 'Phone: 447833684108 \\nCompany Size: 20-49\\nMessage: Hi, We use a formula to calculate our monthly management accounts for the last month, run across multiple boards so we have it in many places. Being Jan, it now doesn\\'t seem to work...\\nIF(AND({Predicted Category}=\"Internal Resources\",(MONTH({Date})-MONTH(TODAY()))=-1),{Budget Cost},0)\\n\\nWe\\'ve troubled shot this on the community and help pages and it seems it must be a bug.\\n\\nPlease advise ASAP today, we need to pull our financials so this is high importance for us.'},\n  'expected_output': {'possible_categories': 'bugs'}},\n {'inp': {'categories_list': ['how_to', 'feedback', 'bugs'],\n   'input_text': 'hi Support. Our automations does not seem to work at all, which they did last week. Is there a system problem or..?\\n\\nBest Regards MetierWestergaard / Louise'},\n  'expected_output': {'possible_categories': 'bugs'}},\n {'inp': {'categories_list': ['how_to', 'feedback', 'bugs'],\n   'input_text': \"Bug Report:\\nMonday ver.: Web version\\nBrowser: Google Chrome ver. 110.0.5481.100\\nBug description:\\nThe first time I enter any board in any of our company's boards I can modify any formula type column, however trying to modify any formula after that results in the website 'resetting' ,meaning that the browser window will auto-scroll to the top-left corner, and not showing the formula edit window\\nDoes the bug happen to the other team members?\\nThis bug occurs to every team member in our company\"},\n  'expected_output': {'possible_categories': 'bugs'}},\n {'inp': {'categories_list': ['how_to', 'feedback', 'bugs'],\n   'input_text': 'Hi There\\n\\nI have a formula column on my work calendar that sums the total of two other formula columns that calculate hours_diff.\\n\\nThis works fine on my desktop computer but when i login on my Iphone or Ipad app the columns are blank and do nothing.\\n\\nI have attached screenshots.\\n\\nPlease advise.'},\n  'expected_output': {'possible_categories': 'bugs'}},\n {'inp': {'categories_list': ['how_to', 'feedback', 'bugs'],\n   'input_text': 'This is a follow-up to your previous request #2467279 \"Monday Pei AM: Fallas de vi...\"\\n\\nHola Aldo,\\n\\nEstuve probando la solución del correo anterior pero no me funcionó. Adjunto una captura de pantalla del caso.\\n\\nQuedo atento a otra solución, feliz día,\\n\\nJulian Eduardo Plata Osorio\\n\\nProfesional en Entrenamiento de Estrategia\\n\\njplata@pei.com.co'},\n  'expected_output': {'possible_categories': 'bugs'}},\n {'inp': {'categories_list': ['how_to', 'feedback', 'bugs'],\n   'input_text': 'when I enter a first and last name to be parse in the app, both the first and last name fields display the first name.\\n                \\n                App: monday - v4.102.0\\nOS: Android\\nDevice: google:Pixel 6:API-33\\nUser ID: 35412799\\nLogin Permission: yes\\nReported by: steven@csgaragefloors.com\\nReported From: more'},\n  'expected_output': {'possible_categories': 'bugs'}},\n {'inp': {'categories_list': ['how_to', 'feedback', 'bugs'],\n   'input_text': 'This is a follow-up to your previous request #2503665 \"I set up the Formula column to\"\\n\\nHi Jose!\\n\\nThanks for your input, but the problem is still here, and my client uses Russian. I would like to see a release with the solution soon. =)\\n\\nчт, 23 февр. 2023 г. в 16:03, monday.com :'},\n  'expected_output': {'possible_categories': 'bugs'}},\n {'inp': {'categories_list': ['how_to', 'feedback', 'bugs'],\n   'input_text': 'צוות תמיכה שלום,\\n\\n \\n\\nהגדרנו נוסחאות במסך פורטפוליו (כמו ימי איחור למשל):\\n\\n \\n\\n \\n\\nישנם משתמשים מסוימים להם הנוסחה מראה שגיאה, ואצל אחרים זה עובד, למה זה קורה?\\n\\n \\n\\n\\n\\n \\n\\nנשלח מה-iPhone שלי\\n\\n\\n \\n\\n--\\n\\nTomer Sade\\n\\nCustomer Success Manager | monday.com (https://urldefense.proofpoint.com/v2/url?u=http-3A__monday.com_&d=DwMFaQ&c=euGZstcaTDllvimEN8b7jXrwqOf-v5A_CdpgnVfiiMM&r=Ivrw7ZJRwQ9G-r50ydnHs9KrNR7Oj6w5FiwbbLeAw-4&m=M8l69T5dXn1KXlGtYwX08TlyqAUtftbcHdv9NWJPJWs&s=vUePWx80FmwZACRmJZai3PsN6Gri30OUH7Ngl8j6xbs&e=)  | Linkedin (https://urldefense.proofpoint.com/v2/url?u=https-3A__www.linkedin.com_in_tomersade1_&d=DwMFaQ&c=euGZstcaTDllvimEN8b7jXrwqOf-v5A_CdpgnVfiiMM&r=Ivrw7ZJRwQ9G-r50ydnHs9KrNR7Oj6w5FiwbbLeAw-4&m=M8l69T5dXn1KXlGtYwX08TlyqAUtftbcHdv9NWJPJWs&s=QoV81kCdRjC5YKPxd0I9UN8HXiCFuxV85eB7_3kTucg&e=)'},\n  'expected_output': {'possible_categories': 'bugs'}},\n {'inp': {'categories_list': ['how_to', 'feedback', 'bugs'],\n   'input_text': 'Hello, I have a formula field in our Aspire Projects board that is simply a \"repeater\" field. The Budget field is just equal to the Est. Hours field. In the web interface, the formula works correctly, but in the mobile app, the field is showing workdays instead of hours, as it should. Screenshots are attached.'},\n  'expected_output': {'possible_categories': 'bugs'}},\n {'inp': {'categories_list': ['how_to', 'feedback', 'bugs'],\n   'input_text': 'Board created but the formulas are showing a weird icon. Please see attached'},\n  'expected_output': {'possible_categories': 'bugs'}},\n {'inp': {'categories_list': ['how_to', 'feedback', 'bugs'],\n   'input_text': 'I am also facing an issue with subitem formulas. I am getting an error message that says “Formula with multiple mirrored values is not currently supported”, but there is only one mirrored value and it works in another column.\\n\\nThis issue is happening on all items connected to one board.\\nThe board URL: https://unumgroup.monday.com/boards/3393130451 (https://unumgroup.monday.com/boards/3393130451)'},\n  'expected_output': {'possible_categories': 'bugs'}},\n {'inp': {'categories_list': ['how_to', 'feedback', 'bugs'],\n   'input_text': 'As formulas não funcionam na app movel, no computador funciona bem, mas ao abrir o quadro na app movel há bug. ver print A formula na coluna acerto está bem(Edivar-Helena), mas depois na coluna total de gasto repete-se o mesmo, quando a formula é (Edivar+Helena). No computador as formulas funcionam bem mas na app movel mostra isto\\n                \\n                App: monday - v4.102.0\\nOS: Android\\nDevice: samsung:SM-A225F:API-33\\nUser ID: 25215051\\nLogin Permission: yes\\nReported by: edivarmascarenhas@gmail.com\\nReported From: more'},\n  'expected_output': {'possible_categories': 'bugs'}},\n {'inp': {'categories_list': ['how_to', 'feedback', 'bugs'],\n   'input_text': 'Phone: 19097429249 \\nCompany Size: 50-99\\nMessage: Hi,\\n\\nI\\'m seeing discrepancies in what I see in the calculated columns on monday.com and what I see on my app. The \"total commitments\" column in the App shows $515,000 whereas the total online shows $355,000\\n\\nHere\\'s the link to the board: https://rise48equity.monday.com/boards/3847013677\\n\\nCan you help me understand why the app is not updated? This is causing real issues for us.'},\n  'expected_output': {'possible_categories': 'bugs'}},\n {'inp': {'categories_list': ['how_to', 'feedback', 'bugs'],\n   'input_text': 'When I try to create or change a formula, it won\\'t let me. It takes me back to the beginning of the board. So it\\'s not working at all. On occasion it will work, but mostly it\\'s not. I don\\'t know how to upload the file but it\\'s the \"Sales Tracking List\" board. Please help ASAP! Thanks.'},\n  'expected_output': {'possible_categories': 'bugs'}},\n {'inp': {'categories_list': ['how_to', 'feedback', 'bugs'],\n   'input_text': 'On this Monday board: https://captego.monday.com/boards/3683718253/views/85715275I have a formula column with this formula in it: IF(AND({Status}=\"7 - Won\",{Lifespan (Days)}>0,{ARR (€)}>0),ROUND(({ARR (€)}/365)*{Lifespan (Days)},0),0)For some reason, some of the items are giving me an answer, and some items are giving an error symbol which says some parameters are invalid. The answer should be zero for all those with this error message. It\\'s broken. Please fix it?'},\n  'expected_output': {'possible_categories': 'bugs'}},\n {'inp': {'categories_list': ['how_to', 'feedback', 'bugs'],\n   'input_text': 'When I view my board everything is working properly but when someone else opens one column is not working. It says the subitem does not exist.'},\n  'expected_output': {'possible_categories': 'bugs'}},\n {'inp': {'categories_list': ['how_to', 'feedback', 'bugs'],\n   'input_text': \"Hi support,\\n\\nI'm currently playing around with formulas and I noticed that it doesn't seem possible to end a text string with a backslash and use the column in a formula that uses more than only the column itself. I'm not sure why that is and wanted to check with you if there's a particular reason the formula column behaves like this.\\n\\nSee the attached video for examples of the issue I'm explaining.\\n\\nIs this a bug?\\n\\nThank you for your help!\"},\n  'expected_output': {'possible_categories': 'bugs'}},\n {'inp': {'categories_list': ['how_to', 'feedback', 'bugs'],\n   'input_text': 'Hi, \\nI have a formula column that works great on desktop, but for some reason it shows different results on mobile.\\nwhy is that?'},\n  'expected_output': {'possible_categories': 'bugs'}},\n {'inp': {'categories_list': ['how_to', 'feedback', 'bugs'],\n   'input_text': 'A strange error return for a formulae that is working for all items, except one. \\nA screen shot is attached, and a permission to enter the account is granted.'},\n  'expected_output': {'possible_categories': 'bugs'}},\n {'inp': {'categories_list': ['how_to', 'feedback', 'bugs'],\n   'input_text': 'I never got back from your team since yesterday. Here is a video explaining the problem:\\n\\nhttps://www.loom.com/share/141f6bf70b494a02a6d7602357442729'},\n  'expected_output': {'possible_categories': 'bugs'}},\n {'inp': {'categories_list': ['how_to', 'feedback', 'bugs'],\n   'input_text': 'Hi Support,\\n\\nPlease be informed that we are experiencing some weird behavior on the monday.com formula.\\nIf you might notice on the below screenshot that the last items do not have %.\\nI tried to open the board in new incognito but we are experiencing the same.\\nKindly check and let us know.\\n\\n\\n\\n[cid:246b5b7d-41ae-4321-be24-dbfb296d537a]\\nRegards,'},\n  'expected_output': {'possible_categories': 'bugs'}}]"
     },
     "execution_count": 34,
     "metadata": {},
     "output_type": "execute_result"
    }
   ],
   "source": [
    "final_testset = []\n",
    "\n",
    "for idx in range(final_data.shape[0]):\n",
    "    \n",
    "    row = final_data.iloc[idx]\n",
    "    \n",
    "    text = row['BODY']\n",
    "    expected_output = row['TICKET_TYPE']\n",
    "\n",
    "    new_element = {\"inp\": {\"categories_list\": categories, \"input_text\": text},\n",
    "                   \"expected_output\": {\"possible_categories\": expected_output}}\n",
    "    \n",
    "    final_testset.append(new_element)\n",
    "\n",
    "final_testset"
   ],
   "metadata": {
    "collapsed": false,
    "ExecuteTime": {
     "end_time": "2023-11-26T10:16:49.727019Z",
     "start_time": "2023-11-26T10:16:49.719935Z"
    }
   },
   "id": "f9c267680e7ae7ec"
  },
  {
   "cell_type": "code",
   "execution_count": 35,
   "outputs": [],
   "source": [
    "import json\n",
    "with open(f'../data/automation_classifier/text_files/formula_research_1.json', 'w', encoding='utf-8') as f:\n",
    "    json.dump(final_testset, f, ensure_ascii=False, indent=4)"
   ],
   "metadata": {
    "collapsed": false,
    "ExecuteTime": {
     "end_time": "2023-11-26T10:16:51.829315Z",
     "start_time": "2023-11-26T10:16:51.825739Z"
    }
   },
   "id": "3735fcd4cf2706a2"
  },
  {
   "cell_type": "markdown",
   "source": [
    "# Parquet\n"
   ],
   "metadata": {
    "collapsed": false
   },
   "id": "8e6334eed92ee665"
  },
  {
   "cell_type": "code",
   "execution_count": 36,
   "outputs": [],
   "source": [
    "import pandas as pd\n",
    "import json"
   ],
   "metadata": {
    "collapsed": false,
    "ExecuteTime": {
     "end_time": "2023-11-26T12:12:23.569689Z",
     "start_time": "2023-11-26T12:12:23.562898Z"
    }
   },
   "id": "e7d8551217f25c75"
  },
  {
   "cell_type": "code",
   "execution_count": 38,
   "outputs": [],
   "source": [
    "raw_data = pd.read_parquet('../data/automation_classifier/text_files/raw_files/tweet_sentiment_extraction.parquet')"
   ],
   "metadata": {
    "collapsed": false,
    "ExecuteTime": {
     "end_time": "2023-11-26T12:12:46.590851Z",
     "start_time": "2023-11-26T12:12:46.391610Z"
    }
   },
   "id": "3e36168411f87c4b"
  },
  {
   "cell_type": "code",
   "execution_count": 40,
   "outputs": [
    {
     "data": {
      "text/plain": "label_text\nneutral     1430\npositive    1103\nnegative    1001\nName: count, dtype: int64"
     },
     "execution_count": 40,
     "metadata": {},
     "output_type": "execute_result"
    }
   ],
   "source": [
    "raw_data.label_text.value_counts()"
   ],
   "metadata": {
    "collapsed": false,
    "ExecuteTime": {
     "end_time": "2023-11-26T12:13:25.621506Z",
     "start_time": "2023-11-26T12:13:25.605756Z"
    }
   },
   "id": "309681e5ba4d1b0c"
  },
  {
   "cell_type": "code",
   "execution_count": 52,
   "outputs": [
    {
     "data": {
      "text/plain": "                                                   text label_text\n2093  And this picture of her with Zack from Saved B...    neutral\n562   Just got in a fight and kicked out of the bar....    neutral\n2102  Hows that possible? No rain forecast for Pinkp...    neutral\n1100                               just had a gym sesh.    neutral\n1862  i am the only arabic girl who`s online  every ...    neutral\n...                                                 ...        ...\n375                                           So tired.   negative\n1117        it makes me sad when people phones are sick   negative\n1723                   Spilled chocolate milk in my car   negative\n1506      Hates having broken wrist and has PE next ugh   negative\n2642                        I`m all scared and bruised.   negative\n\n[100 rows x 2 columns]",
      "text/html": "<div>\n<style scoped>\n    .dataframe tbody tr th:only-of-type {\n        vertical-align: middle;\n    }\n\n    .dataframe tbody tr th {\n        vertical-align: top;\n    }\n\n    .dataframe thead th {\n        text-align: right;\n    }\n</style>\n<table border=\"1\" class=\"dataframe\">\n  <thead>\n    <tr style=\"text-align: right;\">\n      <th></th>\n      <th>text</th>\n      <th>label_text</th>\n    </tr>\n  </thead>\n  <tbody>\n    <tr>\n      <th>2093</th>\n      <td>And this picture of her with Zack from Saved B...</td>\n      <td>neutral</td>\n    </tr>\n    <tr>\n      <th>562</th>\n      <td>Just got in a fight and kicked out of the bar....</td>\n      <td>neutral</td>\n    </tr>\n    <tr>\n      <th>2102</th>\n      <td>Hows that possible? No rain forecast for Pinkp...</td>\n      <td>neutral</td>\n    </tr>\n    <tr>\n      <th>1100</th>\n      <td>just had a gym sesh.</td>\n      <td>neutral</td>\n    </tr>\n    <tr>\n      <th>1862</th>\n      <td>i am the only arabic girl who`s online  every ...</td>\n      <td>neutral</td>\n    </tr>\n    <tr>\n      <th>...</th>\n      <td>...</td>\n      <td>...</td>\n    </tr>\n    <tr>\n      <th>375</th>\n      <td>So tired.</td>\n      <td>negative</td>\n    </tr>\n    <tr>\n      <th>1117</th>\n      <td>it makes me sad when people phones are sick</td>\n      <td>negative</td>\n    </tr>\n    <tr>\n      <th>1723</th>\n      <td>Spilled chocolate milk in my car</td>\n      <td>negative</td>\n    </tr>\n    <tr>\n      <th>1506</th>\n      <td>Hates having broken wrist and has PE next ugh</td>\n      <td>negative</td>\n    </tr>\n    <tr>\n      <th>2642</th>\n      <td>I`m all scared and bruised.</td>\n      <td>negative</td>\n    </tr>\n  </tbody>\n</table>\n<p>100 rows × 2 columns</p>\n</div>"
     },
     "execution_count": 52,
     "metadata": {},
     "output_type": "execute_result"
    }
   ],
   "source": [
    "neutral_num = 35\n",
    "positive_num = 35\n",
    "negative_num = 30\n",
    "seed = 12\n",
    "\n",
    "neutral_data = raw_data[raw_data.label_text == 'neutral'].sample(neutral_num, random_state=seed)\n",
    "positive_data = raw_data[raw_data.label_text == 'positive'].sample(positive_num, random_state=seed)\n",
    "negative_data = raw_data[raw_data.label_text == 'negative'].sample(negative_num, random_state=seed)\n",
    "\n",
    "final_data = pd.concat([neutral_data, positive_data, negative_data])\n",
    "final_data = final_data[['text','label_text']]\n",
    "final_data"
   ],
   "metadata": {
    "collapsed": false,
    "ExecuteTime": {
     "end_time": "2023-11-26T12:37:58.974441Z",
     "start_time": "2023-11-26T12:37:58.970200Z"
    }
   },
   "id": "93e205576ac94a20"
  },
  {
   "cell_type": "code",
   "execution_count": 53,
   "outputs": [
    {
     "data": {
      "text/plain": "['neutral', 'positive', 'negative']"
     },
     "execution_count": 53,
     "metadata": {},
     "output_type": "execute_result"
    }
   ],
   "source": [
    "categories = list(final_data.label_text.unique())\n",
    "categories"
   ],
   "metadata": {
    "collapsed": false,
    "ExecuteTime": {
     "end_time": "2023-11-26T12:38:04.712593Z",
     "start_time": "2023-11-26T12:38:04.707069Z"
    }
   },
   "id": "354b451b3b8cb9d4"
  },
  {
   "cell_type": "code",
   "execution_count": 54,
   "outputs": [
    {
     "data": {
      "text/plain": "[{'inp': {'categories_list': ['neutral', 'positive', 'negative'],\n   'input_text': 'And this picture of her with Zack from Saved By The Bell  http://twitpic.com/669lg'},\n  'expected_output': {'possible_categories': 'neutral'}},\n {'inp': {'categories_list': ['neutral', 'positive', 'negative'],\n   'input_text': 'Just got in a fight and kicked out of the bar. At least I knocked him out. Have a fat lip though.  Pulled another number'},\n  'expected_output': {'possible_categories': 'neutral'}},\n {'inp': {'categories_list': ['neutral', 'positive', 'negative'],\n   'input_text': 'Hows that possible? No rain forecast for Pinkpop? And I have no ticket'},\n  'expected_output': {'possible_categories': 'neutral'}},\n {'inp': {'categories_list': ['neutral', 'positive', 'negative'],\n   'input_text': 'just had a gym sesh.'},\n  'expected_output': {'possible_categories': 'neutral'}},\n {'inp': {'categories_list': ['neutral', 'positive', 'negative'],\n   'input_text': 'i am the only arabic girl who`s online  every one is  a sleep ..'},\n  'expected_output': {'possible_categories': 'neutral'}},\n {'inp': {'categories_list': ['neutral', 'positive', 'negative'],\n   'input_text': '  i hate when that happens. i hope you figure it out soon!'},\n  'expected_output': {'possible_categories': 'neutral'}},\n {'inp': {'categories_list': ['neutral', 'positive', 'negative'],\n   'input_text': 'Yes, I am'},\n  'expected_output': {'possible_categories': 'neutral'}},\n {'inp': {'categories_list': ['neutral', 'positive', 'negative'],\n   'input_text': 'Theyre sappin mah sentry! errr yea... i`m without power at home right now'},\n  'expected_output': {'possible_categories': 'neutral'}},\n {'inp': {'categories_list': ['neutral', 'positive', 'negative'],\n   'input_text': ' I`m saving up for a three burner weber for next year'},\n  'expected_output': {'possible_categories': 'neutral'}},\n {'inp': {'categories_list': ['neutral', 'positive', 'negative'],\n   'input_text': ' I didn`t even get a chance to shop @ Aldi!'},\n  'expected_output': {'possible_categories': 'neutral'}},\n {'inp': {'categories_list': ['neutral', 'positive', 'negative'],\n   'input_text': 'Hockey was so fukinï¿½ good  **** you hole! xD'},\n  'expected_output': {'possible_categories': 'neutral'}},\n {'inp': {'categories_list': ['neutral', 'positive', 'negative'],\n   'input_text': 'Watching fireworks off the Bay bridge.'},\n  'expected_output': {'possible_categories': 'neutral'}},\n {'inp': {'categories_list': ['neutral', 'positive', 'negative'],\n   'input_text': ' I have a new found respect for you now that I know you know the Konami code!'},\n  'expected_output': {'possible_categories': 'neutral'}},\n {'inp': {'categories_list': ['neutral', 'positive', 'negative'],\n   'input_text': '  http://twitter.com/friends?page=20 press previous on that page.'},\n  'expected_output': {'possible_categories': 'neutral'}},\n {'inp': {'categories_list': ['neutral', 'positive', 'negative'],\n   'input_text': ' better than throwing them out'},\n  'expected_output': {'possible_categories': 'neutral'}},\n {'inp': {'categories_list': ['neutral', 'positive', 'negative'],\n   'input_text': 'Headed home ... Charlie`s at the vet'},\n  'expected_output': {'possible_categories': 'neutral'}},\n {'inp': {'categories_list': ['neutral', 'positive', 'negative'],\n   'input_text': ' haha i shaved all my facial hair off except for my moustache cause i thought it would be cool! But it made me look gross'},\n  'expected_output': {'possible_categories': 'neutral'}},\n {'inp': {'categories_list': ['neutral', 'positive', 'negative'],\n   'input_text': 'is slowly crunching the reality that june is fast approaching. in other words, classes again, and another year will be added to my age.'},\n  'expected_output': {'possible_categories': 'neutral'}},\n {'inp': {'categories_list': ['neutral', 'positive', 'negative'],\n   'input_text': 'Up early this morning, first to portmeirion then home'},\n  'expected_output': {'possible_categories': 'neutral'}},\n {'inp': {'categories_list': ['neutral', 'positive', 'negative'],\n   'input_text': 'I`ve just about made it all the way round the park jogging. Quite pleased for my 6th outing'},\n  'expected_output': {'possible_categories': 'neutral'}},\n {'inp': {'categories_list': ['neutral', 'positive', 'negative'],\n   'input_text': 'Huge headache...goodnight!!'},\n  'expected_output': {'possible_categories': 'neutral'}},\n {'inp': {'categories_list': ['neutral', 'positive', 'negative'],\n   'input_text': 'not sure where the real state market is moving  confused either hold or go ahead with the plans?'},\n  'expected_output': {'possible_categories': 'neutral'}},\n {'inp': {'categories_list': ['neutral', 'positive', 'negative'],\n   'input_text': 'It`s weird waking up in my own bed. Slightly comforting, but i miss the group. But i`m loving using my own pillow again!'},\n  'expected_output': {'possible_categories': 'neutral'}},\n {'inp': {'categories_list': ['neutral', 'positive', 'negative'],\n   'input_text': 'my hair won`t turn whiiite'},\n  'expected_output': {'possible_categories': 'neutral'}},\n {'inp': {'categories_list': ['neutral', 'positive', 'negative'],\n   'input_text': ' P.S. Culled a handful, esp followers (spam ones with NSFW links that I did NOT click on). You made the cut though'},\n  'expected_output': {'possible_categories': 'neutral'}},\n {'inp': {'categories_list': ['neutral', 'positive', 'negative'],\n   'input_text': ' Yay me!  But, what in particular?'},\n  'expected_output': {'possible_categories': 'neutral'}},\n {'inp': {'categories_list': ['neutral', 'positive', 'negative'],\n   'input_text': ' I think it`ll be more like a casual attendance instead of a review, as there might not be another issue of felix by then.  Thanks.'},\n  'expected_output': {'possible_categories': 'neutral'}},\n {'inp': {'categories_list': ['neutral', 'positive', 'negative'],\n   'input_text': ' I mean someone hit a dog with a car. It was just laying there'},\n  'expected_output': {'possible_categories': 'neutral'}},\n {'inp': {'categories_list': ['neutral', 'positive', 'negative'],\n   'input_text': ' follow me too'},\n  'expected_output': {'possible_categories': 'neutral'}},\n {'inp': {'categories_list': ['neutral', 'positive', 'negative'],\n   'input_text': 'Just finished down loading AIM6.9 and guess what! I can get updates from Twitter on it!  Message me at: i am katie arttt'},\n  'expected_output': {'possible_categories': 'neutral'}},\n {'inp': {'categories_list': ['neutral', 'positive', 'negative'],\n   'input_text': 'My new site is stuck in the Google sandpit now  Test of my skills until it comes back out!'},\n  'expected_output': {'possible_categories': 'neutral'}},\n {'inp': {'categories_list': ['neutral', 'positive', 'negative'],\n   'input_text': 'http://twitpic.com/67fue - My formerly pretty car'},\n  'expected_output': {'possible_categories': 'neutral'}},\n {'inp': {'categories_list': ['neutral', 'positive', 'negative'],\n   'input_text': 'looking for people'},\n  'expected_output': {'possible_categories': 'neutral'}},\n {'inp': {'categories_list': ['neutral', 'positive', 'negative'],\n   'input_text': ' where`d you go!'},\n  'expected_output': {'possible_categories': 'neutral'}},\n {'inp': {'categories_list': ['neutral', 'positive', 'negative'],\n   'input_text': ' My Denny`s shut down in the winter.  I have to do 50 miles to get to one now.'},\n  'expected_output': {'possible_categories': 'neutral'}},\n {'inp': {'categories_list': ['neutral', 'positive', 'negative'],\n   'input_text': ' Welcome!'},\n  'expected_output': {'possible_categories': 'positive'}},\n {'inp': {'categories_list': ['neutral', 'positive', 'negative'],\n   'input_text': 'yeah so Prom Night is now the Craft (good movie)'},\n  'expected_output': {'possible_categories': 'positive'}},\n {'inp': {'categories_list': ['neutral', 'positive', 'negative'],\n   'input_text': ' hey Sherri -- don`t give up b/c they`re married; they may have a brother or a friend!'},\n  'expected_output': {'possible_categories': 'positive'}},\n {'inp': {'categories_list': ['neutral', 'positive', 'negative'],\n   'input_text': '   Caladesi was definitely a nice peaceful way to spend a Sunday! I got a lil tan!'},\n  'expected_output': {'possible_categories': 'positive'}},\n {'inp': {'categories_list': ['neutral', 'positive', 'negative'],\n   'input_text': 'Good morning!  Just took the longest shower ive ever taken in my life. Like 45 to 50 min shower!! Woah. lol'},\n  'expected_output': {'possible_categories': 'positive'}},\n {'inp': {'categories_list': ['neutral', 'positive', 'negative'],\n   'input_text': ' oh that totally works too'},\n  'expected_output': {'possible_categories': 'positive'}},\n {'inp': {'categories_list': ['neutral', 'positive', 'negative'],\n   'input_text': ' Thanks mama ! I absolutely adore her'},\n  'expected_output': {'possible_categories': 'positive'}},\n {'inp': {'categories_list': ['neutral', 'positive', 'negative'],\n   'input_text': ' LMAO... just saw this. That sounds HELLA good. I have a hair appt at 7'},\n  'expected_output': {'possible_categories': 'positive'}},\n {'inp': {'categories_list': ['neutral', 'positive', 'negative'],\n   'input_text': 'HAPPY MOTHERS DAY MAMMA'},\n  'expected_output': {'possible_categories': 'positive'}},\n {'inp': {'categories_list': ['neutral', 'positive', 'negative'],\n   'input_text': ' have a safe ride up the coast. Don`t be going 90 even though you can.  when its windy just smile cuz u know u have it better.'},\n  'expected_output': {'possible_categories': 'positive'}},\n {'inp': {'categories_list': ['neutral', 'positive', 'negative'],\n   'input_text': ' Hahaha, that`s a cool pic that Sal made of Daniel and you. lol.'},\n  'expected_output': {'possible_categories': 'positive'}},\n {'inp': {'categories_list': ['neutral', 'positive', 'negative'],\n   'input_text': 'being a computer geek is entertaining.... i think.'},\n  'expected_output': {'possible_categories': 'positive'}},\n {'inp': {'categories_list': ['neutral', 'positive', 'negative'],\n   'input_text': ' Haha...YAY!!! I`M CURED!!!!'},\n  'expected_output': {'possible_categories': 'positive'}},\n {'inp': {'categories_list': ['neutral', 'positive', 'negative'],\n   'input_text': 'At the bus stop there`s always a big pile of loogies. So. Gross.'},\n  'expected_output': {'possible_categories': 'positive'}},\n {'inp': {'categories_list': ['neutral', 'positive', 'negative'],\n   'input_text': 'Wow what a storm we just had!!! Now no power'},\n  'expected_output': {'possible_categories': 'positive'}},\n {'inp': {'categories_list': ['neutral', 'positive', 'negative'],\n   'input_text': ' I know it`s against the law... I am a rebel in small things.'},\n  'expected_output': {'possible_categories': 'positive'}},\n {'inp': {'categories_list': ['neutral', 'positive', 'negative'],\n   'input_text': ' pauly wallly ! you made my life **** happy as hell and i love you x3 you should reply back to me'},\n  'expected_output': {'possible_categories': 'positive'}},\n {'inp': {'categories_list': ['neutral', 'positive', 'negative'],\n   'input_text': ' thanks for following'},\n  'expected_output': {'possible_categories': 'positive'}},\n {'inp': {'categories_list': ['neutral', 'positive', 'negative'],\n   'input_text': ' Hayley Williams is pretty much amazzing'},\n  'expected_output': {'possible_categories': 'positive'}},\n {'inp': {'categories_list': ['neutral', 'positive', 'negative'],\n   'input_text': 'I`d love too see you were it '},\n  'expected_output': {'possible_categories': 'positive'}},\n {'inp': {'categories_list': ['neutral', 'positive', 'negative'],\n   'input_text': 'goodmorning everyone'},\n  'expected_output': {'possible_categories': 'positive'}},\n {'inp': {'categories_list': ['neutral', 'positive', 'negative'],\n   'input_text': 'I want cookies for breakfast! Luckily I`m an adult and can do that!'},\n  'expected_output': {'possible_categories': 'positive'}},\n {'inp': {'categories_list': ['neutral', 'positive', 'negative'],\n   'input_text': ' welcome to my life'},\n  'expected_output': {'possible_categories': 'positive'}},\n {'inp': {'categories_list': ['neutral', 'positive', 'negative'],\n   'input_text': 'On page 214 of 320 of Betrayed by P.C. Cast. really starting to enjoy this series'},\n  'expected_output': {'possible_categories': 'positive'}},\n {'inp': {'categories_list': ['neutral', 'positive', 'negative'],\n   'input_text': ' That`s love.'},\n  'expected_output': {'possible_categories': 'positive'}},\n {'inp': {'categories_list': ['neutral', 'positive', 'negative'],\n   'input_text': ' I really wish I could'},\n  'expected_output': {'possible_categories': 'positive'}},\n {'inp': {'categories_list': ['neutral', 'positive', 'negative'],\n   'input_text': ' Thank you so much phaoloo !!!!'},\n  'expected_output': {'possible_categories': 'positive'}},\n {'inp': {'categories_list': ['neutral', 'positive', 'negative'],\n   'input_text': ' hope you have a nice relaxing day!!! hope your well  wishing you all the best'},\n  'expected_output': {'possible_categories': 'positive'}},\n {'inp': {'categories_list': ['neutral', 'positive', 'negative'],\n   'input_text': ' did you tweet me? i thought i remembered seeing one but i cant see it now! SO glad teatree is ok!'},\n  'expected_output': {'possible_categories': 'positive'}},\n {'inp': {'categories_list': ['neutral', 'positive', 'negative'],\n   'input_text': 'excited about this week! trying to have a productive monday. trying. hard.'},\n  'expected_output': {'possible_categories': 'positive'}},\n {'inp': {'categories_list': ['neutral', 'positive', 'negative'],\n   'input_text': 'school. 39 days !!! so exited. Amazing premier '},\n  'expected_output': {'possible_categories': 'positive'}},\n {'inp': {'categories_list': ['neutral', 'positive', 'negative'],\n   'input_text': 'Just Saw Confessions Of A Shopoholic...Totally fell in love with Hugh Dancy`s accent!! :3 Need $20.00 for tomorrow, new top i want!!'},\n  'expected_output': {'possible_categories': 'positive'}},\n {'inp': {'categories_list': ['neutral', 'positive', 'negative'],\n   'input_text': ' Same here - events + writing songs. But I just finished my TMNT vs MMPR song, so I`m excited to record that on Wednesday'},\n  'expected_output': {'possible_categories': 'positive'}},\n {'inp': {'categories_list': ['neutral', 'positive', 'negative'],\n   'input_text': 'had a lovely breakfast with mum...yummy pancakes'},\n  'expected_output': {'possible_categories': 'positive'}},\n {'inp': {'categories_list': ['neutral', 'positive', 'negative'],\n   'input_text': 'happy sunday all'},\n  'expected_output': {'possible_categories': 'positive'}},\n {'inp': {'categories_list': ['neutral', 'positive', 'negative'],\n   'input_text': '...Nomore adventure time'},\n  'expected_output': {'possible_categories': 'negative'}},\n {'inp': {'categories_list': ['neutral', 'positive', 'negative'],\n   'input_text': 'wants  to come back online so that he can talk about all the gossip and horrible things which transpired today.'},\n  'expected_output': {'possible_categories': 'negative'}},\n {'inp': {'categories_list': ['neutral', 'positive', 'negative'],\n   'input_text': 'seagull hates me and im utterly depressed about it. i miss him.'},\n  'expected_output': {'possible_categories': 'negative'}},\n {'inp': {'categories_list': ['neutral', 'positive', 'negative'],\n   'input_text': \" yay asap lol awwh I miss our friday night happy hours even luna del sea and the 'boy' hahahaha\"},\n  'expected_output': {'possible_categories': 'negative'}},\n {'inp': {'categories_list': ['neutral', 'positive', 'negative'],\n   'input_text': 'Ha,  i`m giving spymaster a chance - just curious! will miss u'},\n  'expected_output': {'possible_categories': 'negative'}},\n {'inp': {'categories_list': ['neutral', 'positive', 'negative'],\n   'input_text': 'Now I`m all sad because I`ll probably never see Fleetwood Mac.'},\n  'expected_output': {'possible_categories': 'negative'}},\n {'inp': {'categories_list': ['neutral', 'positive', 'negative'],\n   'input_text': ' omginorite! I`d be all fancy and tophatted all the time, it`s really too bad I can`t grow a handlebar moustache..'},\n  'expected_output': {'possible_categories': 'negative'}},\n {'inp': {'categories_list': ['neutral', 'positive', 'negative'],\n   'input_text': ' heyy i have a sis of 1 year with 5 months and still she don t want to walk..'},\n  'expected_output': {'possible_categories': 'negative'}},\n {'inp': {'categories_list': ['neutral', 'positive', 'negative'],\n   'input_text': 'I`m at work and I`m still sick and I`m really pissed off about Sunday!!!'},\n  'expected_output': {'possible_categories': 'negative'}},\n {'inp': {'categories_list': ['neutral', 'positive', 'negative'],\n   'input_text': 'I`m very conflicted here.  I really like Mike but I still have feelings for Darrin.  It`s really complicated.  I don`t know what to do.'},\n  'expected_output': {'possible_categories': 'negative'}},\n {'inp': {'categories_list': ['neutral', 'positive', 'negative'],\n   'input_text': '_Fenton i didnt even finish cleaning my room cuz i went to a party ahhhh  ITS STILL MESSY'},\n  'expected_output': {'possible_categories': 'negative'}},\n {'inp': {'categories_list': ['neutral', 'positive', 'negative'],\n   'input_text': 'Why don`t you make me feel like you used to'},\n  'expected_output': {'possible_categories': 'negative'}},\n {'inp': {'categories_list': ['neutral', 'positive', 'negative'],\n   'input_text': ' Im sad i cant go. it makes me sad'},\n  'expected_output': {'possible_categories': 'negative'}},\n {'inp': {'categories_list': ['neutral', 'positive', 'negative'],\n   'input_text': ' I got a headache because of all the hard work today, still not ready, with a #Heineken trying to finished up'},\n  'expected_output': {'possible_categories': 'negative'}},\n {'inp': {'categories_list': ['neutral', 'positive', 'negative'],\n   'input_text': 'My bike was put on hold...should have known that.... argh total bummer'},\n  'expected_output': {'possible_categories': 'negative'}},\n {'inp': {'categories_list': ['neutral', 'positive', 'negative'],\n   'input_text': 'in school w. linda doing nothing  ;i miss you'},\n  'expected_output': {'possible_categories': 'negative'}},\n {'inp': {'categories_list': ['neutral', 'positive', 'negative'],\n   'input_text': 'Don`t you hate it when you`re left with one slice of bread left in the bag? Half sandwich.'},\n  'expected_output': {'possible_categories': 'negative'}},\n {'inp': {'categories_list': ['neutral', 'positive', 'negative'],\n   'input_text': 'does not feel like babysitting. i want to go to the gym. weird, i know. i miss zack'},\n  'expected_output': {'possible_categories': 'negative'}},\n {'inp': {'categories_list': ['neutral', 'positive', 'negative'],\n   'input_text': ' DUDE. same.  it hurts'},\n  'expected_output': {'possible_categories': 'negative'}},\n {'inp': {'categories_list': ['neutral', 'positive', 'negative'],\n   'input_text': 'My net died so yeah....  I`m sad now'},\n  'expected_output': {'possible_categories': 'negative'}},\n {'inp': {'categories_list': ['neutral', 'positive', 'negative'],\n   'input_text': ' I heard it was disappointing, which I am disappointed by before I`ve even seen it.  What a waste of C. Bale.'},\n  'expected_output': {'possible_categories': 'negative'}},\n {'inp': {'categories_list': ['neutral', 'positive', 'negative'],\n   'input_text': 'No kickboxing classes today  pretty bummed. Still going to work out hard. http://myloc.me/1ZT0'},\n  'expected_output': {'possible_categories': 'negative'}},\n {'inp': {'categories_list': ['neutral', 'positive', 'negative'],\n   'input_text': 'no internet for a week or longer'},\n  'expected_output': {'possible_categories': 'negative'}},\n {'inp': {'categories_list': ['neutral', 'positive', 'negative'],\n   'input_text': 'Every pair of jeans I own nowadays is very tight.  I think mah butt gettin big (oh!)'},\n  'expected_output': {'possible_categories': 'negative'}},\n {'inp': {'categories_list': ['neutral', 'positive', 'negative'],\n   'input_text': ' how crappy for him'},\n  'expected_output': {'possible_categories': 'negative'}},\n {'inp': {'categories_list': ['neutral', 'positive', 'negative'],\n   'input_text': 'So tired.'},\n  'expected_output': {'possible_categories': 'negative'}},\n {'inp': {'categories_list': ['neutral', 'positive', 'negative'],\n   'input_text': 'it makes me sad when people phones are sick'},\n  'expected_output': {'possible_categories': 'negative'}},\n {'inp': {'categories_list': ['neutral', 'positive', 'negative'],\n   'input_text': 'Spilled chocolate milk in my car'},\n  'expected_output': {'possible_categories': 'negative'}},\n {'inp': {'categories_list': ['neutral', 'positive', 'negative'],\n   'input_text': 'Hates having broken wrist and has PE next ugh'},\n  'expected_output': {'possible_categories': 'negative'}},\n {'inp': {'categories_list': ['neutral', 'positive', 'negative'],\n   'input_text': 'I`m all scared and bruised.'},\n  'expected_output': {'possible_categories': 'negative'}}]"
     },
     "execution_count": 54,
     "metadata": {},
     "output_type": "execute_result"
    }
   ],
   "source": [
    "final_testset = []\n",
    "\n",
    "for idx in range(final_data.shape[0]):\n",
    "\n",
    "    row = final_data.iloc[idx]\n",
    "\n",
    "    text = row['text']\n",
    "    expected_output = row['label_text']\n",
    "\n",
    "    new_element = {\"inp\": {\"categories_list\": categories, \"input_text\": text},\n",
    "                   \"expected_output\": {\"possible_categories\": expected_output}}\n",
    "\n",
    "    final_testset.append(new_element)\n",
    "\n",
    "final_testset"
   ],
   "metadata": {
    "collapsed": false,
    "ExecuteTime": {
     "end_time": "2023-11-26T12:38:06.021949Z",
     "start_time": "2023-11-26T12:38:06.011725Z"
    }
   },
   "id": "e3f260dc5116a831"
  },
  {
   "cell_type": "code",
   "execution_count": 55,
   "outputs": [
    {
     "data": {
      "text/plain": "[{'inp': {'categories_list': ['neutral', 'positive', 'negative'],\n   'input_text': 'And this picture of her with Zack from Saved By The Bell  http://twitpic.com/669lg'},\n  'expected_output': {'possible_categories': 'neutral'}},\n {'inp': {'categories_list': ['neutral', 'positive', 'negative'],\n   'input_text': 'Just got in a fight and kicked out of the bar. At least I knocked him out. Have a fat lip though.  Pulled another number'},\n  'expected_output': {'possible_categories': 'neutral'}},\n {'inp': {'categories_list': ['neutral', 'positive', 'negative'],\n   'input_text': 'Hows that possible? No rain forecast for Pinkpop? And I have no ticket'},\n  'expected_output': {'possible_categories': 'neutral'}},\n {'inp': {'categories_list': ['neutral', 'positive', 'negative'],\n   'input_text': 'just had a gym sesh.'},\n  'expected_output': {'possible_categories': 'neutral'}},\n {'inp': {'categories_list': ['neutral', 'positive', 'negative'],\n   'input_text': 'i am the only arabic girl who`s online  every one is  a sleep ..'},\n  'expected_output': {'possible_categories': 'neutral'}},\n {'inp': {'categories_list': ['neutral', 'positive', 'negative'],\n   'input_text': '  i hate when that happens. i hope you figure it out soon!'},\n  'expected_output': {'possible_categories': 'neutral'}},\n {'inp': {'categories_list': ['neutral', 'positive', 'negative'],\n   'input_text': 'Yes, I am'},\n  'expected_output': {'possible_categories': 'neutral'}},\n {'inp': {'categories_list': ['neutral', 'positive', 'negative'],\n   'input_text': 'Theyre sappin mah sentry! errr yea... i`m without power at home right now'},\n  'expected_output': {'possible_categories': 'neutral'}},\n {'inp': {'categories_list': ['neutral', 'positive', 'negative'],\n   'input_text': ' I`m saving up for a three burner weber for next year'},\n  'expected_output': {'possible_categories': 'neutral'}},\n {'inp': {'categories_list': ['neutral', 'positive', 'negative'],\n   'input_text': ' I didn`t even get a chance to shop @ Aldi!'},\n  'expected_output': {'possible_categories': 'neutral'}},\n {'inp': {'categories_list': ['neutral', 'positive', 'negative'],\n   'input_text': 'Hockey was so fukinï¿½ good  **** you hole! xD'},\n  'expected_output': {'possible_categories': 'neutral'}},\n {'inp': {'categories_list': ['neutral', 'positive', 'negative'],\n   'input_text': 'Watching fireworks off the Bay bridge.'},\n  'expected_output': {'possible_categories': 'neutral'}},\n {'inp': {'categories_list': ['neutral', 'positive', 'negative'],\n   'input_text': ' I have a new found respect for you now that I know you know the Konami code!'},\n  'expected_output': {'possible_categories': 'neutral'}},\n {'inp': {'categories_list': ['neutral', 'positive', 'negative'],\n   'input_text': '  http://twitter.com/friends?page=20 press previous on that page.'},\n  'expected_output': {'possible_categories': 'neutral'}},\n {'inp': {'categories_list': ['neutral', 'positive', 'negative'],\n   'input_text': ' better than throwing them out'},\n  'expected_output': {'possible_categories': 'neutral'}},\n {'inp': {'categories_list': ['neutral', 'positive', 'negative'],\n   'input_text': 'Headed home ... Charlie`s at the vet'},\n  'expected_output': {'possible_categories': 'neutral'}},\n {'inp': {'categories_list': ['neutral', 'positive', 'negative'],\n   'input_text': ' haha i shaved all my facial hair off except for my moustache cause i thought it would be cool! But it made me look gross'},\n  'expected_output': {'possible_categories': 'neutral'}},\n {'inp': {'categories_list': ['neutral', 'positive', 'negative'],\n   'input_text': 'is slowly crunching the reality that june is fast approaching. in other words, classes again, and another year will be added to my age.'},\n  'expected_output': {'possible_categories': 'neutral'}},\n {'inp': {'categories_list': ['neutral', 'positive', 'negative'],\n   'input_text': 'Up early this morning, first to portmeirion then home'},\n  'expected_output': {'possible_categories': 'neutral'}},\n {'inp': {'categories_list': ['neutral', 'positive', 'negative'],\n   'input_text': 'I`ve just about made it all the way round the park jogging. Quite pleased for my 6th outing'},\n  'expected_output': {'possible_categories': 'neutral'}},\n {'inp': {'categories_list': ['neutral', 'positive', 'negative'],\n   'input_text': 'Huge headache...goodnight!!'},\n  'expected_output': {'possible_categories': 'neutral'}},\n {'inp': {'categories_list': ['neutral', 'positive', 'negative'],\n   'input_text': 'not sure where the real state market is moving  confused either hold or go ahead with the plans?'},\n  'expected_output': {'possible_categories': 'neutral'}},\n {'inp': {'categories_list': ['neutral', 'positive', 'negative'],\n   'input_text': 'It`s weird waking up in my own bed. Slightly comforting, but i miss the group. But i`m loving using my own pillow again!'},\n  'expected_output': {'possible_categories': 'neutral'}},\n {'inp': {'categories_list': ['neutral', 'positive', 'negative'],\n   'input_text': 'my hair won`t turn whiiite'},\n  'expected_output': {'possible_categories': 'neutral'}},\n {'inp': {'categories_list': ['neutral', 'positive', 'negative'],\n   'input_text': ' P.S. Culled a handful, esp followers (spam ones with NSFW links that I did NOT click on). You made the cut though'},\n  'expected_output': {'possible_categories': 'neutral'}},\n {'inp': {'categories_list': ['neutral', 'positive', 'negative'],\n   'input_text': ' Yay me!  But, what in particular?'},\n  'expected_output': {'possible_categories': 'neutral'}},\n {'inp': {'categories_list': ['neutral', 'positive', 'negative'],\n   'input_text': ' I think it`ll be more like a casual attendance instead of a review, as there might not be another issue of felix by then.  Thanks.'},\n  'expected_output': {'possible_categories': 'neutral'}},\n {'inp': {'categories_list': ['neutral', 'positive', 'negative'],\n   'input_text': ' I mean someone hit a dog with a car. It was just laying there'},\n  'expected_output': {'possible_categories': 'neutral'}},\n {'inp': {'categories_list': ['neutral', 'positive', 'negative'],\n   'input_text': ' follow me too'},\n  'expected_output': {'possible_categories': 'neutral'}},\n {'inp': {'categories_list': ['neutral', 'positive', 'negative'],\n   'input_text': 'Just finished down loading AIM6.9 and guess what! I can get updates from Twitter on it!  Message me at: i am katie arttt'},\n  'expected_output': {'possible_categories': 'neutral'}},\n {'inp': {'categories_list': ['neutral', 'positive', 'negative'],\n   'input_text': 'My new site is stuck in the Google sandpit now  Test of my skills until it comes back out!'},\n  'expected_output': {'possible_categories': 'neutral'}},\n {'inp': {'categories_list': ['neutral', 'positive', 'negative'],\n   'input_text': 'http://twitpic.com/67fue - My formerly pretty car'},\n  'expected_output': {'possible_categories': 'neutral'}},\n {'inp': {'categories_list': ['neutral', 'positive', 'negative'],\n   'input_text': 'looking for people'},\n  'expected_output': {'possible_categories': 'neutral'}},\n {'inp': {'categories_list': ['neutral', 'positive', 'negative'],\n   'input_text': ' where`d you go!'},\n  'expected_output': {'possible_categories': 'neutral'}},\n {'inp': {'categories_list': ['neutral', 'positive', 'negative'],\n   'input_text': ' My Denny`s shut down in the winter.  I have to do 50 miles to get to one now.'},\n  'expected_output': {'possible_categories': 'neutral'}},\n {'inp': {'categories_list': ['neutral', 'positive', 'negative'],\n   'input_text': ' Welcome!'},\n  'expected_output': {'possible_categories': 'positive'}},\n {'inp': {'categories_list': ['neutral', 'positive', 'negative'],\n   'input_text': 'yeah so Prom Night is now the Craft (good movie)'},\n  'expected_output': {'possible_categories': 'positive'}},\n {'inp': {'categories_list': ['neutral', 'positive', 'negative'],\n   'input_text': ' hey Sherri -- don`t give up b/c they`re married; they may have a brother or a friend!'},\n  'expected_output': {'possible_categories': 'positive'}},\n {'inp': {'categories_list': ['neutral', 'positive', 'negative'],\n   'input_text': '   Caladesi was definitely a nice peaceful way to spend a Sunday! I got a lil tan!'},\n  'expected_output': {'possible_categories': 'positive'}},\n {'inp': {'categories_list': ['neutral', 'positive', 'negative'],\n   'input_text': 'Good morning!  Just took the longest shower ive ever taken in my life. Like 45 to 50 min shower!! Woah. lol'},\n  'expected_output': {'possible_categories': 'positive'}},\n {'inp': {'categories_list': ['neutral', 'positive', 'negative'],\n   'input_text': ' oh that totally works too'},\n  'expected_output': {'possible_categories': 'positive'}},\n {'inp': {'categories_list': ['neutral', 'positive', 'negative'],\n   'input_text': ' Thanks mama ! I absolutely adore her'},\n  'expected_output': {'possible_categories': 'positive'}},\n {'inp': {'categories_list': ['neutral', 'positive', 'negative'],\n   'input_text': ' LMAO... just saw this. That sounds HELLA good. I have a hair appt at 7'},\n  'expected_output': {'possible_categories': 'positive'}},\n {'inp': {'categories_list': ['neutral', 'positive', 'negative'],\n   'input_text': 'HAPPY MOTHERS DAY MAMMA'},\n  'expected_output': {'possible_categories': 'positive'}},\n {'inp': {'categories_list': ['neutral', 'positive', 'negative'],\n   'input_text': ' have a safe ride up the coast. Don`t be going 90 even though you can.  when its windy just smile cuz u know u have it better.'},\n  'expected_output': {'possible_categories': 'positive'}},\n {'inp': {'categories_list': ['neutral', 'positive', 'negative'],\n   'input_text': ' Hahaha, that`s a cool pic that Sal made of Daniel and you. lol.'},\n  'expected_output': {'possible_categories': 'positive'}},\n {'inp': {'categories_list': ['neutral', 'positive', 'negative'],\n   'input_text': 'being a computer geek is entertaining.... i think.'},\n  'expected_output': {'possible_categories': 'positive'}},\n {'inp': {'categories_list': ['neutral', 'positive', 'negative'],\n   'input_text': ' Haha...YAY!!! I`M CURED!!!!'},\n  'expected_output': {'possible_categories': 'positive'}},\n {'inp': {'categories_list': ['neutral', 'positive', 'negative'],\n   'input_text': 'At the bus stop there`s always a big pile of loogies. So. Gross.'},\n  'expected_output': {'possible_categories': 'positive'}},\n {'inp': {'categories_list': ['neutral', 'positive', 'negative'],\n   'input_text': 'Wow what a storm we just had!!! Now no power'},\n  'expected_output': {'possible_categories': 'positive'}},\n {'inp': {'categories_list': ['neutral', 'positive', 'negative'],\n   'input_text': ' I know it`s against the law... I am a rebel in small things.'},\n  'expected_output': {'possible_categories': 'positive'}},\n {'inp': {'categories_list': ['neutral', 'positive', 'negative'],\n   'input_text': ' pauly wallly ! you made my life **** happy as hell and i love you x3 you should reply back to me'},\n  'expected_output': {'possible_categories': 'positive'}},\n {'inp': {'categories_list': ['neutral', 'positive', 'negative'],\n   'input_text': ' thanks for following'},\n  'expected_output': {'possible_categories': 'positive'}},\n {'inp': {'categories_list': ['neutral', 'positive', 'negative'],\n   'input_text': ' Hayley Williams is pretty much amazzing'},\n  'expected_output': {'possible_categories': 'positive'}},\n {'inp': {'categories_list': ['neutral', 'positive', 'negative'],\n   'input_text': 'I`d love too see you were it '},\n  'expected_output': {'possible_categories': 'positive'}},\n {'inp': {'categories_list': ['neutral', 'positive', 'negative'],\n   'input_text': 'goodmorning everyone'},\n  'expected_output': {'possible_categories': 'positive'}},\n {'inp': {'categories_list': ['neutral', 'positive', 'negative'],\n   'input_text': 'I want cookies for breakfast! Luckily I`m an adult and can do that!'},\n  'expected_output': {'possible_categories': 'positive'}},\n {'inp': {'categories_list': ['neutral', 'positive', 'negative'],\n   'input_text': ' welcome to my life'},\n  'expected_output': {'possible_categories': 'positive'}},\n {'inp': {'categories_list': ['neutral', 'positive', 'negative'],\n   'input_text': 'On page 214 of 320 of Betrayed by P.C. Cast. really starting to enjoy this series'},\n  'expected_output': {'possible_categories': 'positive'}},\n {'inp': {'categories_list': ['neutral', 'positive', 'negative'],\n   'input_text': ' That`s love.'},\n  'expected_output': {'possible_categories': 'positive'}},\n {'inp': {'categories_list': ['neutral', 'positive', 'negative'],\n   'input_text': ' I really wish I could'},\n  'expected_output': {'possible_categories': 'positive'}},\n {'inp': {'categories_list': ['neutral', 'positive', 'negative'],\n   'input_text': ' Thank you so much phaoloo !!!!'},\n  'expected_output': {'possible_categories': 'positive'}},\n {'inp': {'categories_list': ['neutral', 'positive', 'negative'],\n   'input_text': ' hope you have a nice relaxing day!!! hope your well  wishing you all the best'},\n  'expected_output': {'possible_categories': 'positive'}},\n {'inp': {'categories_list': ['neutral', 'positive', 'negative'],\n   'input_text': ' did you tweet me? i thought i remembered seeing one but i cant see it now! SO glad teatree is ok!'},\n  'expected_output': {'possible_categories': 'positive'}},\n {'inp': {'categories_list': ['neutral', 'positive', 'negative'],\n   'input_text': 'excited about this week! trying to have a productive monday. trying. hard.'},\n  'expected_output': {'possible_categories': 'positive'}},\n {'inp': {'categories_list': ['neutral', 'positive', 'negative'],\n   'input_text': 'school. 39 days !!! so exited. Amazing premier '},\n  'expected_output': {'possible_categories': 'positive'}},\n {'inp': {'categories_list': ['neutral', 'positive', 'negative'],\n   'input_text': 'Just Saw Confessions Of A Shopoholic...Totally fell in love with Hugh Dancy`s accent!! :3 Need $20.00 for tomorrow, new top i want!!'},\n  'expected_output': {'possible_categories': 'positive'}},\n {'inp': {'categories_list': ['neutral', 'positive', 'negative'],\n   'input_text': ' Same here - events + writing songs. But I just finished my TMNT vs MMPR song, so I`m excited to record that on Wednesday'},\n  'expected_output': {'possible_categories': 'positive'}},\n {'inp': {'categories_list': ['neutral', 'positive', 'negative'],\n   'input_text': 'had a lovely breakfast with mum...yummy pancakes'},\n  'expected_output': {'possible_categories': 'positive'}},\n {'inp': {'categories_list': ['neutral', 'positive', 'negative'],\n   'input_text': 'happy sunday all'},\n  'expected_output': {'possible_categories': 'positive'}},\n {'inp': {'categories_list': ['neutral', 'positive', 'negative'],\n   'input_text': '...Nomore adventure time'},\n  'expected_output': {'possible_categories': 'negative'}},\n {'inp': {'categories_list': ['neutral', 'positive', 'negative'],\n   'input_text': 'wants  to come back online so that he can talk about all the gossip and horrible things which transpired today.'},\n  'expected_output': {'possible_categories': 'negative'}},\n {'inp': {'categories_list': ['neutral', 'positive', 'negative'],\n   'input_text': 'seagull hates me and im utterly depressed about it. i miss him.'},\n  'expected_output': {'possible_categories': 'negative'}},\n {'inp': {'categories_list': ['neutral', 'positive', 'negative'],\n   'input_text': \" yay asap lol awwh I miss our friday night happy hours even luna del sea and the 'boy' hahahaha\"},\n  'expected_output': {'possible_categories': 'negative'}},\n {'inp': {'categories_list': ['neutral', 'positive', 'negative'],\n   'input_text': 'Ha,  i`m giving spymaster a chance - just curious! will miss u'},\n  'expected_output': {'possible_categories': 'negative'}},\n {'inp': {'categories_list': ['neutral', 'positive', 'negative'],\n   'input_text': 'Now I`m all sad because I`ll probably never see Fleetwood Mac.'},\n  'expected_output': {'possible_categories': 'negative'}},\n {'inp': {'categories_list': ['neutral', 'positive', 'negative'],\n   'input_text': ' omginorite! I`d be all fancy and tophatted all the time, it`s really too bad I can`t grow a handlebar moustache..'},\n  'expected_output': {'possible_categories': 'negative'}},\n {'inp': {'categories_list': ['neutral', 'positive', 'negative'],\n   'input_text': ' heyy i have a sis of 1 year with 5 months and still she don t want to walk..'},\n  'expected_output': {'possible_categories': 'negative'}},\n {'inp': {'categories_list': ['neutral', 'positive', 'negative'],\n   'input_text': 'I`m at work and I`m still sick and I`m really pissed off about Sunday!!!'},\n  'expected_output': {'possible_categories': 'negative'}},\n {'inp': {'categories_list': ['neutral', 'positive', 'negative'],\n   'input_text': 'I`m very conflicted here.  I really like Mike but I still have feelings for Darrin.  It`s really complicated.  I don`t know what to do.'},\n  'expected_output': {'possible_categories': 'negative'}},\n {'inp': {'categories_list': ['neutral', 'positive', 'negative'],\n   'input_text': '_Fenton i didnt even finish cleaning my room cuz i went to a party ahhhh  ITS STILL MESSY'},\n  'expected_output': {'possible_categories': 'negative'}},\n {'inp': {'categories_list': ['neutral', 'positive', 'negative'],\n   'input_text': 'Why don`t you make me feel like you used to'},\n  'expected_output': {'possible_categories': 'negative'}},\n {'inp': {'categories_list': ['neutral', 'positive', 'negative'],\n   'input_text': ' Im sad i cant go. it makes me sad'},\n  'expected_output': {'possible_categories': 'negative'}},\n {'inp': {'categories_list': ['neutral', 'positive', 'negative'],\n   'input_text': ' I got a headache because of all the hard work today, still not ready, with a #Heineken trying to finished up'},\n  'expected_output': {'possible_categories': 'negative'}},\n {'inp': {'categories_list': ['neutral', 'positive', 'negative'],\n   'input_text': 'My bike was put on hold...should have known that.... argh total bummer'},\n  'expected_output': {'possible_categories': 'negative'}},\n {'inp': {'categories_list': ['neutral', 'positive', 'negative'],\n   'input_text': 'in school w. linda doing nothing  ;i miss you'},\n  'expected_output': {'possible_categories': 'negative'}},\n {'inp': {'categories_list': ['neutral', 'positive', 'negative'],\n   'input_text': 'Don`t you hate it when you`re left with one slice of bread left in the bag? Half sandwich.'},\n  'expected_output': {'possible_categories': 'negative'}},\n {'inp': {'categories_list': ['neutral', 'positive', 'negative'],\n   'input_text': 'does not feel like babysitting. i want to go to the gym. weird, i know. i miss zack'},\n  'expected_output': {'possible_categories': 'negative'}},\n {'inp': {'categories_list': ['neutral', 'positive', 'negative'],\n   'input_text': ' DUDE. same.  it hurts'},\n  'expected_output': {'possible_categories': 'negative'}},\n {'inp': {'categories_list': ['neutral', 'positive', 'negative'],\n   'input_text': 'My net died so yeah....  I`m sad now'},\n  'expected_output': {'possible_categories': 'negative'}},\n {'inp': {'categories_list': ['neutral', 'positive', 'negative'],\n   'input_text': ' I heard it was disappointing, which I am disappointed by before I`ve even seen it.  What a waste of C. Bale.'},\n  'expected_output': {'possible_categories': 'negative'}},\n {'inp': {'categories_list': ['neutral', 'positive', 'negative'],\n   'input_text': 'No kickboxing classes today  pretty bummed. Still going to work out hard. http://myloc.me/1ZT0'},\n  'expected_output': {'possible_categories': 'negative'}},\n {'inp': {'categories_list': ['neutral', 'positive', 'negative'],\n   'input_text': 'no internet for a week or longer'},\n  'expected_output': {'possible_categories': 'negative'}},\n {'inp': {'categories_list': ['neutral', 'positive', 'negative'],\n   'input_text': 'Every pair of jeans I own nowadays is very tight.  I think mah butt gettin big (oh!)'},\n  'expected_output': {'possible_categories': 'negative'}},\n {'inp': {'categories_list': ['neutral', 'positive', 'negative'],\n   'input_text': ' how crappy for him'},\n  'expected_output': {'possible_categories': 'negative'}},\n {'inp': {'categories_list': ['neutral', 'positive', 'negative'],\n   'input_text': 'So tired.'},\n  'expected_output': {'possible_categories': 'negative'}},\n {'inp': {'categories_list': ['neutral', 'positive', 'negative'],\n   'input_text': 'it makes me sad when people phones are sick'},\n  'expected_output': {'possible_categories': 'negative'}},\n {'inp': {'categories_list': ['neutral', 'positive', 'negative'],\n   'input_text': 'Spilled chocolate milk in my car'},\n  'expected_output': {'possible_categories': 'negative'}},\n {'inp': {'categories_list': ['neutral', 'positive', 'negative'],\n   'input_text': 'Hates having broken wrist and has PE next ugh'},\n  'expected_output': {'possible_categories': 'negative'}},\n {'inp': {'categories_list': ['neutral', 'positive', 'negative'],\n   'input_text': 'I`m all scared and bruised.'},\n  'expected_output': {'possible_categories': 'negative'}}]"
     },
     "execution_count": 55,
     "metadata": {},
     "output_type": "execute_result"
    }
   ],
   "source": [
    "final_testset"
   ],
   "metadata": {
    "collapsed": false,
    "ExecuteTime": {
     "end_time": "2023-11-26T12:38:09.759198Z",
     "start_time": "2023-11-26T12:38:09.750929Z"
    }
   },
   "id": "5c1fc5eb3760739c"
  },
  {
   "cell_type": "code",
   "execution_count": 56,
   "outputs": [],
   "source": [
    "import json\n",
    "with open(f'../data/automation_classifier/text_files/tweet_sentiment_extraction.json', 'w', encoding='utf-8') as f:\n",
    "    json.dump(final_testset, f, ensure_ascii=False, indent=4)"
   ],
   "metadata": {
    "collapsed": false,
    "ExecuteTime": {
     "end_time": "2023-11-26T12:38:14.110791Z",
     "start_time": "2023-11-26T12:38:14.105629Z"
    }
   },
   "id": "a8d055adc3e5cde9"
  }
 ],
 "metadata": {
  "kernelspec": {
   "display_name": "Python 3",
   "language": "python",
   "name": "python3"
  },
  "language_info": {
   "codemirror_mode": {
    "name": "ipython",
    "version": 2
   },
   "file_extension": ".py",
   "mimetype": "text/x-python",
   "name": "python",
   "nbconvert_exporter": "python",
   "pygments_lexer": "ipython2",
   "version": "2.7.6"
  }
 },
 "nbformat": 4,
 "nbformat_minor": 5
}
