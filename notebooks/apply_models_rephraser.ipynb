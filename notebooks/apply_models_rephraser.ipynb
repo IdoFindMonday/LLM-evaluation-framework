{
 "cells": [
  {
   "cell_type": "code",
   "execution_count": 1,
   "id": "initial_id",
   "metadata": {
    "collapsed": true,
    "ExecuteTime": {
     "end_time": "2023-11-06T15:10:14.571829Z",
     "start_time": "2023-11-06T15:10:14.243239Z"
    }
   },
   "outputs": [],
   "source": [
    "import pandas as pd\n",
    "import json\n"
   ]
  },
  {
   "cell_type": "markdown",
   "source": [
    "### read data and conf"
   ],
   "metadata": {
    "collapsed": false
   },
   "id": "8b4dcede99fb2b31"
  },
  {
   "cell_type": "code",
   "execution_count": 2,
   "outputs": [],
   "source": [
    "json_path = '../data/paraphrase/text_files'\n",
    "data_file_name = 'txt_dataset_paraphrase.json'\n",
    "conf_file_name = 'txt_dataset_paraphrase_config.json'"
   ],
   "metadata": {
    "collapsed": false,
    "ExecuteTime": {
     "end_time": "2023-11-06T15:10:14.575665Z",
     "start_time": "2023-11-06T15:10:14.572375Z"
    }
   },
   "id": "3579bbe1db219dd3"
  },
  {
   "cell_type": "code",
   "execution_count": 3,
   "outputs": [
    {
     "data": {
      "text/plain": "                                                text  char_count  \\\n0  Great job on the new website design! I love th...          69   \n1  Just reviewed the social media campaign tasks ...          91   \n2  I received some positive feedback from custome...          97   \n\n                                              notion  \\\n0  The new website design looks fantastic! I real...   \n1  I have just reviewed the tasks for the social ...   \n2  The marketing team has done an excellent job a...   \n\n                                           grammarly  \\\n0  Great work on the new website design! I really...   \n1  I have just reviewed the social media campaign...   \n2  I received positive feedback about the new sur...   \n\n                                   current_rephraser  \n0  1. Awesome work on the new website! The new co...  \n1  1. Checked out the social media stuff and it's...  \n2  1. Customers are loving the new survey! Great ...  ",
      "text/html": "<div>\n<style scoped>\n    .dataframe tbody tr th:only-of-type {\n        vertical-align: middle;\n    }\n\n    .dataframe tbody tr th {\n        vertical-align: top;\n    }\n\n    .dataframe thead th {\n        text-align: right;\n    }\n</style>\n<table border=\"1\" class=\"dataframe\">\n  <thead>\n    <tr style=\"text-align: right;\">\n      <th></th>\n      <th>text</th>\n      <th>char_count</th>\n      <th>notion</th>\n      <th>grammarly</th>\n      <th>current_rephraser</th>\n    </tr>\n  </thead>\n  <tbody>\n    <tr>\n      <th>0</th>\n      <td>Great job on the new website design! I love th...</td>\n      <td>69</td>\n      <td>The new website design looks fantastic! I real...</td>\n      <td>Great work on the new website design! I really...</td>\n      <td>1. Awesome work on the new website! The new co...</td>\n    </tr>\n    <tr>\n      <th>1</th>\n      <td>Just reviewed the social media campaign tasks ...</td>\n      <td>91</td>\n      <td>I have just reviewed the tasks for the social ...</td>\n      <td>I have just reviewed the social media campaign...</td>\n      <td>1. Checked out the social media stuff and it's...</td>\n    </tr>\n    <tr>\n      <th>2</th>\n      <td>I received some positive feedback from custome...</td>\n      <td>97</td>\n      <td>The marketing team has done an excellent job a...</td>\n      <td>I received positive feedback about the new sur...</td>\n      <td>1. Customers are loving the new survey! Great ...</td>\n    </tr>\n  </tbody>\n</table>\n</div>"
     },
     "execution_count": 3,
     "metadata": {},
     "output_type": "execute_result"
    }
   ],
   "source": [
    "data = pd.read_json(f'{json_path}/{data_file_name}', orient='index')\n",
    "with open(f'{json_path}/{conf_file_name}') as f:\n",
    "    conf_json = json.load(f)\n",
    "\n",
    "data.head(3)"
   ],
   "metadata": {
    "collapsed": false,
    "ExecuteTime": {
     "end_time": "2023-11-06T15:10:14.725835Z",
     "start_time": "2023-11-06T15:10:14.716642Z"
    }
   },
   "id": "3070c442a7af432b"
  },
  {
   "cell_type": "code",
   "execution_count": 4,
   "outputs": [
    {
     "name": "stdout",
     "output_type": "stream",
     "text": [
      "Great news! We have scheduled a client meeting this week to discuss their upcoming project requirements. Let's prepare a detailed agenda to ensure that we cover all their needs and pain points. This is a fantastic opportunity for us to demonstrate our expertise and build a strong relationship with the client. We can discuss the project scope, timeline, and potential challenges during the meeting. Do you have any suggestions on specific areas we should focus on?\n"
     ]
    }
   ],
   "source": [
    "print(data.iloc[5]['grammarly'])"
   ],
   "metadata": {
    "collapsed": false,
    "ExecuteTime": {
     "end_time": "2023-11-06T15:10:15.971065Z",
     "start_time": "2023-11-06T15:10:15.968044Z"
    }
   },
   "id": "3266318c18121133"
  },
  {
   "cell_type": "markdown",
   "source": [
    "# Building new prompts"
   ],
   "metadata": {
    "collapsed": false,
    "ExecuteTime": {
     "end_time": "2023-11-05T15:09:20.898036Z",
     "start_time": "2023-11-05T15:09:20.895440Z"
    }
   },
   "id": "314d671f345a7292"
  },
  {
   "cell_type": "code",
   "execution_count": 6,
   "outputs": [],
   "source": [
    "import openai\n",
    "import os\n",
    "from dotenv import load_dotenv\n",
    "from modules.openai.OpenaiModels import OpenaiChatCompletionRephraser, OpenaiChatCompletionCurrentRephraser\n",
    "\n",
    "load_dotenv()\n",
    "\n",
    "azure_openai_key = os.environ.get('AZURE_OPENAI_KEY')\n",
    "azure_openai_endpoint = os.environ.get('AZURE_OPENAI_ENDPOINT')\n",
    "\n",
    "openai.api_key = azure_openai_key\n",
    "openai.api_base = azure_openai_endpoint\n",
    "openai.api_type = \"azure\""
   ],
   "metadata": {
    "collapsed": false,
    "ExecuteTime": {
     "end_time": "2023-11-06T15:10:17.231645Z",
     "start_time": "2023-11-06T15:10:17.229113Z"
    }
   },
   "id": "d44634371492b68f"
  },
  {
   "cell_type": "code",
   "execution_count": 27,
   "outputs": [],
   "source": [
    "# text = data.iloc[0].text\n",
    "# \n",
    "# localization_prompt_template = \"\"\"Consider the language used in the following input text: {input_text}. Please provide your response in the same language as the one used in this input text. Your response may involve a variety of data types, such as JSON, XML, HTML, and other programming or markup formats. It's important to note, though, that any code or markup language should remain untouched during translation; only translate plain text elements\"\"\"\n",
    "# \n",
    "# system_prompt = \"\"\n",
    "# \n",
    "# user_prompt = \"\"\"{language_input}. Paraphrase the following text into a more {style} style, return numbered list of strings contains 3 new paraphrased texts:\n",
    "# \n",
    "#   {input_text}\"\"\"\n",
    "# \n",
    "# current_rephraser = OpenaiChatCompletionCurrentRephraser(model_name=\"gpt-3-5-turbo\",\n",
    "#                                                          api_version=\"2023-05-15\",\n",
    "#                                                          temperature=0.7,\n",
    "#                                                          max_tokens=256,\n",
    "#                                                          user_prompt_template=user_prompt,\n",
    "#                                                          localization_prompt_template=localization_prompt_template,\n",
    "#                                                          style='casual')"
   ],
   "metadata": {
    "collapsed": false,
    "ExecuteTime": {
     "end_time": "2023-11-06T14:41:32.132961Z",
     "start_time": "2023-11-06T14:41:32.125871Z"
    }
   },
   "id": "518f4bf9ba87def6"
  },
  {
   "cell_type": "code",
   "execution_count": 38,
   "outputs": [],
   "source": [
    "# print(text+'\\n\\n')\n",
    "# print(current_rephraser.call_llm(text))"
   ],
   "metadata": {
    "collapsed": false,
    "ExecuteTime": {
     "end_time": "2023-11-06T14:47:29.327517Z",
     "start_time": "2023-11-06T14:47:29.324973Z"
    }
   },
   "id": "f08f1f2ea89a8727"
  },
  {
   "cell_type": "code",
   "execution_count": 15,
   "outputs": [],
   "source": [
    "localization_prompt_template = \"\"\"Consider the language used in the following input text: {input_text}. Please provide your response in the same language as the one used in this input text. Your response may involve a variety of data types, such as JSON, XML, HTML, and other programming or markup formats. It's important to note, though, that any code or markup language should remain untouched during translation; only translate plain text elements\"\"\"\n",
    "\n",
    "system_prompt = \"\"\"You are a professional assistant. Using your deep linguistic understanding and knowledge, Rephrase the text provided by the user while retaining the core ideas, crucial details, and significant context of it. Please fix any grammar mistakes and typos. {language_input}. The rephrased style should be {style}. Return numbered list of strings containing {n_paraphrase} new paraphrased texts.\"\"\"\n",
    "\n",
    "user_prompt = \"\"\"Please rephrase the following text: {input_text}\"\"\"\n",
    "\n",
    "version_2_rephraser = OpenaiChatCompletionRephraser(model_name=\"gpt-3-5-turbo\",\n",
    "                                                    api_version=\"2023-05-15\",\n",
    "                                                    temperature=0.7,\n",
    "                                                    max_tokens=512,\n",
    "                                                    system_prompt_template=system_prompt,\n",
    "                                                    user_prompt_template=user_prompt,\n",
    "                                                    localization_prompt_template=localization_prompt_template,\n",
    "                                                    style='neutral',\n",
    "                                                    n_paraphrase=3)"
   ],
   "metadata": {
    "collapsed": false,
    "ExecuteTime": {
     "end_time": "2023-11-06T15:11:00.702895Z",
     "start_time": "2023-11-06T15:11:00.697342Z"
    }
   },
   "id": "8546afc9e4a40421"
  },
  {
   "cell_type": "code",
   "execution_count": 18,
   "outputs": [
    {
     "data": {
      "text/plain": "\"Exciting news! We secured a client meeting this week to discuss their upcoming project requirements. Let's prepare a detailed agenda to ensure we cover all their needs and pain points. This is a great opportunity to showcase our expertise and build a strong relationship with the client. We can discuss the scope, timeline, and any potential challenges during the meeting. Any suggestions on specific areas we should focus on?\""
     },
     "execution_count": 18,
     "metadata": {},
     "output_type": "execute_result"
    }
   ],
   "source": [
    "text = data.iloc[5].text\n",
    "text"
   ],
   "metadata": {
    "collapsed": false,
    "ExecuteTime": {
     "end_time": "2023-11-06T15:11:11.656694Z",
     "start_time": "2023-11-06T15:11:11.650643Z"
    }
   },
   "id": "f133899e3734f01b"
  },
  {
   "cell_type": "code",
   "execution_count": 19,
   "outputs": [
    {
     "name": "stdout",
     "output_type": "stream",
     "text": [
      "1. We have some thrilling news to share! We have successfully scheduled a meeting with a client this week to talk about their upcoming project needs. To make sure we address all their requirements and concerns, let's create a comprehensive agenda. This meeting is a fantastic chance for us to demonstrate our proficiency and establish a robust rapport with the client. We can delve into the project's scope, timeline, and potential obstacles during the meeting. Do you have any proposals on specific topics we should emphasize?\n",
      "\n",
      "2. We've got some exciting news to share! We've managed to secure a client meeting this week to discuss their project requirements for the future. To make sure we address all their needs and pain points, let's prepare a detailed agenda. This meeting is an excellent opportunity for us to showcase our expertise and develop a solid relationship with the client. During the meeting, we can discuss the project's scope, timeline, and any potential challenges. Would you like to suggest any particular areas we should focus on?\n",
      "\n",
      "3. Wonderful news! We have arranged a meeting with a client this week to discuss their upcoming project requirements. To ensure that we cover all of their needs and pain points, let's create a comprehensive agenda. This meeting represents a significant opportunity for us to demonstrate our expertise and build a strong relationship with the client. We can discuss the project's scope, timeline, and any potential difficulties during the meeting. Do you have any specific areas you'd like us to focus on?\n"
     ]
    }
   ],
   "source": [
    "print(version_2_rephraser.call_llm(text))"
   ],
   "metadata": {
    "collapsed": false,
    "ExecuteTime": {
     "end_time": "2023-11-06T15:11:17.079834Z",
     "start_time": "2023-11-06T15:11:13.151540Z"
    }
   },
   "id": "97eac9f49737b45c"
  },
  {
   "cell_type": "code",
   "execution_count": 20,
   "outputs": [],
   "source": [
    "output,res = version_2_rephraser.call_llm_with_res(text)"
   ],
   "metadata": {
    "collapsed": false,
    "ExecuteTime": {
     "end_time": "2023-11-06T15:11:33.362971Z",
     "start_time": "2023-11-06T15:11:29.123509Z"
    }
   },
   "id": "21fc236815355601"
  },
  {
   "cell_type": "code",
   "execution_count": 21,
   "outputs": [
    {
     "data": {
      "text/plain": "<OpenAIObject at 0x16233af90> JSON: {\n  \"prompt_tokens\": 257,\n  \"completion_tokens\": 289,\n  \"total_tokens\": 546\n}"
     },
     "execution_count": 21,
     "metadata": {},
     "output_type": "execute_result"
    }
   ],
   "source": [
    "res[\"usage\"]"
   ],
   "metadata": {
    "collapsed": false,
    "ExecuteTime": {
     "end_time": "2023-11-06T15:11:34.173163Z",
     "start_time": "2023-11-06T15:11:34.169860Z"
    }
   },
   "id": "ddf9930cea57d2bf"
  },
  {
   "cell_type": "code",
   "execution_count": 1,
   "outputs": [],
   "source": [
    "# version_2_template = \"\"\"Using your deep linguistic understanding and knowledge, condense the essence of the provided content.\\n Retain the core ideas, crucial details, and significant context while omitting any extraneous information.\\n Please deliver a concise and coherent summary of the following text.\\n The summary MUST be shorter or equal to {max_words} words.\\n The output MUST be a JSON object with the following schema:\n",
    "# {{\"title\":<the title>,\"body\":<the summary>}}\\n----------------------\\n\\nThe text to summarize: {input_text}\\n The output:\\n\"\"\"\n",
    "# \n",
    "# version_2_sum = OpenaiCompletionWordLimit(\n",
    "#     model_name=\"text-davinci-003\",\n",
    "#     api_version=\"2023-05-15\",\n",
    "#     temperature=0.0,\n",
    "#     max_tokens=512,\n",
    "#     prompt_template=version_2_template,\n",
    "#     max_word_ratio=0.75\n",
    "# )"
   ],
   "metadata": {
    "collapsed": false,
    "ExecuteTime": {
     "end_time": "2023-11-05T07:31:58.078079Z",
     "start_time": "2023-11-05T07:31:58.073880Z"
    }
   },
   "id": "26e0fbd4e3beca5d"
  },
  {
   "cell_type": "markdown",
   "source": [],
   "metadata": {
    "collapsed": false
   },
   "id": "eee023a52d29704a"
  },
  {
   "cell_type": "code",
   "execution_count": 22,
   "outputs": [
    {
     "name": "stdout",
     "output_type": "stream",
     "text": [
      "1. שמי הוא דוד ואני מקצוען בעולם התוכנה כבר שנים רבות. אני מצפה להתחיל את העבודה איתכם בתור מהנדס תוכנה בכיר.\n",
      "2. אני משתף פעולה כמה שנים כבר עם חברות רבות ומאמין שאוכל לתרום לצוות שלכם כמה שיותר. אני מצפה להתחיל את העבודה כמהנדס תוכנה בכיר.\n",
      "3. דוד הינו מהנדס תוכנה ומחפש אתגר חדש ומרתק בתחום התוכנה. אני מצפה להתחיל לעבוד יחד עם צוות המוכשר שלכם.\n"
     ]
    }
   ],
   "source": [
    "print(version_2_rephraser.call_llm(\"שלום קוראים לי דוד ואני מהנדס תוכנה בכיר, אני מתרגש להתחיל לעבוד אתכם.\"))"
   ],
   "metadata": {
    "collapsed": false,
    "ExecuteTime": {
     "end_time": "2023-11-06T15:11:46.057787Z",
     "start_time": "2023-11-06T15:11:40.242614Z"
    }
   },
   "id": "67d4de104e07a165"
  },
  {
   "cell_type": "code",
   "execution_count": null,
   "outputs": [],
   "source": [],
   "metadata": {
    "collapsed": false
   },
   "id": "602ecebb835f3f95"
  },
  {
   "cell_type": "markdown",
   "source": [
    "### Apply on dataset"
   ],
   "metadata": {
    "collapsed": false
   },
   "id": "5541e3816e627a02"
  },
  {
   "cell_type": "code",
   "execution_count": 23,
   "outputs": [],
   "source": [
    "model_name = \"version_2_rephraser\""
   ],
   "metadata": {
    "collapsed": false,
    "ExecuteTime": {
     "end_time": "2023-11-06T15:11:49.035695Z",
     "start_time": "2023-11-06T15:11:49.028584Z"
    }
   },
   "id": "28e60fd849cd9ffd"
  },
  {
   "cell_type": "code",
   "execution_count": 24,
   "outputs": [],
   "source": [
    "# completion api\n",
    "data[model_name] = data['text'].apply(version_2_rephraser.call_llm)"
   ],
   "metadata": {
    "collapsed": false,
    "ExecuteTime": {
     "end_time": "2023-11-06T15:12:01.662294Z",
     "start_time": "2023-11-06T15:11:51.357144Z"
    }
   },
   "id": "742c39fd1cc398ab"
  },
  {
   "cell_type": "code",
   "execution_count": 81,
   "outputs": [
    {
     "name": "stdout",
     "output_type": "stream",
     "text": [
      "Exciting news! We secured a client meeting this week to discuss their upcoming project requirements. Let's prepare a detailed agenda to ensure we cover all their needs and pain points. This is a great opportunity to showcase our expertise and build a strong relationship with the client. We can discuss the scope, timeline, and any potential challenges during the meeting. Any suggestions on specific areas we should focus on?\n"
     ]
    }
   ],
   "source": [
    "print(data.iloc[5].text)"
   ],
   "metadata": {
    "collapsed": false,
    "ExecuteTime": {
     "end_time": "2023-11-06T15:06:42.350634Z",
     "start_time": "2023-11-06T15:06:42.343988Z"
    }
   },
   "id": "c95f31302319770c"
  },
  {
   "cell_type": "code",
   "execution_count": 25,
   "outputs": [
    {
     "name": "stdout",
     "output_type": "stream",
     "text": [
      "1. We have some thrilling news! We have successfully secured a client meeting this week to discuss their project requirements. To ensure that we address all their needs and challenges, let's prepare a comprehensive agenda. This is an excellent chance to demonstrate our proficiency and establish a solid rapport with the client. During the meeting, we can delve into the project's scope, timeline, and any possible obstacles. Do you have any specific recommendations on areas we should prioritize?\n",
      "\n",
      "2. Our team has secured a client meeting this week to discuss their upcoming project requirements, and we couldn't be more excited! To ensure that we cover all their needs and pain points, let's put together a detailed agenda. This is a fantastic opportunity to showcase our expertise and develop a strong relationship with the client. We plan to discuss the scope, timeline, and any potential obstacles during the meeting. Are there any specific areas that you believe we should focus on?\n",
      "\n",
      "3. We have received some exhilarating news! We have secured a client meeting to discuss their project requirements this week. To ensure that we address all their needs and concerns, we should prepare a comprehensive agenda. This is an excellent opportunity to demonstrate our proficiency and establish a strong connection with the client. During the meeting, we can explore the project's scope, timeline, and any possible challenges. Do you have any suggestions on specific areas that we should concentrate on?\n"
     ]
    }
   ],
   "source": [
    "print(data.iloc[5][model_name])"
   ],
   "metadata": {
    "collapsed": false,
    "ExecuteTime": {
     "end_time": "2023-11-06T15:12:01.671933Z",
     "start_time": "2023-11-06T15:12:01.663833Z"
    }
   },
   "id": "11a3a574fd61a970"
  },
  {
   "cell_type": "markdown",
   "source": [
    "### update config"
   ],
   "metadata": {
    "collapsed": false,
    "ExecuteTime": {
     "end_time": "2023-11-05T15:10:57.377043Z",
     "start_time": "2023-11-05T15:10:57.372546Z"
    }
   },
   "id": "1e322f26be407e4c"
  },
  {
   "cell_type": "code",
   "execution_count": 26,
   "outputs": [],
   "source": [
    "conf_json.update({model_name: version_2_rephraser.get_config()})"
   ],
   "metadata": {
    "collapsed": false,
    "ExecuteTime": {
     "end_time": "2023-11-06T15:12:18.088662Z",
     "start_time": "2023-11-06T15:12:18.054733Z"
    }
   },
   "id": "e6aa6f512cd6a52d"
  },
  {
   "cell_type": "code",
   "execution_count": 27,
   "outputs": [
    {
     "data": {
      "text/plain": "{'current_rephraser': {'model_name': 'gpt-3-5-turbo',\n  'api_version': '2023-05-15',\n  'temperature': 0.7,\n  'max_tokens': 256,\n  'system_prompt_template': '',\n  'user_prompt_template': '{language_input}. Paraphrase the following text into a more {style} style, return numbered list of strings contains 3 new paraphrased texts:\\n\\n  {input_text}',\n  'top_p': 1,\n  'n': 1,\n  'localization_prompt_template': \"Consider the language used in the following input text: {input_text}. Please provide your response in the same language as the one used in this input text. Your response may involve a variety of data types, such as JSON, XML, HTML, and other programming or markup formats. It's important to note, though, that any code or markup language should remain untouched during translation; only translate plain text elements\",\n  'style': 'casual'},\n 'version_2_rephraser': {'model_name': 'gpt-3-5-turbo',\n  'api_version': '2023-05-15',\n  'temperature': 0.7,\n  'max_tokens': 512,\n  'system_prompt_template': 'You are a professional assistant. Using your deep linguistic understanding and knowledge, Rephrase the text provided by the user while retaining the core ideas, crucial details, and significant context of it. Please fix any grammar mistakes and typos. {language_input}. The rephrased style should be {style}. Return numbered list of strings containing {n_paraphrase} new paraphrased texts.',\n  'user_prompt_template': 'Please rephrase the following text: {input_text}',\n  'top_p': 1,\n  'n': 1,\n  'localization_prompt_template': \"Consider the language used in the following input text: {input_text}. Please provide your response in the same language as the one used in this input text. Your response may involve a variety of data types, such as JSON, XML, HTML, and other programming or markup formats. It's important to note, though, that any code or markup language should remain untouched during translation; only translate plain text elements\",\n  'style': 'neutral',\n  'n_paraphrase': 3}}"
     },
     "execution_count": 27,
     "metadata": {},
     "output_type": "execute_result"
    }
   ],
   "source": [
    "conf_json"
   ],
   "metadata": {
    "collapsed": false,
    "ExecuteTime": {
     "end_time": "2023-11-06T15:12:20.029977Z",
     "start_time": "2023-11-06T15:12:20.027223Z"
    }
   },
   "id": "5645a1595be77389"
  },
  {
   "cell_type": "markdown",
   "source": [
    "## Save data file and conf json"
   ],
   "metadata": {
    "collapsed": false
   },
   "id": "74062288f866ad5a"
  },
  {
   "cell_type": "code",
   "execution_count": 28,
   "outputs": [],
   "source": [
    "# save\n",
    "data.to_json(f\"{json_path}/{data_file_name}\", orient='index', indent=4, force_ascii=True)\n",
    "with open(f'{json_path}/{conf_file_name}', 'w', encoding='utf-8') as f:\n",
    "    json.dump(conf_json, f, ensure_ascii=False, indent=4)"
   ],
   "metadata": {
    "collapsed": false,
    "ExecuteTime": {
     "end_time": "2023-11-06T15:12:26.192412Z",
     "start_time": "2023-11-06T15:12:26.187482Z"
    }
   },
   "id": "4238ff2bc932a4c9"
  }
 ],
 "metadata": {
  "kernelspec": {
   "display_name": "Python 3",
   "language": "python",
   "name": "python3"
  },
  "language_info": {
   "codemirror_mode": {
    "name": "ipython",
    "version": 2
   },
   "file_extension": ".py",
   "mimetype": "text/x-python",
   "name": "python",
   "nbconvert_exporter": "python",
   "pygments_lexer": "ipython2",
   "version": "2.7.6"
  }
 },
 "nbformat": 4,
 "nbformat_minor": 5
}
