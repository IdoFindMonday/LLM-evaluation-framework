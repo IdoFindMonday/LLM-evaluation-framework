{
 "cells": [
  {
   "cell_type": "code",
   "execution_count": 1,
   "id": "initial_id",
   "metadata": {
    "collapsed": true,
    "ExecuteTime": {
     "end_time": "2023-11-06T09:37:19.913234Z",
     "start_time": "2023-11-06T09:37:18.686278Z"
    }
   },
   "outputs": [],
   "source": [
    "import pandas as pd\n",
    "import json"
   ]
  },
  {
   "cell_type": "markdown",
   "source": [
    "## init data from parquet source"
   ],
   "metadata": {
    "collapsed": false
   },
   "id": "8a21ab1fe9873303"
  },
  {
   "cell_type": "code",
   "execution_count": null,
   "outputs": [],
   "source": [
    "source_data_path = 'data/summarization/cnn_dailymail/cnn_dailymail_test.parquet'"
   ],
   "metadata": {
    "collapsed": false
   },
   "id": "fc44b92cd73dcbbc"
  },
  {
   "cell_type": "code",
   "execution_count": 43,
   "outputs": [
    {
     "data": {
      "text/plain": "                                                text  word_count  \\\n0  (CNN)The Palestinian Authority officially beca...         567   \n1  (CNN)Never mind cats having nine lives. A stra...         411   \n2  (CNN)If you've been following the news lately,...         704   \n\n                                              golden  \n0  Membership gives the ICC jurisdiction over all...  \n1  Theia, a bully breed mix, was apparently hit b...  \n2  Mohammad Javad Zarif has spent more time with ...  ",
      "text/html": "<div>\n<style scoped>\n    .dataframe tbody tr th:only-of-type {\n        vertical-align: middle;\n    }\n\n    .dataframe tbody tr th {\n        vertical-align: top;\n    }\n\n    .dataframe thead th {\n        text-align: right;\n    }\n</style>\n<table border=\"1\" class=\"dataframe\">\n  <thead>\n    <tr style=\"text-align: right;\">\n      <th></th>\n      <th>text</th>\n      <th>word_count</th>\n      <th>golden</th>\n    </tr>\n  </thead>\n  <tbody>\n    <tr>\n      <th>0</th>\n      <td>(CNN)The Palestinian Authority officially beca...</td>\n      <td>567</td>\n      <td>Membership gives the ICC jurisdiction over all...</td>\n    </tr>\n    <tr>\n      <th>1</th>\n      <td>(CNN)Never mind cats having nine lives. A stra...</td>\n      <td>411</td>\n      <td>Theia, a bully breed mix, was apparently hit b...</td>\n    </tr>\n    <tr>\n      <th>2</th>\n      <td>(CNN)If you've been following the news lately,...</td>\n      <td>704</td>\n      <td>Mohammad Javad Zarif has spent more time with ...</td>\n    </tr>\n  </tbody>\n</table>\n</div>"
     },
     "execution_count": 43,
     "metadata": {},
     "output_type": "execute_result"
    }
   ],
   "source": [
    "cnn_data = pd.read_parquet(source_data_path)\n",
    "cnn_data['word_count'] = cnn_data['article'].str.split().apply(len).values\n",
    "cnn_data = cnn_data.rename({'article': 'text', 'highlights': 'golden'}, axis=1)\n",
    "cnn_data = cnn_data.drop('id', axis=1)\n",
    "cnn_data = cnn_data[['text', 'word_count', 'golden']]\n",
    "cnn_data.head(3)"
   ],
   "metadata": {
    "collapsed": false,
    "ExecuteTime": {
     "end_time": "2023-10-29T09:05:59.655297Z",
     "start_time": "2023-10-29T09:05:59.300122Z"
    }
   },
   "id": "6614a4667d665fbc"
  },
  {
   "cell_type": "code",
   "execution_count": 133,
   "outputs": [],
   "source": [
    "# cnn_data.word_count.hist()"
   ],
   "metadata": {
    "collapsed": false,
    "ExecuteTime": {
     "end_time": "2023-10-29T15:27:34.509948Z",
     "start_time": "2023-10-29T15:27:34.505714Z"
    }
   },
   "id": "94f167bd0c20a59b"
  },
  {
   "cell_type": "code",
   "execution_count": 45,
   "outputs": [],
   "source": [
    "cnn_data_sampled_short_input = cnn_data[cnn_data.word_count < 200].sample(3, random_state=42)\n",
    "cnn_data_sampled_medium_input = cnn_data[(cnn_data.word_count > 200) &\n",
    "                                         (cnn_data.word_count < 500)].sample(3, random_state=42)\n",
    "cnn_data_sampled_long_input = cnn_data[(cnn_data.word_count > 750)].sample(3, random_state=42)"
   ],
   "metadata": {
    "collapsed": false,
    "ExecuteTime": {
     "end_time": "2023-10-29T09:06:03.845273Z",
     "start_time": "2023-10-29T09:06:03.838312Z"
    }
   },
   "id": "e8edbc9bd6291de5"
  },
  {
   "cell_type": "code",
   "execution_count": 46,
   "outputs": [],
   "source": [
    "cnn_data_sampled = pd.concat([cnn_data_sampled_short_input,\n",
    "                              cnn_data_sampled_medium_input,\n",
    "                              cnn_data_sampled_long_input]).reset_index(drop=True)"
   ],
   "metadata": {
    "collapsed": false,
    "ExecuteTime": {
     "end_time": "2023-10-29T09:06:04.613773Z",
     "start_time": "2023-10-29T09:06:04.607603Z"
    }
   },
   "id": "a1c22e34ab57c581"
  },
  {
   "cell_type": "code",
   "execution_count": 47,
   "outputs": [
    {
     "data": {
      "text/plain": "                                                text  word_count  \\\n0  (CNN)A mammoth fire broke out Friday morning i...         143   \n1  Hull, Leicester and Swansea City are following...         147   \n2  Sportsmail have teamed up with Golfbidder to o...         123   \n3  The time is right for Manchester United target...         260   \n4  A road rage incident caught on camera shows a ...         422   \n5  Usually parents get to work teaching children ...         213   \n6  Jose Mourinho insists Manchester United's inju...        1093   \n7  Real Madrid closed the gap on Barcelona to jus...        1226   \n8  A new model for HIV progression shows that it ...         820   \n\n                                              golden  \n0  Fire breaks out at the General Electric Applia...  \n1  Hull's chief scout Stan Ternent has watched  M...  \n2  Sportsmail have teamed up with Golfbidder for ...  \n3  Mats Hummels admits he is considering his Boru...  \n4  A man was caught on video savagely beating an ...  \n5  American YouTube user KentuckyFriedIdiot filme...  \n6  United are without Marcos Rojo, Phil Jones, Mi...  \n7  Sergio Ramos opened the scoring for Real Madri...  \n8  New model accurately predicted patients' progr...  ",
      "text/html": "<div>\n<style scoped>\n    .dataframe tbody tr th:only-of-type {\n        vertical-align: middle;\n    }\n\n    .dataframe tbody tr th {\n        vertical-align: top;\n    }\n\n    .dataframe thead th {\n        text-align: right;\n    }\n</style>\n<table border=\"1\" class=\"dataframe\">\n  <thead>\n    <tr style=\"text-align: right;\">\n      <th></th>\n      <th>text</th>\n      <th>word_count</th>\n      <th>golden</th>\n    </tr>\n  </thead>\n  <tbody>\n    <tr>\n      <th>0</th>\n      <td>(CNN)A mammoth fire broke out Friday morning i...</td>\n      <td>143</td>\n      <td>Fire breaks out at the General Electric Applia...</td>\n    </tr>\n    <tr>\n      <th>1</th>\n      <td>Hull, Leicester and Swansea City are following...</td>\n      <td>147</td>\n      <td>Hull's chief scout Stan Ternent has watched  M...</td>\n    </tr>\n    <tr>\n      <th>2</th>\n      <td>Sportsmail have teamed up with Golfbidder to o...</td>\n      <td>123</td>\n      <td>Sportsmail have teamed up with Golfbidder for ...</td>\n    </tr>\n    <tr>\n      <th>3</th>\n      <td>The time is right for Manchester United target...</td>\n      <td>260</td>\n      <td>Mats Hummels admits he is considering his Boru...</td>\n    </tr>\n    <tr>\n      <th>4</th>\n      <td>A road rage incident caught on camera shows a ...</td>\n      <td>422</td>\n      <td>A man was caught on video savagely beating an ...</td>\n    </tr>\n    <tr>\n      <th>5</th>\n      <td>Usually parents get to work teaching children ...</td>\n      <td>213</td>\n      <td>American YouTube user KentuckyFriedIdiot filme...</td>\n    </tr>\n    <tr>\n      <th>6</th>\n      <td>Jose Mourinho insists Manchester United's inju...</td>\n      <td>1093</td>\n      <td>United are without Marcos Rojo, Phil Jones, Mi...</td>\n    </tr>\n    <tr>\n      <th>7</th>\n      <td>Real Madrid closed the gap on Barcelona to jus...</td>\n      <td>1226</td>\n      <td>Sergio Ramos opened the scoring for Real Madri...</td>\n    </tr>\n    <tr>\n      <th>8</th>\n      <td>A new model for HIV progression shows that it ...</td>\n      <td>820</td>\n      <td>New model accurately predicted patients' progr...</td>\n    </tr>\n  </tbody>\n</table>\n</div>"
     },
     "execution_count": 47,
     "metadata": {},
     "output_type": "execute_result"
    }
   ],
   "source": [
    "cnn_data_sampled"
   ],
   "metadata": {
    "collapsed": false,
    "ExecuteTime": {
     "end_time": "2023-10-29T09:06:05.294783Z",
     "start_time": "2023-10-29T09:06:05.290264Z"
    }
   },
   "id": "8fdef1e55558cce4"
  },
  {
   "cell_type": "code",
   "execution_count": 48,
   "outputs": [
    {
     "data": {
      "text/plain": "                                                text  word_count  \\\n0  (CNN)A mammoth fire broke out Friday morning i...         143   \n1  Hull, Leicester and Swansea City are following...         147   \n2  Sportsmail have teamed up with Golfbidder to o...         123   \n3  The time is right for Manchester United target...         260   \n4  A road rage incident caught on camera shows a ...         422   \n5  Usually parents get to work teaching children ...         213   \n6  Jose Mourinho insists Manchester United's inju...        1093   \n7  Real Madrid closed the gap on Barcelona to jus...        1226   \n8  A new model for HIV progression shows that it ...         820   \n\n                                              golden notion grammarly  \n0  Fire breaks out at the General Electric Applia...                   \n1  Hull's chief scout Stan Ternent has watched  M...                   \n2  Sportsmail have teamed up with Golfbidder for ...                   \n3  Mats Hummels admits he is considering his Boru...                   \n4  A man was caught on video savagely beating an ...                   \n5  American YouTube user KentuckyFriedIdiot filme...                   \n6  United are without Marcos Rojo, Phil Jones, Mi...                   \n7  Sergio Ramos opened the scoring for Real Madri...                   \n8  New model accurately predicted patients' progr...                   ",
      "text/html": "<div>\n<style scoped>\n    .dataframe tbody tr th:only-of-type {\n        vertical-align: middle;\n    }\n\n    .dataframe tbody tr th {\n        vertical-align: top;\n    }\n\n    .dataframe thead th {\n        text-align: right;\n    }\n</style>\n<table border=\"1\" class=\"dataframe\">\n  <thead>\n    <tr style=\"text-align: right;\">\n      <th></th>\n      <th>text</th>\n      <th>word_count</th>\n      <th>golden</th>\n      <th>notion</th>\n      <th>grammarly</th>\n    </tr>\n  </thead>\n  <tbody>\n    <tr>\n      <th>0</th>\n      <td>(CNN)A mammoth fire broke out Friday morning i...</td>\n      <td>143</td>\n      <td>Fire breaks out at the General Electric Applia...</td>\n      <td></td>\n      <td></td>\n    </tr>\n    <tr>\n      <th>1</th>\n      <td>Hull, Leicester and Swansea City are following...</td>\n      <td>147</td>\n      <td>Hull's chief scout Stan Ternent has watched  M...</td>\n      <td></td>\n      <td></td>\n    </tr>\n    <tr>\n      <th>2</th>\n      <td>Sportsmail have teamed up with Golfbidder to o...</td>\n      <td>123</td>\n      <td>Sportsmail have teamed up with Golfbidder for ...</td>\n      <td></td>\n      <td></td>\n    </tr>\n    <tr>\n      <th>3</th>\n      <td>The time is right for Manchester United target...</td>\n      <td>260</td>\n      <td>Mats Hummels admits he is considering his Boru...</td>\n      <td></td>\n      <td></td>\n    </tr>\n    <tr>\n      <th>4</th>\n      <td>A road rage incident caught on camera shows a ...</td>\n      <td>422</td>\n      <td>A man was caught on video savagely beating an ...</td>\n      <td></td>\n      <td></td>\n    </tr>\n    <tr>\n      <th>5</th>\n      <td>Usually parents get to work teaching children ...</td>\n      <td>213</td>\n      <td>American YouTube user KentuckyFriedIdiot filme...</td>\n      <td></td>\n      <td></td>\n    </tr>\n    <tr>\n      <th>6</th>\n      <td>Jose Mourinho insists Manchester United's inju...</td>\n      <td>1093</td>\n      <td>United are without Marcos Rojo, Phil Jones, Mi...</td>\n      <td></td>\n      <td></td>\n    </tr>\n    <tr>\n      <th>7</th>\n      <td>Real Madrid closed the gap on Barcelona to jus...</td>\n      <td>1226</td>\n      <td>Sergio Ramos opened the scoring for Real Madri...</td>\n      <td></td>\n      <td></td>\n    </tr>\n    <tr>\n      <th>8</th>\n      <td>A new model for HIV progression shows that it ...</td>\n      <td>820</td>\n      <td>New model accurately predicted patients' progr...</td>\n      <td></td>\n      <td></td>\n    </tr>\n  </tbody>\n</table>\n</div>"
     },
     "execution_count": 48,
     "metadata": {},
     "output_type": "execute_result"
    }
   ],
   "source": [
    "# add reference columns\n",
    "cols_to_add = ['notion', 'grammarly']\n",
    "cnn_data_sampled[cols_to_add] = \"\"\n",
    "# cnn_data_sampled = cnn_data_sampled.reindex(columns = cnn_data_sampled.columns.tolist() + cols_to_add)\n",
    "cnn_data_sampled"
   ],
   "metadata": {
    "collapsed": false,
    "ExecuteTime": {
     "end_time": "2023-10-29T09:06:31.196687Z",
     "start_time": "2023-10-29T09:06:31.193472Z"
    }
   },
   "id": "45dc9a34f23e197"
  },
  {
   "cell_type": "code",
   "execution_count": 68,
   "outputs": [],
   "source": [
    "json_path = 'data/summarization/text_files'\n",
    "data_file_name = 'txt_dataset_summarizer.json'\n",
    "cnn_data_sampled.to_json(f'{json_path}/{data_file_name}', orient='index', indent=4, force_ascii=True)"
   ],
   "metadata": {
    "collapsed": false,
    "ExecuteTime": {
     "end_time": "2023-10-29T09:27:01.920858Z",
     "start_time": "2023-10-29T09:27:01.909751Z"
    }
   },
   "id": "a47d7a39b95b4fa1"
  },
  {
   "cell_type": "markdown",
   "source": [
    "## Generate config json"
   ],
   "metadata": {
    "collapsed": false
   },
   "id": "ef046520154f2af7"
  },
  {
   "cell_type": "code",
   "execution_count": 27,
   "outputs": [],
   "source": [
    "conf_file_name = 'txt_dataset_summarizer_config.json'"
   ],
   "metadata": {
    "collapsed": false,
    "ExecuteTime": {
     "end_time": "2023-10-30T09:34:47.126724Z",
     "start_time": "2023-10-30T09:34:47.118622Z"
    }
   },
   "id": "495d9ba0a8c8ef72"
  },
  {
   "cell_type": "code",
   "execution_count": 31,
   "outputs": [],
   "source": [
    "config_dict = {\n",
    "    \"current_doc_summarizer\": {\n",
    "        'model_name': 'text-davinci-003',\n",
    "        'api_version': '2023-05-15',\n",
    "        'temperature': 0.0,\n",
    "        'max_tokens': 200,\n",
    "        'prompt_template': 'summarize the following text: {input_text}'\n",
    "    },\n",
    "    \"current_update_summarizer\": {\n",
    "        'model_name': 'text-davinci-003',\n",
    "        'api_version': '2023-05-15',\n",
    "        'temperature': 0.0,\n",
    "        'max_tokens': 200,\n",
    "        'prompt_template': 'summarize the following text: {input_text}'\n",
    "    }\n",
    "}"
   ],
   "metadata": {
    "collapsed": false,
    "ExecuteTime": {
     "end_time": "2023-10-30T09:35:30.018965Z",
     "start_time": "2023-10-30T09:35:30.014213Z"
    }
   },
   "id": "d193f17690dfe8f3"
  },
  {
   "cell_type": "code",
   "execution_count": 32,
   "outputs": [],
   "source": [
    "with open(f'{json_path}/{conf_file_name}', 'w', encoding='utf-8') as f:\n",
    "    json.dump(config_dict, f, ensure_ascii=False, indent=4)"
   ],
   "metadata": {
    "collapsed": false,
    "ExecuteTime": {
     "end_time": "2023-10-30T09:35:31.853117Z",
     "start_time": "2023-10-30T09:35:31.845805Z"
    }
   },
   "id": "1dba748a234abd3"
  }
 ],
 "metadata": {
  "kernelspec": {
   "display_name": "Python 3",
   "language": "python",
   "name": "python3"
  },
  "language_info": {
   "codemirror_mode": {
    "name": "ipython",
    "version": 2
   },
   "file_extension": ".py",
   "mimetype": "text/x-python",
   "name": "python",
   "nbconvert_exporter": "python",
   "pygments_lexer": "ipython2",
   "version": "2.7.6"
  }
 },
 "nbformat": 4,
 "nbformat_minor": 5
}
