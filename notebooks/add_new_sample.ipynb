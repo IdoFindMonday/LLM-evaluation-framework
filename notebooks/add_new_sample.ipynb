{
 "cells": [
  {
   "cell_type": "code",
   "execution_count": 3,
   "id": "initial_id",
   "metadata": {
    "collapsed": true,
    "ExecuteTime": {
     "end_time": "2023-10-30T09:39:56.733603Z",
     "start_time": "2023-10-30T09:39:56.454721Z"
    }
   },
   "outputs": [],
   "source": [
    "import pandas as pd\n",
    "import json"
   ]
  },
  {
   "cell_type": "markdown",
   "source": [
    "### read data"
   ],
   "metadata": {
    "collapsed": false
   },
   "id": "8b4dcede99fb2b31"
  },
  {
   "cell_type": "code",
   "execution_count": 10,
   "outputs": [],
   "source": [
    "json_path = 'data/summarization/text_files'\n",
    "data_file_name = 'txt_dataset_summarizer.json'\n",
    "conf_file_name = 'txt_dataset_summarizer_config.json'"
   ],
   "metadata": {
    "collapsed": false,
    "ExecuteTime": {
     "end_time": "2023-10-30T09:44:35.711195Z",
     "start_time": "2023-10-30T09:44:35.707641Z"
    }
   },
   "id": "3579bbe1db219dd3"
  },
  {
   "cell_type": "code",
   "execution_count": 9,
   "outputs": [
    {
     "data": {
      "text/plain": "                                                text  word_count  \\\n0  (CNN)A mammoth fire broke out Friday morning i...         143   \n1  Hull, Leicester and Swansea City are following...         147   \n2  Sportsmail have teamed up with Golfbidder to o...         123   \n3  The time is right for Manchester United target...         260   \n4  Jose Mourinho insists Manchester United's inju...        1093   \n5  \\nWe’ve made a few updates to Workforms recent...         108   \n\n                                              golden  \\\n0  Fire breaks out at the General Electric Applia...   \n1  Hull's chief scout Stan Ternent has watched  M...   \n2  Sportsmail have teamed up with Golfbidder for ...   \n3  Mats Hummels admits he is considering his Boru...   \n4  United are without Marcos Rojo, Phil Jones, Mi...   \n5                                                      \n\n                                              notion  \\\n0  A massive fire broke out at the General Electr...   \n1  Hull, Leicester, and Swansea City are interest...   \n2  Sportsmail and Golfbidder have partnered to of...   \n3  Germany legend Franz Beckenbauer believes that...   \n4  Jose Mourinho believes Manchester United's inj...   \n5  Workforms has introduced new updates including...   \n\n                                           grammarly  \\\n0  A massive fire broke out at the General Electr...   \n1  Hull, Leicester, and Swansea City are interest...   \n2  Sportsmail and Golfbidder are running a compet...   \n3  German football legend Franz Beckenbauer has s...   \n4                          <not support this length>   \n5  Workforms has recently undergone updates, incl...   \n\n                             current_doc_summarizier  \\\n0  A large fire broke out Friday morning in the G...   \n1  Maciej Rybus, a 25-year-old Polish internation...   \n2  Sportsmail have partnered with Golfbidder to o...   \n3  Germany legend Franz Beckenbauer believes that...   \n4  Jose Mourinho believes Manchester United will ...   \n5  Workforms has recently released several update...   \n\n                           current_update_summarizer  \\\n0  A large fire broke out Friday morning in the G...   \n1  Maciej Rybus, a 25-year-old Polish internation...   \n2  Sportsmail and Golfbidder have teamed up to of...   \n3  Mats Hummels is considering his future at Boru...   \n4  Jose Mourinho believes Manchester United will ...   \n5  Workforms has recently been updated with two n...   \n\n                                version_1_summarizer  \n0  Title: Fire Breaks Out in Kentucky Industrial ...  \n1  Title: Maciej Rybus Followed by Hull, Leiceste...  \n2  Title: Win a Callaway Golf Prize Bundle Worth ...  \n3  Title: Franz Beckenbauer Believes Now is the R...  \n4  Title: Mourinho Insists Injury Crisis Will Not...  \n5  Title: Workforms Updates\\n\\nRecent updates to ...  ",
      "text/html": "<div>\n<style scoped>\n    .dataframe tbody tr th:only-of-type {\n        vertical-align: middle;\n    }\n\n    .dataframe tbody tr th {\n        vertical-align: top;\n    }\n\n    .dataframe thead th {\n        text-align: right;\n    }\n</style>\n<table border=\"1\" class=\"dataframe\">\n  <thead>\n    <tr style=\"text-align: right;\">\n      <th></th>\n      <th>text</th>\n      <th>word_count</th>\n      <th>golden</th>\n      <th>notion</th>\n      <th>grammarly</th>\n      <th>current_doc_summarizier</th>\n      <th>current_update_summarizer</th>\n      <th>version_1_summarizer</th>\n    </tr>\n  </thead>\n  <tbody>\n    <tr>\n      <th>0</th>\n      <td>(CNN)A mammoth fire broke out Friday morning i...</td>\n      <td>143</td>\n      <td>Fire breaks out at the General Electric Applia...</td>\n      <td>A massive fire broke out at the General Electr...</td>\n      <td>A massive fire broke out at the General Electr...</td>\n      <td>A large fire broke out Friday morning in the G...</td>\n      <td>A large fire broke out Friday morning in the G...</td>\n      <td>Title: Fire Breaks Out in Kentucky Industrial ...</td>\n    </tr>\n    <tr>\n      <th>1</th>\n      <td>Hull, Leicester and Swansea City are following...</td>\n      <td>147</td>\n      <td>Hull's chief scout Stan Ternent has watched  M...</td>\n      <td>Hull, Leicester, and Swansea City are interest...</td>\n      <td>Hull, Leicester, and Swansea City are interest...</td>\n      <td>Maciej Rybus, a 25-year-old Polish internation...</td>\n      <td>Maciej Rybus, a 25-year-old Polish internation...</td>\n      <td>Title: Maciej Rybus Followed by Hull, Leiceste...</td>\n    </tr>\n    <tr>\n      <th>2</th>\n      <td>Sportsmail have teamed up with Golfbidder to o...</td>\n      <td>123</td>\n      <td>Sportsmail have teamed up with Golfbidder for ...</td>\n      <td>Sportsmail and Golfbidder have partnered to of...</td>\n      <td>Sportsmail and Golfbidder are running a compet...</td>\n      <td>Sportsmail have partnered with Golfbidder to o...</td>\n      <td>Sportsmail and Golfbidder have teamed up to of...</td>\n      <td>Title: Win a Callaway Golf Prize Bundle Worth ...</td>\n    </tr>\n    <tr>\n      <th>3</th>\n      <td>The time is right for Manchester United target...</td>\n      <td>260</td>\n      <td>Mats Hummels admits he is considering his Boru...</td>\n      <td>Germany legend Franz Beckenbauer believes that...</td>\n      <td>German football legend Franz Beckenbauer has s...</td>\n      <td>Germany legend Franz Beckenbauer believes that...</td>\n      <td>Mats Hummels is considering his future at Boru...</td>\n      <td>Title: Franz Beckenbauer Believes Now is the R...</td>\n    </tr>\n    <tr>\n      <th>4</th>\n      <td>Jose Mourinho insists Manchester United's inju...</td>\n      <td>1093</td>\n      <td>United are without Marcos Rojo, Phil Jones, Mi...</td>\n      <td>Jose Mourinho believes Manchester United's inj...</td>\n      <td>&lt;not support this length&gt;</td>\n      <td>Jose Mourinho believes Manchester United will ...</td>\n      <td>Jose Mourinho believes Manchester United will ...</td>\n      <td>Title: Mourinho Insists Injury Crisis Will Not...</td>\n    </tr>\n    <tr>\n      <th>5</th>\n      <td>\\nWe’ve made a few updates to Workforms recent...</td>\n      <td>108</td>\n      <td></td>\n      <td>Workforms has introduced new updates including...</td>\n      <td>Workforms has recently undergone updates, incl...</td>\n      <td>Workforms has recently released several update...</td>\n      <td>Workforms has recently been updated with two n...</td>\n      <td>Title: Workforms Updates\\n\\nRecent updates to ...</td>\n    </tr>\n  </tbody>\n</table>\n</div>"
     },
     "execution_count": 9,
     "metadata": {},
     "output_type": "execute_result"
    }
   ],
   "source": [
    "data = pd.read_json(f'{json_path}/{data_file_name}', orient='index')\n",
    "with open(f'{json_path}/{conf_file_name}') as f:\n",
    "    conf_json = json.load(f)\n",
    "\n",
    "data.head(3)"
   ],
   "metadata": {
    "collapsed": false,
    "ExecuteTime": {
     "end_time": "2023-10-30T09:42:43.845162Z",
     "start_time": "2023-10-30T09:42:43.825227Z"
    }
   },
   "id": "3070c442a7af432b"
  },
  {
   "cell_type": "markdown",
   "source": [
    "## add new record"
   ],
   "metadata": {
    "collapsed": false
   },
   "id": "5a91f673f719c6ce"
  },
  {
   "cell_type": "code",
   "execution_count": 9,
   "outputs": [
    {
     "data": {
      "text/plain": "                                                text  word_count  \\\n0  (CNN)A mammoth fire broke out Friday morning i...         143   \n1  Hull, Leicester and Swansea City are following...         147   \n2  Sportsmail have teamed up with Golfbidder to o...         123   \n3  The time is right for Manchester United target...         260   \n4  Jose Mourinho insists Manchester United's inju...        1093   \n5  \\nWe’ve made a few updates to Workforms recent...         108   \n6  \\nWe’ve made a few updates to Workforms recent...         108   \n\n                                              golden  \\\n0  Fire breaks out at the General Electric Applia...   \n1  Hull's chief scout Stan Ternent has watched  M...   \n2  Sportsmail have teamed up with Golfbidder for ...   \n3  Mats Hummels admits he is considering his Boru...   \n4  United are without Marcos Rojo, Phil Jones, Mi...   \n5                                                      \n6                                                      \n\n                                              notion  \\\n0  A massive fire broke out at the General Electr...   \n1  Hull, Leicester, and Swansea City are interest...   \n2  Sportsmail and Golfbidder have partnered to of...   \n3  Germany legend Franz Beckenbauer believes that...   \n4  Jose Mourinho believes Manchester United's inj...   \n5  Workforms has introduced new updates including...   \n6                                                      \n\n                                           grammarly  \\\n0  A massive fire broke out at the General Electr...   \n1  Hull, Leicester, and Swansea City are interest...   \n2  Sportsmail and Golfbidder are running a compet...   \n3  German football legend Franz Beckenbauer has s...   \n4                          <not support this length>   \n5  Workforms has recently undergone updates, incl...   \n6                                                      \n\n                             current_doc_summarizier  \\\n0  A large fire broke out Friday morning in the G...   \n1  Maciej Rybus, a 25-year-old Polish internation...   \n2  Sportsmail have partnered with Golfbidder to o...   \n3  Germany legend Franz Beckenbauer believes that...   \n4  Jose Mourinho believes Manchester United will ...   \n5  Workforms has recently released several update...   \n6                                                      \n\n                           current_update_summarizer  \\\n0  A large fire broke out Friday morning in the G...   \n1  Maciej Rybus, a 25-year-old Polish internation...   \n2  Sportsmail and Golfbidder have teamed up to of...   \n3  Mats Hummels is considering his future at Boru...   \n4  Jose Mourinho believes Manchester United will ...   \n5  Workforms has recently been updated with two n...   \n6                                                      \n\n                                version_1_summarizer  \n0  Title: Fire Breaks Out in Kentucky Industrial ...  \n1  Title: Maciej Rybus Followed by Hull, Leiceste...  \n2  Title: Win a Callaway Golf Prize Bundle Worth ...  \n3  Title: Franz Beckenbauer Believes Now is the R...  \n4  Title: Mourinho Insists Injury Crisis Will Not...  \n5  Title: Workforms Updates\\n\\nRecent updates to ...  \n6                                                NaN  ",
      "text/html": "<div>\n<style scoped>\n    .dataframe tbody tr th:only-of-type {\n        vertical-align: middle;\n    }\n\n    .dataframe tbody tr th {\n        vertical-align: top;\n    }\n\n    .dataframe thead th {\n        text-align: right;\n    }\n</style>\n<table border=\"1\" class=\"dataframe\">\n  <thead>\n    <tr style=\"text-align: right;\">\n      <th></th>\n      <th>text</th>\n      <th>word_count</th>\n      <th>golden</th>\n      <th>notion</th>\n      <th>grammarly</th>\n      <th>current_doc_summarizier</th>\n      <th>current_update_summarizer</th>\n      <th>version_1_summarizer</th>\n    </tr>\n  </thead>\n  <tbody>\n    <tr>\n      <th>0</th>\n      <td>(CNN)A mammoth fire broke out Friday morning i...</td>\n      <td>143</td>\n      <td>Fire breaks out at the General Electric Applia...</td>\n      <td>A massive fire broke out at the General Electr...</td>\n      <td>A massive fire broke out at the General Electr...</td>\n      <td>A large fire broke out Friday morning in the G...</td>\n      <td>A large fire broke out Friday morning in the G...</td>\n      <td>Title: Fire Breaks Out in Kentucky Industrial ...</td>\n    </tr>\n    <tr>\n      <th>1</th>\n      <td>Hull, Leicester and Swansea City are following...</td>\n      <td>147</td>\n      <td>Hull's chief scout Stan Ternent has watched  M...</td>\n      <td>Hull, Leicester, and Swansea City are interest...</td>\n      <td>Hull, Leicester, and Swansea City are interest...</td>\n      <td>Maciej Rybus, a 25-year-old Polish internation...</td>\n      <td>Maciej Rybus, a 25-year-old Polish internation...</td>\n      <td>Title: Maciej Rybus Followed by Hull, Leiceste...</td>\n    </tr>\n    <tr>\n      <th>2</th>\n      <td>Sportsmail have teamed up with Golfbidder to o...</td>\n      <td>123</td>\n      <td>Sportsmail have teamed up with Golfbidder for ...</td>\n      <td>Sportsmail and Golfbidder have partnered to of...</td>\n      <td>Sportsmail and Golfbidder are running a compet...</td>\n      <td>Sportsmail have partnered with Golfbidder to o...</td>\n      <td>Sportsmail and Golfbidder have teamed up to of...</td>\n      <td>Title: Win a Callaway Golf Prize Bundle Worth ...</td>\n    </tr>\n    <tr>\n      <th>3</th>\n      <td>The time is right for Manchester United target...</td>\n      <td>260</td>\n      <td>Mats Hummels admits he is considering his Boru...</td>\n      <td>Germany legend Franz Beckenbauer believes that...</td>\n      <td>German football legend Franz Beckenbauer has s...</td>\n      <td>Germany legend Franz Beckenbauer believes that...</td>\n      <td>Mats Hummels is considering his future at Boru...</td>\n      <td>Title: Franz Beckenbauer Believes Now is the R...</td>\n    </tr>\n    <tr>\n      <th>4</th>\n      <td>Jose Mourinho insists Manchester United's inju...</td>\n      <td>1093</td>\n      <td>United are without Marcos Rojo, Phil Jones, Mi...</td>\n      <td>Jose Mourinho believes Manchester United's inj...</td>\n      <td>&lt;not support this length&gt;</td>\n      <td>Jose Mourinho believes Manchester United will ...</td>\n      <td>Jose Mourinho believes Manchester United will ...</td>\n      <td>Title: Mourinho Insists Injury Crisis Will Not...</td>\n    </tr>\n    <tr>\n      <th>5</th>\n      <td>\\nWe’ve made a few updates to Workforms recent...</td>\n      <td>108</td>\n      <td></td>\n      <td>Workforms has introduced new updates including...</td>\n      <td>Workforms has recently undergone updates, incl...</td>\n      <td>Workforms has recently released several update...</td>\n      <td>Workforms has recently been updated with two n...</td>\n      <td>Title: Workforms Updates\\n\\nRecent updates to ...</td>\n    </tr>\n    <tr>\n      <th>6</th>\n      <td>\\nWe’ve made a few updates to Workforms recent...</td>\n      <td>108</td>\n      <td></td>\n      <td></td>\n      <td></td>\n      <td></td>\n      <td></td>\n      <td>NaN</td>\n    </tr>\n  </tbody>\n</table>\n</div>"
     },
     "execution_count": 9,
     "metadata": {},
     "output_type": "execute_result"
    }
   ],
   "source": [
    "# adding new record\n",
    "\n",
    "text = \"\"\"\n",
    "We’ve made a few updates to Workforms recently, so we thought we’d summarise the enhancements into a  short and sweet  post for our community!\n",
    "NEW UPDATES\n",
    "\\u2022 The People Column is now supported: Assign an item to a person or team without creating an automation!\n",
    "\\u2022 1:1 question format\n",
    "COMING SOON \n",
    "\\u2022 The Connect Board Column: Specify which items of the connected board are related to his/her submission.\n",
    "\\u2022 Submission analytics page: Take reporting to the next level, pull insightful analytics such as submission rate, average submission time, and split by geolocation, browser, and device of the form submitters.\n",
    "Check out more details here 24 and stay tuned! \n",
    "\"\"\"\n",
    "\n",
    "word_count = len(text.split())\n",
    "\n",
    "new_record_dict = {\n",
    "    \"text\": text,\n",
    "    \"word_count\": word_count,\n",
    "    \"golden\": \"\",\n",
    "    \"notion\": \"\",\n",
    "    \"grammarly\": \"\",\n",
    "    \"current_doc_summarizer\": \"\",\n",
    "    \"current_update_summarizer\": \"\",\n",
    "}\n",
    "\n",
    "new_record = pd.DataFrame(new_record_dict, index=[0])\n",
    "\n",
    "data = pd.concat([data, new_record]).reset_index(drop=True)\n",
    "data\n"
   ],
   "metadata": {
    "collapsed": false,
    "ExecuteTime": {
     "end_time": "2023-10-30T07:58:07.945386Z",
     "start_time": "2023-10-30T07:58:07.941090Z"
    }
   },
   "id": "6b0da5ba3934cdd2"
  },
  {
   "cell_type": "code",
   "execution_count": 132,
   "outputs": [],
   "source": [
    "# save\n",
    "data.to_json(json_path, orient='index', indent=4, force_ascii=True)"
   ],
   "metadata": {
    "collapsed": false,
    "ExecuteTime": {
     "end_time": "2023-10-29T15:07:40.527292Z",
     "start_time": "2023-10-29T15:07:40.523470Z"
    }
   },
   "id": "87cae5e4ae314d4a"
  },
  {
   "cell_type": "code",
   "execution_count": 12,
   "outputs": [],
   "source": [],
   "metadata": {
    "collapsed": false,
    "ExecuteTime": {
     "end_time": "2023-10-30T09:50:34.489407Z",
     "start_time": "2023-10-30T09:50:34.484332Z"
    }
   },
   "id": "1c1e45fa113514a8"
  }
 ],
 "metadata": {
  "kernelspec": {
   "display_name": "Python 3",
   "language": "python",
   "name": "python3"
  },
  "language_info": {
   "codemirror_mode": {
    "name": "ipython",
    "version": 2
   },
   "file_extension": ".py",
   "mimetype": "text/x-python",
   "name": "python",
   "nbconvert_exporter": "python",
   "pygments_lexer": "ipython2",
   "version": "2.7.6"
  }
 },
 "nbformat": 4,
 "nbformat_minor": 5
}
