{
 "cells": [
  {
   "cell_type": "code",
   "execution_count": 3,
   "id": "initial_id",
   "metadata": {
    "collapsed": true,
    "ExecuteTime": {
     "end_time": "2023-11-07T08:13:33.257536Z",
     "start_time": "2023-11-07T08:13:32.015206Z"
    }
   },
   "outputs": [],
   "source": [
    "import pandas as pd\n",
    "import json"
   ]
  },
  {
   "cell_type": "markdown",
   "source": [
    "## init data from parquet source"
   ],
   "metadata": {
    "collapsed": false
   },
   "id": "8a21ab1fe9873303"
  },
  {
   "cell_type": "code",
   "execution_count": 18,
   "outputs": [],
   "source": [
    "examples = [\n",
    "    \"Great job on the new website design! I love the updated color scheme.\",\n",
    "    \"Kudus to @Asaf for fixing the bugs in the activation flow! keep up the good work.\",\n",
    "    \"\"\"This is in addition to the already designed modal that will use all users after admin approval and contains terma nad CTA \"use\".\"\"\",\n",
    "    \"\"\"keep the same tone, correct grammer and speling mistake, and fine tune text to be written in great english.\"\"\"\n",
    "    \"\"\"hi, didnt liked the new design, can please try and make it more easy to understand? thanks.\"\"\",\n",
    "    \"\"\"I did some investigation and saw that the bullet-points are parsed has html objects, we should removed it before sending it to the API.\"\"\"\n",
    "]"
   ],
   "metadata": {
    "collapsed": false,
    "ExecuteTime": {
     "end_time": "2023-11-07T09:56:29.873630Z",
     "start_time": "2023-11-07T09:56:29.866148Z"
    }
   },
   "id": "5026ca9d76511c32"
  },
  {
   "cell_type": "code",
   "execution_count": 19,
   "outputs": [],
   "source": [
    "data = pd.DataFrame(examples,columns=['text'])\n",
    "data['char_count'] = data.text.apply(lambda x: len(x))\n",
    "cols_to_add = ['notion_improve', 'grammarly_improve']\n",
    "data[cols_to_add] = \"\""
   ],
   "metadata": {
    "collapsed": false,
    "ExecuteTime": {
     "end_time": "2023-11-07T09:56:31.050198Z",
     "start_time": "2023-11-07T09:56:31.048028Z"
    }
   },
   "id": "a084d872636ff400"
  },
  {
   "cell_type": "code",
   "execution_count": 20,
   "outputs": [
    {
     "data": {
      "text/plain": "                                                text  char_count  \\\n0  Great job on the new website design! I love th...          69   \n1  Kudus to @Asaf for fixing the bugs in the acti...          81   \n2  This is in addition to the already designed mo...         128   \n3  keep the same tone, correct grammer and spelin...         198   \n4  I did some investigation and saw that the bull...         135   \n\n  notion_improve grammarly_improve  \n0                                   \n1                                   \n2                                   \n3                                   \n4                                   ",
      "text/html": "<div>\n<style scoped>\n    .dataframe tbody tr th:only-of-type {\n        vertical-align: middle;\n    }\n\n    .dataframe tbody tr th {\n        vertical-align: top;\n    }\n\n    .dataframe thead th {\n        text-align: right;\n    }\n</style>\n<table border=\"1\" class=\"dataframe\">\n  <thead>\n    <tr style=\"text-align: right;\">\n      <th></th>\n      <th>text</th>\n      <th>char_count</th>\n      <th>notion_improve</th>\n      <th>grammarly_improve</th>\n    </tr>\n  </thead>\n  <tbody>\n    <tr>\n      <th>0</th>\n      <td>Great job on the new website design! I love th...</td>\n      <td>69</td>\n      <td></td>\n      <td></td>\n    </tr>\n    <tr>\n      <th>1</th>\n      <td>Kudus to @Asaf for fixing the bugs in the acti...</td>\n      <td>81</td>\n      <td></td>\n      <td></td>\n    </tr>\n    <tr>\n      <th>2</th>\n      <td>This is in addition to the already designed mo...</td>\n      <td>128</td>\n      <td></td>\n      <td></td>\n    </tr>\n    <tr>\n      <th>3</th>\n      <td>keep the same tone, correct grammer and spelin...</td>\n      <td>198</td>\n      <td></td>\n      <td></td>\n    </tr>\n    <tr>\n      <th>4</th>\n      <td>I did some investigation and saw that the bull...</td>\n      <td>135</td>\n      <td></td>\n      <td></td>\n    </tr>\n  </tbody>\n</table>\n</div>"
     },
     "execution_count": 20,
     "metadata": {},
     "output_type": "execute_result"
    }
   ],
   "source": [
    "data.head()"
   ],
   "metadata": {
    "collapsed": false,
    "ExecuteTime": {
     "end_time": "2023-11-07T09:56:33.089850Z",
     "start_time": "2023-11-07T09:56:33.086685Z"
    }
   },
   "id": "b589c1d9c0620a00"
  },
  {
   "cell_type": "code",
   "execution_count": 21,
   "outputs": [],
   "source": [
    "json_path = '../data/paraphrase/text_files'\n",
    "data_file_name = 'txt_dataset_paraphrase.json'\n",
    "data.to_json(f'{json_path}/{data_file_name}', orient='index', indent=4, force_ascii=True)"
   ],
   "metadata": {
    "collapsed": false,
    "ExecuteTime": {
     "end_time": "2023-11-07T09:56:35.566585Z",
     "start_time": "2023-11-07T09:56:35.562121Z"
    }
   },
   "id": "a47d7a39b95b4fa1"
  },
  {
   "cell_type": "markdown",
   "source": [
    "## Generate config json"
   ],
   "metadata": {
    "collapsed": false
   },
   "id": "ef046520154f2af7"
  },
  {
   "cell_type": "code",
   "execution_count": 22,
   "outputs": [],
   "source": [
    "conf_file_name = 'txt_dataset_paraphrase_config.json'"
   ],
   "metadata": {
    "collapsed": false,
    "ExecuteTime": {
     "end_time": "2023-11-07T09:56:38.129219Z",
     "start_time": "2023-11-07T09:56:38.124581Z"
    }
   },
   "id": "495d9ba0a8c8ef72"
  },
  {
   "cell_type": "code",
   "execution_count": 23,
   "outputs": [],
   "source": [
    "config_dict = {\n",
    "}"
   ],
   "metadata": {
    "collapsed": false,
    "ExecuteTime": {
     "end_time": "2023-11-07T09:56:38.934641Z",
     "start_time": "2023-11-07T09:56:38.930682Z"
    }
   },
   "id": "d193f17690dfe8f3"
  },
  {
   "cell_type": "code",
   "execution_count": 24,
   "outputs": [],
   "source": [
    "with open(f'{json_path}/{conf_file_name}', 'w', encoding='utf-8') as f:\n",
    "    json.dump(config_dict, f, ensure_ascii=False, indent=4)"
   ],
   "metadata": {
    "collapsed": false,
    "ExecuteTime": {
     "end_time": "2023-11-07T09:56:39.538553Z",
     "start_time": "2023-11-07T09:56:39.534867Z"
    }
   },
   "id": "1dba748a234abd3"
  }
 ],
 "metadata": {
  "kernelspec": {
   "display_name": "Python 3",
   "language": "python",
   "name": "python3"
  },
  "language_info": {
   "codemirror_mode": {
    "name": "ipython",
    "version": 2
   },
   "file_extension": ".py",
   "mimetype": "text/x-python",
   "name": "python",
   "nbconvert_exporter": "python",
   "pygments_lexer": "ipython2",
   "version": "2.7.6"
  }
 },
 "nbformat": 4,
 "nbformat_minor": 5
}
