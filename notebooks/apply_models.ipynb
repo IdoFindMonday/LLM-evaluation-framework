{
 "cells": [
  {
   "cell_type": "code",
   "execution_count": 1,
   "id": "initial_id",
   "metadata": {
    "collapsed": true,
    "ExecuteTime": {
     "end_time": "2023-11-19T15:36:12.684488Z",
     "start_time": "2023-11-19T15:36:12.389680Z"
    }
   },
   "outputs": [],
   "source": [
    "import pandas as pd\n",
    "import json"
   ]
  },
  {
   "cell_type": "markdown",
   "source": [
    "### read data and conf"
   ],
   "metadata": {
    "collapsed": false
   },
   "id": "8b4dcede99fb2b31"
  },
  {
   "cell_type": "code",
   "execution_count": 2,
   "outputs": [],
   "source": [
    "json_path = '../data/summarization/text_files'\n",
    "data_file_name = 'txt_dataset_summarizer.json'\n",
    "conf_file_name = 'txt_dataset_summarizer_config.json'"
   ],
   "metadata": {
    "collapsed": false,
    "ExecuteTime": {
     "end_time": "2023-11-19T15:36:13.565522Z",
     "start_time": "2023-11-19T15:36:13.560658Z"
    }
   },
   "id": "3579bbe1db219dd3"
  },
  {
   "cell_type": "code",
   "execution_count": 3,
   "outputs": [
    {
     "data": {
      "text/plain": "                                                text  word_count  \\\n0  (CNN)A mammoth fire broke out Friday morning i...         143   \n1  Hull, Leicester and Swansea City are following...         147   \n2  Sportsmail have teamed up with Golfbidder to o...         123   \n\n                                              golden  \\\n0  Fire breaks out at the General Electric Applia...   \n1  Hull's chief scout Stan Ternent has watched  M...   \n2  Sportsmail have teamed up with Golfbidder for ...   \n\n                                              notion  \\\n0  A massive fire broke out at the General Electr...   \n1  Hull, Leicester, and Swansea City are interest...   \n2  Sportsmail and Golfbidder have partnered to of...   \n\n                                           grammarly  \\\n0  A massive fire broke out at the General Electr...   \n1  Hull, Leicester, and Swansea City are interest...   \n2  Sportsmail and Golfbidder are running a compet...   \n\n                             current_doc_summarizier  \\\n0  A large fire broke out Friday morning in the G...   \n1  Maciej Rybus, a 25-year-old Polish internation...   \n2  Sportsmail have partnered with Golfbidder to o...   \n\n                           current_update_summarizer  \\\n0  A large fire broke out Friday morning in the G...   \n1  Maciej Rybus, a 25-year-old Polish internation...   \n2  Sportsmail and Golfbidder have teamed up to of...   \n\n                                version_1_summarizer  \\\n0  Title: Fire Breaks Out in Kentucky Industrial ...   \n1  Title: Maciej Rybus Followed by Hull, Leiceste...   \n2  Title: Win a Callaway Golf Prize Bundle Worth ...   \n\n                                version_2_summarizer  \\\n0  Title: Fire Breaks Out in Kentucky Industrial ...   \n1  Title: Maciej Rybus Followed by Hull, Leiceste...   \n2  Title: Win a Callaway Golf Prize Bundle Worth ...   \n\n                                version_3_summarizer  \\\n0  A fire broke out Friday morning in a Kentucky ...   \n1  Hull, Leicester and Swansea City are intereste...   \n2  One lucky reader has the chance to win a bundl...   \n\n                          version_2_turbo_summarizer  \\\n0  Title: Mammoth fire breaks out at Kentucky ind...   \n1  Title: Hull, Leicester and Swansea interested ...   \n2  Title: Win a bundle of Callaway golf clubs and...   \n\n                          version_3_turbo_summarizer  \n0  Title: Mammoth fire breaks out at Kentucky ind...  \n1  Title: Hull, Leicester and Swansea interested ...  \n2  Title: Win a bundle of Callaway golf clubs and...  ",
      "text/html": "<div>\n<style scoped>\n    .dataframe tbody tr th:only-of-type {\n        vertical-align: middle;\n    }\n\n    .dataframe tbody tr th {\n        vertical-align: top;\n    }\n\n    .dataframe thead th {\n        text-align: right;\n    }\n</style>\n<table border=\"1\" class=\"dataframe\">\n  <thead>\n    <tr style=\"text-align: right;\">\n      <th></th>\n      <th>text</th>\n      <th>word_count</th>\n      <th>golden</th>\n      <th>notion</th>\n      <th>grammarly</th>\n      <th>current_doc_summarizier</th>\n      <th>current_update_summarizer</th>\n      <th>version_1_summarizer</th>\n      <th>version_2_summarizer</th>\n      <th>version_3_summarizer</th>\n      <th>version_2_turbo_summarizer</th>\n      <th>version_3_turbo_summarizer</th>\n    </tr>\n  </thead>\n  <tbody>\n    <tr>\n      <th>0</th>\n      <td>(CNN)A mammoth fire broke out Friday morning i...</td>\n      <td>143</td>\n      <td>Fire breaks out at the General Electric Applia...</td>\n      <td>A massive fire broke out at the General Electr...</td>\n      <td>A massive fire broke out at the General Electr...</td>\n      <td>A large fire broke out Friday morning in the G...</td>\n      <td>A large fire broke out Friday morning in the G...</td>\n      <td>Title: Fire Breaks Out in Kentucky Industrial ...</td>\n      <td>Title: Fire Breaks Out in Kentucky Industrial ...</td>\n      <td>A fire broke out Friday morning in a Kentucky ...</td>\n      <td>Title: Mammoth fire breaks out at Kentucky ind...</td>\n      <td>Title: Mammoth fire breaks out at Kentucky ind...</td>\n    </tr>\n    <tr>\n      <th>1</th>\n      <td>Hull, Leicester and Swansea City are following...</td>\n      <td>147</td>\n      <td>Hull's chief scout Stan Ternent has watched  M...</td>\n      <td>Hull, Leicester, and Swansea City are interest...</td>\n      <td>Hull, Leicester, and Swansea City are interest...</td>\n      <td>Maciej Rybus, a 25-year-old Polish internation...</td>\n      <td>Maciej Rybus, a 25-year-old Polish internation...</td>\n      <td>Title: Maciej Rybus Followed by Hull, Leiceste...</td>\n      <td>Title: Maciej Rybus Followed by Hull, Leiceste...</td>\n      <td>Hull, Leicester and Swansea City are intereste...</td>\n      <td>Title: Hull, Leicester and Swansea interested ...</td>\n      <td>Title: Hull, Leicester and Swansea interested ...</td>\n    </tr>\n    <tr>\n      <th>2</th>\n      <td>Sportsmail have teamed up with Golfbidder to o...</td>\n      <td>123</td>\n      <td>Sportsmail have teamed up with Golfbidder for ...</td>\n      <td>Sportsmail and Golfbidder have partnered to of...</td>\n      <td>Sportsmail and Golfbidder are running a compet...</td>\n      <td>Sportsmail have partnered with Golfbidder to o...</td>\n      <td>Sportsmail and Golfbidder have teamed up to of...</td>\n      <td>Title: Win a Callaway Golf Prize Bundle Worth ...</td>\n      <td>Title: Win a Callaway Golf Prize Bundle Worth ...</td>\n      <td>One lucky reader has the chance to win a bundl...</td>\n      <td>Title: Win a bundle of Callaway golf clubs and...</td>\n      <td>Title: Win a bundle of Callaway golf clubs and...</td>\n    </tr>\n  </tbody>\n</table>\n</div>"
     },
     "execution_count": 3,
     "metadata": {},
     "output_type": "execute_result"
    }
   ],
   "source": [
    "data = pd.read_json(f'{json_path}/{data_file_name}', orient='index')\n",
    "with open(f'{json_path}/{conf_file_name}') as f:\n",
    "    conf_json = json.load(f)\n",
    "\n",
    "data.head(3)"
   ],
   "metadata": {
    "collapsed": false,
    "ExecuteTime": {
     "end_time": "2023-11-19T15:36:14.322082Z",
     "start_time": "2023-11-19T15:36:14.309147Z"
    }
   },
   "id": "3070c442a7af432b"
  },
  {
   "cell_type": "code",
   "execution_count": 4,
   "outputs": [
    {
     "name": "stdout",
     "output_type": "stream",
     "text": [
      "Workforms has recently undergone updates, including support for the People Column and a 1:1 question format. The Connect Board Column and a submission analytics page are also coming soon. Check out the details on their website.\n"
     ]
    }
   ],
   "source": [
    "print(data.iloc[5]['grammarly'])"
   ],
   "metadata": {
    "collapsed": false,
    "ExecuteTime": {
     "end_time": "2023-11-19T15:36:15.981559Z",
     "start_time": "2023-11-19T15:36:15.977770Z"
    }
   },
   "id": "3266318c18121133"
  },
  {
   "cell_type": "markdown",
   "source": [
    "# Building new prompts"
   ],
   "metadata": {
    "collapsed": false,
    "ExecuteTime": {
     "end_time": "2023-11-05T15:09:20.898036Z",
     "start_time": "2023-11-05T15:09:20.895440Z"
    }
   },
   "id": "314d671f345a7292"
  },
  {
   "cell_type": "code",
   "execution_count": 6,
   "outputs": [],
   "source": [
    "import openai\n",
    "import os\n",
    "from dotenv import load_dotenv\n",
    "from modules.openai.OpenaiModels import OpenaiCompletionWordLimit, OpenaiChatCompletionWordLimit\n",
    "\n",
    "load_dotenv()\n",
    "\n",
    "azure_openai_key = os.environ.get('AZURE_OPENAI_KEY')\n",
    "azure_openai_endpoint = os.environ.get('AZURE_OPENAI_ENDPOINT')\n",
    "\n",
    "openai.api_key = azure_openai_key\n",
    "openai.api_base = azure_openai_endpoint\n",
    "openai.api_type = \"azure\""
   ],
   "metadata": {
    "collapsed": false,
    "ExecuteTime": {
     "end_time": "2023-11-19T15:36:18.065519Z",
     "start_time": "2023-11-19T15:36:18.062079Z"
    }
   },
   "id": "d44634371492b68f"
  },
  {
   "cell_type": "code",
   "execution_count": 64,
   "outputs": [],
   "source": [
    "system_prompt = \"\"\"You are a helpful assistant. Using your deep linguistic understanding and knowledge, condense the essence of the content provided by the user in the ###input:''### section.\n",
    "  1. Retain the core ideas, crucial details, and significant context while omitting any extraneous information.\n",
    "  2. Please deliver a concise and coherent summary of the provided input.\n",
    "  3. Respond only in string using less than {{MAX_WORD_COUNT}} words.\n",
    "  4. The output structure should be as follow: Title:write here a proper title\\n\\nwrite here the summary\n",
    "  5. DONT use 'Summary:' before writing the actual summary.\n",
    "  \"\"\"\n",
    "\n",
    "user_prompt = \"\"\"###input:{input_text}###\n",
    "                Please summarize the input text in the required structure.\"\"\"\n",
    "\n",
    "version_3_5 = OpenaiChatCompletionWordLimit(model_name=\"gpt-3-5-turbo\",\n",
    "                                            api_version=\"2023-05-15\",\n",
    "                                            temperature=0.0,\n",
    "                                            max_tokens=200,\n",
    "                                            system_prompt_template=system_prompt,\n",
    "                                            user_prompt_template=user_prompt,\n",
    "                                            max_word_ratio=0.75)\n"
   ],
   "metadata": {
    "collapsed": false,
    "ExecuteTime": {
     "end_time": "2023-11-19T15:57:30.784170Z",
     "start_time": "2023-11-19T15:57:30.776019Z"
    }
   },
   "id": "b9be55d38e7a8b7d"
  },
  {
   "cell_type": "code",
   "execution_count": 66,
   "outputs": [
    {
     "name": "stdout",
     "output_type": "stream",
     "text": [
      "Title: Mammoth fire breaks out at Kentucky industrial park\n",
      "\n",
      "A fire broke out at General Electric Appliance Park in Louisville, Kentucky, causing thick smoke and bright orange flames. Firefighters worked to contain the damage, and there were no reports of injuries or trapped individuals. The cause of the fire is unknown, and the facility is known for revitalizing manufacturing in the US.\n",
      "\n",
      "----------------\n",
      "Title: Hull, Leicester and Swansea interested in Poland's Maciej Rybus\n",
      "\n",
      "Premier League clubs Hull, Leicester, and Swansea are monitoring the performance of Maciej Rybus, a 25-year-old winger from Poland who currently plays for Russian side Terek Grozny. Hull's chief scout, Stan Ternent, has watched him play, and Rybus has a get-out clause for £3.2 million. He has scored three goals in 27 appearances for club and country this season and impressed during Poland's 1-1 draw with Republic of Ireland last month.\n",
      "\n",
      "----------------\n",
      "Title: Win a bundle of Callaway golf clubs and accessories worth over £1,300\n",
      "\n",
      "Sportsmail and Golfbidder are offering a chance to win a bundle of Callaway golf clubs and accessories worth over £1,300. The prize includes a Callaway XR Driver, Callaway XR 3 Wood, Callaway XR Hybrid, a set of Callaway XR Irons, and a dozen Callaway Chrome Soft golf balls. To participate, click on the provided link.\n",
      "\n",
      "----------------\n",
      "Title: Manchester United target Mats Hummels at the right age to move to Premier League, says Franz Beckenbauer\n",
      "\n",
      "Germany legend Franz Beckenbauer believes that Borussia Dortmund defender Mats Hummels, who has been linked with a move to Manchester United, is at the perfect point in his career to make the switch to the Premier League. Hummels has admitted to considering his future at Dortmund and demanded a stronger team for next season. Beckenbauer thinks that at 26, Hummels is at the best age to make the move to England.\n",
      "\n",
      "----------------\n",
      "Title: Mourinho confident in United's squad despite injuries\n",
      "\n",
      "Jose Mourinho believes Manchester United's injury crisis will not weaken their team as they head to Chelsea for tomorrow's title clash. Louis van Gaal revealed he will be without Marcos Rojo, Phil Jones, Michael Carrick and Daley Blind at Stamford Bridge, but Mourinho responded by listing their lavish squad. Chelsea can move 10 points clear of second-placed Arsenal with three points against United. Mourinho is relishing the meeting with Manchester United, saying his players require no motivation.\n",
      "\n",
      "----------------\n",
      "Title: Recent Updates and Upcoming Features in Workforms\n",
      "\n",
      "Workforms has added support for assigning items to people or teams without creating an automation and introduced a 1:1 question format. Upcoming features include the Connect Board Column and a submission analytics page for insightful reporting. More details can be found on their website.\n",
      "\n",
      "----------------\n"
     ]
    }
   ],
   "source": [
    "for i in range(data.shape[0]):\n",
    "    print(version_3_5.call_llm(data.iloc[i].text))\n",
    "    print('\\n----------------\\n')"
   ],
   "metadata": {
    "collapsed": false,
    "ExecuteTime": {
     "end_time": "2023-11-19T15:57:40.826992Z",
     "start_time": "2023-11-19T15:57:33.896898Z"
    }
   },
   "id": "c200d1a429944f4c"
  },
  {
   "cell_type": "code",
   "execution_count": null,
   "outputs": [],
   "source": [],
   "metadata": {
    "collapsed": false
   },
   "id": "dc88f3b4ab12b92f"
  },
  {
   "cell_type": "code",
   "execution_count": 18,
   "outputs": [
    {
     "name": "stdout",
     "output_type": "stream",
     "text": [
      "Title: פעילות צבאית בבית הספר בלב עזה\n",
      "\n",
      "סגן אלוף זיו בואניש מוביל פעילות צבאית בבית הספר בלב עזה, בו נמצאה מחרטה לייצור רקטות. צוות צבאי זיהה מחבל במבנה סמוך ובוצע ירי מסיבי על המטרה. הלוחמים מעידים על שינוי מג\n"
     ]
    }
   ],
   "source": [
    "# version_2_template = \"\"\"Using your deep linguistic understanding and knowledge, condense the essence of the provided content.\\n Retain the core ideas, crucial details, and significant context while omitting any extraneous information.\\n Please deliver a concise and coherent summary of the following text.\\n The summary MUST be shorter or equal to {max_words} words.\\n The output MUST be a JSON object with the following schema:\n",
    "# {{\"title\":<the title>,\"body\":<the summary>}}\\n----------------------\\n\\nThe text to summarize: {input_text}\\n The output:\\n\"\"\"\n",
    "# \n",
    "# version_2_sum = OpenaiCompletionWordLimit(\n",
    "#     model_name=\"text-davinci-003\",\n",
    "#     api_version=\"2023-05-15\",\n",
    "#     temperature=0.0,\n",
    "#     max_tokens=512,\n",
    "#     prompt_template=version_2_template,\n",
    "#     max_word_ratio=0.75\n",
    "# )"
   ],
   "metadata": {
    "collapsed": false,
    "ExecuteTime": {
     "end_time": "2023-11-13T07:18:34.130245Z",
     "start_time": "2023-11-13T07:18:31.179285Z"
    }
   },
   "id": "26e0fbd4e3beca5d"
  },
  {
   "cell_type": "markdown",
   "source": [],
   "metadata": {
    "collapsed": false,
    "ExecuteTime": {
     "end_time": "2023-11-13T09:52:14.721331Z",
     "start_time": "2023-11-13T09:52:13.544959Z"
    }
   },
   "id": "eee023a52d29704a"
  },
  {
   "cell_type": "code",
   "execution_count": null,
   "outputs": [],
   "source": [
    "# try using function calls"
   ],
   "metadata": {
    "collapsed": false
   },
   "id": "acb25fe6335e02aa"
  },
  {
   "cell_type": "code",
   "execution_count": 40,
   "outputs": [
    {
     "data": {
      "text/plain": "'{\\n  \"title\": \"Massive fire at Kentucky industrial park\",\\n  \"summary\": \"A massive fire broke out at the General Electric Appliance Park in Louisville, Kentucky. The fire started early in the morning and sent thick smoke and bright orange flames into the air. Firefighters worked to contain the blaze, and there were no reports of injuries or trapped individuals. The cause of the fire is unknown, and the facility is described as revitalizing manufacturing in the United States.\"\\n}'"
     },
     "execution_count": 40,
     "metadata": {},
     "output_type": "execute_result"
    }
   ],
   "source": [
    "system_prompt = \"\"\"You are a helpful assistant. Using your deep linguistic understanding and knowledge, condense the essence of the content provided by the user in the ###input:''### section.\n",
    "1. Retain the core ideas, crucial details, and significant context while omitting any extraneous information.\n",
    "2. Please deliver a concise and coherent summary of the provided input.\n",
    "3. Respond only in string using less than '100' words.\n",
    "5. DONT use 'summary:' before writing the actual summary.\"\"\"\n",
    "\n",
    "user_prompt = \"\"\"###input:{input_text}###\n",
    "                Please summarize the input text in the required structure.\"\"\"\n",
    "\n",
    "# user_prompt = user_prompt.format(**{\"input_text\":data.iloc[0].text})\n",
    "\n",
    "messages_vals = [\n",
    "    {\"role\": \"system\", \"content\": 'you are an ai assistant'},\n",
    "    {\"role\": \"user\", \"content\": 'tell me something funny'}\n",
    "]\n",
    "\n",
    "model_name = \"gpt-3-5-turbo\",\n",
    "api_version = \"2023-05-15\"\n",
    "\n",
    "response = openai.ChatCompletion.create(\n",
    "    engine=model_name,\n",
    "    api_version=api_version,\n",
    "    messages=messages_vals,\n",
    "    temperature=0.0,\n",
    "    max_tokens=512\n",
    ")"
   ],
   "metadata": {
    "collapsed": false,
    "ExecuteTime": {
     "end_time": "2023-11-13T13:43:26.575132Z",
     "start_time": "2023-11-13T13:43:24.925342Z"
    }
   },
   "id": "5b0f052199ba1ab6"
  },
  {
   "cell_type": "code",
   "execution_count": 29,
   "outputs": [
    {
     "data": {
      "text/plain": "<OpenAIObject chat.completion id=chatcmpl-8KRL1BRRECIfhSlBbRnCvhg9GasZK at 0x1751754a0> JSON: {\n  \"id\": \"chatcmpl-8KRL1BRRECIfhSlBbRnCvhg9GasZK\",\n  \"object\": \"chat.completion\",\n  \"created\": 1699882339,\n  \"model\": \"gpt-35-turbo-16k\",\n  \"prompt_filter_results\": [\n    {\n      \"prompt_index\": 0,\n      \"content_filter_results\": {\n        \"hate\": {\n          \"filtered\": false,\n          \"severity\": \"safe\"\n        },\n        \"self_harm\": {\n          \"filtered\": false,\n          \"severity\": \"safe\"\n        },\n        \"sexual\": {\n          \"filtered\": false,\n          \"severity\": \"safe\"\n        },\n        \"violence\": {\n          \"filtered\": false,\n          \"severity\": \"safe\"\n        }\n      }\n    }\n  ],\n  \"choices\": [\n    {\n      \"index\": 0,\n      \"finish_reason\": \"stop\",\n      \"message\": {\n        \"role\": \"assistant\",\n        \"function_call\": {\n          \"name\": \"return_summary\",\n          \"arguments\": \"{\\n  \\\"title\\\": \\\"Fire breaks out at Kentucky industrial park\\\",\\n  \\\"summary\\\": \\\"A massive fire erupted at the General Electric Appliance Park in Louisville, Kentucky. The blaze started early in the morning and sent thick smoke and bright orange flames into the air. Firefighters worked to contain the fire, but the cause is still unknown. Fortunately, there were no reports of injuries or trapped individuals. The facility is a large complex that is revitalizing manufacturing in the United States.\\\"\\n}\"\n        }\n      },\n      \"content_filter_results\": {}\n    }\n  ],\n  \"usage\": {\n    \"prompt_tokens\": 350,\n    \"completion_tokens\": 98,\n    \"total_tokens\": 448\n  }\n}"
     },
     "execution_count": 29,
     "metadata": {},
     "output_type": "execute_result"
    }
   ],
   "source": [
    "openai.ChatCompletion.create(engine=model_name, api_version=api_version,\n",
    "                             messages=[{'role': 'user', 'content': 'tell me something funny.'}])"
   ],
   "metadata": {
    "collapsed": false,
    "ExecuteTime": {
     "end_time": "2023-11-13T13:32:23.984522Z",
     "start_time": "2023-11-13T13:32:23.981829Z"
    }
   },
   "id": "7b86be9060c59339"
  },
  {
   "cell_type": "code",
   "execution_count": null,
   "outputs": [],
   "source": [
    "\"\"\"\n",
    "function getRecipe() {\n",
    "    // Create prompt text with user input\n",
    "    const prompt = `return a recipe for ${userInput}`;\n",
    "    //Define the JSON Schema by creating a schema object\n",
    "    const schema = {\n",
    "      \"type\": \"object\",\n",
    "      \"properties\": {\n",
    "        \"dish\": {\n",
    "          \"type\": \"string\",\n",
    "          \"description\": \"Descriptive title of the dish\"\n",
    "        },\n",
    "        \"ingredients\": {\n",
    "          \"type\": \"array\",\n",
    "          \"items\": {\"type\": \"string\"}\n",
    "        },\n",
    "        \"instructions\": {\n",
    "          \"type\": \"array\",\n",
    "          \"description\": \"Steps to prepare the recipe.\",\n",
    "          \"items\": {\"type\": \"string\"}\n",
    "        }\n",
    "      }\n",
    "    }\n",
    "    //Note the updated model and added functions and function_call lines\n",
    "    //Note that we pass our schema object to parameters\n",
    "    openai.createChatCompletion({\n",
    "      model: \"gpt-3.5-turbo-0613\",\n",
    "      messages: [\n",
    "        { role: \"system\", \"content\": \"You are a helpful recipe assistant.\" },\n",
    "        { role: \"user\", content: prompt }],\n",
    "      functions: [{ name: \"set_recipe\", parameters: schema }],\n",
    "      function_call: {name: \"set_recipe\"}\n",
    "\n",
    "    })\n",
    "      .then((completion) => {\n",
    "        // Note the updated location for the response\n",
    "        const generatedText =\n",
    "          completion.data.choices[0].message.function_call.arguments;\n",
    "        setRecipe(JSON.parse(generatedText));\n",
    "      })\n",
    "      .catch((error) => {\n",
    "        console.log(error);\n",
    "      });\n",
    "  }\n",
    "\"\"\""
   ],
   "metadata": {
    "collapsed": false
   },
   "id": "953295bd84d14c5"
  },
  {
   "cell_type": "code",
   "execution_count": null,
   "outputs": [],
   "source": [],
   "metadata": {
    "collapsed": false
   },
   "id": "763ac953298153ea"
  },
  {
   "cell_type": "code",
   "execution_count": null,
   "outputs": [],
   "source": [],
   "metadata": {
    "collapsed": false
   },
   "id": "a232e7c83c4166d9"
  },
  {
   "cell_type": "markdown",
   "source": [
    "### Apply on dataset"
   ],
   "metadata": {
    "collapsed": false,
    "ExecuteTime": {
     "end_time": "2023-11-13T13:34:02.532998Z",
     "start_time": "2023-11-13T13:34:02.531112Z"
    }
   },
   "id": "5541e3816e627a02"
  },
  {
   "cell_type": "code",
   "execution_count": 37,
   "outputs": [
    {
     "ename": "NameError",
     "evalue": "name 'version_3_5' is not defined",
     "output_type": "error",
     "traceback": [
      "\u001B[0;31m---------------------------------------------------------------------------\u001B[0m",
      "\u001B[0;31mNameError\u001B[0m                                 Traceback (most recent call last)",
      "Cell \u001B[0;32mIn[37], line 2\u001B[0m\n\u001B[1;32m      1\u001B[0m \u001B[38;5;66;03m# completion api\u001B[39;00m\n\u001B[0;32m----> 2\u001B[0m data[model_name] \u001B[38;5;241m=\u001B[39m data[\u001B[38;5;124m'\u001B[39m\u001B[38;5;124mtext\u001B[39m\u001B[38;5;124m'\u001B[39m]\u001B[38;5;241m.\u001B[39mapply(\u001B[43mversion_3_5\u001B[49m\u001B[38;5;241m.\u001B[39mcall_llm)\n",
      "\u001B[0;31mNameError\u001B[0m: name 'version_3_5' is not defined"
     ]
    }
   ],
   "source": [
    "model_name = \"version_3_turbo_summarizer\""
   ],
   "metadata": {
    "collapsed": false,
    "ExecuteTime": {
     "end_time": "2023-11-13T13:34:03.533565Z",
     "start_time": "2023-11-13T13:34:03.531528Z"
    }
   },
   "id": "28e60fd849cd9ffd"
  },
  {
   "cell_type": "code",
   "execution_count": 24,
   "outputs": [],
   "source": [
    "# completion api\n",
    "data[model_name] = data['text'].apply(version_3_5.call_llm)"
   ],
   "metadata": {
    "collapsed": false,
    "ExecuteTime": {
     "end_time": "2023-11-13T09:52:39.698828Z",
     "start_time": "2023-11-13T09:52:39.697488Z"
    }
   },
   "id": "742c39fd1cc398ab"
  },
  {
   "cell_type": "code",
   "execution_count": 25,
   "outputs": [],
   "source": [
    "print(data.iloc[5][model_name])"
   ],
   "metadata": {
    "collapsed": false,
    "ExecuteTime": {
     "end_time": "2023-11-13T09:52:51.170896Z",
     "start_time": "2023-11-13T09:52:42.095432Z"
    }
   },
   "id": "11a3a574fd61a970"
  },
  {
   "cell_type": "code",
   "execution_count": 37,
   "outputs": [
    {
     "name": "stdout",
     "output_type": "stream",
     "text": [
      "{\n",
      "    \"title\": \"Mourinho confident ahead of Chelsea's clash with Manchester United\",\n",
      "    \"summary\": \"Jose Mourinho believes Manchester United's injury crisis will not weaken their team as they head to Chelsea for tomorrow's title clash. Mourinho listed the lavish squad of Manchester United and said that they have amazing players, experience, and solutions. Chelsea can move 10 points clear of second-placed Arsenal with three points against United. Mourinho is relishing the meeting with Manchester United, saying his players require no motivation. Diego Costa will return to full training next week after making a quick recovery from a hamstring problem.\"\n",
      "}\n"
     ]
    }
   ],
   "source": [
    "# data = data.drop('larium_devinci_summarizer',axis=1)"
   ],
   "metadata": {
    "collapsed": false,
    "ExecuteTime": {
     "end_time": "2023-11-13T10:34:15.685053Z",
     "start_time": "2023-11-13T10:34:15.682073Z"
    }
   },
   "id": "89e22294afe6e290"
  },
  {
   "cell_type": "markdown",
   "source": [
    "### update config"
   ],
   "metadata": {
    "collapsed": false,
    "ExecuteTime": {
     "end_time": "2023-11-05T15:10:57.377043Z",
     "start_time": "2023-11-05T15:10:57.372546Z"
    }
   },
   "id": "1e322f26be407e4c"
  },
  {
   "cell_type": "code",
   "execution_count": 156,
   "outputs": [],
   "source": [
    "conf_json.update({model_name: version_3_5.get_config()})"
   ],
   "metadata": {
    "collapsed": false,
    "ExecuteTime": {
     "end_time": "2023-11-12T13:58:01.246580Z",
     "start_time": "2023-11-12T13:58:01.243517Z"
    }
   },
   "id": "e6aa6f512cd6a52d"
  },
  {
   "cell_type": "code",
   "execution_count": 157,
   "outputs": [
    {
     "data": {
      "text/plain": "{'current_doc_summarizer': {'model_name': 'text-davinci-003',\n  'api_version': '2023-05-15',\n  'temperature': 0.0,\n  'max_tokens': 200,\n  'prompt_template': 'summarize the following text: {input_text}'},\n 'current_update_summarizer': {'model_name': 'text-davinci-003',\n  'api_version': '2023-05-15',\n  'temperature': 0.0,\n  'max_tokens': 200,\n  'prompt_template': 'summarize the following text: {input_text}'},\n 'version_1_summarizer': {'model_name': 'text-davinci-003',\n  'api_version': '2023-05-15',\n  'temperature': 0.0,\n  'max_tokens': 200,\n  'prompt_template': 'Summarize the key points of the text provided between the []. The summary MUST be concise and shorter than {max_words} words. Also, the output should be in the following structure: \\n\\nTitle: <the title>\\n\\n<the summary>.  \\n----------------------\\nThe text to summarize: [{input_text}]\\n\\nThe concise summary:\\n',\n  'max_word_ratio': 0.6},\n 'version_2_summarizer': {'model_name': 'text-davinci-003',\n  'api_version': '2023-05-15',\n  'temperature': 0.0,\n  'max_tokens': 512,\n  'prompt_template': 'Using your deep linguistic understanding and knowledge, condense the essence of the provided content.\\n Retain the core ideas, crucial details, and significant context while omitting any extraneous information.\\n Please deliver a concise and coherent summary of the following text.\\n Respond only in string using less than {max_words} words.\\n The output MUST be in the following structure:\\nTitle: <the title>\\n<the summary>.\\n----------------------\\n\\nThe text to summarize: {input_text}\\nThe summary:\\n',\n  'max_word_ratio': 0.75},\n 'version_3_summarizer': {'model_name': 'text-davinci-003',\n  'api_version': '2023-05-15',\n  'temperature': 0.0,\n  'max_tokens': 512,\n  'prompt_template': 'Using your deep linguistic understanding and knowledge, condense the essence of the provided content. \\n        Retain the core ideas, crucial details, and significant context while omitting any extraneous information.\\n        Please deliver a concise and coherent summary of the following text of the user.\\n        Respond only in string.\\n        summarize this {input_text}'},\n 'version_2_turbo_summarizer': {'model_name': 'gpt-3-5-turbo',\n  'api_version': '2023-05-15',\n  'temperature': 0.0,\n  'max_tokens': 200,\n  'system_prompt_template': 'You are a helpful assistant. Using your deep linguistic understanding and knowledge, condense the essence of the content provided by the user.\\n Retain the core ideas, crucial details, and significant context while omitting any extraneous information.\\n Please deliver a concise and coherent summary of the provided text.\\n Respond only in string using less than {max_words} words.\\n The output MUST be in the following structure:\\nTitle: <the title>\\n<the summary>.',\n  'user_prompt_template': 'Please summarize the following text:{input_text}',\n  'top_p': 1,\n  'n': 1,\n  'max_word_ratio': 0.75},\n 'version_3_turbo_summarizer': {'model_name': 'gpt-3-5-turbo',\n  'api_version': '2023-05-15',\n  'temperature': 0.0,\n  'max_tokens': 200,\n  'system_prompt_template': \"You are a helpful assistant. Using your deep linguistic understanding and knowledge, condense the essence of the content provided by the user in the ###input:''### section.\\n1. Retain the core ideas, crucial details, and significant context while omitting any extraneous information.\\n2. Please deliver a concise and coherent summary of the provided input.\\n3. Respond only in string using less than {{MAX_WORD_COUNT}} words.\\n4. The output structure should be as follow: Title:write here a proper title\\n\\nwrite here the summary\\n5. DONT use 'summary:' before writing the actual summary.\",\n  'user_prompt_template': '###input:{input_text}###\\n                Please summarize the input text in the required structure.',\n  'top_p': 1,\n  'n': 1,\n  'max_word_ratio': 0.75}}"
     },
     "execution_count": 157,
     "metadata": {},
     "output_type": "execute_result"
    }
   ],
   "source": [
    "conf_json"
   ],
   "metadata": {
    "collapsed": false,
    "ExecuteTime": {
     "end_time": "2023-11-12T13:58:01.799400Z",
     "start_time": "2023-11-12T13:58:01.795355Z"
    }
   },
   "id": "5645a1595be77389"
  },
  {
   "cell_type": "markdown",
   "source": [
    "## Save data file and conf json"
   ],
   "metadata": {
    "collapsed": false
   },
   "id": "74062288f866ad5a"
  },
  {
   "cell_type": "code",
   "execution_count": 158,
   "outputs": [],
   "source": [
    "# save\n",
    "data.to_json(f\"{json_path}/{data_file_name}\", orient='index', indent=4, force_ascii=True)\n",
    "with open(f'{json_path}/{conf_file_name}', 'w', encoding='utf-8') as f:\n",
    "    json.dump(conf_json, f, ensure_ascii=False, indent=4)"
   ],
   "metadata": {
    "collapsed": false,
    "ExecuteTime": {
     "end_time": "2023-11-12T13:58:07.373734Z",
     "start_time": "2023-11-12T13:58:07.356937Z"
    }
   },
   "id": "4238ff2bc932a4c9"
  },
  {
   "cell_type": "code",
   "execution_count": null,
   "outputs": [],
   "source": [],
   "metadata": {
    "collapsed": false
   },
   "id": "24ef235e64eb16ad"
  }
 ],
 "metadata": {
  "kernelspec": {
   "display_name": "Python 3",
   "language": "python",
   "name": "python3"
  },
  "language_info": {
   "codemirror_mode": {
    "name": "ipython",
    "version": 2
   },
   "file_extension": ".py",
   "mimetype": "text/x-python",
   "name": "python",
   "nbconvert_exporter": "python",
   "pygments_lexer": "ipython2",
   "version": "2.7.6"
  }
 },
 "nbformat": 4,
 "nbformat_minor": 5
}
