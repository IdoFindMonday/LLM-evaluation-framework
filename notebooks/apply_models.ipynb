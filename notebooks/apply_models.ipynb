{
 "cells": [
  {
   "cell_type": "code",
   "execution_count": 1,
   "id": "initial_id",
   "metadata": {
    "collapsed": true,
    "ExecuteTime": {
     "end_time": "2023-11-05T15:12:23.166938Z",
     "start_time": "2023-11-05T15:12:22.874219Z"
    }
   },
   "outputs": [],
   "source": [
    "import pandas as pd\n",
    "import json"
   ]
  },
  {
   "cell_type": "markdown",
   "source": [
    "### read data and conf"
   ],
   "metadata": {
    "collapsed": false
   },
   "id": "8b4dcede99fb2b31"
  },
  {
   "cell_type": "code",
   "execution_count": 2,
   "outputs": [],
   "source": [
    "json_path = '../data/summarization/text_files'\n",
    "data_file_name = 'txt_dataset_summarizer.json'\n",
    "conf_file_name = 'txt_dataset_summarizer_config.json'"
   ],
   "metadata": {
    "collapsed": false,
    "ExecuteTime": {
     "end_time": "2023-11-05T15:08:47.486509Z",
     "start_time": "2023-11-05T15:08:47.478602Z"
    }
   },
   "id": "3579bbe1db219dd3"
  },
  {
   "cell_type": "code",
   "execution_count": 3,
   "outputs": [
    {
     "data": {
      "text/plain": "                                                text  word_count  \\\n0  (CNN)A mammoth fire broke out Friday morning i...         143   \n1  Hull, Leicester and Swansea City are following...         147   \n2  Sportsmail have teamed up with Golfbidder to o...         123   \n\n                                              golden  \\\n0  Fire breaks out at the General Electric Applia...   \n1  Hull's chief scout Stan Ternent has watched  M...   \n2  Sportsmail have teamed up with Golfbidder for ...   \n\n                                              notion  \\\n0  A massive fire broke out at the General Electr...   \n1  Hull, Leicester, and Swansea City are interest...   \n2  Sportsmail and Golfbidder have partnered to of...   \n\n                                           grammarly  \\\n0  A massive fire broke out at the General Electr...   \n1  Hull, Leicester, and Swansea City are interest...   \n2  Sportsmail and Golfbidder are running a compet...   \n\n                             current_doc_summarizier  \\\n0  A large fire broke out Friday morning in the G...   \n1  Maciej Rybus, a 25-year-old Polish internation...   \n2  Sportsmail have partnered with Golfbidder to o...   \n\n                           current_update_summarizer  \\\n0  A large fire broke out Friday morning in the G...   \n1  Maciej Rybus, a 25-year-old Polish internation...   \n2  Sportsmail and Golfbidder have teamed up to of...   \n\n                                version_1_summarizer  \\\n0  Title: Fire Breaks Out in Kentucky Industrial ...   \n1  Title: Maciej Rybus Followed by Hull, Leiceste...   \n2  Title: Win a Callaway Golf Prize Bundle Worth ...   \n\n                                version_2_summarizer  \\\n0  Title: Fire Breaks Out in Kentucky Industrial ...   \n1  Title: Maciej Rybus Followed by Hull, Leiceste...   \n2  Title: Win a Callaway Golf Prize Bundle Worth ...   \n\n                                version_3_summarizer  \\\n0  A fire broke out Friday morning in a Kentucky ...   \n1  Hull, Leicester and Swansea City are intereste...   \n2  One lucky reader has the chance to win a bundl...   \n\n                          version_2_turbo_summarizer  \n0  Title: Mammoth fire breaks out at Kentucky ind...  \n1  Title: Hull, Leicester and Swansea interested ...  \n2  Title: Win a bundle of Callaway golf clubs and...  ",
      "text/html": "<div>\n<style scoped>\n    .dataframe tbody tr th:only-of-type {\n        vertical-align: middle;\n    }\n\n    .dataframe tbody tr th {\n        vertical-align: top;\n    }\n\n    .dataframe thead th {\n        text-align: right;\n    }\n</style>\n<table border=\"1\" class=\"dataframe\">\n  <thead>\n    <tr style=\"text-align: right;\">\n      <th></th>\n      <th>text</th>\n      <th>word_count</th>\n      <th>golden</th>\n      <th>notion</th>\n      <th>grammarly</th>\n      <th>current_doc_summarizier</th>\n      <th>current_update_summarizer</th>\n      <th>version_1_summarizer</th>\n      <th>version_2_summarizer</th>\n      <th>version_3_summarizer</th>\n      <th>version_2_turbo_summarizer</th>\n    </tr>\n  </thead>\n  <tbody>\n    <tr>\n      <th>0</th>\n      <td>(CNN)A mammoth fire broke out Friday morning i...</td>\n      <td>143</td>\n      <td>Fire breaks out at the General Electric Applia...</td>\n      <td>A massive fire broke out at the General Electr...</td>\n      <td>A massive fire broke out at the General Electr...</td>\n      <td>A large fire broke out Friday morning in the G...</td>\n      <td>A large fire broke out Friday morning in the G...</td>\n      <td>Title: Fire Breaks Out in Kentucky Industrial ...</td>\n      <td>Title: Fire Breaks Out in Kentucky Industrial ...</td>\n      <td>A fire broke out Friday morning in a Kentucky ...</td>\n      <td>Title: Mammoth fire breaks out at Kentucky ind...</td>\n    </tr>\n    <tr>\n      <th>1</th>\n      <td>Hull, Leicester and Swansea City are following...</td>\n      <td>147</td>\n      <td>Hull's chief scout Stan Ternent has watched  M...</td>\n      <td>Hull, Leicester, and Swansea City are interest...</td>\n      <td>Hull, Leicester, and Swansea City are interest...</td>\n      <td>Maciej Rybus, a 25-year-old Polish internation...</td>\n      <td>Maciej Rybus, a 25-year-old Polish internation...</td>\n      <td>Title: Maciej Rybus Followed by Hull, Leiceste...</td>\n      <td>Title: Maciej Rybus Followed by Hull, Leiceste...</td>\n      <td>Hull, Leicester and Swansea City are intereste...</td>\n      <td>Title: Hull, Leicester and Swansea interested ...</td>\n    </tr>\n    <tr>\n      <th>2</th>\n      <td>Sportsmail have teamed up with Golfbidder to o...</td>\n      <td>123</td>\n      <td>Sportsmail have teamed up with Golfbidder for ...</td>\n      <td>Sportsmail and Golfbidder have partnered to of...</td>\n      <td>Sportsmail and Golfbidder are running a compet...</td>\n      <td>Sportsmail have partnered with Golfbidder to o...</td>\n      <td>Sportsmail and Golfbidder have teamed up to of...</td>\n      <td>Title: Win a Callaway Golf Prize Bundle Worth ...</td>\n      <td>Title: Win a Callaway Golf Prize Bundle Worth ...</td>\n      <td>One lucky reader has the chance to win a bundl...</td>\n      <td>Title: Win a bundle of Callaway golf clubs and...</td>\n    </tr>\n  </tbody>\n</table>\n</div>"
     },
     "execution_count": 3,
     "metadata": {},
     "output_type": "execute_result"
    }
   ],
   "source": [
    "data = pd.read_json(f'{json_path}/{data_file_name}', orient='index')\n",
    "with open(f'{json_path}/{conf_file_name}') as f:\n",
    "    conf_json = json.load(f)\n",
    "\n",
    "data.head(3)"
   ],
   "metadata": {
    "collapsed": false,
    "ExecuteTime": {
     "end_time": "2023-11-05T15:08:47.969096Z",
     "start_time": "2023-11-05T15:08:47.945935Z"
    }
   },
   "id": "3070c442a7af432b"
  },
  {
   "cell_type": "code",
   "execution_count": 7,
   "outputs": [
    {
     "name": "stdout",
     "output_type": "stream",
     "text": [
      "Workforms has recently undergone updates, including support for the People Column and a 1:1 question format. The Connect Board Column and a submission analytics page are also coming soon. Check out the details on their website.\n"
     ]
    }
   ],
   "source": [
    "print(data.iloc[5]['grammarly'])"
   ],
   "metadata": {
    "collapsed": false,
    "ExecuteTime": {
     "end_time": "2023-11-05T15:09:10.293478Z",
     "start_time": "2023-11-05T15:09:10.283568Z"
    }
   },
   "id": "3266318c18121133"
  },
  {
   "cell_type": "markdown",
   "source": [
    "# Building new prompts"
   ],
   "metadata": {
    "collapsed": false,
    "ExecuteTime": {
     "end_time": "2023-11-05T15:09:20.898036Z",
     "start_time": "2023-11-05T15:09:20.895440Z"
    }
   },
   "id": "314d671f345a7292"
  },
  {
   "cell_type": "code",
   "execution_count": 6,
   "outputs": [],
   "source": [
    "import openai\n",
    "import os\n",
    "from dotenv import load_dotenv\n",
    "from modules.openai.OpenaiModels import OpenaiCompletionWordLimit, OpenaiChatCompletionWordLimit\n",
    "\n",
    "load_dotenv()\n",
    "\n",
    "azure_openai_key = os.environ.get('AZURE_OPENAI_KEY')\n",
    "azure_openai_endpoint = os.environ.get('AZURE_OPENAI_ENDPOINT')\n",
    "\n",
    "openai.api_key = azure_openai_key\n",
    "openai.api_base = azure_openai_endpoint\n",
    "openai.api_type = \"azure\""
   ],
   "metadata": {
    "collapsed": false,
    "ExecuteTime": {
     "end_time": "2023-11-02T16:12:41.279619Z",
     "start_time": "2023-11-02T16:12:41.277150Z"
    }
   },
   "id": "d44634371492b68f"
  },
  {
   "cell_type": "code",
   "execution_count": 33,
   "outputs": [],
   "source": [
    "system_prompt = \"\"\"You are a helpful assistant. Using your deep linguistic understanding and knowledge, condense the essence of the content provided by the user.\\n Retain the core ideas, crucial details, and significant context while omitting any extraneous information.\\n Please deliver a concise and coherent summary of the provided text.\\n Respond only in string using less than {max_words} words.\\n The output MUST be in the following structure:\\nTitle: <the title>\\n<the summary>.\"\"\"\n",
    "\n",
    "user_prompt = \"\"\"Please summarize the following text:{input_text}\"\"\"\n",
    "\n",
    "\n",
    "\n",
    "version_3_5 = OpenaiChatCompletionWordLimit(model_name=\"gpt-3-5-turbo\",\n",
    "                                            api_version=\"2023-05-15\",\n",
    "                                            temperature=0.0,\n",
    "                                            max_tokens=200,\n",
    "                                            system_prompt_template=system_prompt,\n",
    "                                            user_prompt_template=user_prompt,\n",
    "                                            max_word_ratio=0.75)\n"
   ],
   "metadata": {
    "collapsed": false,
    "ExecuteTime": {
     "end_time": "2023-11-02T16:29:24.147079Z",
     "start_time": "2023-11-02T16:29:24.140079Z"
    }
   },
   "id": "b9be55d38e7a8b7d"
  },
  {
   "cell_type": "code",
   "execution_count": 1,
   "outputs": [],
   "source": [
    "# version_2_template = \"\"\"Using your deep linguistic understanding and knowledge, condense the essence of the provided content.\\n Retain the core ideas, crucial details, and significant context while omitting any extraneous information.\\n Please deliver a concise and coherent summary of the following text.\\n The summary MUST be shorter or equal to {max_words} words.\\n The output MUST be a JSON object with the following schema:\n",
    "# {{\"title\":<the title>,\"body\":<the summary>}}\\n----------------------\\n\\nThe text to summarize: {input_text}\\n The output:\\n\"\"\"\n",
    "# \n",
    "# version_2_sum = OpenaiCompletionWordLimit(\n",
    "#     model_name=\"text-davinci-003\",\n",
    "#     api_version=\"2023-05-15\",\n",
    "#     temperature=0.0,\n",
    "#     max_tokens=512,\n",
    "#     prompt_template=version_2_template,\n",
    "#     max_word_ratio=0.75\n",
    "# )"
   ],
   "metadata": {
    "collapsed": false,
    "ExecuteTime": {
     "end_time": "2023-11-05T07:31:58.078079Z",
     "start_time": "2023-11-05T07:31:58.073880Z"
    }
   },
   "id": "26e0fbd4e3beca5d"
  },
  {
   "cell_type": "markdown",
   "source": [],
   "metadata": {
    "collapsed": false
   },
   "id": "eee023a52d29704a"
  },
  {
   "cell_type": "markdown",
   "source": [
    "### Apply on dataset"
   ],
   "metadata": {
    "collapsed": false
   },
   "id": "5541e3816e627a02"
  },
  {
   "cell_type": "code",
   "execution_count": 16,
   "outputs": [],
   "source": [
    "model_name = \"version_2_turbo_summarizer\""
   ],
   "metadata": {
    "collapsed": false,
    "ExecuteTime": {
     "end_time": "2023-11-02T16:20:11.883392Z",
     "start_time": "2023-11-02T16:20:11.878431Z"
    }
   },
   "id": "28e60fd849cd9ffd"
  },
  {
   "cell_type": "code",
   "execution_count": 17,
   "outputs": [],
   "source": [
    "# completion api\n",
    "data[model_name] = data['text'].apply(version_3_5.call_llm)"
   ],
   "metadata": {
    "collapsed": false,
    "ExecuteTime": {
     "end_time": "2023-11-02T16:20:23.912307Z",
     "start_time": "2023-11-02T16:20:12.807709Z"
    }
   },
   "id": "742c39fd1cc398ab"
  },
  {
   "cell_type": "code",
   "execution_count": 18,
   "outputs": [
    {
     "name": "stdout",
     "output_type": "stream",
     "text": [
      "Title: Fire Breaks Out in Kentucky Industrial Park\n",
      "A fire broke out Friday morning in the General Electric Appliance Park in Louisville, Kentucky. No injuries or trapped people were reported. Video showed smoke and orange flames. Firefighters sprayed water from the periphery. The cause of the fire is unknown. The park is large, with one warehouse being able to fit 34 football fields.\n"
     ]
    }
   ],
   "source": [
    "print(data.iloc[0].version_2_summarizer)"
   ],
   "metadata": {
    "collapsed": false,
    "ExecuteTime": {
     "end_time": "2023-11-02T16:20:41.054982Z",
     "start_time": "2023-11-02T16:20:41.050902Z"
    }
   },
   "id": "605781da9a9213a8"
  },
  {
   "cell_type": "code",
   "execution_count": 24,
   "outputs": [
    {
     "name": "stdout",
     "output_type": "stream",
     "text": [
      "Title: Updates to Workforms\n",
      "\n",
      "Workforms has made updates to their platform, including support for the People Column and a 1:1 question format. Coming soon are the Connect Board Column and a submission analytics page for reporting on submission rate, average submission time, and form submitter geolocation, browser, and device. More details can be found on their website.\n"
     ]
    }
   ],
   "source": [
    "print(data.iloc[5][model_name])"
   ],
   "metadata": {
    "collapsed": false,
    "ExecuteTime": {
     "end_time": "2023-11-02T16:26:48.551021Z",
     "start_time": "2023-11-02T16:26:48.547803Z"
    }
   },
   "id": "11a3a574fd61a970"
  },
  {
   "cell_type": "code",
   "execution_count": 3,
   "outputs": [
    {
     "name": "stdout",
     "output_type": "stream",
     "text": [
      "\n",
      "We’ve made a few updates to Workforms recently, so we thought we’d summarise the enhancements into a  short and sweet  post for our community!\n",
      "NEW UPDATES\n",
      "• The People Column is now supported: Assign an item to a person or team without creating an automation!\n",
      "• 1:1 question format\n",
      "COMING SOON \n",
      "• The Connect Board Column: Specify which items of the connected board are related to his\\/her submission.\n",
      "• Submission analytics page: Take reporting to the next level, pull insightful analytics such as submission rate, average submission time, and split by geolocation, browser, and device of the form submitters.\n",
      "Check out more details here 24 and stay tuned! \n"
     ]
    }
   ],
   "source": [
    "print(\"\\nWe\\u2019ve made a few updates to Workforms recently, so we thought we\\u2019d summarise the enhancements into a  short and sweet  post for our community!\\nNEW UPDATES\\n\\u2022 The People Column is now supported: Assign an item to a person or team without creating an automation!\\n\\u2022 1:1 question format\\nCOMING SOON \\n\\u2022 The Connect Board Column: Specify which items of the connected board are related to his\\/her submission.\\n\\u2022 Submission analytics page: Take reporting to the next level, pull insightful analytics such as submission rate, average submission time, and split by geolocation, browser, and device of the form submitters.\\nCheck out more details here 24 and stay tuned! \\n\")"
   ],
   "metadata": {
    "collapsed": false,
    "ExecuteTime": {
     "end_time": "2023-11-05T15:12:48.216931Z",
     "start_time": "2023-11-05T15:12:48.206387Z"
    }
   },
   "id": "7f86f60d638246d0"
  },
  {
   "cell_type": "code",
   "execution_count": 73,
   "outputs": [],
   "source": [
    "# data = data.drop('larium_devinci_summarizer',axis=1)"
   ],
   "metadata": {
    "collapsed": false,
    "ExecuteTime": {
     "end_time": "2023-10-30T11:04:26.183232Z",
     "start_time": "2023-10-30T11:04:26.177561Z"
    }
   },
   "id": "89e22294afe6e290"
  },
  {
   "cell_type": "markdown",
   "source": [
    "### update config"
   ],
   "metadata": {
    "collapsed": false,
    "ExecuteTime": {
     "end_time": "2023-11-05T15:10:57.377043Z",
     "start_time": "2023-11-05T15:10:57.372546Z"
    }
   },
   "id": "1e322f26be407e4c"
  },
  {
   "cell_type": "code",
   "execution_count": 21,
   "outputs": [],
   "source": [
    "conf_json.update({model_name: version_3_5.get_config()})"
   ],
   "metadata": {
    "collapsed": false,
    "ExecuteTime": {
     "end_time": "2023-11-02T16:21:35.493469Z",
     "start_time": "2023-11-02T16:21:35.490460Z"
    }
   },
   "id": "e6aa6f512cd6a52d"
  },
  {
   "cell_type": "code",
   "execution_count": 22,
   "outputs": [
    {
     "data": {
      "text/plain": "{'current_doc_summarizer': {'model_name': 'text-davinci-003',\n  'api_version': '2023-05-15',\n  'temperature': 0.0,\n  'max_tokens': 200,\n  'prompt_template': 'summarize the following text: {input_text}'},\n 'current_update_summarizer': {'model_name': 'text-davinci-003',\n  'api_version': '2023-05-15',\n  'temperature': 0.0,\n  'max_tokens': 200,\n  'prompt_template': 'summarize the following text: {input_text}'},\n 'version_1_summarizer': {'model_name': 'text-davinci-003',\n  'api_version': '2023-05-15',\n  'temperature': 0.0,\n  'max_tokens': 200,\n  'prompt_template': 'Summarize the key points of the text provided between the []. The summary MUST be concise and shorter than {max_words} words. Also, the output should be in the following structure: \\n\\nTitle: <the title>\\n\\n<the summary>.  \\n----------------------\\nThe text to summarize: [{input_text}]\\n\\nThe concise summary:\\n',\n  'max_word_ratio': 0.6},\n 'version_2_summarizer': {'model_name': 'text-davinci-003',\n  'api_version': '2023-05-15',\n  'temperature': 0.0,\n  'max_tokens': 512,\n  'prompt_template': 'Using your deep linguistic understanding and knowledge, condense the essence of the provided content.\\n Retain the core ideas, crucial details, and significant context while omitting any extraneous information.\\n Please deliver a concise and coherent summary of the following text.\\n Respond only in string using less than {max_words} words.\\n The output MUST be in the following structure:\\nTitle: <the title>\\n<the summary>.\\n----------------------\\n\\nThe text to summarize: {input_text}\\nThe summary:\\n',\n  'max_word_ratio': 0.75},\n 'version_3_summarizer': {'model_name': 'text-davinci-003',\n  'api_version': '2023-05-15',\n  'temperature': 0.0,\n  'max_tokens': 512,\n  'prompt_template': 'Using your deep linguistic understanding and knowledge, condense the essence of the provided content. \\n        Retain the core ideas, crucial details, and significant context while omitting any extraneous information.\\n        Please deliver a concise and coherent summary of the following text of the user.\\n        Respond only in string.\\n        summarize this {input_text}'},\n 'version_2_turbo_summarizer': {'model_name': 'gpt-3-5-turbo',\n  'api_version': '2023-05-15',\n  'temperature': 0.0,\n  'max_tokens': 200,\n  'system_prompt_template': 'You are a helpful assistant. Using your deep linguistic understanding and knowledge, condense the essence of the content provided by the user.\\n Retain the core ideas, crucial details, and significant context while omitting any extraneous information.\\n Please deliver a concise and coherent summary of the provided text.\\n Respond only in string using less than {max_words} words.\\n The output MUST be in the following structure:\\nTitle: <the title>\\n<the summary>.',\n  'user_prompt_template': 'Please summarize the following text:{input_text}',\n  'top_p': 1,\n  'n': 1,\n  'max_word_ratio': 0.75}}"
     },
     "execution_count": 22,
     "metadata": {},
     "output_type": "execute_result"
    }
   ],
   "source": [
    "conf_json"
   ],
   "metadata": {
    "collapsed": false,
    "ExecuteTime": {
     "end_time": "2023-11-02T16:21:38.359601Z",
     "start_time": "2023-11-02T16:21:38.355615Z"
    }
   },
   "id": "5645a1595be77389"
  },
  {
   "cell_type": "markdown",
   "source": [
    "## Save data file and conf json"
   ],
   "metadata": {
    "collapsed": false
   },
   "id": "74062288f866ad5a"
  },
  {
   "cell_type": "code",
   "execution_count": 23,
   "outputs": [],
   "source": [
    "# save\n",
    "data.to_json(f\"{json_path}/{data_file_name}\", orient='index', indent=4, force_ascii=True)\n",
    "with open(f'{json_path}/{conf_file_name}', 'w', encoding='utf-8') as f:\n",
    "    json.dump(conf_json, f, ensure_ascii=False, indent=4)"
   ],
   "metadata": {
    "collapsed": false,
    "ExecuteTime": {
     "end_time": "2023-11-02T16:21:44.461895Z",
     "start_time": "2023-11-02T16:21:44.459116Z"
    }
   },
   "id": "4238ff2bc932a4c9"
  }
 ],
 "metadata": {
  "kernelspec": {
   "display_name": "Python 3",
   "language": "python",
   "name": "python3"
  },
  "language_info": {
   "codemirror_mode": {
    "name": "ipython",
    "version": 2
   },
   "file_extension": ".py",
   "mimetype": "text/x-python",
   "name": "python",
   "nbconvert_exporter": "python",
   "pygments_lexer": "ipython2",
   "version": "2.7.6"
  }
 },
 "nbformat": 4,
 "nbformat_minor": 5
}
