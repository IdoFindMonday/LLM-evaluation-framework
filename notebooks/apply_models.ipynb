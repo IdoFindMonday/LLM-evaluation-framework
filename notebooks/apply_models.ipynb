{
 "cells": [
  {
   "cell_type": "code",
   "execution_count": 2,
   "id": "initial_id",
   "metadata": {
    "collapsed": true,
    "ExecuteTime": {
     "end_time": "2023-10-30T09:49:40.794414Z",
     "start_time": "2023-10-30T09:49:40.513641Z"
    }
   },
   "outputs": [],
   "source": [
    "import pandas as pd\n",
    "import json"
   ]
  },
  {
   "cell_type": "markdown",
   "source": [
    "### read data and conf"
   ],
   "metadata": {
    "collapsed": false
   },
   "id": "8b4dcede99fb2b31"
  },
  {
   "cell_type": "code",
   "execution_count": 24,
   "outputs": [],
   "source": [
    "json_path = 'data/summarization/text_files'\n",
    "data_file_name = 'txt_dataset_summarizer.json'\n",
    "conf_file_name = 'txt_dataset_summarizer_config.json'"
   ],
   "metadata": {
    "collapsed": false,
    "ExecuteTime": {
     "end_time": "2023-10-30T10:03:46.452778Z",
     "start_time": "2023-10-30T10:03:46.445812Z"
    }
   },
   "id": "3579bbe1db219dd3"
  },
  {
   "cell_type": "code",
   "execution_count": 25,
   "outputs": [
    {
     "data": {
      "text/plain": "                                                text  word_count  \\\n0  (CNN)A mammoth fire broke out Friday morning i...         143   \n1  Hull, Leicester and Swansea City are following...         147   \n2  Sportsmail have teamed up with Golfbidder to o...         123   \n\n                                              golden  \\\n0  Fire breaks out at the General Electric Applia...   \n1  Hull's chief scout Stan Ternent has watched  M...   \n2  Sportsmail have teamed up with Golfbidder for ...   \n\n                                              notion  \\\n0  A massive fire broke out at the General Electr...   \n1  Hull, Leicester, and Swansea City are interest...   \n2  Sportsmail and Golfbidder have partnered to of...   \n\n                                           grammarly  \\\n0  A massive fire broke out at the General Electr...   \n1  Hull, Leicester, and Swansea City are interest...   \n2  Sportsmail and Golfbidder are running a compet...   \n\n                             current_doc_summarizier  \\\n0  A large fire broke out Friday morning in the G...   \n1  Maciej Rybus, a 25-year-old Polish internation...   \n2  Sportsmail have partnered with Golfbidder to o...   \n\n                           current_update_summarizer  \\\n0  A large fire broke out Friday morning in the G...   \n1  Maciej Rybus, a 25-year-old Polish internation...   \n2  Sportsmail and Golfbidder have teamed up to of...   \n\n                                version_1_summarizer  \n0  Title: Fire Breaks Out in Kentucky Industrial ...  \n1  Title: Maciej Rybus Followed by Hull, Leiceste...  \n2  Title: Win a Callaway Golf Prize Bundle Worth ...  ",
      "text/html": "<div>\n<style scoped>\n    .dataframe tbody tr th:only-of-type {\n        vertical-align: middle;\n    }\n\n    .dataframe tbody tr th {\n        vertical-align: top;\n    }\n\n    .dataframe thead th {\n        text-align: right;\n    }\n</style>\n<table border=\"1\" class=\"dataframe\">\n  <thead>\n    <tr style=\"text-align: right;\">\n      <th></th>\n      <th>text</th>\n      <th>word_count</th>\n      <th>golden</th>\n      <th>notion</th>\n      <th>grammarly</th>\n      <th>current_doc_summarizier</th>\n      <th>current_update_summarizer</th>\n      <th>version_1_summarizer</th>\n    </tr>\n  </thead>\n  <tbody>\n    <tr>\n      <th>0</th>\n      <td>(CNN)A mammoth fire broke out Friday morning i...</td>\n      <td>143</td>\n      <td>Fire breaks out at the General Electric Applia...</td>\n      <td>A massive fire broke out at the General Electr...</td>\n      <td>A massive fire broke out at the General Electr...</td>\n      <td>A large fire broke out Friday morning in the G...</td>\n      <td>A large fire broke out Friday morning in the G...</td>\n      <td>Title: Fire Breaks Out in Kentucky Industrial ...</td>\n    </tr>\n    <tr>\n      <th>1</th>\n      <td>Hull, Leicester and Swansea City are following...</td>\n      <td>147</td>\n      <td>Hull's chief scout Stan Ternent has watched  M...</td>\n      <td>Hull, Leicester, and Swansea City are interest...</td>\n      <td>Hull, Leicester, and Swansea City are interest...</td>\n      <td>Maciej Rybus, a 25-year-old Polish internation...</td>\n      <td>Maciej Rybus, a 25-year-old Polish internation...</td>\n      <td>Title: Maciej Rybus Followed by Hull, Leiceste...</td>\n    </tr>\n    <tr>\n      <th>2</th>\n      <td>Sportsmail have teamed up with Golfbidder to o...</td>\n      <td>123</td>\n      <td>Sportsmail have teamed up with Golfbidder for ...</td>\n      <td>Sportsmail and Golfbidder have partnered to of...</td>\n      <td>Sportsmail and Golfbidder are running a compet...</td>\n      <td>Sportsmail have partnered with Golfbidder to o...</td>\n      <td>Sportsmail and Golfbidder have teamed up to of...</td>\n      <td>Title: Win a Callaway Golf Prize Bundle Worth ...</td>\n    </tr>\n  </tbody>\n</table>\n</div>"
     },
     "execution_count": 25,
     "metadata": {},
     "output_type": "execute_result"
    }
   ],
   "source": [
    "data = pd.read_json(f'{json_path}/{data_file_name}', orient='index')\n",
    "with open(f'{json_path}/{conf_file_name}') as f:\n",
    "    conf_json = json.load(f)\n",
    "    \n",
    "data.head(3)"
   ],
   "metadata": {
    "collapsed": false,
    "ExecuteTime": {
     "end_time": "2023-10-30T10:03:47.848327Z",
     "start_time": "2023-10-30T10:03:47.837640Z"
    }
   },
   "id": "3070c442a7af432b"
  },
  {
   "cell_type": "markdown",
   "source": [
    "# Building new prompts"
   ],
   "metadata": {
    "collapsed": false
   },
   "id": "314d671f345a7292"
  },
  {
   "cell_type": "code",
   "execution_count": 9,
   "outputs": [],
   "source": [
    "import openai\n",
    "import os\n",
    "from dotenv import load_dotenv\n",
    "\n",
    "load_dotenv()\n",
    "\n",
    "azure_openai_key = os.environ.get('AZURE_OPENAI_KEY')\n",
    "azure_openai_endpoint = os.environ.get('AZURE_OPENAI_ENDPOINT')\n",
    "\n",
    "openai.api_key = azure_openai_key\n",
    "openai.api_base = azure_openai_endpoint\n",
    "openai.api_type = \"azure\""
   ],
   "metadata": {
    "collapsed": false,
    "ExecuteTime": {
     "end_time": "2023-10-30T09:52:21.362543Z",
     "start_time": "2023-10-30T09:52:21.358103Z"
    }
   },
   "id": "d44634371492b68f"
  },
  {
   "cell_type": "code",
   "execution_count": 10,
   "outputs": [],
   "source": [
    "class OpenaiCompletionBase:\n",
    "    def __init__(self, model_name=\"text-davinci-003\",\n",
    "                 api_version=\"2023-05-15\", temperature=0.0, max_tokens=200, prompt_template=\"\"):\n",
    "        self.model_name = model_name\n",
    "        self.api_version = api_version\n",
    "        self.temperature = temperature\n",
    "        self.max_tokens = max_tokens\n",
    "        self.prompt_template = prompt_template\n",
    "\n",
    "    def _get_response(self, **input_args):\n",
    "        prompt = self.prompt_template.format(**input_args)\n",
    "        response = openai.Completion.create(\n",
    "            engine=self.model_name,\n",
    "            api_version=self.api_version,\n",
    "            prompt=prompt,\n",
    "            temperature=self.temperature,\n",
    "            max_tokens=self.max_tokens,\n",
    "        )\n",
    "\n",
    "        return response\n",
    "\n",
    "    def call_llm(self, input_text):\n",
    "        input_args = {\"input_text\": input_text}\n",
    "        response = self._get_response(**input_args)\n",
    "        output_text = response[\"choices\"][0][\"text\"].strip()\n",
    "        return output_text\n",
    "\n",
    "    def call_llm_with_res(self, input_text):\n",
    "        input_args = {\"input_text\": input_text}\n",
    "        response = self._get_response(**input_args)\n",
    "        output_text = response[\"choices\"][0][\"text\"].strip()\n",
    "        return output_text, response\n",
    "\n",
    "    def get_config(self):\n",
    "        return self.__dict__\n",
    "\n",
    "\n",
    "class OpenaiCompletionWordLimit(OpenaiCompletionBase):\n",
    "    def __init__(self, model_name=\"text-davinci-003\",\n",
    "                 api_version=\"2023-05-15\", temperature=0.0, max_tokens=200, prompt_template=\"\", max_word_ratio=0.6):\n",
    "        super().__init__(model_name, api_version, temperature, max_tokens, prompt_template)\n",
    "        self.max_word_ratio = max_word_ratio\n",
    "\n",
    "    def call_llm(self, input_text):\n",
    "        input_text_word_count = len(input_text.split())\n",
    "        max_words = int(round(input_text_word_count * self.max_word_ratio))\n",
    "        input_args = {\"max_words\": max_words, \"input_text\": input_text}\n",
    "\n",
    "        response = self._get_response(**input_args)\n",
    "        output_text = response[\"choices\"][0][\"text\"].strip()\n",
    "        return output_text\n",
    "\n",
    "    def call_llm_with_res(self, input_text):\n",
    "        input_text_word_count = len(input_text.split())\n",
    "        max_words = int(round(input_text_word_count * self.max_word_ratio))\n",
    "        input_args = {\"max_words\": max_words, \"input_text\": input_text}\n",
    "\n",
    "        response = self._get_response(**input_args)\n",
    "        output_text = response[\"choices\"][0][\"text\"].strip()\n",
    "        return output_text, response\n"
   ],
   "metadata": {
    "collapsed": false,
    "ExecuteTime": {
     "end_time": "2023-10-30T09:52:22.952416Z",
     "start_time": "2023-10-30T09:52:22.949226Z"
    }
   },
   "id": "8a0f86d747eb3b7f"
  },
  {
   "cell_type": "code",
   "execution_count": 13,
   "outputs": [],
   "source": [
    "# test_template = \"\"\"summarize the following text: {input_text}\"\"\"\n",
    "# \n",
    "# current_update_sum = OpenaiCompletionBase(\n",
    "#     model_name=\"text-davinci-003\",\n",
    "#     api_version=\"2023-05-15\",\n",
    "#     temperature=0.0,\n",
    "#     max_tokens=200,\n",
    "#     prompt_template=test_template\n",
    "# )"
   ],
   "metadata": {
    "collapsed": false,
    "ExecuteTime": {
     "end_time": "2023-10-30T09:05:37.599446Z",
     "start_time": "2023-10-30T09:05:37.592488Z"
    }
   },
   "id": "1b127b2e20f50e11"
  },
  {
   "cell_type": "code",
   "execution_count": 11,
   "outputs": [],
   "source": [
    "version_1_template = \"\"\"Summarize the key points of the text provided between the []. The summary MUST be concise and shorter than {max_words} words. Also, the output should be in the following structure: \n",
    "\\nTitle: <the title>\\n\n",
    "<the summary>.  \n",
    "----------------------\n",
    "The text to summarize: [{input_text}]\n",
    "\n",
    "The concise summary:\n",
    "\"\"\"\n",
    "\n",
    "version_1_sum = OpenaiCompletionWordLimit(\n",
    "    model_name=\"text-davinci-003\",\n",
    "    api_version=\"2023-05-15\",\n",
    "    temperature=0.0,\n",
    "    max_tokens=200,\n",
    "    prompt_template=version_1_template,\n",
    "    max_word_ratio=0.6\n",
    ")"
   ],
   "metadata": {
    "collapsed": false,
    "ExecuteTime": {
     "end_time": "2023-10-30T09:52:26.511117Z",
     "start_time": "2023-10-30T09:52:26.508449Z"
    }
   },
   "id": "84ba6a760d33ad89"
  },
  {
   "cell_type": "code",
   "execution_count": 12,
   "outputs": [
    {
     "name": "stdout",
     "output_type": "stream",
     "text": [
      "Title: Fire Breaks Out in Kentucky Industrial Park\n",
      "\n",
      "A mammoth fire broke out Friday morning in a Kentucky industrial park, with no reports of anyone injured or trapped. Firefighters sprayed water from the periphery of the affected buildings, and the cause of the fire is unknown. The park is large, with one of its warehouses being able to fit 34 football fields.\n"
     ]
    }
   ],
   "source": [
    "output = version_1_sum.call_llm(\n",
    "    \"(CNN)A mammoth fire broke out Friday morning in a Kentucky industrial park, sending plumes of thick smoke over the area as authorities worked to contain the damage. The blaze began shortly before 7 a.m. at the General Electric Appliance Park in Louisville, according to Mike Weimer from the city's emergency management agency. He said that there were no reports of anyone injured or trapped. Video showed both smoke and bright orange flames. Firefighters took up positions around the affected buildings, spraying water from the periphery. Weimer told CNN that authorities didn't know what had caused the fire, which had gone to at least four alarms. According to a GE website, its facility in the Louisville Appliance Park is \\\"revitalizing manufacturing in the United States.\\\" The park is large, such that 34 football fields could fit in one of its warehouses in the facility.\")\n",
    "print(output)"
   ],
   "metadata": {
    "collapsed": false,
    "ExecuteTime": {
     "end_time": "2023-10-30T09:52:31.923918Z",
     "start_time": "2023-10-30T09:52:29.746959Z"
    }
   },
   "id": "1bd0d96e8b01a43f"
  },
  {
   "cell_type": "markdown",
   "source": [],
   "metadata": {
    "collapsed": false
   },
   "id": "64044edc22a00825"
  },
  {
   "cell_type": "markdown",
   "source": [
    "### Apply on dataset"
   ],
   "metadata": {
    "collapsed": false
   },
   "id": "5541e3816e627a02"
  },
  {
   "cell_type": "code",
   "execution_count": 16,
   "outputs": [],
   "source": [
    "model_name = \"version_1_summarizer\""
   ],
   "metadata": {
    "collapsed": false,
    "ExecuteTime": {
     "end_time": "2023-10-30T09:54:08.638568Z",
     "start_time": "2023-10-30T09:54:08.637173Z"
    }
   },
   "id": "28e60fd849cd9ffd"
  },
  {
   "cell_type": "code",
   "execution_count": 184,
   "outputs": [],
   "source": [
    "# completion api\n",
    "data[model_name] = data['text'].apply(version_1_sum.call_llm)"
   ],
   "metadata": {
    "collapsed": false,
    "ExecuteTime": {
     "end_time": "2023-10-29T16:25:33.504061Z",
     "start_time": "2023-10-29T16:25:09.518384Z"
    }
   },
   "id": "742c39fd1cc398ab"
  },
  {
   "cell_type": "code",
   "execution_count": 185,
   "outputs": [
    {
     "data": {
      "text/plain": "\"A large fire broke out Friday morning in the General Electric Appliance Park in Louisville, Kentucky. No injuries or people trapped were reported. Video showed smoke and orange flames. Firefighters were spraying water from the periphery to contain the blaze, which had gone to at least four alarms. The Louisville Appliance Park is a large facility owned by GE, which is 'revitalizing manufacturing in the United States'. It is so large that 34 football fields could fit in one of its warehouses.\""
     },
     "execution_count": 185,
     "metadata": {},
     "output_type": "execute_result"
    }
   ],
   "source": [
    "data.iloc[0].current_update_summarizer"
   ],
   "metadata": {
    "collapsed": false,
    "ExecuteTime": {
     "end_time": "2023-10-29T16:25:34.650355Z",
     "start_time": "2023-10-29T16:25:34.646424Z"
    }
   },
   "id": "48b1a5bce04d863"
  },
  {
   "cell_type": "code",
   "execution_count": 186,
   "outputs": [
    {
     "data": {
      "text/plain": "'Title: Fire Breaks Out in Kentucky Industrial Park\\n\\nA mammoth fire broke out Friday morning in a Kentucky industrial park, with no reports of anyone injured or trapped. Firefighters sprayed water from the periphery of the affected buildings, and the cause of the fire is unknown. The park is large, with one of its warehouses being able to fit 34 football fields.'"
     },
     "execution_count": 186,
     "metadata": {},
     "output_type": "execute_result"
    }
   ],
   "source": [
    "data.iloc[0].version_1_summarizer"
   ],
   "metadata": {
    "collapsed": false,
    "ExecuteTime": {
     "end_time": "2023-10-29T16:25:35.485936Z",
     "start_time": "2023-10-29T16:25:35.482252Z"
    }
   },
   "id": "605781da9a9213a8"
  },
  {
   "cell_type": "markdown",
   "source": [
    "## Save data file"
   ],
   "metadata": {
    "collapsed": false
   },
   "id": "74062288f866ad5a"
  },
  {
   "cell_type": "code",
   "execution_count": 187,
   "outputs": [],
   "source": [
    "# save\n",
    "data.to_json(json_path, orient='index', indent=4, force_ascii=True)"
   ],
   "metadata": {
    "collapsed": false,
    "ExecuteTime": {
     "end_time": "2023-10-29T16:26:22.187725Z",
     "start_time": "2023-10-29T16:26:22.178944Z"
    }
   },
   "id": "4238ff2bc932a4c9"
  },
  {
   "cell_type": "markdown",
   "source": [
    "## Update config file"
   ],
   "metadata": {
    "collapsed": false
   },
   "id": "328284f8d5c0a8a8"
  },
  {
   "cell_type": "code",
   "execution_count": 17,
   "outputs": [],
   "source": [
    "conf_json.update({model_name:version_1_sum.get_config()})"
   ],
   "metadata": {
    "collapsed": false,
    "ExecuteTime": {
     "end_time": "2023-10-30T09:54:16.404081Z",
     "start_time": "2023-10-30T09:54:16.397978Z"
    }
   },
   "id": "41347c4e5a860bdb"
  },
  {
   "cell_type": "code",
   "execution_count": 21,
   "outputs": [
    {
     "data": {
      "text/plain": "{'current_doc_summarizer': {'model_name': 'text-davinci-003',\n  'api_version': '2023-05-15',\n  'temperature': 0.0,\n  'max_tokens': 200,\n  'prompt_template': 'summarize the following text: {input_text}'},\n 'current_update_summarizer': {'model_name': 'text-davinci-003',\n  'api_version': '2023-05-15',\n  'temperature': 0.0,\n  'max_tokens': 200,\n  'prompt_template': 'summarize the following text: {input_text}'},\n 'version_1_summarizer': {'model_name': 'text-davinci-003',\n  'api_version': '2023-05-15',\n  'temperature': 0.0,\n  'max_tokens': 200,\n  'prompt_template': 'Summarize the key points of the text provided between the []. The summary MUST be concise and shorter than {max_words} words. Also, the output should be in the following structure: \\n\\nTitle: <the title>\\n\\n<the summary>.  \\n----------------------\\nThe text to summarize: [{input_text}]\\n\\nThe concise summary:\\n',\n  'max_word_ratio': 0.6}}"
     },
     "execution_count": 21,
     "metadata": {},
     "output_type": "execute_result"
    }
   ],
   "source": [
    "conf_json"
   ],
   "metadata": {
    "collapsed": false,
    "ExecuteTime": {
     "end_time": "2023-10-30T09:54:56.019402Z",
     "start_time": "2023-10-30T09:54:56.015338Z"
    }
   },
   "id": "89655e438237fc1b"
  },
  {
   "cell_type": "code",
   "execution_count": 23,
   "outputs": [
    {
     "name": "stdout",
     "output_type": "stream",
     "text": [
      "Summarize the key points of the text provided between the []. The summary MUST be concise and shorter than {max_words} words. Also, the output should be in the following structure: \n",
      "\n",
      "Title: <the title>\n",
      "\n",
      "<the summary>.  \n",
      "----------------------\n",
      "The text to summarize: [{input_text}]\n",
      "\n",
      "The concise summary:\n"
     ]
    }
   ],
   "source": [
    "print(conf_json[model_name]['prompt_template'])"
   ],
   "metadata": {
    "collapsed": false,
    "ExecuteTime": {
     "end_time": "2023-10-30T09:57:13.264085Z",
     "start_time": "2023-10-30T09:57:13.259106Z"
    }
   },
   "id": "b53e393e5df383a6"
  },
  {
   "cell_type": "markdown",
   "source": [
    "### update conf json file"
   ],
   "metadata": {
    "collapsed": false
   },
   "id": "2f8e972b1f451e1e"
  },
  {
   "cell_type": "code",
   "execution_count": 22,
   "outputs": [],
   "source": [
    "with open(f'{json_path}/{conf_file_name}', 'w', encoding='utf-8') as f:\n",
    "    json.dump(conf_json, f, ensure_ascii=False, indent=4)"
   ],
   "metadata": {
    "collapsed": false,
    "ExecuteTime": {
     "end_time": "2023-10-30T09:55:36.556107Z",
     "start_time": "2023-10-30T09:55:36.553416Z"
    }
   },
   "id": "1c1e45fa113514a8"
  }
 ],
 "metadata": {
  "kernelspec": {
   "display_name": "Python 3",
   "language": "python",
   "name": "python3"
  },
  "language_info": {
   "codemirror_mode": {
    "name": "ipython",
    "version": 2
   },
   "file_extension": ".py",
   "mimetype": "text/x-python",
   "name": "python",
   "nbconvert_exporter": "python",
   "pygments_lexer": "ipython2",
   "version": "2.7.6"
  }
 },
 "nbformat": 4,
 "nbformat_minor": 5
}
