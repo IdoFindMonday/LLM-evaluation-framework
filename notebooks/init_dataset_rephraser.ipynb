{
 "cells": [
  {
   "cell_type": "code",
   "execution_count": 7,
   "id": "initial_id",
   "metadata": {
    "collapsed": true,
    "ExecuteTime": {
     "end_time": "2023-11-06T09:44:14.262130Z",
     "start_time": "2023-11-06T09:44:13.978489Z"
    }
   },
   "outputs": [],
   "source": [
    "import pandas as pd\n",
    "import json"
   ]
  },
  {
   "cell_type": "markdown",
   "source": [
    "## init data from parquet source"
   ],
   "metadata": {
    "collapsed": false
   },
   "id": "8a21ab1fe9873303"
  },
  {
   "cell_type": "code",
   "execution_count": 20,
   "outputs": [],
   "source": [
    "examples = [\n",
    "\"Great job on the new website design! I love the updated color scheme.\",\n",
    "\"Just reviewed the social media campaign tasks and they look fantastic! Well done, everyone.\",\n",
    "\"I received some positive feedback from customers about the new survey. Well done, marketing team!\",\n",
    "\"Attending the virtual conference was insightful. Any key takeaways we should discuss?\",\n",
    "\"Kudos to the development team for fixing those bugs. Can't wait to try the new features!\",\n",
    "\"Exciting news! We secured a client meeting this week. Any specific points to cover?\",\n",
    "\"Congratulations to the sales team for surpassing the monthly target! Let's keep up the momentum.\",\n",
    "\"HR, I reviewed the shortlisted candidates. Should we schedule the next round of interviews?\",\n",
    "\"The new workflow process is a game-changer. We're seeing increased productivity already!\",\n",
    "\"Management, let's discuss the identified cost-saving measures during the next meeting. Important for the budget.\"]"
   ],
   "metadata": {
    "collapsed": false,
    "ExecuteTime": {
     "end_time": "2023-11-06T09:54:29.293520Z",
     "start_time": "2023-11-06T09:54:29.287039Z"
    }
   },
   "id": "5026ca9d76511c32"
  },
  {
   "cell_type": "code",
   "execution_count": 21,
   "outputs": [],
   "source": [
    "data = pd.DataFrame(examples,columns=['text'])\n",
    "data['char_count'] = data.text.apply(lambda x: len(x))\n",
    "cols_to_add = ['notion', 'grammarly']\n",
    "data[cols_to_add] = \"\""
   ],
   "metadata": {
    "collapsed": false,
    "ExecuteTime": {
     "end_time": "2023-11-06T09:54:30.208697Z",
     "start_time": "2023-11-06T09:54:30.205907Z"
    }
   },
   "id": "a084d872636ff400"
  },
  {
   "cell_type": "code",
   "execution_count": 22,
   "outputs": [
    {
     "data": {
      "text/plain": "                                                text  char_count notion  \\\n0  Great job on the new website design! I love th...          69          \n1  Just reviewed the social media campaign tasks ...          91          \n2  I received some positive feedback from custome...          97          \n3  Attending the virtual conference was insightfu...          85          \n4  Kudos to the development team for fixing those...          88          \n\n  grammarly  \n0            \n1            \n2            \n3            \n4            ",
      "text/html": "<div>\n<style scoped>\n    .dataframe tbody tr th:only-of-type {\n        vertical-align: middle;\n    }\n\n    .dataframe tbody tr th {\n        vertical-align: top;\n    }\n\n    .dataframe thead th {\n        text-align: right;\n    }\n</style>\n<table border=\"1\" class=\"dataframe\">\n  <thead>\n    <tr style=\"text-align: right;\">\n      <th></th>\n      <th>text</th>\n      <th>char_count</th>\n      <th>notion</th>\n      <th>grammarly</th>\n    </tr>\n  </thead>\n  <tbody>\n    <tr>\n      <th>0</th>\n      <td>Great job on the new website design! I love th...</td>\n      <td>69</td>\n      <td></td>\n      <td></td>\n    </tr>\n    <tr>\n      <th>1</th>\n      <td>Just reviewed the social media campaign tasks ...</td>\n      <td>91</td>\n      <td></td>\n      <td></td>\n    </tr>\n    <tr>\n      <th>2</th>\n      <td>I received some positive feedback from custome...</td>\n      <td>97</td>\n      <td></td>\n      <td></td>\n    </tr>\n    <tr>\n      <th>3</th>\n      <td>Attending the virtual conference was insightfu...</td>\n      <td>85</td>\n      <td></td>\n      <td></td>\n    </tr>\n    <tr>\n      <th>4</th>\n      <td>Kudos to the development team for fixing those...</td>\n      <td>88</td>\n      <td></td>\n      <td></td>\n    </tr>\n  </tbody>\n</table>\n</div>"
     },
     "execution_count": 22,
     "metadata": {},
     "output_type": "execute_result"
    }
   ],
   "source": [
    "data.head()"
   ],
   "metadata": {
    "collapsed": false,
    "ExecuteTime": {
     "end_time": "2023-11-06T09:54:40.674110Z",
     "start_time": "2023-11-06T09:54:40.670548Z"
    }
   },
   "id": "b589c1d9c0620a00"
  },
  {
   "cell_type": "code",
   "execution_count": 27,
   "outputs": [],
   "source": [
    "json_path = '../data/paraphrase/text_files'\n",
    "data_file_name = 'txt_dataset_paraphrase.json'\n",
    "data.to_json(f'{json_path}/{data_file_name}', orient='index', indent=4, force_ascii=True)"
   ],
   "metadata": {
    "collapsed": false,
    "ExecuteTime": {
     "end_time": "2023-11-06T09:56:45.972457Z",
     "start_time": "2023-11-06T09:56:45.967650Z"
    }
   },
   "id": "a47d7a39b95b4fa1"
  },
  {
   "cell_type": "markdown",
   "source": [
    "## Generate config json"
   ],
   "metadata": {
    "collapsed": false
   },
   "id": "ef046520154f2af7"
  },
  {
   "cell_type": "code",
   "execution_count": 32,
   "outputs": [],
   "source": [
    "conf_file_name = 'txt_dataset_paraphrase_config.json'"
   ],
   "metadata": {
    "collapsed": false,
    "ExecuteTime": {
     "end_time": "2023-11-06T11:35:50.265655Z",
     "start_time": "2023-11-06T11:35:50.260325Z"
    }
   },
   "id": "495d9ba0a8c8ef72"
  },
  {
   "cell_type": "code",
   "execution_count": 33,
   "outputs": [],
   "source": [
    "config_dict = {\n",
    "}"
   ],
   "metadata": {
    "collapsed": false,
    "ExecuteTime": {
     "end_time": "2023-11-06T11:35:51.213020Z",
     "start_time": "2023-11-06T11:35:51.208446Z"
    }
   },
   "id": "d193f17690dfe8f3"
  },
  {
   "cell_type": "code",
   "execution_count": 34,
   "outputs": [],
   "source": [
    "with open(f'{json_path}/{conf_file_name}', 'w', encoding='utf-8') as f:\n",
    "    json.dump(config_dict, f, ensure_ascii=False, indent=4)"
   ],
   "metadata": {
    "collapsed": false,
    "ExecuteTime": {
     "end_time": "2023-11-06T11:35:52.158363Z",
     "start_time": "2023-11-06T11:35:52.155329Z"
    }
   },
   "id": "1dba748a234abd3"
  }
 ],
 "metadata": {
  "kernelspec": {
   "display_name": "Python 3",
   "language": "python",
   "name": "python3"
  },
  "language_info": {
   "codemirror_mode": {
    "name": "ipython",
    "version": 2
   },
   "file_extension": ".py",
   "mimetype": "text/x-python",
   "name": "python",
   "nbconvert_exporter": "python",
   "pygments_lexer": "ipython2",
   "version": "2.7.6"
  }
 },
 "nbformat": 4,
 "nbformat_minor": 5
}
