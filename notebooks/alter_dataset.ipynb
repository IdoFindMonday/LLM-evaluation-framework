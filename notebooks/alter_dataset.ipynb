{
 "cells": [
  {
   "cell_type": "code",
   "execution_count": 3,
   "id": "initial_id",
   "metadata": {
    "collapsed": true,
    "ExecuteTime": {
     "end_time": "2023-10-30T09:39:56.733603Z",
     "start_time": "2023-10-30T09:39:56.454721Z"
    }
   },
   "outputs": [],
   "source": [
    "import pandas as pd\n",
    "import json"
   ]
  },
  {
   "cell_type": "markdown",
   "source": [
    "# Summarization"
   ],
   "metadata": {
    "collapsed": false
   },
   "id": "8b4dcede99fb2b31"
  },
  {
   "cell_type": "code",
   "execution_count": 10,
   "outputs": [],
   "source": [
    "json_path = 'data/summarization/text_files'\n",
    "data_file_name = 'txt_dataset_summarizer.json'\n",
    "conf_file_name = 'txt_dataset_summarizer_config.json'"
   ],
   "metadata": {
    "collapsed": false,
    "ExecuteTime": {
     "end_time": "2023-10-30T09:44:35.711195Z",
     "start_time": "2023-10-30T09:44:35.707641Z"
    }
   },
   "id": "3579bbe1db219dd3"
  },
  {
   "cell_type": "code",
   "execution_count": 9,
   "outputs": [
    {
     "data": {
      "text/plain": "                                                text  word_count  \\\n0  (CNN)A mammoth fire broke out Friday morning i...         143   \n1  Hull, Leicester and Swansea City are following...         147   \n2  Sportsmail have teamed up with Golfbidder to o...         123   \n3  The time is right for Manchester United target...         260   \n4  Jose Mourinho insists Manchester United's inju...        1093   \n5  \\nWe’ve made a few updates to Workforms recent...         108   \n\n                                              golden  \\\n0  Fire breaks out at the General Electric Applia...   \n1  Hull's chief scout Stan Ternent has watched  M...   \n2  Sportsmail have teamed up with Golfbidder for ...   \n3  Mats Hummels admits he is considering his Boru...   \n4  United are without Marcos Rojo, Phil Jones, Mi...   \n5                                                      \n\n                                              notion  \\\n0  A massive fire broke out at the General Electr...   \n1  Hull, Leicester, and Swansea City are interest...   \n2  Sportsmail and Golfbidder have partnered to of...   \n3  Germany legend Franz Beckenbauer believes that...   \n4  Jose Mourinho believes Manchester United's inj...   \n5  Workforms has introduced new updates including...   \n\n                                           grammarly  \\\n0  A massive fire broke out at the General Electr...   \n1  Hull, Leicester, and Swansea City are interest...   \n2  Sportsmail and Golfbidder are running a compet...   \n3  German football legend Franz Beckenbauer has s...   \n4                          <not support this length>   \n5  Workforms has recently undergone updates, incl...   \n\n                             current_doc_summarizier  \\\n0  A large fire broke out Friday morning in the G...   \n1  Maciej Rybus, a 25-year-old Polish internation...   \n2  Sportsmail have partnered with Golfbidder to o...   \n3  Germany legend Franz Beckenbauer believes that...   \n4  Jose Mourinho believes Manchester United will ...   \n5  Workforms has recently released several update...   \n\n                           current_update_summarizer  \\\n0  A large fire broke out Friday morning in the G...   \n1  Maciej Rybus, a 25-year-old Polish internation...   \n2  Sportsmail and Golfbidder have teamed up to of...   \n3  Mats Hummels is considering his future at Boru...   \n4  Jose Mourinho believes Manchester United will ...   \n5  Workforms has recently been updated with two n...   \n\n                                version_1_summarizer  \n0  Title: Fire Breaks Out in Kentucky Industrial ...  \n1  Title: Maciej Rybus Followed by Hull, Leiceste...  \n2  Title: Win a Callaway Golf Prize Bundle Worth ...  \n3  Title: Franz Beckenbauer Believes Now is the R...  \n4  Title: Mourinho Insists Injury Crisis Will Not...  \n5  Title: Workforms Updates\\n\\nRecent updates to ...  ",
      "text/html": "<div>\n<style scoped>\n    .dataframe tbody tr th:only-of-type {\n        vertical-align: middle;\n    }\n\n    .dataframe tbody tr th {\n        vertical-align: top;\n    }\n\n    .dataframe thead th {\n        text-align: right;\n    }\n</style>\n<table border=\"1\" class=\"dataframe\">\n  <thead>\n    <tr style=\"text-align: right;\">\n      <th></th>\n      <th>text</th>\n      <th>word_count</th>\n      <th>golden</th>\n      <th>notion</th>\n      <th>grammarly</th>\n      <th>current_doc_summarizier</th>\n      <th>current_update_summarizer</th>\n      <th>version_1_summarizer</th>\n    </tr>\n  </thead>\n  <tbody>\n    <tr>\n      <th>0</th>\n      <td>(CNN)A mammoth fire broke out Friday morning i...</td>\n      <td>143</td>\n      <td>Fire breaks out at the General Electric Applia...</td>\n      <td>A massive fire broke out at the General Electr...</td>\n      <td>A massive fire broke out at the General Electr...</td>\n      <td>A large fire broke out Friday morning in the G...</td>\n      <td>A large fire broke out Friday morning in the G...</td>\n      <td>Title: Fire Breaks Out in Kentucky Industrial ...</td>\n    </tr>\n    <tr>\n      <th>1</th>\n      <td>Hull, Leicester and Swansea City are following...</td>\n      <td>147</td>\n      <td>Hull's chief scout Stan Ternent has watched  M...</td>\n      <td>Hull, Leicester, and Swansea City are interest...</td>\n      <td>Hull, Leicester, and Swansea City are interest...</td>\n      <td>Maciej Rybus, a 25-year-old Polish internation...</td>\n      <td>Maciej Rybus, a 25-year-old Polish internation...</td>\n      <td>Title: Maciej Rybus Followed by Hull, Leiceste...</td>\n    </tr>\n    <tr>\n      <th>2</th>\n      <td>Sportsmail have teamed up with Golfbidder to o...</td>\n      <td>123</td>\n      <td>Sportsmail have teamed up with Golfbidder for ...</td>\n      <td>Sportsmail and Golfbidder have partnered to of...</td>\n      <td>Sportsmail and Golfbidder are running a compet...</td>\n      <td>Sportsmail have partnered with Golfbidder to o...</td>\n      <td>Sportsmail and Golfbidder have teamed up to of...</td>\n      <td>Title: Win a Callaway Golf Prize Bundle Worth ...</td>\n    </tr>\n    <tr>\n      <th>3</th>\n      <td>The time is right for Manchester United target...</td>\n      <td>260</td>\n      <td>Mats Hummels admits he is considering his Boru...</td>\n      <td>Germany legend Franz Beckenbauer believes that...</td>\n      <td>German football legend Franz Beckenbauer has s...</td>\n      <td>Germany legend Franz Beckenbauer believes that...</td>\n      <td>Mats Hummels is considering his future at Boru...</td>\n      <td>Title: Franz Beckenbauer Believes Now is the R...</td>\n    </tr>\n    <tr>\n      <th>4</th>\n      <td>Jose Mourinho insists Manchester United's inju...</td>\n      <td>1093</td>\n      <td>United are without Marcos Rojo, Phil Jones, Mi...</td>\n      <td>Jose Mourinho believes Manchester United's inj...</td>\n      <td>&lt;not support this length&gt;</td>\n      <td>Jose Mourinho believes Manchester United will ...</td>\n      <td>Jose Mourinho believes Manchester United will ...</td>\n      <td>Title: Mourinho Insists Injury Crisis Will Not...</td>\n    </tr>\n    <tr>\n      <th>5</th>\n      <td>\\nWe’ve made a few updates to Workforms recent...</td>\n      <td>108</td>\n      <td></td>\n      <td>Workforms has introduced new updates including...</td>\n      <td>Workforms has recently undergone updates, incl...</td>\n      <td>Workforms has recently released several update...</td>\n      <td>Workforms has recently been updated with two n...</td>\n      <td>Title: Workforms Updates\\n\\nRecent updates to ...</td>\n    </tr>\n  </tbody>\n</table>\n</div>"
     },
     "execution_count": 9,
     "metadata": {},
     "output_type": "execute_result"
    }
   ],
   "source": [
    "data = pd.read_json(f'{json_path}/{data_file_name}', orient='index')\n",
    "with open(f'{json_path}/{conf_file_name}') as f:\n",
    "    conf_json = json.load(f)\n",
    "\n",
    "data.head(3)"
   ],
   "metadata": {
    "collapsed": false,
    "ExecuteTime": {
     "end_time": "2023-10-30T09:42:43.845162Z",
     "start_time": "2023-10-30T09:42:43.825227Z"
    }
   },
   "id": "3070c442a7af432b"
  },
  {
   "cell_type": "markdown",
   "source": [
    "## add new record"
   ],
   "metadata": {
    "collapsed": false
   },
   "id": "5a91f673f719c6ce"
  },
  {
   "cell_type": "code",
   "execution_count": 9,
   "outputs": [
    {
     "data": {
      "text/plain": "                                                text  word_count  \\\n0  (CNN)A mammoth fire broke out Friday morning i...         143   \n1  Hull, Leicester and Swansea City are following...         147   \n2  Sportsmail have teamed up with Golfbidder to o...         123   \n3  The time is right for Manchester United target...         260   \n4  Jose Mourinho insists Manchester United's inju...        1093   \n5  \\nWe’ve made a few updates to Workforms recent...         108   \n6  \\nWe’ve made a few updates to Workforms recent...         108   \n\n                                              golden  \\\n0  Fire breaks out at the General Electric Applia...   \n1  Hull's chief scout Stan Ternent has watched  M...   \n2  Sportsmail have teamed up with Golfbidder for ...   \n3  Mats Hummels admits he is considering his Boru...   \n4  United are without Marcos Rojo, Phil Jones, Mi...   \n5                                                      \n6                                                      \n\n                                              notion  \\\n0  A massive fire broke out at the General Electr...   \n1  Hull, Leicester, and Swansea City are interest...   \n2  Sportsmail and Golfbidder have partnered to of...   \n3  Germany legend Franz Beckenbauer believes that...   \n4  Jose Mourinho believes Manchester United's inj...   \n5  Workforms has introduced new updates including...   \n6                                                      \n\n                                           grammarly  \\\n0  A massive fire broke out at the General Electr...   \n1  Hull, Leicester, and Swansea City are interest...   \n2  Sportsmail and Golfbidder are running a compet...   \n3  German football legend Franz Beckenbauer has s...   \n4                          <not support this length>   \n5  Workforms has recently undergone updates, incl...   \n6                                                      \n\n                             current_doc_summarizier  \\\n0  A large fire broke out Friday morning in the G...   \n1  Maciej Rybus, a 25-year-old Polish internation...   \n2  Sportsmail have partnered with Golfbidder to o...   \n3  Germany legend Franz Beckenbauer believes that...   \n4  Jose Mourinho believes Manchester United will ...   \n5  Workforms has recently released several update...   \n6                                                      \n\n                           current_update_summarizer  \\\n0  A large fire broke out Friday morning in the G...   \n1  Maciej Rybus, a 25-year-old Polish internation...   \n2  Sportsmail and Golfbidder have teamed up to of...   \n3  Mats Hummels is considering his future at Boru...   \n4  Jose Mourinho believes Manchester United will ...   \n5  Workforms has recently been updated with two n...   \n6                                                      \n\n                                version_1_summarizer  \n0  Title: Fire Breaks Out in Kentucky Industrial ...  \n1  Title: Maciej Rybus Followed by Hull, Leiceste...  \n2  Title: Win a Callaway Golf Prize Bundle Worth ...  \n3  Title: Franz Beckenbauer Believes Now is the R...  \n4  Title: Mourinho Insists Injury Crisis Will Not...  \n5  Title: Workforms Updates\\n\\nRecent updates to ...  \n6                                                NaN  ",
      "text/html": "<div>\n<style scoped>\n    .dataframe tbody tr th:only-of-type {\n        vertical-align: middle;\n    }\n\n    .dataframe tbody tr th {\n        vertical-align: top;\n    }\n\n    .dataframe thead th {\n        text-align: right;\n    }\n</style>\n<table border=\"1\" class=\"dataframe\">\n  <thead>\n    <tr style=\"text-align: right;\">\n      <th></th>\n      <th>text</th>\n      <th>word_count</th>\n      <th>golden</th>\n      <th>notion</th>\n      <th>grammarly</th>\n      <th>current_doc_summarizier</th>\n      <th>current_update_summarizer</th>\n      <th>version_1_summarizer</th>\n    </tr>\n  </thead>\n  <tbody>\n    <tr>\n      <th>0</th>\n      <td>(CNN)A mammoth fire broke out Friday morning i...</td>\n      <td>143</td>\n      <td>Fire breaks out at the General Electric Applia...</td>\n      <td>A massive fire broke out at the General Electr...</td>\n      <td>A massive fire broke out at the General Electr...</td>\n      <td>A large fire broke out Friday morning in the G...</td>\n      <td>A large fire broke out Friday morning in the G...</td>\n      <td>Title: Fire Breaks Out in Kentucky Industrial ...</td>\n    </tr>\n    <tr>\n      <th>1</th>\n      <td>Hull, Leicester and Swansea City are following...</td>\n      <td>147</td>\n      <td>Hull's chief scout Stan Ternent has watched  M...</td>\n      <td>Hull, Leicester, and Swansea City are interest...</td>\n      <td>Hull, Leicester, and Swansea City are interest...</td>\n      <td>Maciej Rybus, a 25-year-old Polish internation...</td>\n      <td>Maciej Rybus, a 25-year-old Polish internation...</td>\n      <td>Title: Maciej Rybus Followed by Hull, Leiceste...</td>\n    </tr>\n    <tr>\n      <th>2</th>\n      <td>Sportsmail have teamed up with Golfbidder to o...</td>\n      <td>123</td>\n      <td>Sportsmail have teamed up with Golfbidder for ...</td>\n      <td>Sportsmail and Golfbidder have partnered to of...</td>\n      <td>Sportsmail and Golfbidder are running a compet...</td>\n      <td>Sportsmail have partnered with Golfbidder to o...</td>\n      <td>Sportsmail and Golfbidder have teamed up to of...</td>\n      <td>Title: Win a Callaway Golf Prize Bundle Worth ...</td>\n    </tr>\n    <tr>\n      <th>3</th>\n      <td>The time is right for Manchester United target...</td>\n      <td>260</td>\n      <td>Mats Hummels admits he is considering his Boru...</td>\n      <td>Germany legend Franz Beckenbauer believes that...</td>\n      <td>German football legend Franz Beckenbauer has s...</td>\n      <td>Germany legend Franz Beckenbauer believes that...</td>\n      <td>Mats Hummels is considering his future at Boru...</td>\n      <td>Title: Franz Beckenbauer Believes Now is the R...</td>\n    </tr>\n    <tr>\n      <th>4</th>\n      <td>Jose Mourinho insists Manchester United's inju...</td>\n      <td>1093</td>\n      <td>United are without Marcos Rojo, Phil Jones, Mi...</td>\n      <td>Jose Mourinho believes Manchester United's inj...</td>\n      <td>&lt;not support this length&gt;</td>\n      <td>Jose Mourinho believes Manchester United will ...</td>\n      <td>Jose Mourinho believes Manchester United will ...</td>\n      <td>Title: Mourinho Insists Injury Crisis Will Not...</td>\n    </tr>\n    <tr>\n      <th>5</th>\n      <td>\\nWe’ve made a few updates to Workforms recent...</td>\n      <td>108</td>\n      <td></td>\n      <td>Workforms has introduced new updates including...</td>\n      <td>Workforms has recently undergone updates, incl...</td>\n      <td>Workforms has recently released several update...</td>\n      <td>Workforms has recently been updated with two n...</td>\n      <td>Title: Workforms Updates\\n\\nRecent updates to ...</td>\n    </tr>\n    <tr>\n      <th>6</th>\n      <td>\\nWe’ve made a few updates to Workforms recent...</td>\n      <td>108</td>\n      <td></td>\n      <td></td>\n      <td></td>\n      <td></td>\n      <td></td>\n      <td>NaN</td>\n    </tr>\n  </tbody>\n</table>\n</div>"
     },
     "execution_count": 9,
     "metadata": {},
     "output_type": "execute_result"
    }
   ],
   "source": [
    "# adding new record\n",
    "\n",
    "text = \"\"\"\n",
    "We’ve made a few updates to Workforms recently, so we thought we’d summarise the enhancements into a  short and sweet  post for our community!\n",
    "NEW UPDATES\n",
    "\\u2022 The People Column is now supported: Assign an item to a person or team without creating an automation!\n",
    "\\u2022 1:1 question format\n",
    "COMING SOON \n",
    "\\u2022 The Connect Board Column: Specify which items of the connected board are related to his/her submission.\n",
    "\\u2022 Submission analytics page: Take reporting to the next level, pull insightful analytics such as submission rate, average submission time, and split by geolocation, browser, and device of the form submitters.\n",
    "Check out more details here 24 and stay tuned! \n",
    "\"\"\"\n",
    "\n",
    "word_count = len(text.split())\n",
    "\n",
    "new_record_dict = {\n",
    "    \"text\": text,\n",
    "    \"word_count\": word_count,\n",
    "    \"golden\": \"\",\n",
    "    \"notion\": \"\",\n",
    "    \"grammarly\": \"\",\n",
    "    \"current_doc_summarizer\": \"\",\n",
    "    \"current_update_summarizer\": \"\",\n",
    "}\n",
    "\n",
    "new_record = pd.DataFrame(new_record_dict, index=[0])\n",
    "\n",
    "data = pd.concat([data, new_record]).reset_index(drop=True)\n",
    "data\n"
   ],
   "metadata": {
    "collapsed": false,
    "ExecuteTime": {
     "end_time": "2023-10-30T07:58:07.945386Z",
     "start_time": "2023-10-30T07:58:07.941090Z"
    }
   },
   "id": "6b0da5ba3934cdd2"
  },
  {
   "cell_type": "code",
   "execution_count": 132,
   "outputs": [],
   "source": [
    "# save\n",
    "data.to_json(json_path, orient='index', indent=4, force_ascii=True)"
   ],
   "metadata": {
    "collapsed": false,
    "ExecuteTime": {
     "end_time": "2023-10-29T15:07:40.527292Z",
     "start_time": "2023-10-29T15:07:40.523470Z"
    }
   },
   "id": "87cae5e4ae314d4a"
  },
  {
   "cell_type": "markdown",
   "source": [
    "# Classification block"
   ],
   "metadata": {
    "collapsed": false
   },
   "id": "84a1f8a267bb64b1"
  },
  {
   "cell_type": "markdown",
   "source": [
    "### Add column description "
   ],
   "metadata": {
    "collapsed": false
   },
   "id": "abffe53c578b67ff"
  },
  {
   "cell_type": "code",
   "execution_count": 1,
   "outputs": [],
   "source": [
    "import json\n",
    "json_file_path = '../data/automation_classifier/text_files'\n",
    "json_file_name = 'tweet_sentiment_extraction.json'\n",
    "with open(f'{json_file_path}/{json_file_name}') as f:\n",
    "    json_file = json.load(f)"
   ],
   "metadata": {
    "collapsed": false,
    "ExecuteTime": {
     "end_time": "2023-11-27T09:29:57.859904Z",
     "start_time": "2023-11-27T09:29:57.857399Z"
    }
   },
   "id": "1c1e45fa113514a8"
  },
  {
   "cell_type": "code",
   "execution_count": 2,
   "outputs": [
    {
     "data": {
      "text/plain": "{'inp': {'categories_list': ['neutral', 'positive', 'negative'],\n  'input_text': 'And this picture of her with Zack from Saved By The Bell  http://twitpic.com/669lg'},\n 'expected_output': {'possible_categories': 'neutral'}}"
     },
     "execution_count": 2,
     "metadata": {},
     "output_type": "execute_result"
    }
   ],
   "source": [
    "json_file[0]"
   ],
   "metadata": {
    "collapsed": false,
    "ExecuteTime": {
     "end_time": "2023-11-27T09:29:58.546659Z",
     "start_time": "2023-11-27T09:29:58.543360Z"
    }
   },
   "id": "553de8046b97b99c"
  },
  {
   "cell_type": "code",
   "execution_count": 3,
   "outputs": [],
   "source": [
    "target_column_description = \"\"\" the task is sentiment classification.\"\"\""
   ],
   "metadata": {
    "collapsed": false,
    "ExecuteTime": {
     "end_time": "2023-11-27T09:30:20.424534Z",
     "start_time": "2023-11-27T09:30:20.420638Z"
    }
   },
   "id": "75d70faf6817d794"
  },
  {
   "cell_type": "code",
   "execution_count": 4,
   "outputs": [
    {
     "data": {
      "text/plain": "[{'inp': {'categories_list': ['neutral', 'positive', 'negative'],\n   'input_text': 'And this picture of her with Zack from Saved By The Bell  http://twitpic.com/669lg',\n   'target_column_description': ' the task is sentiment classification.'},\n  'expected_output': {'possible_categories': 'neutral'}},\n {'inp': {'categories_list': ['neutral', 'positive', 'negative'],\n   'input_text': 'Just got in a fight and kicked out of the bar. At least I knocked him out. Have a fat lip though.  Pulled another number',\n   'target_column_description': ' the task is sentiment classification.'},\n  'expected_output': {'possible_categories': 'negative'}},\n {'inp': {'categories_list': ['neutral', 'positive', 'negative'],\n   'input_text': 'Hows that possible? No rain forecast for Pinkpop? And I have no ticket',\n   'target_column_description': ' the task is sentiment classification.'},\n  'expected_output': {'possible_categories': 'negative'}},\n {'inp': {'categories_list': ['neutral', 'positive', 'negative'],\n   'input_text': 'just had a gym sesh.',\n   'target_column_description': ' the task is sentiment classification.'},\n  'expected_output': {'possible_categories': 'neutral'}},\n {'inp': {'categories_list': ['neutral', 'positive', 'negative'],\n   'input_text': 'i am the only arabic girl who`s online  every one is  a sleep ..',\n   'target_column_description': ' the task is sentiment classification.'},\n  'expected_output': {'possible_categories': 'neutral'}},\n {'inp': {'categories_list': ['neutral', 'positive', 'negative'],\n   'input_text': '  i hate when that happens. i hope you figure it out soon!',\n   'target_column_description': ' the task is sentiment classification.'},\n  'expected_output': {'possible_categories': 'negative'}},\n {'inp': {'categories_list': ['neutral', 'positive', 'negative'],\n   'input_text': 'Yes, I am',\n   'target_column_description': ' the task is sentiment classification.'},\n  'expected_output': {'possible_categories': 'neutral'}},\n {'inp': {'categories_list': ['neutral', 'positive', 'negative'],\n   'input_text': 'Theyre sappin mah sentry! errr yea... i`m without power at home right now',\n   'target_column_description': ' the task is sentiment classification.'},\n  'expected_output': {'possible_categories': 'negative'}},\n {'inp': {'categories_list': ['neutral', 'positive', 'negative'],\n   'input_text': ' I`m saving up for a three burner weber for next year',\n   'target_column_description': ' the task is sentiment classification.'},\n  'expected_output': {'possible_categories': 'neutral'}},\n {'inp': {'categories_list': ['neutral', 'positive', 'negative'],\n   'input_text': ' I didn`t even get a chance to shop @ Aldi!',\n   'target_column_description': ' the task is sentiment classification.'},\n  'expected_output': {'possible_categories': 'negative'}},\n {'inp': {'categories_list': ['neutral', 'positive', 'negative'],\n   'input_text': 'Watching fireworks off the Bay bridge.',\n   'target_column_description': ' the task is sentiment classification.'},\n  'expected_output': {'possible_categories': 'neutral'}},\n {'inp': {'categories_list': ['neutral', 'positive', 'negative'],\n   'input_text': ' I have a new found respect for you now that I know you know the Konami code!',\n   'target_column_description': ' the task is sentiment classification.'},\n  'expected_output': {'possible_categories': 'positive'}},\n {'inp': {'categories_list': ['neutral', 'positive', 'negative'],\n   'input_text': 'Headed home ... Charlie`s at the vet',\n   'target_column_description': ' the task is sentiment classification.'},\n  'expected_output': {'possible_categories': 'neutral'}},\n {'inp': {'categories_list': ['neutral', 'positive', 'negative'],\n   'input_text': ' haha i shaved all my facial hair off except for my moustache cause i thought it would be cool! But it made me look gross',\n   'target_column_description': ' the task is sentiment classification.'},\n  'expected_output': {'possible_categories': 'neutral'}},\n {'inp': {'categories_list': ['neutral', 'positive', 'negative'],\n   'input_text': 'is slowly crunching the reality that june is fast approaching. in other words, classes again, and another year will be added to my age.',\n   'target_column_description': ' the task is sentiment classification.'},\n  'expected_output': {'possible_categories': 'neutral'}},\n {'inp': {'categories_list': ['neutral', 'positive', 'negative'],\n   'input_text': 'Up early this morning, first to portmeirion then home',\n   'target_column_description': ' the task is sentiment classification.'},\n  'expected_output': {'possible_categories': 'neutral'}},\n {'inp': {'categories_list': ['neutral', 'positive', 'negative'],\n   'input_text': 'I`ve just about made it all the way round the park jogging. Quite pleased for my 6th outing',\n   'target_column_description': ' the task is sentiment classification.'},\n  'expected_output': {'possible_categories': 'neutral'}},\n {'inp': {'categories_list': ['neutral', 'positive', 'negative'],\n   'input_text': 'Huge headache...goodnight!!',\n   'target_column_description': ' the task is sentiment classification.'},\n  'expected_output': {'possible_categories': 'negative'}},\n {'inp': {'categories_list': ['neutral', 'positive', 'negative'],\n   'input_text': 'not sure where the real state market is moving  confused either hold or go ahead with the plans?',\n   'target_column_description': ' the task is sentiment classification.'},\n  'expected_output': {'possible_categories': 'neutral'}},\n {'inp': {'categories_list': ['neutral', 'positive', 'negative'],\n   'input_text': 'It`s weird waking up in my own bed. Slightly comforting, but i miss the group. But i`m loving using my own pillow again!',\n   'target_column_description': ' the task is sentiment classification.'},\n  'expected_output': {'possible_categories': 'positive'}},\n {'inp': {'categories_list': ['neutral', 'positive', 'negative'],\n   'input_text': ' P.S. Culled a handful, esp followers (spam ones with NSFW links that I did NOT click on). You made the cut though',\n   'target_column_description': ' the task is sentiment classification.'},\n  'expected_output': {'possible_categories': 'neutral'}},\n {'inp': {'categories_list': ['neutral', 'positive', 'negative'],\n   'input_text': ' Yay me!  But, what in particular?',\n   'target_column_description': ' the task is sentiment classification.'},\n  'expected_output': {'possible_categories': 'positive'}},\n {'inp': {'categories_list': ['neutral', 'positive', 'negative'],\n   'input_text': ' I think it`ll be more like a casual attendance instead of a review, as there might not be another issue of felix by then.  Thanks.',\n   'target_column_description': ' the task is sentiment classification.'},\n  'expected_output': {'possible_categories': 'neutral'}},\n {'inp': {'categories_list': ['neutral', 'positive', 'negative'],\n   'input_text': ' I mean someone hit a dog with a car. It was just laying there',\n   'target_column_description': ' the task is sentiment classification.'},\n  'expected_output': {'possible_categories': 'negative'}},\n {'inp': {'categories_list': ['neutral', 'positive', 'negative'],\n   'input_text': ' follow me too',\n   'target_column_description': ' the task is sentiment classification.'},\n  'expected_output': {'possible_categories': 'neutral'}},\n {'inp': {'categories_list': ['neutral', 'positive', 'negative'],\n   'input_text': 'Just finished down loading AIM6.9 and guess what! I can get updates from Twitter on it!  Message me at: i am katie arttt',\n   'target_column_description': ' the task is sentiment classification.'},\n  'expected_output': {'possible_categories': 'neutral'}},\n {'inp': {'categories_list': ['neutral', 'positive', 'negative'],\n   'input_text': 'My new site is stuck in the Google sandpit now  Test of my skills until it comes back out!',\n   'target_column_description': ' the task is sentiment classification.'},\n  'expected_output': {'possible_categories': 'neutral'}},\n {'inp': {'categories_list': ['neutral', 'positive', 'negative'],\n   'input_text': 'http://twitpic.com/67fue - My formerly pretty car',\n   'target_column_description': ' the task is sentiment classification.'},\n  'expected_output': {'possible_categories': 'neutral'}},\n {'inp': {'categories_list': ['neutral', 'positive', 'negative'],\n   'input_text': 'looking for people',\n   'target_column_description': ' the task is sentiment classification.'},\n  'expected_output': {'possible_categories': 'neutral'}},\n {'inp': {'categories_list': ['neutral', 'positive', 'negative'],\n   'input_text': ' where`d you go!',\n   'target_column_description': ' the task is sentiment classification.'},\n  'expected_output': {'possible_categories': 'neutral'}},\n {'inp': {'categories_list': ['neutral', 'positive', 'negative'],\n   'input_text': ' My Denny`s shut down in the winter.  I have to do 50 miles to get to one now.',\n   'target_column_description': ' the task is sentiment classification.'},\n  'expected_output': {'possible_categories': 'negative'}},\n {'inp': {'categories_list': ['neutral', 'positive', 'negative'],\n   'input_text': ' Welcome!',\n   'target_column_description': ' the task is sentiment classification.'},\n  'expected_output': {'possible_categories': 'positive'}},\n {'inp': {'categories_list': ['neutral', 'positive', 'negative'],\n   'input_text': 'yeah so Prom Night is now the Craft (good movie)',\n   'target_column_description': ' the task is sentiment classification.'},\n  'expected_output': {'possible_categories': 'positive'}},\n {'inp': {'categories_list': ['neutral', 'positive', 'negative'],\n   'input_text': ' hey Sherri -- don`t give up b/c they`re married; they may have a brother or a friend!',\n   'target_column_description': ' the task is sentiment classification.'},\n  'expected_output': {'possible_categories': 'positive'}},\n {'inp': {'categories_list': ['neutral', 'positive', 'negative'],\n   'input_text': '   Caladesi was definitely a nice peaceful way to spend a Sunday! I got a lil tan!',\n   'target_column_description': ' the task is sentiment classification.'},\n  'expected_output': {'possible_categories': 'positive'}},\n {'inp': {'categories_list': ['neutral', 'positive', 'negative'],\n   'input_text': 'Good morning!  Just took the longest shower ive ever taken in my life. Like 45 to 50 min shower!! Woah. lol',\n   'target_column_description': ' the task is sentiment classification.'},\n  'expected_output': {'possible_categories': 'positive'}},\n {'inp': {'categories_list': ['neutral', 'positive', 'negative'],\n   'input_text': ' oh that totally works too',\n   'target_column_description': ' the task is sentiment classification.'},\n  'expected_output': {'possible_categories': 'positive'}},\n {'inp': {'categories_list': ['neutral', 'positive', 'negative'],\n   'input_text': ' Thanks mama ! I absolutely adore her',\n   'target_column_description': ' the task is sentiment classification.'},\n  'expected_output': {'possible_categories': 'positive'}},\n {'inp': {'categories_list': ['neutral', 'positive', 'negative'],\n   'input_text': ' LMAO... just saw this. That sounds HELLA good. I have a hair appt at 7',\n   'target_column_description': ' the task is sentiment classification.'},\n  'expected_output': {'possible_categories': 'positive'}},\n {'inp': {'categories_list': ['neutral', 'positive', 'negative'],\n   'input_text': 'HAPPY MOTHERS DAY MAMMA',\n   'target_column_description': ' the task is sentiment classification.'},\n  'expected_output': {'possible_categories': 'positive'}},\n {'inp': {'categories_list': ['neutral', 'positive', 'negative'],\n   'input_text': ' have a safe ride up the coast. Don`t be going 90 even though you can.  when its windy just smile cuz u know u have it better.',\n   'target_column_description': ' the task is sentiment classification.'},\n  'expected_output': {'possible_categories': 'positive'}},\n {'inp': {'categories_list': ['neutral', 'positive', 'negative'],\n   'input_text': ' Hahaha, that`s a cool pic that Sal made of Daniel and you. lol.',\n   'target_column_description': ' the task is sentiment classification.'},\n  'expected_output': {'possible_categories': 'positive'}},\n {'inp': {'categories_list': ['neutral', 'positive', 'negative'],\n   'input_text': 'being a computer geek is entertaining.... i think.',\n   'target_column_description': ' the task is sentiment classification.'},\n  'expected_output': {'possible_categories': 'positive'}},\n {'inp': {'categories_list': ['neutral', 'positive', 'negative'],\n   'input_text': ' Haha...YAY!!! I`M CURED!!!!',\n   'target_column_description': ' the task is sentiment classification.'},\n  'expected_output': {'possible_categories': 'positive'}},\n {'inp': {'categories_list': ['neutral', 'positive', 'negative'],\n   'input_text': 'At the bus stop there`s always a big pile of loogies. So. Gross.',\n   'target_column_description': ' the task is sentiment classification.'},\n  'expected_output': {'possible_categories': 'positive'}},\n {'inp': {'categories_list': ['neutral', 'positive', 'negative'],\n   'input_text': 'Wow what a storm we just had!!! Now no power',\n   'target_column_description': ' the task is sentiment classification.'},\n  'expected_output': {'possible_categories': 'positive'}},\n {'inp': {'categories_list': ['neutral', 'positive', 'negative'],\n   'input_text': ' I know it`s against the law... I am a rebel in small things.',\n   'target_column_description': ' the task is sentiment classification.'},\n  'expected_output': {'possible_categories': 'positive'}},\n {'inp': {'categories_list': ['neutral', 'positive', 'negative'],\n   'input_text': ' pauly wallly ! you made my life **** happy as hell and i love you x3 you should reply back to me',\n   'target_column_description': ' the task is sentiment classification.'},\n  'expected_output': {'possible_categories': 'positive'}},\n {'inp': {'categories_list': ['neutral', 'positive', 'negative'],\n   'input_text': ' thanks for following',\n   'target_column_description': ' the task is sentiment classification.'},\n  'expected_output': {'possible_categories': 'positive'}},\n {'inp': {'categories_list': ['neutral', 'positive', 'negative'],\n   'input_text': ' Hayley Williams is pretty much amazzing',\n   'target_column_description': ' the task is sentiment classification.'},\n  'expected_output': {'possible_categories': 'positive'}},\n {'inp': {'categories_list': ['neutral', 'positive', 'negative'],\n   'input_text': 'I`d love too see you were it ',\n   'target_column_description': ' the task is sentiment classification.'},\n  'expected_output': {'possible_categories': 'positive'}},\n {'inp': {'categories_list': ['neutral', 'positive', 'negative'],\n   'input_text': 'goodmorning everyone',\n   'target_column_description': ' the task is sentiment classification.'},\n  'expected_output': {'possible_categories': 'positive'}},\n {'inp': {'categories_list': ['neutral', 'positive', 'negative'],\n   'input_text': 'I want cookies for breakfast! Luckily I`m an adult and can do that!',\n   'target_column_description': ' the task is sentiment classification.'},\n  'expected_output': {'possible_categories': 'positive'}},\n {'inp': {'categories_list': ['neutral', 'positive', 'negative'],\n   'input_text': ' welcome to my life',\n   'target_column_description': ' the task is sentiment classification.'},\n  'expected_output': {'possible_categories': 'positive'}},\n {'inp': {'categories_list': ['neutral', 'positive', 'negative'],\n   'input_text': 'On page 214 of 320 of Betrayed by P.C. Cast. really starting to enjoy this series',\n   'target_column_description': ' the task is sentiment classification.'},\n  'expected_output': {'possible_categories': 'positive'}},\n {'inp': {'categories_list': ['neutral', 'positive', 'negative'],\n   'input_text': ' That`s love.',\n   'target_column_description': ' the task is sentiment classification.'},\n  'expected_output': {'possible_categories': 'positive'}},\n {'inp': {'categories_list': ['neutral', 'positive', 'negative'],\n   'input_text': ' I really wish I could',\n   'target_column_description': ' the task is sentiment classification.'},\n  'expected_output': {'possible_categories': 'positive'}},\n {'inp': {'categories_list': ['neutral', 'positive', 'negative'],\n   'input_text': ' Thank you so much phaoloo !!!!',\n   'target_column_description': ' the task is sentiment classification.'},\n  'expected_output': {'possible_categories': 'positive'}},\n {'inp': {'categories_list': ['neutral', 'positive', 'negative'],\n   'input_text': ' hope you have a nice relaxing day!!! hope your well  wishing you all the best',\n   'target_column_description': ' the task is sentiment classification.'},\n  'expected_output': {'possible_categories': 'positive'}},\n {'inp': {'categories_list': ['neutral', 'positive', 'negative'],\n   'input_text': ' did you tweet me? i thought i remembered seeing one but i cant see it now! SO glad teatree is ok!',\n   'target_column_description': ' the task is sentiment classification.'},\n  'expected_output': {'possible_categories': 'positive'}},\n {'inp': {'categories_list': ['neutral', 'positive', 'negative'],\n   'input_text': 'excited about this week! trying to have a productive monday. trying. hard.',\n   'target_column_description': ' the task is sentiment classification.'},\n  'expected_output': {'possible_categories': 'positive'}},\n {'inp': {'categories_list': ['neutral', 'positive', 'negative'],\n   'input_text': 'school. 39 days !!! so exited. Amazing premier ',\n   'target_column_description': ' the task is sentiment classification.'},\n  'expected_output': {'possible_categories': 'positive'}},\n {'inp': {'categories_list': ['neutral', 'positive', 'negative'],\n   'input_text': 'Just Saw Confessions Of A Shopoholic...Totally fell in love with Hugh Dancy`s accent!! :3 Need $20.00 for tomorrow, new top i want!!',\n   'target_column_description': ' the task is sentiment classification.'},\n  'expected_output': {'possible_categories': 'positive'}},\n {'inp': {'categories_list': ['neutral', 'positive', 'negative'],\n   'input_text': ' Same here - events + writing songs. But I just finished my TMNT vs MMPR song, so I`m excited to record that on Wednesday',\n   'target_column_description': ' the task is sentiment classification.'},\n  'expected_output': {'possible_categories': 'positive'}},\n {'inp': {'categories_list': ['neutral', 'positive', 'negative'],\n   'input_text': 'had a lovely breakfast with mum...yummy pancakes',\n   'target_column_description': ' the task is sentiment classification.'},\n  'expected_output': {'possible_categories': 'positive'}},\n {'inp': {'categories_list': ['neutral', 'positive', 'negative'],\n   'input_text': 'happy sunday all',\n   'target_column_description': ' the task is sentiment classification.'},\n  'expected_output': {'possible_categories': 'positive'}},\n {'inp': {'categories_list': ['neutral', 'positive', 'negative'],\n   'input_text': '...Nomore adventure time',\n   'target_column_description': ' the task is sentiment classification.'},\n  'expected_output': {'possible_categories': 'negative'}},\n {'inp': {'categories_list': ['neutral', 'positive', 'negative'],\n   'input_text': 'wants  to come back online so that he can talk about all the gossip and horrible things which transpired today.',\n   'target_column_description': ' the task is sentiment classification.'},\n  'expected_output': {'possible_categories': 'negative'}},\n {'inp': {'categories_list': ['neutral', 'positive', 'negative'],\n   'input_text': 'seagull hates me and im utterly depressed about it. i miss him.',\n   'target_column_description': ' the task is sentiment classification.'},\n  'expected_output': {'possible_categories': 'negative'}},\n {'inp': {'categories_list': ['neutral', 'positive', 'negative'],\n   'input_text': \" yay asap lol awwh I miss our friday night happy hours even luna del sea and the 'boy' hahahaha\",\n   'target_column_description': ' the task is sentiment classification.'},\n  'expected_output': {'possible_categories': 'negative'}},\n {'inp': {'categories_list': ['neutral', 'positive', 'negative'],\n   'input_text': 'Ha,  i`m giving spymaster a chance - just curious! will miss u',\n   'target_column_description': ' the task is sentiment classification.'},\n  'expected_output': {'possible_categories': 'negative'}},\n {'inp': {'categories_list': ['neutral', 'positive', 'negative'],\n   'input_text': 'Now I`m all sad because I`ll probably never see Fleetwood Mac.',\n   'target_column_description': ' the task is sentiment classification.'},\n  'expected_output': {'possible_categories': 'negative'}},\n {'inp': {'categories_list': ['neutral', 'positive', 'negative'],\n   'input_text': ' omginorite! I`d be all fancy and tophatted all the time, it`s really too bad I can`t grow a handlebar moustache..',\n   'target_column_description': ' the task is sentiment classification.'},\n  'expected_output': {'possible_categories': 'negative'}},\n {'inp': {'categories_list': ['neutral', 'positive', 'negative'],\n   'input_text': ' heyy i have a sis of 1 year with 5 months and still she don t want to walk..',\n   'target_column_description': ' the task is sentiment classification.'},\n  'expected_output': {'possible_categories': 'negative'}},\n {'inp': {'categories_list': ['neutral', 'positive', 'negative'],\n   'input_text': 'I`m at work and I`m still sick and I`m really pissed off about Sunday!!!',\n   'target_column_description': ' the task is sentiment classification.'},\n  'expected_output': {'possible_categories': 'negative'}},\n {'inp': {'categories_list': ['neutral', 'positive', 'negative'],\n   'input_text': 'I`m very conflicted here.  I really like Mike but I still have feelings for Darrin.  It`s really complicated.  I don`t know what to do.',\n   'target_column_description': ' the task is sentiment classification.'},\n  'expected_output': {'possible_categories': 'negative'}},\n {'inp': {'categories_list': ['neutral', 'positive', 'negative'],\n   'input_text': '_Fenton i didnt even finish cleaning my room cuz i went to a party ahhhh  ITS STILL MESSY',\n   'target_column_description': ' the task is sentiment classification.'},\n  'expected_output': {'possible_categories': 'negative'}},\n {'inp': {'categories_list': ['neutral', 'positive', 'negative'],\n   'input_text': 'Why don`t you make me feel like you used to',\n   'target_column_description': ' the task is sentiment classification.'},\n  'expected_output': {'possible_categories': 'negative'}},\n {'inp': {'categories_list': ['neutral', 'positive', 'negative'],\n   'input_text': ' Im sad i cant go. it makes me sad',\n   'target_column_description': ' the task is sentiment classification.'},\n  'expected_output': {'possible_categories': 'negative'}},\n {'inp': {'categories_list': ['neutral', 'positive', 'negative'],\n   'input_text': ' I got a headache because of all the hard work today, still not ready, with a #Heineken trying to finished up',\n   'target_column_description': ' the task is sentiment classification.'},\n  'expected_output': {'possible_categories': 'negative'}},\n {'inp': {'categories_list': ['neutral', 'positive', 'negative'],\n   'input_text': 'My bike was put on hold...should have known that.... argh total bummer',\n   'target_column_description': ' the task is sentiment classification.'},\n  'expected_output': {'possible_categories': 'negative'}},\n {'inp': {'categories_list': ['neutral', 'positive', 'negative'],\n   'input_text': 'in school w. linda doing nothing  ;i miss you',\n   'target_column_description': ' the task is sentiment classification.'},\n  'expected_output': {'possible_categories': 'neutral'}},\n {'inp': {'categories_list': ['neutral', 'positive', 'negative'],\n   'input_text': 'Don`t you hate it when you`re left with one slice of bread left in the bag? Half sandwich.',\n   'target_column_description': ' the task is sentiment classification.'},\n  'expected_output': {'possible_categories': 'negative'}},\n {'inp': {'categories_list': ['neutral', 'positive', 'negative'],\n   'input_text': 'does not feel like babysitting. i want to go to the gym. weird, i know. i miss zack',\n   'target_column_description': ' the task is sentiment classification.'},\n  'expected_output': {'possible_categories': 'negative'}},\n {'inp': {'categories_list': ['neutral', 'positive', 'negative'],\n   'input_text': ' DUDE. same.  it hurts',\n   'target_column_description': ' the task is sentiment classification.'},\n  'expected_output': {'possible_categories': 'negative'}},\n {'inp': {'categories_list': ['neutral', 'positive', 'negative'],\n   'input_text': 'My net died so yeah....  I`m sad now',\n   'target_column_description': ' the task is sentiment classification.'},\n  'expected_output': {'possible_categories': 'negative'}},\n {'inp': {'categories_list': ['neutral', 'positive', 'negative'],\n   'input_text': ' I heard it was disappointing, which I am disappointed by before I`ve even seen it.  What a waste of C. Bale.',\n   'target_column_description': ' the task is sentiment classification.'},\n  'expected_output': {'possible_categories': 'negative'}},\n {'inp': {'categories_list': ['neutral', 'positive', 'negative'],\n   'input_text': 'No kickboxing classes today  pretty bummed. Still going to work out hard. http://myloc.me/1ZT0',\n   'target_column_description': ' the task is sentiment classification.'},\n  'expected_output': {'possible_categories': 'negative'}},\n {'inp': {'categories_list': ['neutral', 'positive', 'negative'],\n   'input_text': 'no internet for a week or longer',\n   'target_column_description': ' the task is sentiment classification.'},\n  'expected_output': {'possible_categories': 'negative'}},\n {'inp': {'categories_list': ['neutral', 'positive', 'negative'],\n   'input_text': 'Every pair of jeans I own nowadays is very tight.  I think mah butt gettin big (oh!)',\n   'target_column_description': ' the task is sentiment classification.'},\n  'expected_output': {'possible_categories': 'negative'}},\n {'inp': {'categories_list': ['neutral', 'positive', 'negative'],\n   'input_text': ' how crappy for him',\n   'target_column_description': ' the task is sentiment classification.'},\n  'expected_output': {'possible_categories': 'negative'}},\n {'inp': {'categories_list': ['neutral', 'positive', 'negative'],\n   'input_text': 'So tired.',\n   'target_column_description': ' the task is sentiment classification.'},\n  'expected_output': {'possible_categories': 'negative'}},\n {'inp': {'categories_list': ['neutral', 'positive', 'negative'],\n   'input_text': 'it makes me sad when people phones are sick',\n   'target_column_description': ' the task is sentiment classification.'},\n  'expected_output': {'possible_categories': 'negative'}},\n {'inp': {'categories_list': ['neutral', 'positive', 'negative'],\n   'input_text': 'Spilled chocolate milk in my car',\n   'target_column_description': ' the task is sentiment classification.'},\n  'expected_output': {'possible_categories': 'negative'}},\n {'inp': {'categories_list': ['neutral', 'positive', 'negative'],\n   'input_text': 'Hates having broken wrist and has PE next ugh',\n   'target_column_description': ' the task is sentiment classification.'},\n  'expected_output': {'possible_categories': 'negative'}},\n {'inp': {'categories_list': ['neutral', 'positive', 'negative'],\n   'input_text': 'I`m all scared and bruised.',\n   'target_column_description': ' the task is sentiment classification.'},\n  'expected_output': {'possible_categories': 'negative'}}]"
     },
     "execution_count": 4,
     "metadata": {},
     "output_type": "execute_result"
    }
   ],
   "source": [
    "# add the description to each element of the data\n",
    "for idx in range(len(json_file)):\n",
    "    json_file[idx]['inp'].update({\"target_column_description\":target_column_description})\n",
    "\n",
    "json_file"
   ],
   "metadata": {
    "collapsed": false,
    "ExecuteTime": {
     "end_time": "2023-11-27T09:30:22.367096Z",
     "start_time": "2023-11-27T09:30:22.361879Z"
    }
   },
   "id": "2289440ca52e3591"
  },
  {
   "cell_type": "code",
   "execution_count": 5,
   "outputs": [],
   "source": [
    "with open(f'{json_file_path}/{json_file_name}_target_des.json', 'w', encoding='utf-8') as f:\n",
    "    json.dump(json_file, f, ensure_ascii=False, indent=4)"
   ],
   "metadata": {
    "collapsed": false,
    "ExecuteTime": {
     "end_time": "2023-11-27T09:30:30.458921Z",
     "start_time": "2023-11-27T09:30:30.453893Z"
    }
   },
   "id": "203e1db22464c4da"
  },
  {
   "cell_type": "code",
   "execution_count": null,
   "outputs": [],
   "source": [],
   "metadata": {
    "collapsed": false
   },
   "id": "bc5e802b71c89aae"
  }
 ],
 "metadata": {
  "kernelspec": {
   "display_name": "Python 3",
   "language": "python",
   "name": "python3"
  },
  "language_info": {
   "codemirror_mode": {
    "name": "ipython",
    "version": 2
   },
   "file_extension": ".py",
   "mimetype": "text/x-python",
   "name": "python",
   "nbconvert_exporter": "python",
   "pygments_lexer": "ipython2",
   "version": "2.7.6"
  }
 },
 "nbformat": 4,
 "nbformat_minor": 5
}
