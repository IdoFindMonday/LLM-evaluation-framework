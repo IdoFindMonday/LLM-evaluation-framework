{
 "cells": [
  {
   "cell_type": "code",
   "execution_count": 42,
   "id": "initial_id",
   "metadata": {
    "collapsed": true,
    "ExecuteTime": {
     "end_time": "2023-10-29T09:05:58.831655Z",
     "start_time": "2023-10-29T09:05:58.789957Z"
    }
   },
   "outputs": [],
   "source": [
    "import pandas as pd\n",
    "import json\n",
    "\n",
    "cnn_data = pd.read_parquet('data/summarization/cnn_dailymail/cnn_dailymail_test.parquet')"
   ]
  },
  {
   "cell_type": "code",
   "execution_count": 43,
   "outputs": [
    {
     "data": {
      "text/plain": "                                                text  word_count  \\\n0  (CNN)The Palestinian Authority officially beca...         567   \n1  (CNN)Never mind cats having nine lives. A stra...         411   \n2  (CNN)If you've been following the news lately,...         704   \n\n                                              golden  \n0  Membership gives the ICC jurisdiction over all...  \n1  Theia, a bully breed mix, was apparently hit b...  \n2  Mohammad Javad Zarif has spent more time with ...  ",
      "text/html": "<div>\n<style scoped>\n    .dataframe tbody tr th:only-of-type {\n        vertical-align: middle;\n    }\n\n    .dataframe tbody tr th {\n        vertical-align: top;\n    }\n\n    .dataframe thead th {\n        text-align: right;\n    }\n</style>\n<table border=\"1\" class=\"dataframe\">\n  <thead>\n    <tr style=\"text-align: right;\">\n      <th></th>\n      <th>text</th>\n      <th>word_count</th>\n      <th>golden</th>\n    </tr>\n  </thead>\n  <tbody>\n    <tr>\n      <th>0</th>\n      <td>(CNN)The Palestinian Authority officially beca...</td>\n      <td>567</td>\n      <td>Membership gives the ICC jurisdiction over all...</td>\n    </tr>\n    <tr>\n      <th>1</th>\n      <td>(CNN)Never mind cats having nine lives. A stra...</td>\n      <td>411</td>\n      <td>Theia, a bully breed mix, was apparently hit b...</td>\n    </tr>\n    <tr>\n      <th>2</th>\n      <td>(CNN)If you've been following the news lately,...</td>\n      <td>704</td>\n      <td>Mohammad Javad Zarif has spent more time with ...</td>\n    </tr>\n  </tbody>\n</table>\n</div>"
     },
     "execution_count": 43,
     "metadata": {},
     "output_type": "execute_result"
    }
   ],
   "source": [
    "cnn_data['word_count'] = cnn_data['article'].str.split().apply(len).values\n",
    "cnn_data = cnn_data.rename({'article': 'text', 'highlights': 'golden'}, axis=1)\n",
    "cnn_data = cnn_data.drop('id', axis=1)\n",
    "cnn_data = cnn_data[['text', 'word_count', 'golden']]\n",
    "cnn_data.head(3)"
   ],
   "metadata": {
    "collapsed": false,
    "ExecuteTime": {
     "end_time": "2023-10-29T09:05:59.655297Z",
     "start_time": "2023-10-29T09:05:59.300122Z"
    }
   },
   "id": "6614a4667d665fbc"
  },
  {
   "cell_type": "code",
   "execution_count": 133,
   "outputs": [],
   "source": [
    "# cnn_data.word_count.hist()"
   ],
   "metadata": {
    "collapsed": false,
    "ExecuteTime": {
     "end_time": "2023-10-29T15:27:34.509948Z",
     "start_time": "2023-10-29T15:27:34.505714Z"
    }
   },
   "id": "94f167bd0c20a59b"
  },
  {
   "cell_type": "code",
   "execution_count": 45,
   "outputs": [],
   "source": [
    "cnn_data_sampled_short_input = cnn_data[cnn_data.word_count < 200].sample(3, random_state=42)\n",
    "cnn_data_sampled_medium_input = cnn_data[(cnn_data.word_count > 200) & (cnn_data.word_count < 500)].sample(3,\n",
    "                                                                                                           random_state=42)\n",
    "cnn_data_sampled_long_input = cnn_data[(cnn_data.word_count > 750)].sample(3, random_state=42)"
   ],
   "metadata": {
    "collapsed": false,
    "ExecuteTime": {
     "end_time": "2023-10-29T09:06:03.845273Z",
     "start_time": "2023-10-29T09:06:03.838312Z"
    }
   },
   "id": "e8edbc9bd6291de5"
  },
  {
   "cell_type": "code",
   "execution_count": 46,
   "outputs": [],
   "source": [
    "cnn_data_sampled = pd.concat([cnn_data_sampled_short_input,\n",
    "                              cnn_data_sampled_medium_input,\n",
    "                              cnn_data_sampled_long_input]).reset_index(drop=True)"
   ],
   "metadata": {
    "collapsed": false,
    "ExecuteTime": {
     "end_time": "2023-10-29T09:06:04.613773Z",
     "start_time": "2023-10-29T09:06:04.607603Z"
    }
   },
   "id": "a1c22e34ab57c581"
  },
  {
   "cell_type": "code",
   "execution_count": 47,
   "outputs": [
    {
     "data": {
      "text/plain": "                                                text  word_count  \\\n0  (CNN)A mammoth fire broke out Friday morning i...         143   \n1  Hull, Leicester and Swansea City are following...         147   \n2  Sportsmail have teamed up with Golfbidder to o...         123   \n3  The time is right for Manchester United target...         260   \n4  A road rage incident caught on camera shows a ...         422   \n5  Usually parents get to work teaching children ...         213   \n6  Jose Mourinho insists Manchester United's inju...        1093   \n7  Real Madrid closed the gap on Barcelona to jus...        1226   \n8  A new model for HIV progression shows that it ...         820   \n\n                                              golden  \n0  Fire breaks out at the General Electric Applia...  \n1  Hull's chief scout Stan Ternent has watched  M...  \n2  Sportsmail have teamed up with Golfbidder for ...  \n3  Mats Hummels admits he is considering his Boru...  \n4  A man was caught on video savagely beating an ...  \n5  American YouTube user KentuckyFriedIdiot filme...  \n6  United are without Marcos Rojo, Phil Jones, Mi...  \n7  Sergio Ramos opened the scoring for Real Madri...  \n8  New model accurately predicted patients' progr...  ",
      "text/html": "<div>\n<style scoped>\n    .dataframe tbody tr th:only-of-type {\n        vertical-align: middle;\n    }\n\n    .dataframe tbody tr th {\n        vertical-align: top;\n    }\n\n    .dataframe thead th {\n        text-align: right;\n    }\n</style>\n<table border=\"1\" class=\"dataframe\">\n  <thead>\n    <tr style=\"text-align: right;\">\n      <th></th>\n      <th>text</th>\n      <th>word_count</th>\n      <th>golden</th>\n    </tr>\n  </thead>\n  <tbody>\n    <tr>\n      <th>0</th>\n      <td>(CNN)A mammoth fire broke out Friday morning i...</td>\n      <td>143</td>\n      <td>Fire breaks out at the General Electric Applia...</td>\n    </tr>\n    <tr>\n      <th>1</th>\n      <td>Hull, Leicester and Swansea City are following...</td>\n      <td>147</td>\n      <td>Hull's chief scout Stan Ternent has watched  M...</td>\n    </tr>\n    <tr>\n      <th>2</th>\n      <td>Sportsmail have teamed up with Golfbidder to o...</td>\n      <td>123</td>\n      <td>Sportsmail have teamed up with Golfbidder for ...</td>\n    </tr>\n    <tr>\n      <th>3</th>\n      <td>The time is right for Manchester United target...</td>\n      <td>260</td>\n      <td>Mats Hummels admits he is considering his Boru...</td>\n    </tr>\n    <tr>\n      <th>4</th>\n      <td>A road rage incident caught on camera shows a ...</td>\n      <td>422</td>\n      <td>A man was caught on video savagely beating an ...</td>\n    </tr>\n    <tr>\n      <th>5</th>\n      <td>Usually parents get to work teaching children ...</td>\n      <td>213</td>\n      <td>American YouTube user KentuckyFriedIdiot filme...</td>\n    </tr>\n    <tr>\n      <th>6</th>\n      <td>Jose Mourinho insists Manchester United's inju...</td>\n      <td>1093</td>\n      <td>United are without Marcos Rojo, Phil Jones, Mi...</td>\n    </tr>\n    <tr>\n      <th>7</th>\n      <td>Real Madrid closed the gap on Barcelona to jus...</td>\n      <td>1226</td>\n      <td>Sergio Ramos opened the scoring for Real Madri...</td>\n    </tr>\n    <tr>\n      <th>8</th>\n      <td>A new model for HIV progression shows that it ...</td>\n      <td>820</td>\n      <td>New model accurately predicted patients' progr...</td>\n    </tr>\n  </tbody>\n</table>\n</div>"
     },
     "execution_count": 47,
     "metadata": {},
     "output_type": "execute_result"
    }
   ],
   "source": [
    "cnn_data_sampled"
   ],
   "metadata": {
    "collapsed": false,
    "ExecuteTime": {
     "end_time": "2023-10-29T09:06:05.294783Z",
     "start_time": "2023-10-29T09:06:05.290264Z"
    }
   },
   "id": "8fdef1e55558cce4"
  },
  {
   "cell_type": "code",
   "execution_count": 48,
   "outputs": [
    {
     "data": {
      "text/plain": "                                                text  word_count  \\\n0  (CNN)A mammoth fire broke out Friday morning i...         143   \n1  Hull, Leicester and Swansea City are following...         147   \n2  Sportsmail have teamed up with Golfbidder to o...         123   \n3  The time is right for Manchester United target...         260   \n4  A road rage incident caught on camera shows a ...         422   \n5  Usually parents get to work teaching children ...         213   \n6  Jose Mourinho insists Manchester United's inju...        1093   \n7  Real Madrid closed the gap on Barcelona to jus...        1226   \n8  A new model for HIV progression shows that it ...         820   \n\n                                              golden notion grammarly  \n0  Fire breaks out at the General Electric Applia...                   \n1  Hull's chief scout Stan Ternent has watched  M...                   \n2  Sportsmail have teamed up with Golfbidder for ...                   \n3  Mats Hummels admits he is considering his Boru...                   \n4  A man was caught on video savagely beating an ...                   \n5  American YouTube user KentuckyFriedIdiot filme...                   \n6  United are without Marcos Rojo, Phil Jones, Mi...                   \n7  Sergio Ramos opened the scoring for Real Madri...                   \n8  New model accurately predicted patients' progr...                   ",
      "text/html": "<div>\n<style scoped>\n    .dataframe tbody tr th:only-of-type {\n        vertical-align: middle;\n    }\n\n    .dataframe tbody tr th {\n        vertical-align: top;\n    }\n\n    .dataframe thead th {\n        text-align: right;\n    }\n</style>\n<table border=\"1\" class=\"dataframe\">\n  <thead>\n    <tr style=\"text-align: right;\">\n      <th></th>\n      <th>text</th>\n      <th>word_count</th>\n      <th>golden</th>\n      <th>notion</th>\n      <th>grammarly</th>\n    </tr>\n  </thead>\n  <tbody>\n    <tr>\n      <th>0</th>\n      <td>(CNN)A mammoth fire broke out Friday morning i...</td>\n      <td>143</td>\n      <td>Fire breaks out at the General Electric Applia...</td>\n      <td></td>\n      <td></td>\n    </tr>\n    <tr>\n      <th>1</th>\n      <td>Hull, Leicester and Swansea City are following...</td>\n      <td>147</td>\n      <td>Hull's chief scout Stan Ternent has watched  M...</td>\n      <td></td>\n      <td></td>\n    </tr>\n    <tr>\n      <th>2</th>\n      <td>Sportsmail have teamed up with Golfbidder to o...</td>\n      <td>123</td>\n      <td>Sportsmail have teamed up with Golfbidder for ...</td>\n      <td></td>\n      <td></td>\n    </tr>\n    <tr>\n      <th>3</th>\n      <td>The time is right for Manchester United target...</td>\n      <td>260</td>\n      <td>Mats Hummels admits he is considering his Boru...</td>\n      <td></td>\n      <td></td>\n    </tr>\n    <tr>\n      <th>4</th>\n      <td>A road rage incident caught on camera shows a ...</td>\n      <td>422</td>\n      <td>A man was caught on video savagely beating an ...</td>\n      <td></td>\n      <td></td>\n    </tr>\n    <tr>\n      <th>5</th>\n      <td>Usually parents get to work teaching children ...</td>\n      <td>213</td>\n      <td>American YouTube user KentuckyFriedIdiot filme...</td>\n      <td></td>\n      <td></td>\n    </tr>\n    <tr>\n      <th>6</th>\n      <td>Jose Mourinho insists Manchester United's inju...</td>\n      <td>1093</td>\n      <td>United are without Marcos Rojo, Phil Jones, Mi...</td>\n      <td></td>\n      <td></td>\n    </tr>\n    <tr>\n      <th>7</th>\n      <td>Real Madrid closed the gap on Barcelona to jus...</td>\n      <td>1226</td>\n      <td>Sergio Ramos opened the scoring for Real Madri...</td>\n      <td></td>\n      <td></td>\n    </tr>\n    <tr>\n      <th>8</th>\n      <td>A new model for HIV progression shows that it ...</td>\n      <td>820</td>\n      <td>New model accurately predicted patients' progr...</td>\n      <td></td>\n      <td></td>\n    </tr>\n  </tbody>\n</table>\n</div>"
     },
     "execution_count": 48,
     "metadata": {},
     "output_type": "execute_result"
    }
   ],
   "source": [
    "# add reference columns\n",
    "cols_to_add = ['notion', 'grammarly']\n",
    "cnn_data_sampled[cols_to_add] = \"\"\n",
    "# cnn_data_sampled = cnn_data_sampled.reindex(columns = cnn_data_sampled.columns.tolist() + cols_to_add)\n",
    "cnn_data_sampled"
   ],
   "metadata": {
    "collapsed": false,
    "ExecuteTime": {
     "end_time": "2023-10-29T09:06:31.196687Z",
     "start_time": "2023-10-29T09:06:31.193472Z"
    }
   },
   "id": "45dc9a34f23e197"
  },
  {
   "cell_type": "code",
   "execution_count": 68,
   "outputs": [],
   "source": [
    "json_path = 'data/summarization/text_files/txt_dataset.json'\n",
    "cnn_data_sampled.to_json(json_path, orient='index', indent=4, force_ascii=True)"
   ],
   "metadata": {
    "collapsed": false,
    "ExecuteTime": {
     "end_time": "2023-10-29T09:27:01.920858Z",
     "start_time": "2023-10-29T09:27:01.909751Z"
    }
   },
   "id": "a47d7a39b95b4fa1"
  },
  {
   "cell_type": "markdown",
   "source": [
    "## read json"
   ],
   "metadata": {
    "collapsed": false
   },
   "id": "8b4dcede99fb2b31"
  },
  {
   "cell_type": "code",
   "execution_count": 128,
   "outputs": [],
   "source": [
    "json_path = 'data/summarization/text_files/txt_dataset.json'\n",
    "data = pd.read_json(json_path, orient='index')"
   ],
   "metadata": {
    "collapsed": false,
    "ExecuteTime": {
     "end_time": "2023-10-29T15:07:14.009897Z",
     "start_time": "2023-10-29T15:07:13.996775Z"
    }
   },
   "id": "3070c442a7af432b"
  },
  {
   "cell_type": "code",
   "execution_count": 109,
   "outputs": [],
   "source": [
    "# data = data.fillna(\"\")\n",
    "# data.head(3)"
   ],
   "metadata": {
    "collapsed": false,
    "ExecuteTime": {
     "end_time": "2023-10-29T14:38:31.403085Z",
     "start_time": "2023-10-29T14:38:31.394837Z"
    }
   },
   "id": "41f52dbe8c811709"
  },
  {
   "cell_type": "code",
   "execution_count": 129,
   "outputs": [
    {
     "data": {
      "text/plain": "                                                text  word_count  \\\n0  (CNN)A mammoth fire broke out Friday morning i...         143   \n1  Hull, Leicester and Swansea City are following...         147   \n2  Sportsmail have teamed up with Golfbidder to o...         123   \n3  The time is right for Manchester United target...         260   \n4  A road rage incident caught on camera shows a ...         422   \n5  Jose Mourinho insists Manchester United's inju...        1093   \n\n                                              golden  \\\n0  Fire breaks out at the General Electric Applia...   \n1  Hull's chief scout Stan Ternent has watched  M...   \n2  Sportsmail have teamed up with Golfbidder for ...   \n3  Mats Hummels admits he is considering his Boru...   \n4  A man was caught on video savagely beating an ...   \n5  United are without Marcos Rojo, Phil Jones, Mi...   \n\n                                              notion  \\\n0  A massive fire broke out at the General Electr...   \n1  Hull, Leicester, and Swansea City are interest...   \n2  Sportsmail and Golfbidder have partnered to of...   \n3  Germany legend Franz Beckenbauer believes that...   \n4  A road rage incident captured on camera shows ...   \n5  Jose Mourinho believes Manchester United's inj...   \n\n                                           grammarly  \\\n0  A massive fire broke out at the General Electr...   \n1  Hull, Leicester, and Swansea City are interest...   \n2  Sportsmail and Golfbidder are running a compet...   \n3  German football legend Franz Beckenbauer has s...   \n4                                                      \n5                                                      \n\n                             current_doc_summarizier  \\\n0  A large fire broke out Friday morning in the G...   \n1  Maciej Rybus, a 25-year-old Polish internation...   \n2  Sportsmail have partnered with Golfbidder to o...   \n3  Germany legend Franz Beckenbauer believes that...   \n4                                   <content_filter>   \n5  Jose Mourinho believes Manchester United will ...   \n\n                           current_update_summarizer  \n0  A large fire broke out Friday morning in the G...  \n1  Maciej Rybus, a 25-year-old Polish internation...  \n2  Sportsmail and Golfbidder have teamed up to of...  \n3  Mats Hummels is considering his future at Boru...  \n4                                   <content_filter>  \n5  Jose Mourinho believes Manchester United will ...  ",
      "text/html": "<div>\n<style scoped>\n    .dataframe tbody tr th:only-of-type {\n        vertical-align: middle;\n    }\n\n    .dataframe tbody tr th {\n        vertical-align: top;\n    }\n\n    .dataframe thead th {\n        text-align: right;\n    }\n</style>\n<table border=\"1\" class=\"dataframe\">\n  <thead>\n    <tr style=\"text-align: right;\">\n      <th></th>\n      <th>text</th>\n      <th>word_count</th>\n      <th>golden</th>\n      <th>notion</th>\n      <th>grammarly</th>\n      <th>current_doc_summarizier</th>\n      <th>current_update_summarizer</th>\n    </tr>\n  </thead>\n  <tbody>\n    <tr>\n      <th>0</th>\n      <td>(CNN)A mammoth fire broke out Friday morning i...</td>\n      <td>143</td>\n      <td>Fire breaks out at the General Electric Applia...</td>\n      <td>A massive fire broke out at the General Electr...</td>\n      <td>A massive fire broke out at the General Electr...</td>\n      <td>A large fire broke out Friday morning in the G...</td>\n      <td>A large fire broke out Friday morning in the G...</td>\n    </tr>\n    <tr>\n      <th>1</th>\n      <td>Hull, Leicester and Swansea City are following...</td>\n      <td>147</td>\n      <td>Hull's chief scout Stan Ternent has watched  M...</td>\n      <td>Hull, Leicester, and Swansea City are interest...</td>\n      <td>Hull, Leicester, and Swansea City are interest...</td>\n      <td>Maciej Rybus, a 25-year-old Polish internation...</td>\n      <td>Maciej Rybus, a 25-year-old Polish internation...</td>\n    </tr>\n    <tr>\n      <th>2</th>\n      <td>Sportsmail have teamed up with Golfbidder to o...</td>\n      <td>123</td>\n      <td>Sportsmail have teamed up with Golfbidder for ...</td>\n      <td>Sportsmail and Golfbidder have partnered to of...</td>\n      <td>Sportsmail and Golfbidder are running a compet...</td>\n      <td>Sportsmail have partnered with Golfbidder to o...</td>\n      <td>Sportsmail and Golfbidder have teamed up to of...</td>\n    </tr>\n    <tr>\n      <th>3</th>\n      <td>The time is right for Manchester United target...</td>\n      <td>260</td>\n      <td>Mats Hummels admits he is considering his Boru...</td>\n      <td>Germany legend Franz Beckenbauer believes that...</td>\n      <td>German football legend Franz Beckenbauer has s...</td>\n      <td>Germany legend Franz Beckenbauer believes that...</td>\n      <td>Mats Hummels is considering his future at Boru...</td>\n    </tr>\n    <tr>\n      <th>4</th>\n      <td>A road rage incident caught on camera shows a ...</td>\n      <td>422</td>\n      <td>A man was caught on video savagely beating an ...</td>\n      <td>A road rage incident captured on camera shows ...</td>\n      <td></td>\n      <td>&lt;content_filter&gt;</td>\n      <td>&lt;content_filter&gt;</td>\n    </tr>\n    <tr>\n      <th>5</th>\n      <td>Jose Mourinho insists Manchester United's inju...</td>\n      <td>1093</td>\n      <td>United are without Marcos Rojo, Phil Jones, Mi...</td>\n      <td>Jose Mourinho believes Manchester United's inj...</td>\n      <td></td>\n      <td>Jose Mourinho believes Manchester United will ...</td>\n      <td>Jose Mourinho believes Manchester United will ...</td>\n    </tr>\n  </tbody>\n</table>\n</div>"
     },
     "execution_count": 129,
     "metadata": {},
     "output_type": "execute_result"
    }
   ],
   "source": [
    "data"
   ],
   "metadata": {
    "collapsed": false,
    "ExecuteTime": {
     "end_time": "2023-10-29T15:07:15.417347Z",
     "start_time": "2023-10-29T15:07:15.412557Z"
    }
   },
   "id": "e7f02e2112a0a9e7"
  },
  {
   "cell_type": "code",
   "execution_count": 130,
   "outputs": [
    {
     "data": {
      "text/plain": "                                                text  word_count golden  \\\n0  \\nWe’ve made a few updates to Workforms recent...         108          \n\n  notion grammarly current_doc_summarizier current_update_summarizer  \n0                                                                     ",
      "text/html": "<div>\n<style scoped>\n    .dataframe tbody tr th:only-of-type {\n        vertical-align: middle;\n    }\n\n    .dataframe tbody tr th {\n        vertical-align: top;\n    }\n\n    .dataframe thead th {\n        text-align: right;\n    }\n</style>\n<table border=\"1\" class=\"dataframe\">\n  <thead>\n    <tr style=\"text-align: right;\">\n      <th></th>\n      <th>text</th>\n      <th>word_count</th>\n      <th>golden</th>\n      <th>notion</th>\n      <th>grammarly</th>\n      <th>current_doc_summarizier</th>\n      <th>current_update_summarizer</th>\n    </tr>\n  </thead>\n  <tbody>\n    <tr>\n      <th>0</th>\n      <td>\\nWe’ve made a few updates to Workforms recent...</td>\n      <td>108</td>\n      <td></td>\n      <td></td>\n      <td></td>\n      <td></td>\n      <td></td>\n    </tr>\n  </tbody>\n</table>\n</div>"
     },
     "execution_count": 130,
     "metadata": {},
     "output_type": "execute_result"
    }
   ],
   "source": [
    "# adding new record\n",
    "\n",
    "text = \"\"\"\n",
    "We’ve made a few updates to Workforms recently, so we thought we’d summarise the enhancements into a  short and sweet  post for our community!\n",
    "NEW UPDATES\n",
    "\\u2022 The People Column is now supported: Assign an item to a person or team without creating an automation!\n",
    "\\u2022 1:1 question format\n",
    "COMING SOON \n",
    "\\u2022 The Connect Board Column: Specify which items of the connected board are related to his/her submission.\n",
    "\\u2022 Submission analytics page: Take reporting to the next level, pull insightful analytics such as submission rate, average submission time, and split by geolocation, browser, and device of the form submitters.\n",
    "Check out more details here 24 and stay tuned! \n",
    "\"\"\"\n",
    "\n",
    "word_count = len(text.split()) \n",
    "\n",
    "new_record_dict = {\n",
    "    \"text\": text,\n",
    "    \"word_count\": word_count,\n",
    "    \"golden\": \"\",\n",
    "    \"notion\": \"\",\n",
    "    \"grammarly\": \"\",\n",
    "    \"current_doc_summarizier\": \"\",\n",
    "    \"current_update_summarizer\": \"\",\n",
    "}\n",
    "\n",
    "new_record = pd.DataFrame(new_record_dict, index=[0])\n",
    "\n",
    "new_record\n"
   ],
   "metadata": {
    "collapsed": false,
    "ExecuteTime": {
     "end_time": "2023-10-29T15:07:18.923732Z",
     "start_time": "2023-10-29T15:07:18.917932Z"
    }
   },
   "id": "6b0da5ba3934cdd2"
  },
  {
   "cell_type": "code",
   "execution_count": 131,
   "outputs": [
    {
     "data": {
      "text/plain": "                                                text  word_count  \\\n0  (CNN)A mammoth fire broke out Friday morning i...         143   \n1  Hull, Leicester and Swansea City are following...         147   \n2  Sportsmail have teamed up with Golfbidder to o...         123   \n3  The time is right for Manchester United target...         260   \n4  A road rage incident caught on camera shows a ...         422   \n5  Jose Mourinho insists Manchester United's inju...        1093   \n6  \\nWe’ve made a few updates to Workforms recent...         108   \n\n                                              golden  \\\n0  Fire breaks out at the General Electric Applia...   \n1  Hull's chief scout Stan Ternent has watched  M...   \n2  Sportsmail have teamed up with Golfbidder for ...   \n3  Mats Hummels admits he is considering his Boru...   \n4  A man was caught on video savagely beating an ...   \n5  United are without Marcos Rojo, Phil Jones, Mi...   \n6                                                      \n\n                                              notion  \\\n0  A massive fire broke out at the General Electr...   \n1  Hull, Leicester, and Swansea City are interest...   \n2  Sportsmail and Golfbidder have partnered to of...   \n3  Germany legend Franz Beckenbauer believes that...   \n4  A road rage incident captured on camera shows ...   \n5  Jose Mourinho believes Manchester United's inj...   \n6                                                      \n\n                                           grammarly  \\\n0  A massive fire broke out at the General Electr...   \n1  Hull, Leicester, and Swansea City are interest...   \n2  Sportsmail and Golfbidder are running a compet...   \n3  German football legend Franz Beckenbauer has s...   \n4                                                      \n5                                                      \n6                                                      \n\n                             current_doc_summarizier  \\\n0  A large fire broke out Friday morning in the G...   \n1  Maciej Rybus, a 25-year-old Polish internation...   \n2  Sportsmail have partnered with Golfbidder to o...   \n3  Germany legend Franz Beckenbauer believes that...   \n4                                   <content_filter>   \n5  Jose Mourinho believes Manchester United will ...   \n6                                                      \n\n                           current_update_summarizer  \n0  A large fire broke out Friday morning in the G...  \n1  Maciej Rybus, a 25-year-old Polish internation...  \n2  Sportsmail and Golfbidder have teamed up to of...  \n3  Mats Hummels is considering his future at Boru...  \n4                                   <content_filter>  \n5  Jose Mourinho believes Manchester United will ...  \n6                                                     ",
      "text/html": "<div>\n<style scoped>\n    .dataframe tbody tr th:only-of-type {\n        vertical-align: middle;\n    }\n\n    .dataframe tbody tr th {\n        vertical-align: top;\n    }\n\n    .dataframe thead th {\n        text-align: right;\n    }\n</style>\n<table border=\"1\" class=\"dataframe\">\n  <thead>\n    <tr style=\"text-align: right;\">\n      <th></th>\n      <th>text</th>\n      <th>word_count</th>\n      <th>golden</th>\n      <th>notion</th>\n      <th>grammarly</th>\n      <th>current_doc_summarizier</th>\n      <th>current_update_summarizer</th>\n    </tr>\n  </thead>\n  <tbody>\n    <tr>\n      <th>0</th>\n      <td>(CNN)A mammoth fire broke out Friday morning i...</td>\n      <td>143</td>\n      <td>Fire breaks out at the General Electric Applia...</td>\n      <td>A massive fire broke out at the General Electr...</td>\n      <td>A massive fire broke out at the General Electr...</td>\n      <td>A large fire broke out Friday morning in the G...</td>\n      <td>A large fire broke out Friday morning in the G...</td>\n    </tr>\n    <tr>\n      <th>1</th>\n      <td>Hull, Leicester and Swansea City are following...</td>\n      <td>147</td>\n      <td>Hull's chief scout Stan Ternent has watched  M...</td>\n      <td>Hull, Leicester, and Swansea City are interest...</td>\n      <td>Hull, Leicester, and Swansea City are interest...</td>\n      <td>Maciej Rybus, a 25-year-old Polish internation...</td>\n      <td>Maciej Rybus, a 25-year-old Polish internation...</td>\n    </tr>\n    <tr>\n      <th>2</th>\n      <td>Sportsmail have teamed up with Golfbidder to o...</td>\n      <td>123</td>\n      <td>Sportsmail have teamed up with Golfbidder for ...</td>\n      <td>Sportsmail and Golfbidder have partnered to of...</td>\n      <td>Sportsmail and Golfbidder are running a compet...</td>\n      <td>Sportsmail have partnered with Golfbidder to o...</td>\n      <td>Sportsmail and Golfbidder have teamed up to of...</td>\n    </tr>\n    <tr>\n      <th>3</th>\n      <td>The time is right for Manchester United target...</td>\n      <td>260</td>\n      <td>Mats Hummels admits he is considering his Boru...</td>\n      <td>Germany legend Franz Beckenbauer believes that...</td>\n      <td>German football legend Franz Beckenbauer has s...</td>\n      <td>Germany legend Franz Beckenbauer believes that...</td>\n      <td>Mats Hummels is considering his future at Boru...</td>\n    </tr>\n    <tr>\n      <th>4</th>\n      <td>A road rage incident caught on camera shows a ...</td>\n      <td>422</td>\n      <td>A man was caught on video savagely beating an ...</td>\n      <td>A road rage incident captured on camera shows ...</td>\n      <td></td>\n      <td>&lt;content_filter&gt;</td>\n      <td>&lt;content_filter&gt;</td>\n    </tr>\n    <tr>\n      <th>5</th>\n      <td>Jose Mourinho insists Manchester United's inju...</td>\n      <td>1093</td>\n      <td>United are without Marcos Rojo, Phil Jones, Mi...</td>\n      <td>Jose Mourinho believes Manchester United's inj...</td>\n      <td></td>\n      <td>Jose Mourinho believes Manchester United will ...</td>\n      <td>Jose Mourinho believes Manchester United will ...</td>\n    </tr>\n    <tr>\n      <th>6</th>\n      <td>\\nWe’ve made a few updates to Workforms recent...</td>\n      <td>108</td>\n      <td></td>\n      <td></td>\n      <td></td>\n      <td></td>\n      <td></td>\n    </tr>\n  </tbody>\n</table>\n</div>"
     },
     "execution_count": 131,
     "metadata": {},
     "output_type": "execute_result"
    }
   ],
   "source": [
    "data = pd.concat([data,new_record]).reset_index(drop=True)\n",
    "data"
   ],
   "metadata": {
    "collapsed": false,
    "ExecuteTime": {
     "end_time": "2023-10-29T15:07:20.749175Z",
     "start_time": "2023-10-29T15:07:20.741840Z"
    }
   },
   "id": "acb51b88df943615"
  },
  {
   "cell_type": "code",
   "execution_count": 132,
   "outputs": [],
   "source": [
    "json_path = 'data/summarization/text_files/txt_dataset.json'\n",
    "data.to_json(json_path, orient='index', indent=4, force_ascii=True)"
   ],
   "metadata": {
    "collapsed": false,
    "ExecuteTime": {
     "end_time": "2023-10-29T15:07:40.527292Z",
     "start_time": "2023-10-29T15:07:40.523470Z"
    }
   },
   "id": "87cae5e4ae314d4a"
  },
  {
   "cell_type": "code",
   "execution_count": null,
   "outputs": [],
   "source": [],
   "metadata": {
    "collapsed": false
   },
   "id": "e9a9e493f0e08cc0"
  },
  {
   "cell_type": "code",
   "execution_count": null,
   "outputs": [],
   "source": [],
   "metadata": {
    "collapsed": false
   },
   "id": "30b44c7e6935efec"
  },
  {
   "cell_type": "code",
   "execution_count": null,
   "outputs": [],
   "source": [],
   "metadata": {
    "collapsed": false
   },
   "id": "df97607a5252c67e"
  },
  {
   "cell_type": "markdown",
   "source": [
    "## apply new prompts for experiments"
   ],
   "metadata": {
    "collapsed": false
   },
   "id": "314d671f345a7292"
  },
  {
   "cell_type": "code",
   "execution_count": 8,
   "outputs": [
    {
     "name": "stderr",
     "output_type": "stream",
     "text": [
      "/Users/idofi/Development/LLM-evaluation-framework/venv/lib/python3.9/site-packages/urllib3/__init__.py:34: NotOpenSSLWarning: urllib3 v2.0 only supports OpenSSL 1.1.1+, currently the 'ssl' module is compiled with 'LibreSSL 2.8.3'. See: https://github.com/urllib3/urllib3/issues/3020\n",
      "  warnings.warn(\n"
     ]
    }
   ],
   "source": [
    "import openai\n",
    "import os\n",
    "from dotenv import load_dotenv\n",
    "\n",
    "load_dotenv()\n",
    "\n",
    "azure_openai_key = os.environ.get('AZURE_OPENAI_KEY')\n",
    "azure_openai_endpoint = os.environ.get('AZURE_OPENAI_ENDPOINT')\n",
    "\n",
    "openai.api_key = azure_openai_key\n",
    "openai.api_base = azure_openai_endpoint\n",
    "openai.api_type = \"azure\""
   ],
   "metadata": {
    "collapsed": false,
    "ExecuteTime": {
     "end_time": "2023-10-29T07:34:37.312639Z",
     "start_time": "2023-10-29T07:34:37.108300Z"
    }
   },
   "id": "d44634371492b68f"
  },
  {
   "cell_type": "code",
   "execution_count": 92,
   "outputs": [],
   "source": [
    "class OpenaiCompletionModel:\n",
    "    def __init__(self, model_name=\"text-davinci-003\",\n",
    "                 api_version=\"2023-05-15\", temperature=0.0, max_tokens=200, prompt_template=\"\"):\n",
    "        self.model_name = model_name\n",
    "        self.api_version = api_version\n",
    "        self.temperature = temperature\n",
    "        self.max_tokens = max_tokens\n",
    "        self.prompt_template = prompt_template\n",
    "\n",
    "    def _get_response(self, prompt):\n",
    "        response = openai.Completion.create(\n",
    "            engine=self.model_name,\n",
    "            api_version=self.api_version,\n",
    "            prompt=prompt,\n",
    "            temperature=self.temperature,\n",
    "            max_tokens=self.max_tokens,\n",
    "        )\n",
    "\n",
    "        return response\n",
    "\n",
    "    def call_llm(self, input_text):\n",
    "        prompt = self.prompt_template.format(input_text)\n",
    "        response = self._get_response(prompt)\n",
    "        generated_summary = response[\"choices\"][0][\"text\"].strip()\n",
    "        return generated_summary\n",
    "\n",
    "    def call_llm_with_res(self, input_text):\n",
    "        prompt = self.prompt_template.format(input_text)\n",
    "        response = self._get_response(prompt)\n",
    "        generated_summary = response[\"choices\"][0][\"text\"].strip()\n",
    "        return generated_summary, response"
   ],
   "metadata": {
    "collapsed": false,
    "ExecuteTime": {
     "end_time": "2023-10-29T14:12:47.391723Z",
     "start_time": "2023-10-29T14:12:47.383408Z"
    }
   },
   "id": "8a0f86d747eb3b7f"
  },
  {
   "cell_type": "code",
   "execution_count": 93,
   "outputs": [],
   "source": [
    "current_update_sum_template = \"Summarize the most important points of the text below \\n\" + \\\n",
    "                              \"text: {}\"\n",
    "\n",
    "current_update_sum = OpenaiCompletionModel(\n",
    "    model_name=\"text-davinci-003\",\n",
    "    api_version=\"2023-05-15\",\n",
    "    temperature=0.0,\n",
    "    max_tokens=250,\n",
    "    prompt_template=current_update_sum_template\n",
    ")"
   ],
   "metadata": {
    "collapsed": false,
    "ExecuteTime": {
     "end_time": "2023-10-29T14:12:49.535660Z",
     "start_time": "2023-10-29T14:12:49.527690Z"
    }
   },
   "id": "1bd0d96e8b01a43f"
  },
  {
   "cell_type": "code",
   "execution_count": 106,
   "outputs": [],
   "source": [
    "output, res = current_update_sum.call_llm_with_res(\n",
    "    \"(CNN)A mammoth fire broke out Friday morning in a Kentucky industrial park, sending plumes of thick smoke over the area as authorities worked to contain the damage. The blaze began shortly before 7 a.m. at the General Electric Appliance Park in Louisville, according to Mike Weimer from the city's emergency management agency. He said that there were no reports of anyone injured or trapped. Video showed both smoke and bright orange flames. Firefighters took up positions around the affected buildings, spraying water from the periphery. Weimer told CNN that authorities didn't know what had caused the fire, which had gone to at least four alarms. According to a GE website, its facility in the Louisville Appliance Park is \\\"revitalizing manufacturing in the United States.\\\" The park is large, such that 34 football fields could fit in one of its warehouses in the facility.\")"
   ],
   "metadata": {
    "collapsed": false,
    "ExecuteTime": {
     "end_time": "2023-10-29T14:28:09.964255Z",
     "start_time": "2023-10-29T14:28:08.130157Z"
    }
   },
   "id": "156425c5bd17c095"
  },
  {
   "cell_type": "code",
   "execution_count": 107,
   "outputs": [
    {
     "data": {
      "text/plain": "'A large fire broke out on Friday morning in the General Electric Appliance Park in Louisville, Kentucky. There were no reports of anyone injured or trapped. Video showed both smoke and bright orange flames. Firefighters were spraying water from the periphery to contain the damage. The cause of the fire is unknown and it had gone to at least four alarms. The Louisville Appliance Park is a large facility owned by GE, which is \"revitalizing manufacturing in the United States\".'"
     },
     "execution_count": 107,
     "metadata": {},
     "output_type": "execute_result"
    }
   ],
   "source": [
    "output"
   ],
   "metadata": {
    "collapsed": false,
    "ExecuteTime": {
     "end_time": "2023-10-29T14:28:10.086417Z",
     "start_time": "2023-10-29T14:28:10.081924Z"
    }
   },
   "id": "927baadf989f22e4"
  },
  {
   "cell_type": "markdown",
   "source": [],
   "metadata": {
    "collapsed": false
   },
   "id": "64044edc22a00825"
  },
  {
   "cell_type": "code",
   "execution_count": 104,
   "outputs": [
    {
     "data": {
      "text/plain": "<OpenAIObject text_completion id=cmpl-8F0wYr6GPGY7vydMgWLvRPTjbhH2N at 0x17d387f40> JSON: {\n  \"id\": \"cmpl-8F0wYr6GPGY7vydMgWLvRPTjbhH2N\",\n  \"object\": \"text_completion\",\n  \"created\": 1698589238,\n  \"model\": \"text-davinci-003\",\n  \"choices\": [\n    {\n      \"text\": \"\",\n      \"index\": 0,\n      \"finish_reason\": \"content_filter\",\n      \"logprobs\": null\n    }\n  ],\n  \"usage\": {\n    \"prompt_tokens\": 524,\n    \"completion_tokens\": 88,\n    \"total_tokens\": 612\n  }\n}"
     },
     "execution_count": 104,
     "metadata": {},
     "output_type": "execute_result"
    }
   ],
   "source": [
    "res"
   ],
   "metadata": {
    "collapsed": false,
    "ExecuteTime": {
     "end_time": "2023-10-29T14:20:51.492503Z",
     "start_time": "2023-10-29T14:20:51.485505Z"
    }
   },
   "id": "64e14d6b0ef7f695"
  },
  {
   "cell_type": "code",
   "execution_count": 153,
   "outputs": [
    {
     "name": "stdout",
     "output_type": "stream",
     "text": [
      "finish\n",
      "finish\n",
      "finish\n",
      "finish\n",
      "finish\n",
      "finish\n",
      "finish\n",
      "finish\n",
      "finish\n",
      "finish\n"
     ]
    }
   ],
   "source": [
    "# completion api\n",
    "cnn_data_sub['doc_summarizer'] = cnn_data_sub['text'].apply(get_completion_response, args=(model_name, prompt_template))"
   ],
   "metadata": {
    "collapsed": false,
    "ExecuteTime": {
     "end_time": "2023-10-26T15:14:12.607849Z",
     "start_time": "2023-10-26T15:13:21.470266Z"
    }
   },
   "id": "742c39fd1cc398ab"
  },
  {
   "cell_type": "code",
   "execution_count": null,
   "outputs": [],
   "source": [],
   "metadata": {
    "collapsed": false
   },
   "id": "48b1a5bce04d863"
  },
  {
   "cell_type": "code",
   "execution_count": null,
   "outputs": [],
   "source": [],
   "metadata": {
    "collapsed": false
   },
   "id": "605781da9a9213a8"
  },
  {
   "cell_type": "code",
   "execution_count": null,
   "outputs": [],
   "source": [],
   "metadata": {
    "collapsed": false
   },
   "id": "f5f887c735683896"
  },
  {
   "cell_type": "code",
   "execution_count": null,
   "outputs": [],
   "source": [],
   "metadata": {
    "collapsed": false
   },
   "id": "101d9f4be29eac40"
  },
  {
   "cell_type": "code",
   "execution_count": 128,
   "outputs": [],
   "source": [
    "# building json data\n",
    "\n",
    "single_element = {\n",
    "    \"id\": \"\",\n",
    "    \"text\": \"\",\n",
    "    \"word_count\": \"\",\n",
    "    \"summaries\": {\n",
    "        \"golden\": \"\",\n",
    "        \"notion\": \"\",\n",
    "        \"grammarly\": \"\",\n",
    "        \"doc_summarizer\": \"\",\n",
    "        \"devinci_003_version_1\": \"\",\n",
    "        \"gpt_3_5_turbo_version_1\": \"\"\n",
    "    }\n",
    "}\n",
    "\n",
    "element_list = []\n",
    "\n",
    "for idx in range(cnn_data_sub.shape[0]):\n",
    "    curr_data = single_element.copy()\n",
    "    curr_data[\"id\"] = str(idx)\n",
    "    curr_data[\"text\"] = cnn_data_sub.iloc[idx]['article']\n",
    "    curr_data[\"word_count\"] = str(cnn_data_sub.iloc[idx]['word_count'])\n",
    "    curr_data[\"summaries\"][\"golden\"] = cnn_data_sub.iloc[idx]['highlights']\n",
    "\n",
    "    element_list.append(curr_data)\n",
    "\n",
    "json_data = {\"data\": element_list}"
   ],
   "metadata": {
    "collapsed": false,
    "ExecuteTime": {
     "end_time": "2023-10-26T14:48:09.877980Z",
     "start_time": "2023-10-26T14:48:09.867489Z"
    }
   },
   "id": "38f1d747da44930d"
  },
  {
   "cell_type": "code",
   "execution_count": 129,
   "outputs": [],
   "source": [
    "with open('data/summarization/text_files/txt_dataset.json', 'w', encoding='utf-8') as f:\n",
    "    json.dump(json_data, f, ensure_ascii=False, indent=4)"
   ],
   "metadata": {
    "collapsed": false,
    "ExecuteTime": {
     "end_time": "2023-10-26T14:48:11.897851Z",
     "start_time": "2023-10-26T14:48:11.890202Z"
    }
   },
   "id": "4238ff2bc932a4c9"
  },
  {
   "cell_type": "code",
   "execution_count": 102,
   "outputs": [],
   "source": [
    "\n"
   ],
   "metadata": {
    "collapsed": false,
    "ExecuteTime": {
     "end_time": "2023-10-26T14:27:19.138330Z",
     "start_time": "2023-10-26T14:27:15.516631Z"
    }
   },
   "id": "89655e438237fc1b"
  },
  {
   "cell_type": "code",
   "execution_count": 105,
   "outputs": [],
   "source": [
    "\n"
   ],
   "metadata": {
    "collapsed": false,
    "ExecuteTime": {
     "end_time": "2023-10-26T14:33:54.924778Z",
     "start_time": "2023-10-26T14:33:54.921281Z"
    }
   },
   "id": "1c1e45fa113514a8"
  }
 ],
 "metadata": {
  "kernelspec": {
   "display_name": "Python 3",
   "language": "python",
   "name": "python3"
  },
  "language_info": {
   "codemirror_mode": {
    "name": "ipython",
    "version": 2
   },
   "file_extension": ".py",
   "mimetype": "text/x-python",
   "name": "python",
   "nbconvert_exporter": "python",
   "pygments_lexer": "ipython2",
   "version": "2.7.6"
  }
 },
 "nbformat": 4,
 "nbformat_minor": 5
}
